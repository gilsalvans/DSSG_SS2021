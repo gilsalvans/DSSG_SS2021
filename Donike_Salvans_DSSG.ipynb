{
  "nbformat": 4,
  "nbformat_minor": 0,
  "metadata": {
    "colab": {
      "name": "Donike_Salvans_DSSG.ipynb",
      "provenance": [],
      "collapsed_sections": [],
      "authorship_tag": "ABX9TyN+eYpVspyJ7vhML8d0NrmY",
      "include_colab_link": true
    },
    "kernelspec": {
      "name": "python3",
      "display_name": "Python 3"
    },
    "language_info": {
      "name": "python"
    }
  },
  "cells": [
    {
      "cell_type": "markdown",
      "metadata": {
        "id": "view-in-github",
        "colab_type": "text"
      },
      "source": [
        "<a href=\"https://colab.research.google.com/github/gilsalvans/DSSG_SS2021/blob/main/Donike_Salvans_DSSG.ipynb\" target=\"_parent\"><img src=\"https://colab.research.google.com/assets/colab-badge.svg\" alt=\"Open In Colab\"/></a>"
      ]
    },
    {
      "cell_type": "markdown",
      "metadata": {
        "id": "JCe_FYXQ14pI"
      },
      "source": [
        "## Assessing bias and fairness in the income Adult dataset: Study case for Gender and Race \n",
        "This notebook imports the already predicted Adult dataset and assesses bias and fairness using Aequitas and Google What-if for two cases: gender and race."
      ]
    },
    {
      "cell_type": "code",
      "metadata": {
        "id": "qT9b-PYC3nFZ"
      },
      "source": [
        "#imports\n",
        "import google.colab\n",
        "import pandas as pd\n",
        "import numpy as np\n",
        "import seaborn as sns\n",
        "import matplotlib.pyplot as plt\n",
        "!pip install aequitas\n",
        "from aequitas.group import Group\n",
        "from aequitas.bias import Bias\n",
        "from aequitas.fairness import Fairness\n",
        "import aequitas.plot as ap\n",
        "!pip install --upgrade witwidget"
      ],
      "execution_count": null,
      "outputs": []
    },
    {
      "cell_type": "code",
      "metadata": {
        "colab": {
          "base_uri": "https://localhost:8080/",
          "height": 419
        },
        "id": "VnkHnjDG460_",
        "outputId": "3dd562f2-acdc-42fa-8bc8-4247a33c8cf4"
      },
      "source": [
        "# Reading data from our repository\n",
        "# code reused from : https://colab.research.google.com/github/pair-code/what-if-tool/blob/master/WIT_Model_Comparison.ipynb#scrollTo=nu398ARdeuxe\n",
        "csv_path = 'https://raw.githubusercontent.com/gilsalvans/DSSG_SS2021/main/data/adult.data'\n",
        "\n",
        "# set columns for the csv\n",
        "csv_columns = [\n",
        "  \"Age\", \"Workclass\", \"fnlwgt\", \"Education\", \"Education-Num\", \"Marital-Status\",\n",
        "  \"Occupation\", \"Relationship\", \"Race\", \"Sex\", \"Capital-Gain\", \"Capital-Loss\",\n",
        "  \"Hours-per-week\", \"Country\", \"Over-50K\"]\n",
        "# Read the according dataset \n",
        "df = pd.read_csv(csv_path, names=csv_columns, skipinitialspace=True)\n",
        "\n",
        "df"
      ],
      "execution_count": null,
      "outputs": [
        {
          "output_type": "execute_result",
          "data": {
            "text/html": [
              "<div>\n",
              "<style scoped>\n",
              "    .dataframe tbody tr th:only-of-type {\n",
              "        vertical-align: middle;\n",
              "    }\n",
              "\n",
              "    .dataframe tbody tr th {\n",
              "        vertical-align: top;\n",
              "    }\n",
              "\n",
              "    .dataframe thead th {\n",
              "        text-align: right;\n",
              "    }\n",
              "</style>\n",
              "<table border=\"1\" class=\"dataframe\">\n",
              "  <thead>\n",
              "    <tr style=\"text-align: right;\">\n",
              "      <th></th>\n",
              "      <th>Age</th>\n",
              "      <th>Workclass</th>\n",
              "      <th>fnlwgt</th>\n",
              "      <th>Education</th>\n",
              "      <th>Education-Num</th>\n",
              "      <th>Marital-Status</th>\n",
              "      <th>Occupation</th>\n",
              "      <th>Relationship</th>\n",
              "      <th>Race</th>\n",
              "      <th>Sex</th>\n",
              "      <th>Capital-Gain</th>\n",
              "      <th>Capital-Loss</th>\n",
              "      <th>Hours-per-week</th>\n",
              "      <th>Country</th>\n",
              "      <th>Over-50K</th>\n",
              "    </tr>\n",
              "  </thead>\n",
              "  <tbody>\n",
              "    <tr>\n",
              "      <th>0</th>\n",
              "      <td>39</td>\n",
              "      <td>State-gov</td>\n",
              "      <td>77516</td>\n",
              "      <td>Bachelors</td>\n",
              "      <td>13</td>\n",
              "      <td>Never-married</td>\n",
              "      <td>Adm-clerical</td>\n",
              "      <td>Not-in-family</td>\n",
              "      <td>White</td>\n",
              "      <td>Male</td>\n",
              "      <td>2174</td>\n",
              "      <td>0</td>\n",
              "      <td>40</td>\n",
              "      <td>United-States</td>\n",
              "      <td>&lt;=50K</td>\n",
              "    </tr>\n",
              "    <tr>\n",
              "      <th>1</th>\n",
              "      <td>50</td>\n",
              "      <td>Self-emp-not-inc</td>\n",
              "      <td>83311</td>\n",
              "      <td>Bachelors</td>\n",
              "      <td>13</td>\n",
              "      <td>Married-civ-spouse</td>\n",
              "      <td>Exec-managerial</td>\n",
              "      <td>Husband</td>\n",
              "      <td>White</td>\n",
              "      <td>Male</td>\n",
              "      <td>0</td>\n",
              "      <td>0</td>\n",
              "      <td>13</td>\n",
              "      <td>United-States</td>\n",
              "      <td>&lt;=50K</td>\n",
              "    </tr>\n",
              "    <tr>\n",
              "      <th>2</th>\n",
              "      <td>38</td>\n",
              "      <td>Private</td>\n",
              "      <td>215646</td>\n",
              "      <td>HS-grad</td>\n",
              "      <td>9</td>\n",
              "      <td>Divorced</td>\n",
              "      <td>Handlers-cleaners</td>\n",
              "      <td>Not-in-family</td>\n",
              "      <td>White</td>\n",
              "      <td>Male</td>\n",
              "      <td>0</td>\n",
              "      <td>0</td>\n",
              "      <td>40</td>\n",
              "      <td>United-States</td>\n",
              "      <td>&lt;=50K</td>\n",
              "    </tr>\n",
              "    <tr>\n",
              "      <th>3</th>\n",
              "      <td>53</td>\n",
              "      <td>Private</td>\n",
              "      <td>234721</td>\n",
              "      <td>11th</td>\n",
              "      <td>7</td>\n",
              "      <td>Married-civ-spouse</td>\n",
              "      <td>Handlers-cleaners</td>\n",
              "      <td>Husband</td>\n",
              "      <td>Black</td>\n",
              "      <td>Male</td>\n",
              "      <td>0</td>\n",
              "      <td>0</td>\n",
              "      <td>40</td>\n",
              "      <td>United-States</td>\n",
              "      <td>&lt;=50K</td>\n",
              "    </tr>\n",
              "    <tr>\n",
              "      <th>4</th>\n",
              "      <td>28</td>\n",
              "      <td>Private</td>\n",
              "      <td>338409</td>\n",
              "      <td>Bachelors</td>\n",
              "      <td>13</td>\n",
              "      <td>Married-civ-spouse</td>\n",
              "      <td>Prof-specialty</td>\n",
              "      <td>Wife</td>\n",
              "      <td>Black</td>\n",
              "      <td>Female</td>\n",
              "      <td>0</td>\n",
              "      <td>0</td>\n",
              "      <td>40</td>\n",
              "      <td>Cuba</td>\n",
              "      <td>&lt;=50K</td>\n",
              "    </tr>\n",
              "    <tr>\n",
              "      <th>...</th>\n",
              "      <td>...</td>\n",
              "      <td>...</td>\n",
              "      <td>...</td>\n",
              "      <td>...</td>\n",
              "      <td>...</td>\n",
              "      <td>...</td>\n",
              "      <td>...</td>\n",
              "      <td>...</td>\n",
              "      <td>...</td>\n",
              "      <td>...</td>\n",
              "      <td>...</td>\n",
              "      <td>...</td>\n",
              "      <td>...</td>\n",
              "      <td>...</td>\n",
              "      <td>...</td>\n",
              "    </tr>\n",
              "    <tr>\n",
              "      <th>32556</th>\n",
              "      <td>27</td>\n",
              "      <td>Private</td>\n",
              "      <td>257302</td>\n",
              "      <td>Assoc-acdm</td>\n",
              "      <td>12</td>\n",
              "      <td>Married-civ-spouse</td>\n",
              "      <td>Tech-support</td>\n",
              "      <td>Wife</td>\n",
              "      <td>White</td>\n",
              "      <td>Female</td>\n",
              "      <td>0</td>\n",
              "      <td>0</td>\n",
              "      <td>38</td>\n",
              "      <td>United-States</td>\n",
              "      <td>&lt;=50K</td>\n",
              "    </tr>\n",
              "    <tr>\n",
              "      <th>32557</th>\n",
              "      <td>40</td>\n",
              "      <td>Private</td>\n",
              "      <td>154374</td>\n",
              "      <td>HS-grad</td>\n",
              "      <td>9</td>\n",
              "      <td>Married-civ-spouse</td>\n",
              "      <td>Machine-op-inspct</td>\n",
              "      <td>Husband</td>\n",
              "      <td>White</td>\n",
              "      <td>Male</td>\n",
              "      <td>0</td>\n",
              "      <td>0</td>\n",
              "      <td>40</td>\n",
              "      <td>United-States</td>\n",
              "      <td>&gt;50K</td>\n",
              "    </tr>\n",
              "    <tr>\n",
              "      <th>32558</th>\n",
              "      <td>58</td>\n",
              "      <td>Private</td>\n",
              "      <td>151910</td>\n",
              "      <td>HS-grad</td>\n",
              "      <td>9</td>\n",
              "      <td>Widowed</td>\n",
              "      <td>Adm-clerical</td>\n",
              "      <td>Unmarried</td>\n",
              "      <td>White</td>\n",
              "      <td>Female</td>\n",
              "      <td>0</td>\n",
              "      <td>0</td>\n",
              "      <td>40</td>\n",
              "      <td>United-States</td>\n",
              "      <td>&lt;=50K</td>\n",
              "    </tr>\n",
              "    <tr>\n",
              "      <th>32559</th>\n",
              "      <td>22</td>\n",
              "      <td>Private</td>\n",
              "      <td>201490</td>\n",
              "      <td>HS-grad</td>\n",
              "      <td>9</td>\n",
              "      <td>Never-married</td>\n",
              "      <td>Adm-clerical</td>\n",
              "      <td>Own-child</td>\n",
              "      <td>White</td>\n",
              "      <td>Male</td>\n",
              "      <td>0</td>\n",
              "      <td>0</td>\n",
              "      <td>20</td>\n",
              "      <td>United-States</td>\n",
              "      <td>&lt;=50K</td>\n",
              "    </tr>\n",
              "    <tr>\n",
              "      <th>32560</th>\n",
              "      <td>52</td>\n",
              "      <td>Self-emp-inc</td>\n",
              "      <td>287927</td>\n",
              "      <td>HS-grad</td>\n",
              "      <td>9</td>\n",
              "      <td>Married-civ-spouse</td>\n",
              "      <td>Exec-managerial</td>\n",
              "      <td>Wife</td>\n",
              "      <td>White</td>\n",
              "      <td>Female</td>\n",
              "      <td>15024</td>\n",
              "      <td>0</td>\n",
              "      <td>40</td>\n",
              "      <td>United-States</td>\n",
              "      <td>&gt;50K</td>\n",
              "    </tr>\n",
              "  </tbody>\n",
              "</table>\n",
              "<p>32561 rows × 15 columns</p>\n",
              "</div>"
            ],
            "text/plain": [
              "       Age         Workclass  fnlwgt  ... Hours-per-week        Country Over-50K\n",
              "0       39         State-gov   77516  ...             40  United-States    <=50K\n",
              "1       50  Self-emp-not-inc   83311  ...             13  United-States    <=50K\n",
              "2       38           Private  215646  ...             40  United-States    <=50K\n",
              "3       53           Private  234721  ...             40  United-States    <=50K\n",
              "4       28           Private  338409  ...             40           Cuba    <=50K\n",
              "...    ...               ...     ...  ...            ...            ...      ...\n",
              "32556   27           Private  257302  ...             38  United-States    <=50K\n",
              "32557   40           Private  154374  ...             40  United-States     >50K\n",
              "32558   58           Private  151910  ...             40  United-States    <=50K\n",
              "32559   22           Private  201490  ...             20  United-States    <=50K\n",
              "32560   52      Self-emp-inc  287927  ...             40  United-States     >50K\n",
              "\n",
              "[32561 rows x 15 columns]"
            ]
          },
          "metadata": {
            "tags": []
          },
          "execution_count": 3
        }
      ]
    },
    {
      "cell_type": "code",
      "metadata": {
        "id": "366miUID6YZl",
        "colab": {
          "base_uri": "https://localhost:8080/"
        },
        "outputId": "756f4ecd-2139-4d80-bd4c-224fbd37b6dd"
      },
      "source": [
        "df.info()"
      ],
      "execution_count": null,
      "outputs": [
        {
          "output_type": "stream",
          "text": [
            "<class 'pandas.core.frame.DataFrame'>\n",
            "RangeIndex: 32561 entries, 0 to 32560\n",
            "Data columns (total 15 columns):\n",
            " #   Column          Non-Null Count  Dtype \n",
            "---  ------          --------------  ----- \n",
            " 0   Age             32561 non-null  int64 \n",
            " 1   Workclass       32561 non-null  object\n",
            " 2   fnlwgt          32561 non-null  int64 \n",
            " 3   Education       32561 non-null  object\n",
            " 4   Education-Num   32561 non-null  int64 \n",
            " 5   Marital-Status  32561 non-null  object\n",
            " 6   Occupation      32561 non-null  object\n",
            " 7   Relationship    32561 non-null  object\n",
            " 8   Race            32561 non-null  object\n",
            " 9   Sex             32561 non-null  object\n",
            " 10  Capital-Gain    32561 non-null  int64 \n",
            " 11  Capital-Loss    32561 non-null  int64 \n",
            " 12  Hours-per-week  32561 non-null  int64 \n",
            " 13  Country         32561 non-null  object\n",
            " 14  Over-50K        32561 non-null  object\n",
            "dtypes: int64(6), object(9)\n",
            "memory usage: 3.7+ MB\n"
          ],
          "name": "stdout"
        }
      ]
    },
    {
      "cell_type": "markdown",
      "metadata": {
        "id": "fvTD8PR4UwOU"
      },
      "source": [
        "#Study Case 1: Bias/Fairness assessment for Race (GIL)\n",
        "This first section focuses on assessing prediction bias on income using race as input variable. Therefore, its structure will start from an analysis of this variable to an assessment using the What-if and Aequitas tools."
      ]
    },
    {
      "cell_type": "code",
      "metadata": {
        "colab": {
          "base_uri": "https://localhost:8080/"
        },
        "id": "SFsu9qj1VeOi",
        "outputId": "e0c0a02f-a478-4f2e-bd6f-603d8f3ab53d"
      },
      "source": [
        "#race variable analysis\n",
        "race_classes = df['Race'].unique().tolist()\n",
        "print('There are ', len(race_classes) , 'different race classes in dataset')\n",
        "race_classes"
      ],
      "execution_count": null,
      "outputs": [
        {
          "output_type": "stream",
          "text": [
            "There are  5 different race classes in dataset\n"
          ],
          "name": "stdout"
        },
        {
          "output_type": "execute_result",
          "data": {
            "text/plain": [
              "['White', 'Black', 'Asian-Pac-Islander', 'Amer-Indian-Eskimo', 'Other']"
            ]
          },
          "metadata": {
            "tags": []
          },
          "execution_count": 8
        }
      ]
    },
    {
      "cell_type": "code",
      "metadata": {
        "colab": {
          "base_uri": "https://localhost:8080/"
        },
        "id": "_AcD7tHaVxsH",
        "outputId": "50a2e209-2b73-4e86-d309-ef001c584a49"
      },
      "source": [
        "df['Race'].value_counts()"
      ],
      "execution_count": null,
      "outputs": [
        {
          "output_type": "execute_result",
          "data": {
            "text/plain": [
              "White                 27816\n",
              "Black                  3124\n",
              "Asian-Pac-Islander     1039\n",
              "Amer-Indian-Eskimo      311\n",
              "Other                   271\n",
              "Name: Race, dtype: int64"
            ]
          },
          "metadata": {
            "tags": []
          },
          "execution_count": 11
        }
      ]
    },
    {
      "cell_type": "code",
      "metadata": {
        "colab": {
          "base_uri": "https://localhost:8080/",
          "height": 265
        },
        "id": "NAiQ5RANjYU1",
        "outputId": "6af0a457-8e46-4c45-ba8b-729de7d37120"
      },
      "source": [
        "df.groupby('Race').size().plot(kind='pie', autopct='%.2f')"
      ],
      "execution_count": null,
      "outputs": [
        {
          "output_type": "execute_result",
          "data": {
            "text/plain": [
              "<matplotlib.axes._subplots.AxesSubplot at 0x7f06970a54d0>"
            ]
          },
          "metadata": {
            "tags": []
          },
          "execution_count": 24
        },
        {
          "output_type": "display_data",
          "data": {
            "image/png": "[encoded data removed]",
            "text/plain": [
              "<Figure size 432x288 with 1 Axes>"
            ]
          },
          "metadata": {
            "tags": []
          }
        }
      ]
    },
    {
      "cell_type": "code",
      "metadata": {
        "colab": {
          "base_uri": "https://localhost:8080/",
          "height": 405
        },
        "id": "kJUcUa3el98e",
        "outputId": "42c17a15-400d-45d5-bf8a-0bd2adbcf9a6"
      },
      "source": [
        "aq_palette = sns.diverging_palette(225, 35, n=2)\n",
        "plt.figure(figsize=(16,6))\n",
        "by_race = sns.countplot(x=\"Race\", hue=\"Over-50K\", data=df[df.Race.isin(['White', 'Black', 'Asian-Pac-Islander', 'Amer-Indian-Eskimo', 'Other'])], palette=aq_palette)\n",
        "print('Note: This plot takes the count per class into account.')"
      ],
      "execution_count": null,
      "outputs": [
        {
          "output_type": "stream",
          "text": [
            "Note: This plot takes the count per class into account.\n"
          ],
          "name": "stdout"
        },
        {
          "output_type": "display_data",
          "data": {
            "image/png": "[encoded data removed]",
            "text/plain": [
              "<Figure size 1152x432 with 1 Axes>"
            ]
          },
          "metadata": {
            "tags": [],
            "needs_background": "light"
          }
        }
      ]
    },
    {
      "cell_type": "code",
      "metadata": {
        "id": "AZ0wM50mnaie"
      },
      "source": [
        "race = df['Race'].tolist()\n",
        "income = df['Over-50K'].tolist()\n",
        "\n",
        "def CountIncomeClasses(race_class):\n",
        "  count = 0\n",
        "  count2 = 0\n",
        "\n",
        "  for i in range(len(df)):\n",
        "    if race[i] == race_class and income[i] == '>50K':\n",
        "      count += 1\n",
        "    elif race[i] == race_class and income[i] == '<=50K':\n",
        "      count2 += 1\n",
        "\n",
        "  return count, count2"
      ],
      "execution_count": null,
      "outputs": []
    },
    {
      "cell_type": "code",
      "metadata": {
        "id": "jmv0idDnpUFy"
      },
      "source": [
        "black = CountIncomeClasses('Black')\n",
        "white = CountIncomeClasses('White')\n",
        "asian_pac_islander = CountIncomeClasses('Asian-Pac-Islander')\n",
        "amer_indian_eskimo = CountIncomeClasses('Amer-Indian-Eskimo')\n",
        "other = CountIncomeClasses('Other')"
      ],
      "execution_count": null,
      "outputs": []
    },
    {
      "cell_type": "code",
      "metadata": {
        "id": "cmWB6DTfvcX3"
      },
      "source": [
        "over50k = [white[0], black[0], asian_pac_islander[0], amer_indian_eskimo[0], other[0]]\n",
        "under50k = [white[1], black[1], asian_pac_islander[1], amer_indian_eskimo[1], other[1]]\n",
        "\n",
        "cols = {'race' : race_classes, 'under50k' : under50k, 'over50k' : over50k}\n",
        "df_race = pd.DataFrame(data=cols)"
      ],
      "execution_count": null,
      "outputs": []
    },
    {
      "cell_type": "code",
      "metadata": {
        "colab": {
          "base_uri": "https://localhost:8080/",
          "height": 204
        },
        "id": "aymsXBX-wrNa",
        "outputId": "cef598f6-bb48-49fa-8ec9-c2a2dccc9d75"
      },
      "source": [
        "percentage_over = []\n",
        "percentage_under = []\n",
        "\n",
        "for i in range(len(df_race)):\n",
        "  value_under = (under50k[i] * 100)/(over50k[i] + under50k[i])\n",
        "  value_over = (over50k[i] * 100)/(under50k[i] + over50k[i])\n",
        "  percentage_over.append(value_over)\n",
        "  percentage_under.append(value_under)\n",
        "\n",
        "df_race['%_over50k'] = percentage_over\n",
        "df_race['%_under50k'] = percentage_under\n",
        "\n",
        "df_race"
      ],
      "execution_count": null,
      "outputs": [
        {
          "output_type": "execute_result",
          "data": {
            "text/html": [
              "<div>\n",
              "<style scoped>\n",
              "    .dataframe tbody tr th:only-of-type {\n",
              "        vertical-align: middle;\n",
              "    }\n",
              "\n",
              "    .dataframe tbody tr th {\n",
              "        vertical-align: top;\n",
              "    }\n",
              "\n",
              "    .dataframe thead th {\n",
              "        text-align: right;\n",
              "    }\n",
              "</style>\n",
              "<table border=\"1\" class=\"dataframe\">\n",
              "  <thead>\n",
              "    <tr style=\"text-align: right;\">\n",
              "      <th></th>\n",
              "      <th>race</th>\n",
              "      <th>under50k</th>\n",
              "      <th>over50k</th>\n",
              "      <th>%_over50k</th>\n",
              "      <th>%_under50k</th>\n",
              "    </tr>\n",
              "  </thead>\n",
              "  <tbody>\n",
              "    <tr>\n",
              "      <th>0</th>\n",
              "      <td>White</td>\n",
              "      <td>20699</td>\n",
              "      <td>7117</td>\n",
              "      <td>25.585994</td>\n",
              "      <td>74.414006</td>\n",
              "    </tr>\n",
              "    <tr>\n",
              "      <th>1</th>\n",
              "      <td>Black</td>\n",
              "      <td>2737</td>\n",
              "      <td>387</td>\n",
              "      <td>12.387964</td>\n",
              "      <td>87.612036</td>\n",
              "    </tr>\n",
              "    <tr>\n",
              "      <th>2</th>\n",
              "      <td>Asian-Pac-Islander</td>\n",
              "      <td>763</td>\n",
              "      <td>276</td>\n",
              "      <td>26.564004</td>\n",
              "      <td>73.435996</td>\n",
              "    </tr>\n",
              "    <tr>\n",
              "      <th>3</th>\n",
              "      <td>Amer-Indian-Eskimo</td>\n",
              "      <td>275</td>\n",
              "      <td>36</td>\n",
              "      <td>11.575563</td>\n",
              "      <td>88.424437</td>\n",
              "    </tr>\n",
              "    <tr>\n",
              "      <th>4</th>\n",
              "      <td>Other</td>\n",
              "      <td>246</td>\n",
              "      <td>25</td>\n",
              "      <td>9.225092</td>\n",
              "      <td>90.774908</td>\n",
              "    </tr>\n",
              "  </tbody>\n",
              "</table>\n",
              "</div>"
            ],
            "text/plain": [
              "                 race  under50k  over50k  %_over50k  %_under50k\n",
              "0               White     20699     7117  25.585994   74.414006\n",
              "1               Black      2737      387  12.387964   87.612036\n",
              "2  Asian-Pac-Islander       763      276  26.564004   73.435996\n",
              "3  Amer-Indian-Eskimo       275       36  11.575563   88.424437\n",
              "4               Other       246       25   9.225092   90.774908"
            ]
          },
          "metadata": {
            "tags": []
          },
          "execution_count": 94
        }
      ]
    },
    {
      "cell_type": "markdown",
      "metadata": {
        "id": "Zfv00QOl0jwu"
      },
      "source": [
        "After a generic analysis of this racial variable, some observations are:\n",
        " - Most of the censed people are within the white ethnicity.\n",
        " - The proportion of censed people who are over or under 50k is quite clustered in two grups: White & Asian with higher predicted incomes than Amer-Indian-Eskimo, Black and Others.\n",
        " \n",
        "It is now time to go on with the bias assessment of the predictions."
      ]
    },
    {
      "cell_type": "code",
      "metadata": {
        "id": "FXEs-34Y2oLF"
      },
      "source": [
        ""
      ],
      "execution_count": null,
      "outputs": []
    },
    {
      "cell_type": "code",
      "metadata": {
        "id": "GF75ZZTi2pi9"
      },
      "source": [
        ""
      ],
      "execution_count": null,
      "outputs": []
    },
    {
      "cell_type": "code",
      "metadata": {
        "id": "Wsn2pzAC2p5T"
      },
      "source": [
        ""
      ],
      "execution_count": null,
      "outputs": []
    },
    {
      "cell_type": "code",
      "metadata": {
        "id": "_s-vL7il2p-t"
      },
      "source": [
        ""
      ],
      "execution_count": null,
      "outputs": []
    },
    {
      "cell_type": "markdown",
      "metadata": {
        "id": "bSmrBlR82kuu"
      },
      "source": [
        "#Study Case 1: Bias/Fairness assessment for Gender (SIMON)"
      ]
    }
  ]
}