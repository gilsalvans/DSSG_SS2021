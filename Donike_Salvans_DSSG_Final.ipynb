{
  "nbformat": 4,
  "nbformat_minor": 0,
  "metadata": {
    "colab": {
      "name": "Donike_Salvans_DSSG_Final.ipynb",
      "provenance": [],
      "collapsed_sections": [],
      "include_colab_link": true
    },
    "kernelspec": {
      "name": "python3",
      "display_name": "Python 3"
    },
    "language_info": {
      "name": "python"
    }
  },
  "cells": [
    {
      "cell_type": "markdown",
      "metadata": {
        "id": "view-in-github",
        "colab_type": "text"
      },
      "source": [
        "<a href=\"https://colab.research.google.com/github/gilsalvans/DSSG_SS2021/blob/main/Donike_Salvans_DSSG_Final.ipynb\" target=\"_parent\"><img src=\"https://colab.research.google.com/assets/colab-badge.svg\" alt=\"Open In Colab\"/></a>"
      ]
    },
    {
      "cell_type": "markdown",
      "metadata": {
        "id": "JCe_FYXQ14pI"
      },
      "source": [
        "## Assessing bias and fairness in the COMPAS Recidivism Risk dataset: Study case for Age and Race\n",
        "This notebook's workflow is the following:\n",
        "- Import Adult dataset -> COMPAS data & check basic structure\n",
        "- Study case 1: Assessing bias/fairness per Race: <br>\n",
        "    - Variable Analysis\n",
        "    - Bias and Faireness audit with Aequitas\n",
        "- Study case 2: Assessing bias/fairness per Age Group:<br>\n",
        "    - Variable Analysis\n",
        "    - Bias and Faireness audit with Aequitas"
      ]
    },
    {
      "cell_type": "code",
      "metadata": {
        "id": "qT9b-PYC3nFZ"
      },
      "source": [
        "#imports\n",
        "import google.colab\n",
        "import pandas as pd\n",
        "import numpy as np\n",
        "import seaborn as sns\n",
        "import functools\n",
        "import matplotlib.pyplot as plt\n",
        "!pip install aequitas\n",
        "from aequitas.group import Group\n",
        "from aequitas.bias import Bias\n",
        "from aequitas.fairness import Fairness\n",
        "import aequitas.plot as ap\n",
        "!pip install --upgrade witwidget"
      ],
      "execution_count": null,
      "outputs": []
    },
    {
      "cell_type": "code",
      "metadata": {
        "colab": {
          "base_uri": "https://localhost:8080/",
          "height": 734
        },
        "id": "VnkHnjDG460_",
        "outputId": "54ee73a9-a2e0-485e-deaf-6d739fdd90fe"
      },
      "source": [
        "# Reading data from our repository\n",
        "raw_df = pd.read_csv('https://raw.githubusercontent.com/gilsalvans/DSSG_SS2021/main/data/compas-scores-two-years.csv')\n",
        "raw_df"
      ],
      "execution_count": 2,
      "outputs": [
        {
          "output_type": "execute_result",
          "data": {
            "text/html": [
              "<div>\n",
              "<style scoped>\n",
              "    .dataframe tbody tr th:only-of-type {\n",
              "        vertical-align: middle;\n",
              "    }\n",
              "\n",
              "    .dataframe tbody tr th {\n",
              "        vertical-align: top;\n",
              "    }\n",
              "\n",
              "    .dataframe thead th {\n",
              "        text-align: right;\n",
              "    }\n",
              "</style>\n",
              "<table border=\"1\" class=\"dataframe\">\n",
              "  <thead>\n",
              "    <tr style=\"text-align: right;\">\n",
              "      <th></th>\n",
              "      <th>id</th>\n",
              "      <th>name</th>\n",
              "      <th>first</th>\n",
              "      <th>last</th>\n",
              "      <th>compas_screening_date</th>\n",
              "      <th>sex</th>\n",
              "      <th>dob</th>\n",
              "      <th>age</th>\n",
              "      <th>age_cat</th>\n",
              "      <th>race</th>\n",
              "      <th>juv_fel_count</th>\n",
              "      <th>decile_score</th>\n",
              "      <th>juv_misd_count</th>\n",
              "      <th>juv_other_count</th>\n",
              "      <th>priors_count</th>\n",
              "      <th>days_b_screening_arrest</th>\n",
              "      <th>c_jail_in</th>\n",
              "      <th>c_jail_out</th>\n",
              "      <th>c_case_number</th>\n",
              "      <th>c_offense_date</th>\n",
              "      <th>c_arrest_date</th>\n",
              "      <th>c_days_from_compas</th>\n",
              "      <th>c_charge_degree</th>\n",
              "      <th>c_charge_desc</th>\n",
              "      <th>is_recid</th>\n",
              "      <th>r_case_number</th>\n",
              "      <th>r_charge_degree</th>\n",
              "      <th>r_days_from_arrest</th>\n",
              "      <th>r_offense_date</th>\n",
              "      <th>r_charge_desc</th>\n",
              "      <th>r_jail_in</th>\n",
              "      <th>r_jail_out</th>\n",
              "      <th>violent_recid</th>\n",
              "      <th>is_violent_recid</th>\n",
              "      <th>vr_case_number</th>\n",
              "      <th>vr_charge_degree</th>\n",
              "      <th>vr_offense_date</th>\n",
              "      <th>vr_charge_desc</th>\n",
              "      <th>type_of_assessment</th>\n",
              "      <th>decile_score.1</th>\n",
              "      <th>score_text</th>\n",
              "      <th>screening_date</th>\n",
              "      <th>v_type_of_assessment</th>\n",
              "      <th>v_decile_score</th>\n",
              "      <th>v_score_text</th>\n",
              "      <th>v_screening_date</th>\n",
              "      <th>in_custody</th>\n",
              "      <th>out_custody</th>\n",
              "      <th>priors_count.1</th>\n",
              "      <th>start</th>\n",
              "      <th>end</th>\n",
              "      <th>event</th>\n",
              "      <th>two_year_recid</th>\n",
              "    </tr>\n",
              "  </thead>\n",
              "  <tbody>\n",
              "    <tr>\n",
              "      <th>0</th>\n",
              "      <td>1</td>\n",
              "      <td>miguel hernandez</td>\n",
              "      <td>miguel</td>\n",
              "      <td>hernandez</td>\n",
              "      <td>2013-08-14</td>\n",
              "      <td>Male</td>\n",
              "      <td>1947-04-18</td>\n",
              "      <td>69</td>\n",
              "      <td>Greater than 45</td>\n",
              "      <td>Other</td>\n",
              "      <td>0</td>\n",
              "      <td>1</td>\n",
              "      <td>0</td>\n",
              "      <td>0</td>\n",
              "      <td>0</td>\n",
              "      <td>-1.0</td>\n",
              "      <td>2013-08-13 06:03:42</td>\n",
              "      <td>2013-08-14 05:41:20</td>\n",
              "      <td>13011352CF10A</td>\n",
              "      <td>2013-08-13</td>\n",
              "      <td>NaN</td>\n",
              "      <td>1.0</td>\n",
              "      <td>F</td>\n",
              "      <td>Aggravated Assault w/Firearm</td>\n",
              "      <td>0</td>\n",
              "      <td>NaN</td>\n",
              "      <td>NaN</td>\n",
              "      <td>NaN</td>\n",
              "      <td>NaN</td>\n",
              "      <td>NaN</td>\n",
              "      <td>NaN</td>\n",
              "      <td>NaN</td>\n",
              "      <td>NaN</td>\n",
              "      <td>0</td>\n",
              "      <td>NaN</td>\n",
              "      <td>NaN</td>\n",
              "      <td>NaN</td>\n",
              "      <td>NaN</td>\n",
              "      <td>Risk of Recidivism</td>\n",
              "      <td>1</td>\n",
              "      <td>Low</td>\n",
              "      <td>2013-08-14</td>\n",
              "      <td>Risk of Violence</td>\n",
              "      <td>1</td>\n",
              "      <td>Low</td>\n",
              "      <td>2013-08-14</td>\n",
              "      <td>2014-07-07</td>\n",
              "      <td>2014-07-14</td>\n",
              "      <td>0</td>\n",
              "      <td>0</td>\n",
              "      <td>327</td>\n",
              "      <td>0</td>\n",
              "      <td>0</td>\n",
              "    </tr>\n",
              "    <tr>\n",
              "      <th>1</th>\n",
              "      <td>3</td>\n",
              "      <td>kevon dixon</td>\n",
              "      <td>kevon</td>\n",
              "      <td>dixon</td>\n",
              "      <td>2013-01-27</td>\n",
              "      <td>Male</td>\n",
              "      <td>1982-01-22</td>\n",
              "      <td>34</td>\n",
              "      <td>25 - 45</td>\n",
              "      <td>African-American</td>\n",
              "      <td>0</td>\n",
              "      <td>3</td>\n",
              "      <td>0</td>\n",
              "      <td>0</td>\n",
              "      <td>0</td>\n",
              "      <td>-1.0</td>\n",
              "      <td>2013-01-26 03:45:27</td>\n",
              "      <td>2013-02-05 05:36:53</td>\n",
              "      <td>13001275CF10A</td>\n",
              "      <td>2013-01-26</td>\n",
              "      <td>NaN</td>\n",
              "      <td>1.0</td>\n",
              "      <td>F</td>\n",
              "      <td>Felony Battery w/Prior Convict</td>\n",
              "      <td>1</td>\n",
              "      <td>13009779CF10A</td>\n",
              "      <td>(F3)</td>\n",
              "      <td>NaN</td>\n",
              "      <td>2013-07-05</td>\n",
              "      <td>Felony Battery (Dom Strang)</td>\n",
              "      <td>NaN</td>\n",
              "      <td>NaN</td>\n",
              "      <td>NaN</td>\n",
              "      <td>1</td>\n",
              "      <td>13009779CF10A</td>\n",
              "      <td>(F3)</td>\n",
              "      <td>2013-07-05</td>\n",
              "      <td>Felony Battery (Dom Strang)</td>\n",
              "      <td>Risk of Recidivism</td>\n",
              "      <td>3</td>\n",
              "      <td>Low</td>\n",
              "      <td>2013-01-27</td>\n",
              "      <td>Risk of Violence</td>\n",
              "      <td>1</td>\n",
              "      <td>Low</td>\n",
              "      <td>2013-01-27</td>\n",
              "      <td>2013-01-26</td>\n",
              "      <td>2013-02-05</td>\n",
              "      <td>0</td>\n",
              "      <td>9</td>\n",
              "      <td>159</td>\n",
              "      <td>1</td>\n",
              "      <td>1</td>\n",
              "    </tr>\n",
              "    <tr>\n",
              "      <th>2</th>\n",
              "      <td>4</td>\n",
              "      <td>ed philo</td>\n",
              "      <td>ed</td>\n",
              "      <td>philo</td>\n",
              "      <td>2013-04-14</td>\n",
              "      <td>Male</td>\n",
              "      <td>1991-05-14</td>\n",
              "      <td>24</td>\n",
              "      <td>Less than 25</td>\n",
              "      <td>African-American</td>\n",
              "      <td>0</td>\n",
              "      <td>4</td>\n",
              "      <td>0</td>\n",
              "      <td>1</td>\n",
              "      <td>4</td>\n",
              "      <td>-1.0</td>\n",
              "      <td>2013-04-13 04:58:34</td>\n",
              "      <td>2013-04-14 07:02:04</td>\n",
              "      <td>13005330CF10A</td>\n",
              "      <td>2013-04-13</td>\n",
              "      <td>NaN</td>\n",
              "      <td>1.0</td>\n",
              "      <td>F</td>\n",
              "      <td>Possession of Cocaine</td>\n",
              "      <td>1</td>\n",
              "      <td>13011511MM10A</td>\n",
              "      <td>(M1)</td>\n",
              "      <td>0.0</td>\n",
              "      <td>2013-06-16</td>\n",
              "      <td>Driving Under The Influence</td>\n",
              "      <td>2013-06-16</td>\n",
              "      <td>2013-06-16</td>\n",
              "      <td>NaN</td>\n",
              "      <td>0</td>\n",
              "      <td>NaN</td>\n",
              "      <td>NaN</td>\n",
              "      <td>NaN</td>\n",
              "      <td>NaN</td>\n",
              "      <td>Risk of Recidivism</td>\n",
              "      <td>4</td>\n",
              "      <td>Low</td>\n",
              "      <td>2013-04-14</td>\n",
              "      <td>Risk of Violence</td>\n",
              "      <td>3</td>\n",
              "      <td>Low</td>\n",
              "      <td>2013-04-14</td>\n",
              "      <td>2013-06-16</td>\n",
              "      <td>2013-06-16</td>\n",
              "      <td>4</td>\n",
              "      <td>0</td>\n",
              "      <td>63</td>\n",
              "      <td>0</td>\n",
              "      <td>1</td>\n",
              "    </tr>\n",
              "    <tr>\n",
              "      <th>3</th>\n",
              "      <td>5</td>\n",
              "      <td>marcu brown</td>\n",
              "      <td>marcu</td>\n",
              "      <td>brown</td>\n",
              "      <td>2013-01-13</td>\n",
              "      <td>Male</td>\n",
              "      <td>1993-01-21</td>\n",
              "      <td>23</td>\n",
              "      <td>Less than 25</td>\n",
              "      <td>African-American</td>\n",
              "      <td>0</td>\n",
              "      <td>8</td>\n",
              "      <td>1</td>\n",
              "      <td>0</td>\n",
              "      <td>1</td>\n",
              "      <td>NaN</td>\n",
              "      <td>NaN</td>\n",
              "      <td>NaN</td>\n",
              "      <td>13000570CF10A</td>\n",
              "      <td>2013-01-12</td>\n",
              "      <td>NaN</td>\n",
              "      <td>1.0</td>\n",
              "      <td>F</td>\n",
              "      <td>Possession of Cannabis</td>\n",
              "      <td>0</td>\n",
              "      <td>NaN</td>\n",
              "      <td>NaN</td>\n",
              "      <td>NaN</td>\n",
              "      <td>NaN</td>\n",
              "      <td>NaN</td>\n",
              "      <td>NaN</td>\n",
              "      <td>NaN</td>\n",
              "      <td>NaN</td>\n",
              "      <td>0</td>\n",
              "      <td>NaN</td>\n",
              "      <td>NaN</td>\n",
              "      <td>NaN</td>\n",
              "      <td>NaN</td>\n",
              "      <td>Risk of Recidivism</td>\n",
              "      <td>8</td>\n",
              "      <td>High</td>\n",
              "      <td>2013-01-13</td>\n",
              "      <td>Risk of Violence</td>\n",
              "      <td>6</td>\n",
              "      <td>Medium</td>\n",
              "      <td>2013-01-13</td>\n",
              "      <td>NaN</td>\n",
              "      <td>NaN</td>\n",
              "      <td>1</td>\n",
              "      <td>0</td>\n",
              "      <td>1174</td>\n",
              "      <td>0</td>\n",
              "      <td>0</td>\n",
              "    </tr>\n",
              "    <tr>\n",
              "      <th>4</th>\n",
              "      <td>6</td>\n",
              "      <td>bouthy pierrelouis</td>\n",
              "      <td>bouthy</td>\n",
              "      <td>pierrelouis</td>\n",
              "      <td>2013-03-26</td>\n",
              "      <td>Male</td>\n",
              "      <td>1973-01-22</td>\n",
              "      <td>43</td>\n",
              "      <td>25 - 45</td>\n",
              "      <td>Other</td>\n",
              "      <td>0</td>\n",
              "      <td>1</td>\n",
              "      <td>0</td>\n",
              "      <td>0</td>\n",
              "      <td>2</td>\n",
              "      <td>NaN</td>\n",
              "      <td>NaN</td>\n",
              "      <td>NaN</td>\n",
              "      <td>12014130CF10A</td>\n",
              "      <td>NaN</td>\n",
              "      <td>2013-01-09</td>\n",
              "      <td>76.0</td>\n",
              "      <td>F</td>\n",
              "      <td>arrest case no charge</td>\n",
              "      <td>0</td>\n",
              "      <td>NaN</td>\n",
              "      <td>NaN</td>\n",
              "      <td>NaN</td>\n",
              "      <td>NaN</td>\n",
              "      <td>NaN</td>\n",
              "      <td>NaN</td>\n",
              "      <td>NaN</td>\n",
              "      <td>NaN</td>\n",
              "      <td>0</td>\n",
              "      <td>NaN</td>\n",
              "      <td>NaN</td>\n",
              "      <td>NaN</td>\n",
              "      <td>NaN</td>\n",
              "      <td>Risk of Recidivism</td>\n",
              "      <td>1</td>\n",
              "      <td>Low</td>\n",
              "      <td>2013-03-26</td>\n",
              "      <td>Risk of Violence</td>\n",
              "      <td>1</td>\n",
              "      <td>Low</td>\n",
              "      <td>2013-03-26</td>\n",
              "      <td>NaN</td>\n",
              "      <td>NaN</td>\n",
              "      <td>2</td>\n",
              "      <td>0</td>\n",
              "      <td>1102</td>\n",
              "      <td>0</td>\n",
              "      <td>0</td>\n",
              "    </tr>\n",
              "    <tr>\n",
              "      <th>...</th>\n",
              "      <td>...</td>\n",
              "      <td>...</td>\n",
              "      <td>...</td>\n",
              "      <td>...</td>\n",
              "      <td>...</td>\n",
              "      <td>...</td>\n",
              "      <td>...</td>\n",
              "      <td>...</td>\n",
              "      <td>...</td>\n",
              "      <td>...</td>\n",
              "      <td>...</td>\n",
              "      <td>...</td>\n",
              "      <td>...</td>\n",
              "      <td>...</td>\n",
              "      <td>...</td>\n",
              "      <td>...</td>\n",
              "      <td>...</td>\n",
              "      <td>...</td>\n",
              "      <td>...</td>\n",
              "      <td>...</td>\n",
              "      <td>...</td>\n",
              "      <td>...</td>\n",
              "      <td>...</td>\n",
              "      <td>...</td>\n",
              "      <td>...</td>\n",
              "      <td>...</td>\n",
              "      <td>...</td>\n",
              "      <td>...</td>\n",
              "      <td>...</td>\n",
              "      <td>...</td>\n",
              "      <td>...</td>\n",
              "      <td>...</td>\n",
              "      <td>...</td>\n",
              "      <td>...</td>\n",
              "      <td>...</td>\n",
              "      <td>...</td>\n",
              "      <td>...</td>\n",
              "      <td>...</td>\n",
              "      <td>...</td>\n",
              "      <td>...</td>\n",
              "      <td>...</td>\n",
              "      <td>...</td>\n",
              "      <td>...</td>\n",
              "      <td>...</td>\n",
              "      <td>...</td>\n",
              "      <td>...</td>\n",
              "      <td>...</td>\n",
              "      <td>...</td>\n",
              "      <td>...</td>\n",
              "      <td>...</td>\n",
              "      <td>...</td>\n",
              "      <td>...</td>\n",
              "      <td>...</td>\n",
              "    </tr>\n",
              "    <tr>\n",
              "      <th>7209</th>\n",
              "      <td>10996</td>\n",
              "      <td>steven butler</td>\n",
              "      <td>steven</td>\n",
              "      <td>butler</td>\n",
              "      <td>2013-11-23</td>\n",
              "      <td>Male</td>\n",
              "      <td>1992-07-17</td>\n",
              "      <td>23</td>\n",
              "      <td>Less than 25</td>\n",
              "      <td>African-American</td>\n",
              "      <td>0</td>\n",
              "      <td>7</td>\n",
              "      <td>0</td>\n",
              "      <td>0</td>\n",
              "      <td>0</td>\n",
              "      <td>-1.0</td>\n",
              "      <td>2013-11-22 05:18:27</td>\n",
              "      <td>2013-11-24 02:59:20</td>\n",
              "      <td>13016249CF10A</td>\n",
              "      <td>2013-11-22</td>\n",
              "      <td>NaN</td>\n",
              "      <td>1.0</td>\n",
              "      <td>F</td>\n",
              "      <td>Deliver Cannabis</td>\n",
              "      <td>0</td>\n",
              "      <td>NaN</td>\n",
              "      <td>NaN</td>\n",
              "      <td>NaN</td>\n",
              "      <td>NaN</td>\n",
              "      <td>NaN</td>\n",
              "      <td>NaN</td>\n",
              "      <td>NaN</td>\n",
              "      <td>NaN</td>\n",
              "      <td>0</td>\n",
              "      <td>NaN</td>\n",
              "      <td>NaN</td>\n",
              "      <td>NaN</td>\n",
              "      <td>NaN</td>\n",
              "      <td>Risk of Recidivism</td>\n",
              "      <td>7</td>\n",
              "      <td>Medium</td>\n",
              "      <td>2013-11-23</td>\n",
              "      <td>Risk of Violence</td>\n",
              "      <td>5</td>\n",
              "      <td>Medium</td>\n",
              "      <td>2013-11-23</td>\n",
              "      <td>2013-11-22</td>\n",
              "      <td>2013-11-24</td>\n",
              "      <td>0</td>\n",
              "      <td>1</td>\n",
              "      <td>860</td>\n",
              "      <td>0</td>\n",
              "      <td>0</td>\n",
              "    </tr>\n",
              "    <tr>\n",
              "      <th>7210</th>\n",
              "      <td>10997</td>\n",
              "      <td>malcolm simmons</td>\n",
              "      <td>malcolm</td>\n",
              "      <td>simmons</td>\n",
              "      <td>2014-02-01</td>\n",
              "      <td>Male</td>\n",
              "      <td>1993-03-25</td>\n",
              "      <td>23</td>\n",
              "      <td>Less than 25</td>\n",
              "      <td>African-American</td>\n",
              "      <td>0</td>\n",
              "      <td>3</td>\n",
              "      <td>0</td>\n",
              "      <td>0</td>\n",
              "      <td>0</td>\n",
              "      <td>-1.0</td>\n",
              "      <td>2014-01-31 07:13:54</td>\n",
              "      <td>2014-02-02 04:03:52</td>\n",
              "      <td>14001422CF10A</td>\n",
              "      <td>2014-01-31</td>\n",
              "      <td>NaN</td>\n",
              "      <td>1.0</td>\n",
              "      <td>F</td>\n",
              "      <td>Leaving the Scene of Accident</td>\n",
              "      <td>0</td>\n",
              "      <td>NaN</td>\n",
              "      <td>NaN</td>\n",
              "      <td>NaN</td>\n",
              "      <td>NaN</td>\n",
              "      <td>NaN</td>\n",
              "      <td>NaN</td>\n",
              "      <td>NaN</td>\n",
              "      <td>NaN</td>\n",
              "      <td>0</td>\n",
              "      <td>NaN</td>\n",
              "      <td>NaN</td>\n",
              "      <td>NaN</td>\n",
              "      <td>NaN</td>\n",
              "      <td>Risk of Recidivism</td>\n",
              "      <td>3</td>\n",
              "      <td>Low</td>\n",
              "      <td>2014-02-01</td>\n",
              "      <td>Risk of Violence</td>\n",
              "      <td>5</td>\n",
              "      <td>Medium</td>\n",
              "      <td>2014-02-01</td>\n",
              "      <td>2014-01-31</td>\n",
              "      <td>2014-02-02</td>\n",
              "      <td>0</td>\n",
              "      <td>1</td>\n",
              "      <td>790</td>\n",
              "      <td>0</td>\n",
              "      <td>0</td>\n",
              "    </tr>\n",
              "    <tr>\n",
              "      <th>7211</th>\n",
              "      <td>10999</td>\n",
              "      <td>winston gregory</td>\n",
              "      <td>winston</td>\n",
              "      <td>gregory</td>\n",
              "      <td>2014-01-14</td>\n",
              "      <td>Male</td>\n",
              "      <td>1958-10-01</td>\n",
              "      <td>57</td>\n",
              "      <td>Greater than 45</td>\n",
              "      <td>Other</td>\n",
              "      <td>0</td>\n",
              "      <td>1</td>\n",
              "      <td>0</td>\n",
              "      <td>0</td>\n",
              "      <td>0</td>\n",
              "      <td>-1.0</td>\n",
              "      <td>2014-01-13 05:48:01</td>\n",
              "      <td>2014-01-14 07:49:46</td>\n",
              "      <td>14000581CF10A</td>\n",
              "      <td>2014-01-13</td>\n",
              "      <td>NaN</td>\n",
              "      <td>1.0</td>\n",
              "      <td>F</td>\n",
              "      <td>Aggravated Battery / Pregnant</td>\n",
              "      <td>0</td>\n",
              "      <td>NaN</td>\n",
              "      <td>NaN</td>\n",
              "      <td>NaN</td>\n",
              "      <td>NaN</td>\n",
              "      <td>NaN</td>\n",
              "      <td>NaN</td>\n",
              "      <td>NaN</td>\n",
              "      <td>NaN</td>\n",
              "      <td>0</td>\n",
              "      <td>NaN</td>\n",
              "      <td>NaN</td>\n",
              "      <td>NaN</td>\n",
              "      <td>NaN</td>\n",
              "      <td>Risk of Recidivism</td>\n",
              "      <td>1</td>\n",
              "      <td>Low</td>\n",
              "      <td>2014-01-14</td>\n",
              "      <td>Risk of Violence</td>\n",
              "      <td>1</td>\n",
              "      <td>Low</td>\n",
              "      <td>2014-01-14</td>\n",
              "      <td>2014-01-13</td>\n",
              "      <td>2014-01-14</td>\n",
              "      <td>0</td>\n",
              "      <td>0</td>\n",
              "      <td>808</td>\n",
              "      <td>0</td>\n",
              "      <td>0</td>\n",
              "    </tr>\n",
              "    <tr>\n",
              "      <th>7212</th>\n",
              "      <td>11000</td>\n",
              "      <td>farrah jean</td>\n",
              "      <td>farrah</td>\n",
              "      <td>jean</td>\n",
              "      <td>2014-03-09</td>\n",
              "      <td>Female</td>\n",
              "      <td>1982-11-17</td>\n",
              "      <td>33</td>\n",
              "      <td>25 - 45</td>\n",
              "      <td>African-American</td>\n",
              "      <td>0</td>\n",
              "      <td>2</td>\n",
              "      <td>0</td>\n",
              "      <td>0</td>\n",
              "      <td>3</td>\n",
              "      <td>-1.0</td>\n",
              "      <td>2014-03-08 08:06:02</td>\n",
              "      <td>2014-03-09 12:18:04</td>\n",
              "      <td>14003308CF10A</td>\n",
              "      <td>2014-03-08</td>\n",
              "      <td>NaN</td>\n",
              "      <td>1.0</td>\n",
              "      <td>M</td>\n",
              "      <td>Battery on Law Enforc Officer</td>\n",
              "      <td>0</td>\n",
              "      <td>NaN</td>\n",
              "      <td>NaN</td>\n",
              "      <td>NaN</td>\n",
              "      <td>NaN</td>\n",
              "      <td>NaN</td>\n",
              "      <td>NaN</td>\n",
              "      <td>NaN</td>\n",
              "      <td>NaN</td>\n",
              "      <td>0</td>\n",
              "      <td>NaN</td>\n",
              "      <td>NaN</td>\n",
              "      <td>NaN</td>\n",
              "      <td>NaN</td>\n",
              "      <td>Risk of Recidivism</td>\n",
              "      <td>2</td>\n",
              "      <td>Low</td>\n",
              "      <td>2014-03-09</td>\n",
              "      <td>Risk of Violence</td>\n",
              "      <td>2</td>\n",
              "      <td>Low</td>\n",
              "      <td>2014-03-09</td>\n",
              "      <td>2014-03-08</td>\n",
              "      <td>2014-03-09</td>\n",
              "      <td>3</td>\n",
              "      <td>0</td>\n",
              "      <td>754</td>\n",
              "      <td>0</td>\n",
              "      <td>0</td>\n",
              "    </tr>\n",
              "    <tr>\n",
              "      <th>7213</th>\n",
              "      <td>11001</td>\n",
              "      <td>florencia sanmartin</td>\n",
              "      <td>florencia</td>\n",
              "      <td>sanmartin</td>\n",
              "      <td>2014-06-30</td>\n",
              "      <td>Female</td>\n",
              "      <td>1992-12-18</td>\n",
              "      <td>23</td>\n",
              "      <td>Less than 25</td>\n",
              "      <td>Hispanic</td>\n",
              "      <td>0</td>\n",
              "      <td>4</td>\n",
              "      <td>0</td>\n",
              "      <td>0</td>\n",
              "      <td>2</td>\n",
              "      <td>-2.0</td>\n",
              "      <td>2014-06-28 12:16:41</td>\n",
              "      <td>2014-06-30 11:19:23</td>\n",
              "      <td>14008895CF10A</td>\n",
              "      <td>2014-06-28</td>\n",
              "      <td>NaN</td>\n",
              "      <td>2.0</td>\n",
              "      <td>F</td>\n",
              "      <td>Possession of Ethylone</td>\n",
              "      <td>1</td>\n",
              "      <td>15008160TC10A</td>\n",
              "      <td>(M2)</td>\n",
              "      <td>0.0</td>\n",
              "      <td>2015-03-15</td>\n",
              "      <td>Operating W/O Valid License</td>\n",
              "      <td>2015-03-15</td>\n",
              "      <td>2015-03-15</td>\n",
              "      <td>NaN</td>\n",
              "      <td>0</td>\n",
              "      <td>NaN</td>\n",
              "      <td>NaN</td>\n",
              "      <td>NaN</td>\n",
              "      <td>NaN</td>\n",
              "      <td>Risk of Recidivism</td>\n",
              "      <td>4</td>\n",
              "      <td>Low</td>\n",
              "      <td>2014-06-30</td>\n",
              "      <td>Risk of Violence</td>\n",
              "      <td>4</td>\n",
              "      <td>Low</td>\n",
              "      <td>2014-06-30</td>\n",
              "      <td>2015-03-15</td>\n",
              "      <td>2015-03-15</td>\n",
              "      <td>2</td>\n",
              "      <td>0</td>\n",
              "      <td>258</td>\n",
              "      <td>0</td>\n",
              "      <td>1</td>\n",
              "    </tr>\n",
              "  </tbody>\n",
              "</table>\n",
              "<p>7214 rows × 53 columns</p>\n",
              "</div>"
            ],
            "text/plain": [
              "         id                 name      first  ...   end event two_year_recid\n",
              "0         1     miguel hernandez     miguel  ...   327     0              0\n",
              "1         3          kevon dixon      kevon  ...   159     1              1\n",
              "2         4             ed philo         ed  ...    63     0              1\n",
              "3         5          marcu brown      marcu  ...  1174     0              0\n",
              "4         6   bouthy pierrelouis     bouthy  ...  1102     0              0\n",
              "...     ...                  ...        ...  ...   ...   ...            ...\n",
              "7209  10996        steven butler     steven  ...   860     0              0\n",
              "7210  10997      malcolm simmons    malcolm  ...   790     0              0\n",
              "7211  10999      winston gregory    winston  ...   808     0              0\n",
              "7212  11000          farrah jean     farrah  ...   754     0              0\n",
              "7213  11001  florencia sanmartin  florencia  ...   258     0              1\n",
              "\n",
              "[7214 rows x 53 columns]"
            ]
          },
          "metadata": {
            "tags": []
          },
          "execution_count": 2
        }
      ]
    },
    {
      "cell_type": "code",
      "metadata": {
        "id": "366miUID6YZl",
        "colab": {
          "base_uri": "https://localhost:8080/"
        },
        "outputId": "76108837-431a-4412-d8b8-2e5bffa9ecae"
      },
      "source": [
        "raw_df.info()"
      ],
      "execution_count": 3,
      "outputs": [
        {
          "output_type": "stream",
          "text": [
            "<class 'pandas.core.frame.DataFrame'>\n",
            "RangeIndex: 7214 entries, 0 to 7213\n",
            "Data columns (total 53 columns):\n",
            " #   Column                   Non-Null Count  Dtype  \n",
            "---  ------                   --------------  -----  \n",
            " 0   id                       7214 non-null   int64  \n",
            " 1   name                     7214 non-null   object \n",
            " 2   first                    7214 non-null   object \n",
            " 3   last                     7214 non-null   object \n",
            " 4   compas_screening_date    7214 non-null   object \n",
            " 5   sex                      7214 non-null   object \n",
            " 6   dob                      7214 non-null   object \n",
            " 7   age                      7214 non-null   int64  \n",
            " 8   age_cat                  7214 non-null   object \n",
            " 9   race                     7214 non-null   object \n",
            " 10  juv_fel_count            7214 non-null   int64  \n",
            " 11  decile_score             7214 non-null   int64  \n",
            " 12  juv_misd_count           7214 non-null   int64  \n",
            " 13  juv_other_count          7214 non-null   int64  \n",
            " 14  priors_count             7214 non-null   int64  \n",
            " 15  days_b_screening_arrest  6907 non-null   float64\n",
            " 16  c_jail_in                6907 non-null   object \n",
            " 17  c_jail_out               6907 non-null   object \n",
            " 18  c_case_number            7192 non-null   object \n",
            " 19  c_offense_date           6055 non-null   object \n",
            " 20  c_arrest_date            1137 non-null   object \n",
            " 21  c_days_from_compas       7192 non-null   float64\n",
            " 22  c_charge_degree          7214 non-null   object \n",
            " 23  c_charge_desc            7185 non-null   object \n",
            " 24  is_recid                 7214 non-null   int64  \n",
            " 25  r_case_number            3471 non-null   object \n",
            " 26  r_charge_degree          3471 non-null   object \n",
            " 27  r_days_from_arrest       2316 non-null   float64\n",
            " 28  r_offense_date           3471 non-null   object \n",
            " 29  r_charge_desc            3413 non-null   object \n",
            " 30  r_jail_in                2316 non-null   object \n",
            " 31  r_jail_out               2316 non-null   object \n",
            " 32  violent_recid            0 non-null      float64\n",
            " 33  is_violent_recid         7214 non-null   int64  \n",
            " 34  vr_case_number           819 non-null    object \n",
            " 35  vr_charge_degree         819 non-null    object \n",
            " 36  vr_offense_date          819 non-null    object \n",
            " 37  vr_charge_desc           819 non-null    object \n",
            " 38  type_of_assessment       7214 non-null   object \n",
            " 39  decile_score.1           7214 non-null   int64  \n",
            " 40  score_text               7214 non-null   object \n",
            " 41  screening_date           7214 non-null   object \n",
            " 42  v_type_of_assessment     7214 non-null   object \n",
            " 43  v_decile_score           7214 non-null   int64  \n",
            " 44  v_score_text             7214 non-null   object \n",
            " 45  v_screening_date         7214 non-null   object \n",
            " 46  in_custody               6978 non-null   object \n",
            " 47  out_custody              6978 non-null   object \n",
            " 48  priors_count.1           7214 non-null   int64  \n",
            " 49  start                    7214 non-null   int64  \n",
            " 50  end                      7214 non-null   int64  \n",
            " 51  event                    7214 non-null   int64  \n",
            " 52  two_year_recid           7214 non-null   int64  \n",
            "dtypes: float64(4), int64(16), object(33)\n",
            "memory usage: 2.9+ MB\n"
          ],
          "name": "stdout"
        }
      ]
    },
    {
      "cell_type": "markdown",
      "metadata": {
        "id": "DU1zCkHZbU-E"
      },
      "source": [
        "Since the aim of this assignment is not to carry out a full machine learning pipeline, but to assess bias and faireness of already processed & classified data, the pre-processed dataset will subsequently be imported."
      ]
    },
    {
      "cell_type": "code",
      "metadata": {
        "id": "on8zcBAFRYKk",
        "colab": {
          "base_uri": "https://localhost:8080/",
          "height": 414
        },
        "outputId": "c10ba41e-715d-4f79-eb28-b994e3cc9cc5"
      },
      "source": [
        "df = pd.read_csv('https://raw.githubusercontent.com/gilsalvans/DSSG_SS2021/main/data/compas_processed_aequitas.csv')\n",
        "df"
      ],
      "execution_count": 4,
      "outputs": [
        {
          "output_type": "execute_result",
          "data": {
            "text/html": [
              "<div>\n",
              "<style scoped>\n",
              "    .dataframe tbody tr th:only-of-type {\n",
              "        vertical-align: middle;\n",
              "    }\n",
              "\n",
              "    .dataframe tbody tr th {\n",
              "        vertical-align: top;\n",
              "    }\n",
              "\n",
              "    .dataframe thead th {\n",
              "        text-align: right;\n",
              "    }\n",
              "</style>\n",
              "<table border=\"1\" class=\"dataframe\">\n",
              "  <thead>\n",
              "    <tr style=\"text-align: right;\">\n",
              "      <th></th>\n",
              "      <th>entity_id</th>\n",
              "      <th>score</th>\n",
              "      <th>label_value</th>\n",
              "      <th>race</th>\n",
              "      <th>sex</th>\n",
              "      <th>age_cat</th>\n",
              "    </tr>\n",
              "  </thead>\n",
              "  <tbody>\n",
              "    <tr>\n",
              "      <th>0</th>\n",
              "      <td>1</td>\n",
              "      <td>0.0</td>\n",
              "      <td>0</td>\n",
              "      <td>Other</td>\n",
              "      <td>Male</td>\n",
              "      <td>Greater than 45</td>\n",
              "    </tr>\n",
              "    <tr>\n",
              "      <th>1</th>\n",
              "      <td>3</td>\n",
              "      <td>0.0</td>\n",
              "      <td>1</td>\n",
              "      <td>African-American</td>\n",
              "      <td>Male</td>\n",
              "      <td>25 - 45</td>\n",
              "    </tr>\n",
              "    <tr>\n",
              "      <th>2</th>\n",
              "      <td>4</td>\n",
              "      <td>0.0</td>\n",
              "      <td>1</td>\n",
              "      <td>African-American</td>\n",
              "      <td>Male</td>\n",
              "      <td>Less than 25</td>\n",
              "    </tr>\n",
              "    <tr>\n",
              "      <th>3</th>\n",
              "      <td>5</td>\n",
              "      <td>1.0</td>\n",
              "      <td>0</td>\n",
              "      <td>African-American</td>\n",
              "      <td>Male</td>\n",
              "      <td>Less than 25</td>\n",
              "    </tr>\n",
              "    <tr>\n",
              "      <th>4</th>\n",
              "      <td>6</td>\n",
              "      <td>0.0</td>\n",
              "      <td>0</td>\n",
              "      <td>Other</td>\n",
              "      <td>Male</td>\n",
              "      <td>25 - 45</td>\n",
              "    </tr>\n",
              "    <tr>\n",
              "      <th>...</th>\n",
              "      <td>...</td>\n",
              "      <td>...</td>\n",
              "      <td>...</td>\n",
              "      <td>...</td>\n",
              "      <td>...</td>\n",
              "      <td>...</td>\n",
              "    </tr>\n",
              "    <tr>\n",
              "      <th>7209</th>\n",
              "      <td>10996</td>\n",
              "      <td>1.0</td>\n",
              "      <td>0</td>\n",
              "      <td>African-American</td>\n",
              "      <td>Male</td>\n",
              "      <td>Less than 25</td>\n",
              "    </tr>\n",
              "    <tr>\n",
              "      <th>7210</th>\n",
              "      <td>10997</td>\n",
              "      <td>0.0</td>\n",
              "      <td>0</td>\n",
              "      <td>African-American</td>\n",
              "      <td>Male</td>\n",
              "      <td>Less than 25</td>\n",
              "    </tr>\n",
              "    <tr>\n",
              "      <th>7211</th>\n",
              "      <td>10999</td>\n",
              "      <td>0.0</td>\n",
              "      <td>0</td>\n",
              "      <td>Other</td>\n",
              "      <td>Male</td>\n",
              "      <td>Greater than 45</td>\n",
              "    </tr>\n",
              "    <tr>\n",
              "      <th>7212</th>\n",
              "      <td>11000</td>\n",
              "      <td>0.0</td>\n",
              "      <td>0</td>\n",
              "      <td>African-American</td>\n",
              "      <td>Female</td>\n",
              "      <td>25 - 45</td>\n",
              "    </tr>\n",
              "    <tr>\n",
              "      <th>7213</th>\n",
              "      <td>11001</td>\n",
              "      <td>0.0</td>\n",
              "      <td>1</td>\n",
              "      <td>Hispanic</td>\n",
              "      <td>Female</td>\n",
              "      <td>Less than 25</td>\n",
              "    </tr>\n",
              "  </tbody>\n",
              "</table>\n",
              "<p>7214 rows × 6 columns</p>\n",
              "</div>"
            ],
            "text/plain": [
              "      entity_id  score  label_value              race     sex          age_cat\n",
              "0             1    0.0            0             Other    Male  Greater than 45\n",
              "1             3    0.0            1  African-American    Male          25 - 45\n",
              "2             4    0.0            1  African-American    Male     Less than 25\n",
              "3             5    1.0            0  African-American    Male     Less than 25\n",
              "4             6    0.0            0             Other    Male          25 - 45\n",
              "...         ...    ...          ...               ...     ...              ...\n",
              "7209      10996    1.0            0  African-American    Male     Less than 25\n",
              "7210      10997    0.0            0  African-American    Male     Less than 25\n",
              "7211      10999    0.0            0             Other    Male  Greater than 45\n",
              "7212      11000    0.0            0  African-American  Female          25 - 45\n",
              "7213      11001    0.0            1          Hispanic  Female     Less than 25\n",
              "\n",
              "[7214 rows x 6 columns]"
            ]
          },
          "metadata": {
            "tags": []
          },
          "execution_count": 4
        }
      ]
    },
    {
      "cell_type": "markdown",
      "metadata": {
        "id": "_MOQEvT7cDXR"
      },
      "source": [
        "Since the attributes to be assessed will be race and age category, these can be taken out from the processed dataframe. Therefore, one dataframe with age category and one with race are created for the subsequent analysis. Score refers to the classification output and label value to the supervised label for the classification (these will be subsequently explained in the analysis)."
      ]
    },
    {
      "cell_type": "code",
      "metadata": {
        "id": "ScccrAWdRYM-"
      },
      "source": [
        "#race & age dataframes\n",
        "df_race = df[['entity_id', 'score', 'label_value', 'race']]\n",
        "df_age = df[['entity_id', 'score', 'label_value', 'age_cat']]"
      ],
      "execution_count": 5,
      "outputs": []
    },
    {
      "cell_type": "markdown",
      "metadata": {
        "id": "fvTD8PR4UwOU"
      },
      "source": [
        "#Study Case 1: Bias/Fairness assessment for Race \n",
        "This first section focuses on assessing prediction bias on recidivism risk using race as input variable. Racial group is a clear attribute, in which in case of bias, the fairness of the model could be very questionable. According to this, race is an important attribute to analyze its implications on the predictions.\n",
        "Therefore, its structure will start from an analysis of this variable to an assessment using the Aequitas Python library."
      ]
    },
    {
      "cell_type": "code",
      "metadata": {
        "colab": {
          "base_uri": "https://localhost:8080/"
        },
        "id": "SFsu9qj1VeOi",
        "outputId": "8a8f5899-fe46-4cf0-e78a-d5fd1ad9f337"
      },
      "source": [
        "#race variable analysis\n",
        "race_classes = df_race['race'].unique().tolist()\n",
        "print('There are ', len(race_classes) , 'different race classes in dataset')\n",
        "race_classes"
      ],
      "execution_count": 6,
      "outputs": [
        {
          "output_type": "stream",
          "text": [
            "There are  6 different race classes in dataset\n"
          ],
          "name": "stdout"
        },
        {
          "output_type": "execute_result",
          "data": {
            "text/plain": [
              "['Other',\n",
              " 'African-American',\n",
              " 'Caucasian',\n",
              " 'Hispanic',\n",
              " 'Native American',\n",
              " 'Asian']"
            ]
          },
          "metadata": {
            "tags": []
          },
          "execution_count": 6
        }
      ]
    },
    {
      "cell_type": "code",
      "metadata": {
        "colab": {
          "base_uri": "https://localhost:8080/"
        },
        "id": "_AcD7tHaVxsH",
        "outputId": "9a4e3427-4b2b-46c3-bd0b-9e2d37222274"
      },
      "source": [
        "df_race['race'].value_counts()"
      ],
      "execution_count": 7,
      "outputs": [
        {
          "output_type": "execute_result",
          "data": {
            "text/plain": [
              "African-American    3696\n",
              "Caucasian           2454\n",
              "Hispanic             637\n",
              "Other                377\n",
              "Asian                 32\n",
              "Native American       18\n",
              "Name: race, dtype: int64"
            ]
          },
          "metadata": {
            "tags": []
          },
          "execution_count": 7
        }
      ]
    },
    {
      "cell_type": "code",
      "metadata": {
        "colab": {
          "base_uri": "https://localhost:8080/",
          "height": 265
        },
        "id": "NAiQ5RANjYU1",
        "outputId": "b0f469dd-6667-4b7c-d5af-b91539b8f855"
      },
      "source": [
        "df_race.groupby('race').size().plot(kind='pie', autopct='%.2f')"
      ],
      "execution_count": 8,
      "outputs": [
        {
          "output_type": "execute_result",
          "data": {
            "text/plain": [
              "<matplotlib.axes._subplots.AxesSubplot at 0x7fd39304d390>"
            ]
          },
          "metadata": {
            "tags": []
          },
          "execution_count": 8
        },
        {
          "output_type": "display_data",
          "data": {
            "image/png": "[encoded data removed]",
            "text/plain": [
              "<Figure size 432x288 with 1 Axes>"
            ]
          },
          "metadata": {
            "tags": []
          }
        }
      ]
    },
    {
      "cell_type": "code",
      "metadata": {
        "id": "D9Ay6LT0h9eV"
      },
      "source": [
        "#plot palette definition\n",
        "aq_palette = sns.diverging_palette(225, 35, n=2)"
      ],
      "execution_count": 9,
      "outputs": []
    },
    {
      "cell_type": "code",
      "metadata": {
        "colab": {
          "base_uri": "https://localhost:8080/",
          "height": 405
        },
        "id": "kJUcUa3el98e",
        "outputId": "5610dc44-a2e4-4c5f-9b48-bd82ee5d9269"
      },
      "source": [
        "#score plot\n",
        "plt.figure(figsize=(16,6))\n",
        "by_race = sns.countplot(x=\"race\", hue=\"score\", data=df_race[df_race.race.isin(['Caucasian', 'African-American', 'Asian', 'Hispanic', 'Other', 'Native American'])], palette=aq_palette)\n",
        "print('Note: This plot takes the count per class into account.')"
      ],
      "execution_count": 10,
      "outputs": [
        {
          "output_type": "stream",
          "text": [
            "Note: This plot takes the count per class into account.\n"
          ],
          "name": "stdout"
        },
        {
          "output_type": "display_data",
          "data": {
            "image/png": "[encoded data removed]",
            "text/plain": [
              "<Figure size 1152x432 with 1 Axes>"
            ]
          },
          "metadata": {
            "tags": [],
            "needs_background": "light"
          }
        }
      ]
    },
    {
      "cell_type": "markdown",
      "metadata": {
        "id": "y8fYzusXdSZn"
      },
      "source": [
        "First of all, this plot refers to the predicted risk score with explanation on the note below. As the plot shows, the African-American ethnical group have significantly higher predicted scores than the other groups. Most of the racial groups have higher number of people with score 0, except for African-American and Native American. <br> <br>\n",
        "<b>Note: </b>COMPAS produces a risk score that predicts a person's likelihood of commiting a crime in the next two years. The output is a score between 1 and 10 that maps to low, medium or high. For Aequitas, we collapse this to a binary prediction. A score of 0 indicates a prediction of \"low\" risk according to COMPAS, while a 1 indicates \"high\" or \"medium\" risk (DSSG documentation). "
      ]
    },
    {
      "cell_type": "code",
      "metadata": {
        "colab": {
          "base_uri": "https://localhost:8080/",
          "height": 387
        },
        "id": "kKM-JiRVhi7C",
        "outputId": "90934caf-caf7-4bef-8514-75880a2c25f6"
      },
      "source": [
        "#level of recidivism plot\n",
        "plt.figure(figsize=(16,6))\n",
        "label_by_race = sns.countplot(x=\"race\", hue=\"label_value\", data=df_race[df_race.race.isin(['Caucasian', 'African-American', 'Asian', 'Hispanic', 'Other', 'Native American'])], palette=aq_palette)"
      ],
      "execution_count": 11,
      "outputs": [
        {
          "output_type": "display_data",
          "data": {
            "image/png": "[encoded data removed]",
            "text/plain": [
              "<Figure size 1152x432 with 1 Axes>"
            ]
          },
          "metadata": {
            "tags": [],
            "needs_background": "light"
          }
        }
      ]
    },
    {
      "cell_type": "markdown",
      "metadata": {
        "id": "ZucYBaGYiFCY"
      },
      "source": [
        "Label value corresponds to recidivism and it refers to the new arrest within two years. If the label is 1, there is a new arrest within 2 years, if not, label is 0. <br>\n",
        "This attribute, as mentioned, is used to supervise the risk score predictions and test its accuracy.\n",
        "Therefore, the results obviously match with the risk score chart, by having African-Americans tending to be more labelled with a positive recidivism value."
      ]
    },
    {
      "cell_type": "code",
      "metadata": {
        "id": "AZ0wM50mnaie"
      },
      "source": [
        "race = df_race['race'].tolist()\n",
        "score = df_race['score'].tolist()\n",
        "recividism = df_race['label_value'].tolist()\n",
        "\n",
        "def CountScoreClasses(race_class, column):\n",
        "  count = 0\n",
        "  count2 = 0\n",
        "\n",
        "  for i in range(len(df)):\n",
        "    if race[i] == race_class and column[i] == 1:\n",
        "      count += 1\n",
        "    elif race[i] == race_class and column[i] == 0:\n",
        "      count2 += 1\n",
        "\n",
        "  return count, count2"
      ],
      "execution_count": 12,
      "outputs": []
    },
    {
      "cell_type": "code",
      "metadata": {
        "id": "jmv0idDnpUFy"
      },
      "source": [
        "#counting score per race\n",
        "afr_am_sc = CountScoreClasses('African-American', score)\n",
        "caucasian_sc = CountScoreClasses('Caucasian', score)\n",
        "asian_sc = CountScoreClasses('Asian', score)\n",
        "native_am_sc = CountScoreClasses('Native American', score)\n",
        "hispanic_sc = CountScoreClasses('Hispanic', score)\n",
        "other_sc = CountScoreClasses('Other', score)"
      ],
      "execution_count": 13,
      "outputs": []
    },
    {
      "cell_type": "code",
      "metadata": {
        "id": "7U3B_CVRkADJ"
      },
      "source": [
        "#counting recividism per race\n",
        "afr_am_rec = CountScoreClasses('African-American', recividism)\n",
        "caucasian_rec = CountScoreClasses('Caucasian', recividism)\n",
        "asian_rec = CountScoreClasses('Asian', recividism)\n",
        "native_am_rec = CountScoreClasses('Native American', recividism)\n",
        "hispanic_rec = CountScoreClasses('Hispanic', recividism)\n",
        "other_rec = CountScoreClasses('Other', recividism)"
      ],
      "execution_count": 14,
      "outputs": []
    },
    {
      "cell_type": "code",
      "metadata": {
        "id": "cmWB6DTfvcX3"
      },
      "source": [
        "#prepare precentage df columns \n",
        "score1 = [other_sc[0], afr_am_sc[0], caucasian_sc[0], hispanic_sc[0], native_am_sc[0], asian_sc[0] ]\n",
        "score0 = [other_sc[1], afr_am_sc[1], caucasian_sc[1], hispanic_sc[1], native_am_sc[1], asian_sc[1] ]\n",
        "\n",
        "rec1 = [other_rec[0], afr_am_rec[0], caucasian_rec[0], hispanic_rec[0], native_am_rec[0], asian_rec[0] ]\n",
        "rec0 = [other_rec[1], afr_am_rec[1], caucasian_rec[1], hispanic_rec[1], native_am_rec[1], asian_rec[1] ]\n",
        "\n",
        "cols = {'race' : race_classes, 'score0' : score0, 'score1' : score1, 'rec0' : rec0, 'rec1' : rec1}\n",
        "df_percent_race = pd.DataFrame(data=cols)"
      ],
      "execution_count": 15,
      "outputs": []
    },
    {
      "cell_type": "code",
      "metadata": {
        "colab": {
          "base_uri": "https://localhost:8080/",
          "height": 232
        },
        "id": "aymsXBX-wrNa",
        "outputId": "acd75ae3-1c57-45a0-a0ad-2d4fc5ea9cb2"
      },
      "source": [
        "#calculate % of variables\n",
        "percentage_sc0 = []\n",
        "percentage_sc1 = []\n",
        "\n",
        "percentage_rec0 = []\n",
        "percentage_rec1 = []\n",
        "\n",
        "for i in range(len(df_percent_race)):\n",
        "  value_sc1 = (score1[i] * 100)/(score0[i] + score1[i])\n",
        "  value_sc0 = (score0[i] * 100)/(score1[i] + score0[i])\n",
        "  value_rec1 = (rec1[i] * 100)/(rec0[i] + rec1[i])\n",
        "  value_rec0 = (rec0[i] * 100)/(rec1[i] + rec0[i])\n",
        "  percentage_sc0.append(value_sc0)\n",
        "  percentage_sc1.append(value_sc1)\n",
        "  percentage_rec0.append(value_rec0)\n",
        "  percentage_rec1.append(value_rec1)\n",
        "\n",
        "df_percent_race['%_score0'] = percentage_sc0\n",
        "df_percent_race['%_score1'] = percentage_sc1\n",
        "df_percent_race['%_rec0'] = percentage_rec0\n",
        "df_percent_race['%_rec1'] = percentage_rec1\n",
        "\n",
        "df_percent_race"
      ],
      "execution_count": 16,
      "outputs": [
        {
          "output_type": "execute_result",
          "data": {
            "text/html": [
              "<div>\n",
              "<style scoped>\n",
              "    .dataframe tbody tr th:only-of-type {\n",
              "        vertical-align: middle;\n",
              "    }\n",
              "\n",
              "    .dataframe tbody tr th {\n",
              "        vertical-align: top;\n",
              "    }\n",
              "\n",
              "    .dataframe thead th {\n",
              "        text-align: right;\n",
              "    }\n",
              "</style>\n",
              "<table border=\"1\" class=\"dataframe\">\n",
              "  <thead>\n",
              "    <tr style=\"text-align: right;\">\n",
              "      <th></th>\n",
              "      <th>race</th>\n",
              "      <th>score0</th>\n",
              "      <th>score1</th>\n",
              "      <th>rec0</th>\n",
              "      <th>rec1</th>\n",
              "      <th>%_score0</th>\n",
              "      <th>%_score1</th>\n",
              "      <th>%_rec0</th>\n",
              "      <th>%_rec1</th>\n",
              "    </tr>\n",
              "  </thead>\n",
              "  <tbody>\n",
              "    <tr>\n",
              "      <th>0</th>\n",
              "      <td>Other</td>\n",
              "      <td>298</td>\n",
              "      <td>79</td>\n",
              "      <td>244</td>\n",
              "      <td>133</td>\n",
              "      <td>79.045093</td>\n",
              "      <td>20.954907</td>\n",
              "      <td>64.721485</td>\n",
              "      <td>35.278515</td>\n",
              "    </tr>\n",
              "    <tr>\n",
              "      <th>1</th>\n",
              "      <td>African-American</td>\n",
              "      <td>1522</td>\n",
              "      <td>2174</td>\n",
              "      <td>1795</td>\n",
              "      <td>1901</td>\n",
              "      <td>41.179654</td>\n",
              "      <td>58.820346</td>\n",
              "      <td>48.566017</td>\n",
              "      <td>51.433983</td>\n",
              "    </tr>\n",
              "    <tr>\n",
              "      <th>2</th>\n",
              "      <td>Caucasian</td>\n",
              "      <td>1600</td>\n",
              "      <td>854</td>\n",
              "      <td>1488</td>\n",
              "      <td>966</td>\n",
              "      <td>65.199674</td>\n",
              "      <td>34.800326</td>\n",
              "      <td>60.635697</td>\n",
              "      <td>39.364303</td>\n",
              "    </tr>\n",
              "    <tr>\n",
              "      <th>3</th>\n",
              "      <td>Hispanic</td>\n",
              "      <td>447</td>\n",
              "      <td>190</td>\n",
              "      <td>405</td>\n",
              "      <td>232</td>\n",
              "      <td>70.172684</td>\n",
              "      <td>29.827316</td>\n",
              "      <td>63.579278</td>\n",
              "      <td>36.420722</td>\n",
              "    </tr>\n",
              "    <tr>\n",
              "      <th>4</th>\n",
              "      <td>Native American</td>\n",
              "      <td>6</td>\n",
              "      <td>12</td>\n",
              "      <td>8</td>\n",
              "      <td>10</td>\n",
              "      <td>33.333333</td>\n",
              "      <td>66.666667</td>\n",
              "      <td>44.444444</td>\n",
              "      <td>55.555556</td>\n",
              "    </tr>\n",
              "    <tr>\n",
              "      <th>5</th>\n",
              "      <td>Asian</td>\n",
              "      <td>24</td>\n",
              "      <td>8</td>\n",
              "      <td>23</td>\n",
              "      <td>9</td>\n",
              "      <td>75.000000</td>\n",
              "      <td>25.000000</td>\n",
              "      <td>71.875000</td>\n",
              "      <td>28.125000</td>\n",
              "    </tr>\n",
              "  </tbody>\n",
              "</table>\n",
              "</div>"
            ],
            "text/plain": [
              "               race  score0  score1  ...   %_score1     %_rec0     %_rec1\n",
              "0             Other     298      79  ...  20.954907  64.721485  35.278515\n",
              "1  African-American    1522    2174  ...  58.820346  48.566017  51.433983\n",
              "2         Caucasian    1600     854  ...  34.800326  60.635697  39.364303\n",
              "3          Hispanic     447     190  ...  29.827316  63.579278  36.420722\n",
              "4   Native American       6      12  ...  66.666667  44.444444  55.555556\n",
              "5             Asian      24       8  ...  25.000000  71.875000  28.125000\n",
              "\n",
              "[6 rows x 9 columns]"
            ]
          },
          "metadata": {
            "tags": []
          },
          "execution_count": 16
        }
      ]
    },
    {
      "cell_type": "markdown",
      "metadata": {
        "id": "Zfv00QOl0jwu"
      },
      "source": [
        "The main observed disparities in the dataset are that African-American and Native Americans have the highest proportion of higher risk score and recividism. So, they have the labelled highest reincidence risk. With this, it is now time to further with the bias assessment of the predictions using Aequitas."
      ]
    },
    {
      "cell_type": "markdown",
      "metadata": {
        "id": "dRVfWbjQRnzl"
      },
      "source": [
        "<b> Note: <b> The code from the Aequitas tool has been reused from the COMPAS notebook: https://colab.research.google.com/github/dssg/aequitas/blob/update_compas_notebook/docs/source/examples/compas_demo.ipynb#scrollTo=201dYvnoRGWG"
      ]
    },
    {
      "cell_type": "code",
      "metadata": {
        "id": "ojH4OuqagC2z"
      },
      "source": [
        "#define df with variables to audit\n",
        "g = Group()\n",
        "xtab, _ = g.get_crosstabs(df_race)\n",
        "absolute_metrics = g.list_absolute_metrics(xtab)"
      ],
      "execution_count": null,
      "outputs": []
    },
    {
      "cell_type": "code",
      "metadata": {
        "id": "AeL8xqoue89U"
      },
      "source": [
        "#indicators to take into account for further figures\n",
        "metrics = ['fpr','fdr', 'fnr']\n",
        "disparity_tolerance = 1.25"
      ],
      "execution_count": 18,
      "outputs": []
    },
    {
      "cell_type": "code",
      "metadata": {
        "colab": {
          "base_uri": "https://localhost:8080/",
          "height": 232
        },
        "id": "RH4UcUezgC69",
        "outputId": "6ab4c882-23c7-4899-85dd-3e71be4438ef"
      },
      "source": [
        "# Compute Group Counts bias metrics\n",
        "xtab[[col for col in xtab.columns if col not in absolute_metrics]]"
      ],
      "execution_count": 19,
      "outputs": [
        {
          "output_type": "execute_result",
          "data": {
            "text/html": [
              "<div>\n",
              "<style scoped>\n",
              "    .dataframe tbody tr th:only-of-type {\n",
              "        vertical-align: middle;\n",
              "    }\n",
              "\n",
              "    .dataframe tbody tr th {\n",
              "        vertical-align: top;\n",
              "    }\n",
              "\n",
              "    .dataframe thead th {\n",
              "        text-align: right;\n",
              "    }\n",
              "</style>\n",
              "<table border=\"1\" class=\"dataframe\">\n",
              "  <thead>\n",
              "    <tr style=\"text-align: right;\">\n",
              "      <th></th>\n",
              "      <th>model_id</th>\n",
              "      <th>score_threshold</th>\n",
              "      <th>k</th>\n",
              "      <th>attribute_name</th>\n",
              "      <th>attribute_value</th>\n",
              "      <th>pp</th>\n",
              "      <th>pn</th>\n",
              "      <th>fp</th>\n",
              "      <th>fn</th>\n",
              "      <th>tn</th>\n",
              "      <th>tp</th>\n",
              "      <th>group_label_pos</th>\n",
              "      <th>group_label_neg</th>\n",
              "      <th>group_size</th>\n",
              "      <th>total_entities</th>\n",
              "    </tr>\n",
              "  </thead>\n",
              "  <tbody>\n",
              "    <tr>\n",
              "      <th>0</th>\n",
              "      <td>0</td>\n",
              "      <td>binary 0/1</td>\n",
              "      <td>3317</td>\n",
              "      <td>race</td>\n",
              "      <td>African-American</td>\n",
              "      <td>2174</td>\n",
              "      <td>1522</td>\n",
              "      <td>805</td>\n",
              "      <td>532</td>\n",
              "      <td>990</td>\n",
              "      <td>1369</td>\n",
              "      <td>1901</td>\n",
              "      <td>1795</td>\n",
              "      <td>3696</td>\n",
              "      <td>7214</td>\n",
              "    </tr>\n",
              "    <tr>\n",
              "      <th>1</th>\n",
              "      <td>0</td>\n",
              "      <td>binary 0/1</td>\n",
              "      <td>3317</td>\n",
              "      <td>race</td>\n",
              "      <td>Asian</td>\n",
              "      <td>8</td>\n",
              "      <td>24</td>\n",
              "      <td>2</td>\n",
              "      <td>3</td>\n",
              "      <td>21</td>\n",
              "      <td>6</td>\n",
              "      <td>9</td>\n",
              "      <td>23</td>\n",
              "      <td>32</td>\n",
              "      <td>7214</td>\n",
              "    </tr>\n",
              "    <tr>\n",
              "      <th>2</th>\n",
              "      <td>0</td>\n",
              "      <td>binary 0/1</td>\n",
              "      <td>3317</td>\n",
              "      <td>race</td>\n",
              "      <td>Caucasian</td>\n",
              "      <td>854</td>\n",
              "      <td>1600</td>\n",
              "      <td>349</td>\n",
              "      <td>461</td>\n",
              "      <td>1139</td>\n",
              "      <td>505</td>\n",
              "      <td>966</td>\n",
              "      <td>1488</td>\n",
              "      <td>2454</td>\n",
              "      <td>7214</td>\n",
              "    </tr>\n",
              "    <tr>\n",
              "      <th>3</th>\n",
              "      <td>0</td>\n",
              "      <td>binary 0/1</td>\n",
              "      <td>3317</td>\n",
              "      <td>race</td>\n",
              "      <td>Hispanic</td>\n",
              "      <td>190</td>\n",
              "      <td>447</td>\n",
              "      <td>87</td>\n",
              "      <td>129</td>\n",
              "      <td>318</td>\n",
              "      <td>103</td>\n",
              "      <td>232</td>\n",
              "      <td>405</td>\n",
              "      <td>637</td>\n",
              "      <td>7214</td>\n",
              "    </tr>\n",
              "    <tr>\n",
              "      <th>4</th>\n",
              "      <td>0</td>\n",
              "      <td>binary 0/1</td>\n",
              "      <td>3317</td>\n",
              "      <td>race</td>\n",
              "      <td>Native American</td>\n",
              "      <td>12</td>\n",
              "      <td>6</td>\n",
              "      <td>3</td>\n",
              "      <td>1</td>\n",
              "      <td>5</td>\n",
              "      <td>9</td>\n",
              "      <td>10</td>\n",
              "      <td>8</td>\n",
              "      <td>18</td>\n",
              "      <td>7214</td>\n",
              "    </tr>\n",
              "    <tr>\n",
              "      <th>5</th>\n",
              "      <td>0</td>\n",
              "      <td>binary 0/1</td>\n",
              "      <td>3317</td>\n",
              "      <td>race</td>\n",
              "      <td>Other</td>\n",
              "      <td>79</td>\n",
              "      <td>298</td>\n",
              "      <td>36</td>\n",
              "      <td>90</td>\n",
              "      <td>208</td>\n",
              "      <td>43</td>\n",
              "      <td>133</td>\n",
              "      <td>244</td>\n",
              "      <td>377</td>\n",
              "      <td>7214</td>\n",
              "    </tr>\n",
              "  </tbody>\n",
              "</table>\n",
              "</div>"
            ],
            "text/plain": [
              "   model_id score_threshold     k  ... group_label_neg group_size  total_entities\n",
              "0         0      binary 0/1  3317  ...            1795       3696            7214\n",
              "1         0      binary 0/1  3317  ...              23         32            7214\n",
              "2         0      binary 0/1  3317  ...            1488       2454            7214\n",
              "3         0      binary 0/1  3317  ...             405        637            7214\n",
              "4         0      binary 0/1  3317  ...               8         18            7214\n",
              "5         0      binary 0/1  3317  ...             244        377            7214\n",
              "\n",
              "[6 rows x 15 columns]"
            ]
          },
          "metadata": {
            "tags": []
          },
          "execution_count": 19
        }
      ]
    },
    {
      "cell_type": "markdown",
      "metadata": {
        "id": "eoPiXuLvUPra"
      },
      "source": [
        "For a better understanding and interpretation, the group value bias metrics is computed below."
      ]
    },
    {
      "cell_type": "code",
      "metadata": {
        "id": "EfEQyPXGIPEy",
        "colab": {
          "base_uri": "https://localhost:8080/",
          "height": 232
        },
        "outputId": "2f5b3af6-9f1e-4ef9-8602-fef66cf35d8d"
      },
      "source": [
        "# Group value bias metrics\n",
        "xtab[['attribute_name', 'attribute_value'] + absolute_metrics].round(2)"
      ],
      "execution_count": 20,
      "outputs": [
        {
          "output_type": "execute_result",
          "data": {
            "text/html": [
              "<div>\n",
              "<style scoped>\n",
              "    .dataframe tbody tr th:only-of-type {\n",
              "        vertical-align: middle;\n",
              "    }\n",
              "\n",
              "    .dataframe tbody tr th {\n",
              "        vertical-align: top;\n",
              "    }\n",
              "\n",
              "    .dataframe thead th {\n",
              "        text-align: right;\n",
              "    }\n",
              "</style>\n",
              "<table border=\"1\" class=\"dataframe\">\n",
              "  <thead>\n",
              "    <tr style=\"text-align: right;\">\n",
              "      <th></th>\n",
              "      <th>attribute_name</th>\n",
              "      <th>attribute_value</th>\n",
              "      <th>tpr</th>\n",
              "      <th>tnr</th>\n",
              "      <th>for</th>\n",
              "      <th>fdr</th>\n",
              "      <th>fpr</th>\n",
              "      <th>fnr</th>\n",
              "      <th>npv</th>\n",
              "      <th>precision</th>\n",
              "      <th>ppr</th>\n",
              "      <th>pprev</th>\n",
              "      <th>prev</th>\n",
              "    </tr>\n",
              "  </thead>\n",
              "  <tbody>\n",
              "    <tr>\n",
              "      <th>0</th>\n",
              "      <td>race</td>\n",
              "      <td>African-American</td>\n",
              "      <td>0.72</td>\n",
              "      <td>0.55</td>\n",
              "      <td>0.35</td>\n",
              "      <td>0.37</td>\n",
              "      <td>0.45</td>\n",
              "      <td>0.28</td>\n",
              "      <td>0.65</td>\n",
              "      <td>0.63</td>\n",
              "      <td>0.66</td>\n",
              "      <td>0.59</td>\n",
              "      <td>0.51</td>\n",
              "    </tr>\n",
              "    <tr>\n",
              "      <th>1</th>\n",
              "      <td>race</td>\n",
              "      <td>Asian</td>\n",
              "      <td>0.67</td>\n",
              "      <td>0.91</td>\n",
              "      <td>0.12</td>\n",
              "      <td>0.25</td>\n",
              "      <td>0.09</td>\n",
              "      <td>0.33</td>\n",
              "      <td>0.88</td>\n",
              "      <td>0.75</td>\n",
              "      <td>0.00</td>\n",
              "      <td>0.25</td>\n",
              "      <td>0.28</td>\n",
              "    </tr>\n",
              "    <tr>\n",
              "      <th>2</th>\n",
              "      <td>race</td>\n",
              "      <td>Caucasian</td>\n",
              "      <td>0.52</td>\n",
              "      <td>0.77</td>\n",
              "      <td>0.29</td>\n",
              "      <td>0.41</td>\n",
              "      <td>0.23</td>\n",
              "      <td>0.48</td>\n",
              "      <td>0.71</td>\n",
              "      <td>0.59</td>\n",
              "      <td>0.26</td>\n",
              "      <td>0.35</td>\n",
              "      <td>0.39</td>\n",
              "    </tr>\n",
              "    <tr>\n",
              "      <th>3</th>\n",
              "      <td>race</td>\n",
              "      <td>Hispanic</td>\n",
              "      <td>0.44</td>\n",
              "      <td>0.79</td>\n",
              "      <td>0.29</td>\n",
              "      <td>0.46</td>\n",
              "      <td>0.21</td>\n",
              "      <td>0.56</td>\n",
              "      <td>0.71</td>\n",
              "      <td>0.54</td>\n",
              "      <td>0.06</td>\n",
              "      <td>0.30</td>\n",
              "      <td>0.36</td>\n",
              "    </tr>\n",
              "    <tr>\n",
              "      <th>4</th>\n",
              "      <td>race</td>\n",
              "      <td>Native American</td>\n",
              "      <td>0.90</td>\n",
              "      <td>0.62</td>\n",
              "      <td>0.17</td>\n",
              "      <td>0.25</td>\n",
              "      <td>0.38</td>\n",
              "      <td>0.10</td>\n",
              "      <td>0.83</td>\n",
              "      <td>0.75</td>\n",
              "      <td>0.00</td>\n",
              "      <td>0.67</td>\n",
              "      <td>0.56</td>\n",
              "    </tr>\n",
              "    <tr>\n",
              "      <th>5</th>\n",
              "      <td>race</td>\n",
              "      <td>Other</td>\n",
              "      <td>0.32</td>\n",
              "      <td>0.85</td>\n",
              "      <td>0.30</td>\n",
              "      <td>0.46</td>\n",
              "      <td>0.15</td>\n",
              "      <td>0.68</td>\n",
              "      <td>0.70</td>\n",
              "      <td>0.54</td>\n",
              "      <td>0.02</td>\n",
              "      <td>0.21</td>\n",
              "      <td>0.35</td>\n",
              "    </tr>\n",
              "  </tbody>\n",
              "</table>\n",
              "</div>"
            ],
            "text/plain": [
              "  attribute_name   attribute_value   tpr   tnr  ...  precision   ppr  pprev  prev\n",
              "0           race  African-American  0.72  0.55  ...       0.63  0.66   0.59  0.51\n",
              "1           race             Asian  0.67  0.91  ...       0.75  0.00   0.25  0.28\n",
              "2           race         Caucasian  0.52  0.77  ...       0.59  0.26   0.35  0.39\n",
              "3           race          Hispanic  0.44  0.79  ...       0.54  0.06   0.30  0.36\n",
              "4           race   Native American  0.90  0.62  ...       0.75  0.00   0.67  0.56\n",
              "5           race             Other  0.32  0.85  ...       0.54  0.02   0.21  0.35\n",
              "\n",
              "[6 rows x 13 columns]"
            ]
          },
          "metadata": {
            "tags": []
          },
          "execution_count": 20
        }
      ]
    },
    {
      "cell_type": "markdown",
      "metadata": {
        "id": "j3K-Ewk-UYx_"
      },
      "source": [
        "According to the provided table above, African-American, followed by Native American, are by far the racial groups with higher False Positive Rate (45% and 38% respectively). Therefore, the model tents to wrongly label these two ethnical groups as high risk, especially the African-Americans. On the other side, Caucasian and Other are the least affected when it comes to positive wrongly labelling (fpr rate of 21% and 15% respectively). <br>\n",
        "Regarding false negative rates (rate of negatives who should have been classified as positive), the Caucasian group is again in a privileged position with a significantly high false negative rate of 48% - also with Hispanic (56%) and Other (68%)-. On the other side, the least false negatives fall on the groups of Native American (10%) and African-American (28%). <br> \n",
        "For a more visual understanding, a plot referring bias absolute metrics taking into reference the Caucasian is computed below. <br> Note: It is just a reference, since the graph is absolute. In the disparities, the most \"privileged\" races in the model will be compared; Hispanic and Caucasian.\n"
      ]
    },
    {
      "cell_type": "code",
      "metadata": {
        "colab": {
          "base_uri": "https://localhost:8080/",
          "height": 513
        },
        "id": "t3FABYAeeh29",
        "outputId": "fd1c7423-1e29-4a62-8ec7-866d200ef384"
      },
      "source": [
        "#absolute metrics plot - reference Caucasian\n",
        "b = Bias()\n",
        "bdf = b.get_disparity_predefined_groups(xtab, original_df=df_race, \n",
        "                                        ref_groups_dict={'race':'Caucasian'}, \n",
        "                                        alpha=0.05, check_significance=True, \n",
        "                                        mask_significance=True)\n",
        "\n",
        "ap.absolute(bdf, metrics, 'race', fairness_threshold = disparity_tolerance)"
      ],
      "execution_count": 22,
      "outputs": [
        {
          "output_type": "stream",
          "text": [
            "get_disparity_predefined_group()\n"
          ],
          "name": "stdout"
        },
        {
          "output_type": "execute_result",
          "data": {
            "text/plain": [
              "alt.LayerChart(...)"
            ],
            "text/html": [
              "\n",
              "<div id=\"altair-viz-e805fb09feb24e34895bc009ba23f151\"></div>\n",
              "<script type=\"text/javascript\">\n",
              "  (function(spec, embedOpt){\n",
              "    let outputDiv = document.currentScript.previousElementSibling;\n",
              "    if (outputDiv.id !== \"altair-viz-e805fb09feb24e34895bc009ba23f151\") {\n",
              "      outputDiv = document.getElementById(\"altair-viz-e805fb09feb24e34895bc009ba23f151\");\n",
              "    }\n",
              "    const paths = {\n",
              "      \"vega\": \"https://cdn.jsdelivr.net/npm//vega@5?noext\",\n",
              "      \"vega-lib\": \"https://cdn.jsdelivr.net/npm//vega-lib?noext\",\n",
              "      \"vega-lite\": \"https://cdn.jsdelivr.net/npm//vega-lite@4.8.1?noext\",\n",
              "      \"vega-embed\": \"https://cdn.jsdelivr.net/npm//vega-embed@6?noext\",\n",
              "    };\n",
              "\n",
              "    function loadScript(lib) {\n",
              "      return new Promise(function(resolve, reject) {\n",
              "        var s = document.createElement('script');\n",
              "        s.src = paths[lib];\n",
              "        s.async = true;\n",
              "        s.onload = () => resolve(paths[lib]);\n",
              "        s.onerror = () => reject(`Error loading script: ${paths[lib]}`);\n",
              "        document.getElementsByTagName(\"head\")[0].appendChild(s);\n",
              "      });\n",
              "    }\n",
              "\n",
              "    function showError(err) {\n",
              "      outputDiv.innerHTML = `<div class=\"error\" style=\"color:red;\">${err}</div>`;\n",
              "      throw err;\n",
              "    }\n",
              "\n",
              "    function displayChart(vegaEmbed) {\n",
              "      vegaEmbed(outputDiv, spec, embedOpt)\n",
              "        .catch(err => showError(`Javascript Error: ${err.message}<br>This usually means there's a typo in your chart specification. See the javascript console for the full traceback.`));\n",
              "    }\n",
              "\n",
              "    if(typeof define === \"function\" && define.amd) {\n",
              "      requirejs.config({paths});\n",
              "      require([\"vega-embed\"], displayChart, err => showError(`Error loading script: ${err.message}`));\n",
              "    } else if (typeof vegaEmbed === \"function\") {\n",
              "      displayChart(vegaEmbed);\n",
              "    } else {\n",
              "      loadScript(\"vega\")\n",
              "        .then(() => loadScript(\"vega-lite\"))\n",
              "        .then(() => loadScript(\"vega-embed\"))\n",
              "        .catch(showError)\n",
              "        .then(() => displayChart(vegaEmbed));\n",
              "    }\n",
              "  })({\"config\": {\"view\": {\"continuousWidth\": 400, \"continuousHeight\": 300, \"strokeWidth\": 0}, \"axisLeft\": {\"labelColor\": \"rgb(117,117,117)\", \"labelFont\": \"Arial\", \"labelFontSize\": 16}, \"title\": {\"align\": \"center\", \"baseline\": \"middle\", \"color\": \"rgb(117,117,117)\", \"font\": \"Arial\", \"fontSize\": 20, \"fontWeight\": \"bold\"}}, \"layer\": [{\"data\": {\"name\": \"data-b755ca1d45f2e5f333e1201c5a225c15\"}, \"mark\": {\"type\": \"rule\", \"stroke\": \"rgb(117,117,117)\", \"strokeWidth\": 1.25, \"tooltip\": \"\"}, \"encoding\": {\"x\": {\"type\": \"quantitative\", \"field\": \"start\", \"scale\": {\"domain\": [0, 1], \"range\": [40.0, 760.0]}}, \"x2\": {\"field\": \"end\"}, \"y\": {\"type\": \"nominal\", \"axis\": {\"domain\": false, \"labelAngle\": 0, \"labelPadding\": -30, \"orient\": \"left\", \"ticks\": false, \"title\": \"\"}, \"field\": \"y_position\", \"scale\": {\"domain\": [\"FPR\", \"FDR\", \"FNR\"], \"range\": [42.5, 382.5]}}}}, {\"data\": {\"name\": \"data-6cfe259518f6c7b358d8f836a73e6b7f\"}, \"mark\": {\"type\": \"rule\", \"stroke\": \"rgb(117,117,117)\", \"strokeWidth\": 1.25, \"tooltip\": \"\"}, \"encoding\": {\"x\": {\"type\": \"quantitative\", \"field\": \"x_position\", \"scale\": {\"domain\": [0, 1], \"range\": [40.0, 760.0]}}, \"y\": {\"value\": 42.5}, \"y2\": {\"value\": 382.5}}}, {\"data\": {\"name\": \"data-60ed1133fa688d151d36705a369482e0\"}, \"mark\": {\"type\": \"text\", \"align\": \"center\", \"color\": \"rgb(117,117,117)\", \"font\": \"Arial\", \"fontSize\": 12, \"fontWeight\": \"normal\", \"tooltip\": \"\"}, \"encoding\": {\"text\": {\"type\": \"nominal\", \"field\": \"value\"}, \"x\": {\"type\": \"quantitative\", \"field\": \"value\", \"scale\": {\"domain\": [0, 1], \"range\": [40.0, 760.0]}}, \"y\": {\"value\": 29.749999999999996}}}, {\"layer\": [{\"mark\": {\"type\": \"rect\", \"opacity\": 0.8, \"stroke\": \"rgb(217, 46, 28)\", \"strokeWidth\": 1.25, \"tooltip\": \"\"}, \"encoding\": {\"x\": {\"type\": \"quantitative\", \"field\": \"lower_threshold_value\", \"scale\": {\"domain\": [0, 1], \"range\": [40.0, 760.0]}}, \"x2\": {\"field\": \"lower_threshold_value\"}, \"y\": {\"type\": \"nominal\", \"axis\": {\"domain\": false, \"grid\": false, \"labels\": false, \"ticks\": false, \"title\": \" \"}, \"field\": \"metric\", \"scale\": {\"domain\": [\"FPR\", \"FDR\", \"FNR\"], \"range\": [42.5, 382.5]}}}}, {\"mark\": {\"type\": \"rect\", \"opacity\": 0.8, \"stroke\": \"rgb(217, 46, 28)\", \"strokeWidth\": 1.25, \"tooltip\": \"\"}, \"encoding\": {\"x\": {\"type\": \"quantitative\", \"field\": \"upper_threshold_value\", \"scale\": {\"domain\": [0, 1], \"range\": [40.0, 760.0]}}, \"x2\": {\"field\": \"upper_threshold_value\"}, \"y\": {\"type\": \"nominal\", \"axis\": {\"domain\": false, \"grid\": false, \"labels\": false, \"ticks\": false, \"title\": \" \"}, \"field\": \"metric\", \"scale\": {\"domain\": [\"FPR\", \"FDR\", \"FNR\"], \"range\": [42.5, 382.5]}}}}, {\"layer\": [{\"mark\": {\"type\": \"rect\", \"fill\": \"rgb(217, 46, 28)\", \"opacity\": 0.1, \"tooltip\": \"\"}, \"encoding\": {\"x\": {\"type\": \"quantitative\", \"field\": \"lower_threshold_value\", \"scale\": {\"domain\": [0, 1], \"range\": [40.0, 760.0]}}, \"x2\": {\"field\": \"lower_end\"}, \"y\": {\"type\": \"nominal\", \"axis\": {\"domain\": false, \"grid\": false, \"labels\": false, \"ticks\": false, \"title\": \" \"}, \"field\": \"metric\", \"scale\": {\"domain\": [\"FPR\", \"FDR\", \"FNR\"], \"range\": [42.5, 382.5]}}}}, {\"mark\": {\"type\": \"rect\", \"fill\": \"rgb(217, 46, 28)\", \"opacity\": 0.1, \"tooltip\": \"\"}, \"encoding\": {\"x\": {\"type\": \"quantitative\", \"field\": \"upper_threshold_value\", \"scale\": {\"domain\": [0, 1], \"range\": [40.0, 760.0]}}, \"x2\": {\"field\": \"upper_end\"}, \"y\": {\"type\": \"nominal\", \"axis\": {\"domain\": false, \"grid\": false, \"labels\": false, \"ticks\": false, \"title\": \" \"}, \"field\": \"metric\", \"scale\": {\"domain\": [\"FPR\", \"FDR\", \"FNR\"], \"range\": [42.5, 382.5]}}}}]}, {\"data\": {\"name\": \"data-79dd248bdaa0ea02c535240e8ad022c8\"}, \"mark\": {\"type\": \"text\", \"align\": \"left\", \"baseline\": \"top\", \"fill\": \"rgb(217, 46, 28)\", \"font\": \"Arial\", \"fontSize\": 12, \"fontWeight\": \"normal\", \"tooltip\": \"\"}, \"encoding\": {\"text\": {\"value\": \"The metric value for any group should not be 1.25 (or more) times smaller or larger than that of the reference group Caucasian.\"}, \"x\": {\"value\": 0}, \"y\": {\"value\": 396.6666666666667}}}], \"data\": {\"name\": \"data-d0a914c1e4f096c9940a7beb57db8fdd\"}}, {\"layer\": [{\"mark\": \"circle\"}, {\"data\": {\"name\": \"data-f83e8c1a455488150d174dd50dbd3cae\"}, \"mark\": {\"type\": \"circle\", \"opacity\": 0.2}, \"encoding\": {\"color\": {\"condition\": {\"type\": \"nominal\", \"field\": \"attribute_value\", \"legend\": null, \"scale\": {\"domain\": [\"Caucasian\", \"African-American\", \"Asian\", \"Hispanic\", \"Native American\", \"Other\"], \"range\": [\"rgb(117,117,117)\", \"rgb(100, 143, 255)\", \"rgb(254, 97, 0)\", \"rgb(220, 38, 127)\", \"rgb(255, 176, 0)\", \"rgb(120, 94, 240)\"]}, \"selection\": \"selector009\"}, \"value\": \"rgb(224,224,224)\"}, \"size\": {\"type\": \"quantitative\", \"field\": \"group_size\", \"legend\": null, \"scale\": {\"domain\": [0, 4435.2], \"range\": [0, 2522.000769131806]}}, \"tooltip\": [{\"type\": \"nominal\", \"field\": \"attribute_value\", \"title\": \"Group\"}, {\"type\": \"nominal\", \"field\": \"tooltip_group_size\", \"title\": \"Group Size\"}, {\"type\": \"nominal\", \"field\": \"tooltip_disparity_explanation_fpr\", \"title\": \"Disparity\"}, {\"type\": \"quantitative\", \"field\": \"fpr\", \"format\": \".2f\", \"title\": \"FPR\"}], \"x\": {\"type\": \"quantitative\", \"axis\": {\"domain\": false, \"labels\": false, \"ticks\": false, \"title\": null, \"values\": [0.25, 0.5, 0.75]}, \"field\": \"fpr\", \"scale\": {\"domain\": [0, 1], \"range\": [40.0, 760.0]}}, \"y\": {\"type\": \"nominal\", \"axis\": {\"domain\": false, \"grid\": false, \"labels\": false, \"ticks\": false, \"title\": \" \"}, \"field\": \"metric_variable\", \"scale\": {\"domain\": [\"FPR\", \"FDR\", \"FNR\"], \"range\": [42.5, 382.5]}}}, \"selection\": {\"selector011\": {\"type\": \"multi\", \"empty\": \"all\", \"fields\": [\"attribute_value\"]}}, \"transform\": [{\"calculate\": \"'FPR'\", \"as\": \"metric_variable\"}]}, {\"data\": {\"name\": \"data-f83e8c1a455488150d174dd50dbd3cae\"}, \"mark\": {\"type\": \"circle\", \"opacity\": 0.2}, \"encoding\": {\"color\": {\"condition\": {\"type\": \"nominal\", \"field\": \"attribute_value\", \"legend\": null, \"scale\": {\"domain\": [\"Caucasian\", \"African-American\", \"Asian\", \"Hispanic\", \"Native American\", \"Other\"], \"range\": [\"rgb(117,117,117)\", \"rgb(100, 143, 255)\", \"rgb(254, 97, 0)\", \"rgb(220, 38, 127)\", \"rgb(255, 176, 0)\", \"rgb(120, 94, 240)\"]}, \"selection\": \"selector009\"}, \"value\": \"rgb(224,224,224)\"}, \"size\": {\"type\": \"quantitative\", \"field\": \"group_size\", \"legend\": null, \"scale\": {\"domain\": [0, 4435.2], \"range\": [0, 2522.000769131806]}}, \"tooltip\": [{\"type\": \"nominal\", \"field\": \"attribute_value\", \"title\": \"Group\"}, {\"type\": \"nominal\", \"field\": \"tooltip_group_size\", \"title\": \"Group Size\"}, {\"type\": \"nominal\", \"field\": \"tooltip_disparity_explanation_fdr\", \"title\": \"Disparity\"}, {\"type\": \"quantitative\", \"field\": \"fdr\", \"format\": \".2f\", \"title\": \"FDR\"}], \"x\": {\"type\": \"quantitative\", \"axis\": {\"domain\": false, \"labels\": false, \"ticks\": false, \"title\": null, \"values\": [0.25, 0.5, 0.75]}, \"field\": \"fdr\", \"scale\": {\"domain\": [0, 1], \"range\": [40.0, 760.0]}}, \"y\": {\"type\": \"nominal\", \"axis\": {\"domain\": false, \"grid\": false, \"labels\": false, \"ticks\": false, \"title\": \" \"}, \"field\": \"metric_variable\", \"scale\": {\"domain\": [\"FPR\", \"FDR\", \"FNR\"], \"range\": [42.5, 382.5]}}}, \"selection\": {\"selector013\": {\"type\": \"multi\", \"empty\": \"all\", \"fields\": [\"attribute_value\"]}}, \"transform\": [{\"calculate\": \"'FDR'\", \"as\": \"metric_variable\"}]}, {\"data\": {\"name\": \"data-f83e8c1a455488150d174dd50dbd3cae\"}, \"mark\": {\"type\": \"circle\", \"opacity\": 0.2}, \"encoding\": {\"color\": {\"condition\": {\"type\": \"nominal\", \"field\": \"attribute_value\", \"legend\": null, \"scale\": {\"domain\": [\"Caucasian\", \"African-American\", \"Asian\", \"Hispanic\", \"Native American\", \"Other\"], \"range\": [\"rgb(117,117,117)\", \"rgb(100, 143, 255)\", \"rgb(254, 97, 0)\", \"rgb(220, 38, 127)\", \"rgb(255, 176, 0)\", \"rgb(120, 94, 240)\"]}, \"selection\": \"selector009\"}, \"value\": \"rgb(224,224,224)\"}, \"size\": {\"type\": \"quantitative\", \"field\": \"group_size\", \"legend\": null, \"scale\": {\"domain\": [0, 4435.2], \"range\": [0, 2522.000769131806]}}, \"tooltip\": [{\"type\": \"nominal\", \"field\": \"attribute_value\", \"title\": \"Group\"}, {\"type\": \"nominal\", \"field\": \"tooltip_group_size\", \"title\": \"Group Size\"}, {\"type\": \"nominal\", \"field\": \"tooltip_disparity_explanation_fnr\", \"title\": \"Disparity\"}, {\"type\": \"quantitative\", \"field\": \"fnr\", \"format\": \".2f\", \"title\": \"FNR\"}], \"x\": {\"type\": \"quantitative\", \"axis\": {\"domain\": false, \"labels\": false, \"ticks\": false, \"title\": null, \"values\": [0.25, 0.5, 0.75]}, \"field\": \"fnr\", \"scale\": {\"domain\": [0, 1], \"range\": [40.0, 760.0]}}, \"y\": {\"type\": \"nominal\", \"axis\": {\"domain\": false, \"grid\": false, \"labels\": false, \"ticks\": false, \"title\": \" \"}, \"field\": \"metric_variable\", \"scale\": {\"domain\": [\"FPR\", \"FDR\", \"FNR\"], \"range\": [42.5, 382.5]}}}, \"selection\": {\"selector015\": {\"type\": \"multi\", \"empty\": \"all\", \"fields\": [\"attribute_value\"]}}, \"transform\": [{\"calculate\": \"'FNR'\", \"as\": \"metric_variable\"}]}, {\"layer\": [{\"mark\": \"point\"}, {\"data\": {\"name\": \"data-f83e8c1a455488150d174dd50dbd3cae\"}, \"mark\": {\"type\": \"point\", \"filled\": true, \"size\": 60}, \"encoding\": {\"color\": {\"condition\": {\"type\": \"nominal\", \"field\": \"attribute_value\", \"legend\": null, \"scale\": {\"domain\": [\"Caucasian\", \"African-American\", \"Asian\", \"Hispanic\", \"Native American\", \"Other\"], \"range\": [\"rgb(117,117,117)\", \"rgb(100, 143, 255)\", \"rgb(254, 97, 0)\", \"rgb(220, 38, 127)\", \"rgb(255, 176, 0)\", \"rgb(120, 94, 240)\"]}, \"selection\": \"selector009\"}, \"value\": \"rgb(224,224,224)\"}, \"shape\": {\"type\": \"nominal\", \"field\": \"attribute_value\", \"legend\": null, \"scale\": {\"domain\": [\"Caucasian\", \"African-American\", \"Asian\", \"Hispanic\", \"Native American\", \"Other\"], \"range\": [\"cross\", \"circle\", \"circle\", \"circle\", \"circle\", \"circle\"]}}, \"tooltip\": [{\"type\": \"nominal\", \"field\": \"attribute_value\", \"title\": \"Group\"}, {\"type\": \"nominal\", \"field\": \"tooltip_group_size\", \"title\": \"Group Size\"}, {\"type\": \"nominal\", \"field\": \"tooltip_disparity_explanation_fpr\", \"title\": \"Disparity\"}, {\"type\": \"quantitative\", \"field\": \"fpr\", \"format\": \".2f\", \"title\": \"FPR\"}], \"x\": {\"type\": \"quantitative\", \"axis\": {\"domain\": false, \"labels\": false, \"ticks\": false, \"title\": null, \"values\": [0.25, 0.5, 0.75]}, \"field\": \"fpr\", \"scale\": {\"domain\": [0, 1], \"range\": [40.0, 760.0]}}, \"y\": {\"type\": \"nominal\", \"axis\": {\"domain\": false, \"grid\": false, \"labels\": false, \"ticks\": false, \"title\": \" \"}, \"field\": \"metric_variable\", \"scale\": {\"domain\": [\"FPR\", \"FDR\", \"FNR\"], \"range\": [42.5, 382.5]}}}, \"selection\": {\"selector010\": {\"type\": \"multi\", \"empty\": \"all\", \"fields\": [\"attribute_value\"]}}, \"transform\": [{\"calculate\": \"'FPR'\", \"as\": \"metric_variable\"}]}, {\"data\": {\"name\": \"data-f83e8c1a455488150d174dd50dbd3cae\"}, \"mark\": {\"type\": \"point\", \"filled\": true, \"size\": 60}, \"encoding\": {\"color\": {\"condition\": {\"type\": \"nominal\", \"field\": \"attribute_value\", \"legend\": null, \"scale\": {\"domain\": [\"Caucasian\", \"African-American\", \"Asian\", \"Hispanic\", \"Native American\", \"Other\"], \"range\": [\"rgb(117,117,117)\", \"rgb(100, 143, 255)\", \"rgb(254, 97, 0)\", \"rgb(220, 38, 127)\", \"rgb(255, 176, 0)\", \"rgb(120, 94, 240)\"]}, \"selection\": \"selector009\"}, \"value\": \"rgb(224,224,224)\"}, \"shape\": {\"type\": \"nominal\", \"field\": \"attribute_value\", \"legend\": null, \"scale\": {\"domain\": [\"Caucasian\", \"African-American\", \"Asian\", \"Hispanic\", \"Native American\", \"Other\"], \"range\": [\"cross\", \"circle\", \"circle\", \"circle\", \"circle\", \"circle\"]}}, \"tooltip\": [{\"type\": \"nominal\", \"field\": \"attribute_value\", \"title\": \"Group\"}, {\"type\": \"nominal\", \"field\": \"tooltip_group_size\", \"title\": \"Group Size\"}, {\"type\": \"nominal\", \"field\": \"tooltip_disparity_explanation_fdr\", \"title\": \"Disparity\"}, {\"type\": \"quantitative\", \"field\": \"fdr\", \"format\": \".2f\", \"title\": \"FDR\"}], \"x\": {\"type\": \"quantitative\", \"axis\": {\"domain\": false, \"labels\": false, \"ticks\": false, \"title\": null, \"values\": [0.25, 0.5, 0.75]}, \"field\": \"fdr\", \"scale\": {\"domain\": [0, 1], \"range\": [40.0, 760.0]}}, \"y\": {\"type\": \"nominal\", \"axis\": {\"domain\": false, \"grid\": false, \"labels\": false, \"ticks\": false, \"title\": \" \"}, \"field\": \"metric_variable\", \"scale\": {\"domain\": [\"FPR\", \"FDR\", \"FNR\"], \"range\": [42.5, 382.5]}}}, \"selection\": {\"selector012\": {\"type\": \"multi\", \"empty\": \"all\", \"fields\": [\"attribute_value\"]}}, \"transform\": [{\"calculate\": \"'FDR'\", \"as\": \"metric_variable\"}]}, {\"data\": {\"name\": \"data-f83e8c1a455488150d174dd50dbd3cae\"}, \"mark\": {\"type\": \"point\", \"filled\": true, \"size\": 60}, \"encoding\": {\"color\": {\"condition\": {\"type\": \"nominal\", \"field\": \"attribute_value\", \"legend\": null, \"scale\": {\"domain\": [\"Caucasian\", \"African-American\", \"Asian\", \"Hispanic\", \"Native American\", \"Other\"], \"range\": [\"rgb(117,117,117)\", \"rgb(100, 143, 255)\", \"rgb(254, 97, 0)\", \"rgb(220, 38, 127)\", \"rgb(255, 176, 0)\", \"rgb(120, 94, 240)\"]}, \"selection\": \"selector009\"}, \"value\": \"rgb(224,224,224)\"}, \"shape\": {\"type\": \"nominal\", \"field\": \"attribute_value\", \"legend\": null, \"scale\": {\"domain\": [\"Caucasian\", \"African-American\", \"Asian\", \"Hispanic\", \"Native American\", \"Other\"], \"range\": [\"cross\", \"circle\", \"circle\", \"circle\", \"circle\", \"circle\"]}}, \"tooltip\": [{\"type\": \"nominal\", \"field\": \"attribute_value\", \"title\": \"Group\"}, {\"type\": \"nominal\", \"field\": \"tooltip_group_size\", \"title\": \"Group Size\"}, {\"type\": \"nominal\", \"field\": \"tooltip_disparity_explanation_fnr\", \"title\": \"Disparity\"}, {\"type\": \"quantitative\", \"field\": \"fnr\", \"format\": \".2f\", \"title\": \"FNR\"}], \"x\": {\"type\": \"quantitative\", \"axis\": {\"domain\": false, \"labels\": false, \"ticks\": false, \"title\": null, \"values\": [0.25, 0.5, 0.75]}, \"field\": \"fnr\", \"scale\": {\"domain\": [0, 1], \"range\": [40.0, 760.0]}}, \"y\": {\"type\": \"nominal\", \"axis\": {\"domain\": false, \"grid\": false, \"labels\": false, \"ticks\": false, \"title\": \" \"}, \"field\": \"metric_variable\", \"scale\": {\"domain\": [\"FPR\", \"FDR\", \"FNR\"], \"range\": [42.5, 382.5]}}}, \"selection\": {\"selector014\": {\"type\": \"multi\", \"empty\": \"all\", \"fields\": [\"attribute_value\"]}}, \"transform\": [{\"calculate\": \"'FNR'\", \"as\": \"metric_variable\"}]}]}]}, {\"layer\": [{\"mark\": {\"type\": \"point\", \"filled\": true, \"opacity\": 1, \"size\": 39.47841760435743}, \"encoding\": {\"color\": {\"condition\": {\"type\": \"nominal\", \"field\": \"attribute_value\", \"legend\": null, \"scale\": {\"domain\": [\"Caucasian\", \"African-American\", \"Asian\", \"Hispanic\", \"Native American\", \"Other\"], \"range\": [\"rgb(117,117,117)\", \"rgb(100, 143, 255)\", \"rgb(254, 97, 0)\", \"rgb(220, 38, 127)\", \"rgb(255, 176, 0)\", \"rgb(120, 94, 240)\"]}, \"selection\": \"selector009\"}, \"value\": \"rgb(224,224,224)\"}, \"shape\": {\"type\": \"nominal\", \"field\": \"attribute_value\", \"legend\": null, \"scale\": {\"domain\": [\"Caucasian\", \"African-American\", \"Asian\", \"Hispanic\", \"Native American\", \"Other\"], \"range\": [\"cross\", \"circle\", \"circle\", \"circle\", \"circle\", \"circle\"]}}, \"x\": {\"value\": 804}, \"y\": {\"type\": \"nominal\", \"axis\": {\"domain\": false, \"grid\": false, \"labels\": false, \"ticks\": false, \"title\": \" \"}, \"field\": \"attribute_value\", \"scale\": {\"domain\": [\"Caucasian\", \"African-American\", \"Asian\", \"Hispanic\", \"Native American\", \"Other\"], \"range\": [71, 213]}}}, \"selection\": {\"selector009\": {\"type\": \"multi\", \"empty\": \"all\", \"fields\": [\"attribute_value\"]}}}, {\"mark\": {\"type\": \"text\", \"align\": \"left\", \"baseline\": \"middle\", \"font\": \"Arial\", \"fontSize\": 12, \"fontWeight\": \"normal\"}, \"encoding\": {\"color\": {\"condition\": {\"type\": \"nominal\", \"field\": \"attribute_value\", \"legend\": null, \"scale\": {\"domain\": [\"Caucasian\", \"African-American\", \"Asian\", \"Hispanic\", \"Native American\", \"Other\"], \"range\": [\"rgb(117,117,117)\", \"rgb(100, 143, 255)\", \"rgb(254, 97, 0)\", \"rgb(220, 38, 127)\", \"rgb(255, 176, 0)\", \"rgb(120, 94, 240)\"]}, \"selection\": \"selector009\"}, \"value\": \"rgb(224,224,224)\"}, \"text\": {\"type\": \"nominal\", \"field\": \"label\"}, \"x\": {\"value\": 812}, \"y\": {\"type\": \"nominal\", \"axis\": {\"domain\": false, \"grid\": false, \"labels\": false, \"ticks\": false, \"title\": \" \"}, \"field\": \"attribute_value\", \"scale\": {\"domain\": [\"Caucasian\", \"African-American\", \"Asian\", \"Hispanic\", \"Native American\", \"Other\"], \"range\": [71, 213]}}}, \"selection\": {\"selector016\": {\"type\": \"multi\", \"empty\": \"all\", \"fields\": [\"attribute_value\"]}}}, {\"data\": {\"name\": \"data-79dd248bdaa0ea02c535240e8ad022c8\"}, \"mark\": {\"type\": \"text\", \"align\": \"left\", \"baseline\": \"middle\", \"color\": \"rgb(117,117,117)\", \"font\": \"Arial\", \"fontSize\": 12, \"fontWeight\": \"normal\"}, \"encoding\": {\"text\": {\"value\": \"Click to highlight a group.\"}, \"x\": {\"value\": 800}, \"y\": {\"value\": 49}}}, {\"data\": {\"name\": \"data-79dd248bdaa0ea02c535240e8ad022c8\"}, \"mark\": {\"type\": \"text\", \"align\": \"left\", \"baseline\": \"middle\", \"color\": \"rgb(117,117,117)\", \"font\": \"Arial\", \"fontSize\": 14, \"fontWeight\": \"normal\"}, \"encoding\": {\"text\": {\"value\": \"Groups\"}, \"x\": {\"value\": 800}, \"y\": {\"value\": 30}}}], \"data\": {\"name\": \"data-88ed55fc5802429837a290e492c87da9\"}}], \"height\": 425, \"padding\": {\"top\": 15, \"bottom\": 10}, \"resolve\": {\"scale\": {\"size\": \"independent\", \"y\": \"independent\"}}, \"title\": \"Absolute values by Race\", \"width\": 800, \"$schema\": \"https://vega.github.io/schema/vega-lite/v4.8.1.json\", \"datasets\": {\"data-b755ca1d45f2e5f333e1201c5a225c15\": [{\"y_position\": \"FPR\", \"start\": 0, \"end\": 1}, {\"y_position\": \"FDR\", \"start\": 0, \"end\": 1}, {\"y_position\": \"FNR\", \"start\": 0, \"end\": 1}], \"data-6cfe259518f6c7b358d8f836a73e6b7f\": [{\"x_position\": 0}, {\"x_position\": 1}], \"data-60ed1133fa688d151d36705a369482e0\": [{\"value\": 0.0}, {\"value\": 0.25}, {\"value\": 0.5}, {\"value\": 0.75}, {\"value\": 1.0}], \"data-d0a914c1e4f096c9940a7beb57db8fdd\": [{\"lower_end\": 0, \"upper_end\": 1, \"lower_threshold_value\": 0.18763440860215055, \"upper_threshold_value\": 0.29317876344086025, \"metric\": \"FPR\"}, {\"lower_end\": 0, \"upper_end\": 1, \"lower_threshold_value\": 0.3269320843091335, \"upper_threshold_value\": 0.5108313817330211, \"metric\": \"FDR\"}, {\"lower_end\": 0, \"upper_end\": 1, \"lower_threshold_value\": 0.38178053830227743, \"upper_threshold_value\": 0.5965320910973084, \"metric\": \"FNR\"}], \"data-79dd248bdaa0ea02c535240e8ad022c8\": [{\"a\": 1, \"b\": 0}, {\"a\": 1, \"b\": 0}], \"data-f83e8c1a455488150d174dd50dbd3cae\": [{\"attribute_name\": \"race\", \"attribute_value\": \"African-American\", \"group_size\": 3696, \"total_entities\": 7214, \"fpr\": 0.44846796657381616, \"fdr\": 0.3702851885924563, \"fnr\": 0.27985270910047344, \"fpr_disparity\": 1.9120926483147231, \"fdr_disparity\": 0.9060846735185033, \"fnr_disparity\": 0.5864158719979552, \"fpr_disparity_scaled\": 0.9120926483147231, \"fdr_disparity_scaled\": -0.10364961380132964, \"fnr_disparity_scaled\": -0.7052744438736593, \"tooltip_group_size\": \"3,696 (51.23%)\", \"tooltip_disparity_explanation_fpr\": \"1.91 times larger FPR than the reference group\", \"tooltip_disparity_explanation_fdr\": \"1.10 times smaller FDR than the reference group\", \"tooltip_disparity_explanation_fnr\": \"1.71 times smaller FNR than the reference group\"}, {\"attribute_name\": \"race\", \"attribute_value\": \"Asian\", \"group_size\": 32, \"total_entities\": 7214, \"fpr\": 0.08695652173913043, \"fdr\": 0.25, \"fnr\": 0.3333333333333333, \"fpr_disparity\": 0.37074872305967355, \"fdr_disparity\": 0.6117478510028653, \"fnr_disparity\": 0.6984815618221257, \"fpr_disparity_scaled\": -1.6972446236559144, \"fdr_disparity_scaled\": -0.6346604215456675, \"fnr_disparity_scaled\": -0.4316770186335406, \"tooltip_group_size\": \"32 (0.44%)\", \"tooltip_disparity_explanation_fpr\": \"2.70 times smaller FPR than the reference group\", \"tooltip_disparity_explanation_fdr\": \"1.63 times smaller FDR than the reference group\", \"tooltip_disparity_explanation_fnr\": \"1.43 times smaller FNR than the reference group\"}, {\"attribute_name\": \"race\", \"attribute_value\": \"Caucasian\", \"group_size\": 2454, \"total_entities\": 7214, \"fpr\": 0.23454301075268819, \"fdr\": 0.40866510538641687, \"fnr\": 0.4772256728778468, \"fpr_disparity\": 1.0, \"fdr_disparity\": 1.0, \"fnr_disparity\": 1.0, \"fpr_disparity_scaled\": 0.0, \"fdr_disparity_scaled\": 0.0, \"fnr_disparity_scaled\": 0.0, \"tooltip_group_size\": \"2,454 (34.02%)\", \"tooltip_disparity_explanation_fpr\": \"Reference group\", \"tooltip_disparity_explanation_fdr\": \"Reference group\", \"tooltip_disparity_explanation_fnr\": \"Reference group\"}, {\"attribute_name\": \"race\", \"attribute_value\": \"Hispanic\", \"group_size\": 637, \"total_entities\": 7214, \"fpr\": 0.21481481481481482, \"fdr\": 0.45789473684210524, \"fnr\": 0.5560344827586207, \"fpr_disparity\": 0.9158866602992677, \"fdr_disparity\": 1.1204644849947216, \"fnr_disparity\": 1.1651395018325978, \"fpr_disparity_scaled\": -0.09183815350389324, \"fdr_disparity_scaled\": 0.12046448499472162, \"fnr_disparity_scaled\": 0.16513950183259785, \"tooltip_group_size\": \"637 (8.83%)\", \"tooltip_disparity_explanation_fpr\": \"1.09 times smaller FPR than the reference group\", \"tooltip_disparity_explanation_fdr\": \"1.12 times larger FDR than the reference group\", \"tooltip_disparity_explanation_fnr\": \"1.17 times larger FNR than the reference group\"}, {\"attribute_name\": \"race\", \"attribute_value\": \"Native American\", \"group_size\": 18, \"total_entities\": 7214, \"fpr\": 0.375, \"fdr\": 0.25, \"fnr\": 0.1, \"fpr_disparity\": 1.5988538681948423, \"fdr_disparity\": 0.6117478510028653, \"fnr_disparity\": 0.20954446854663775, \"fpr_disparity_scaled\": 0.5988538681948423, \"fdr_disparity_scaled\": -0.6346604215456675, \"fnr_disparity_scaled\": -3.7722567287784683, \"tooltip_group_size\": \"18 (0.25%)\", \"tooltip_disparity_explanation_fpr\": \"1.60 times larger FPR than the reference group\", \"tooltip_disparity_explanation_fdr\": \"1.63 times smaller FDR than the reference group\", \"tooltip_disparity_explanation_fnr\": \"4.77 times smaller FNR than the reference group\"}, {\"attribute_name\": \"race\", \"attribute_value\": \"Other\", \"group_size\": 377, \"total_entities\": 7214, \"fpr\": 0.14754098360655737, \"fdr\": 0.45569620253164556, \"fnr\": 0.6766917293233082, \"fpr_disparity\": 0.6290572596176429, \"fdr_disparity\": 1.1150846904356027, \"fnr_disparity\": 1.4179700879095787, \"fpr_disparity_scaled\": -0.5896804062126644, \"fdr_disparity_scaled\": 0.11508469043560265, \"fnr_disparity_scaled\": 0.4179700879095787, \"tooltip_group_size\": \"377 (5.23%)\", \"tooltip_disparity_explanation_fpr\": \"1.59 times smaller FPR than the reference group\", \"tooltip_disparity_explanation_fdr\": \"1.12 times larger FDR than the reference group\", \"tooltip_disparity_explanation_fnr\": \"1.42 times larger FNR than the reference group\"}], \"data-88ed55fc5802429837a290e492c87da9\": [{\"attribute_value\": \"Caucasian\", \"label\": \"Caucasian [REF]\"}, {\"attribute_value\": \"African-American\", \"label\": \"African-American\"}, {\"attribute_value\": \"Asian\", \"label\": \"Asian\"}, {\"attribute_value\": \"Hispanic\", \"label\": \"Hispanic\"}, {\"attribute_value\": \"Native American\", \"label\": \"Native American\"}, {\"attribute_value\": \"Other\", \"label\": \"Other\"}]}}, {\"mode\": \"vega-lite\"});\n",
              "</script>"
            ]
          },
          "metadata": {
            "tags": []
          },
          "execution_count": 22
        }
      ]
    },
    {
      "cell_type": "markdown",
      "metadata": {
        "id": "XkoLB5KgfNNb"
      },
      "source": [
        "As shown in this Absolute values by Race plot, African American and Native American have clear divergent values in FPR and FNR. Nevertheless, the false discovery rate (FDR) is very similar."
      ]
    },
    {
      "cell_type": "markdown",
      "metadata": {
        "id": "QjaVbZ6ceiGr"
      },
      "source": [
        "After looking at the bias absolute metrics, it is time to compute the bias disparity levels. These, will be in accordance with the absolute metrics values and as mentioned, they will be computed taking Caucasian and Hispanic as reference groups (they seem to be the most privileged groups in the previous values)."
      ]
    },
    {
      "cell_type": "code",
      "metadata": {
        "id": "R-dzG6VVmuRA",
        "colab": {
          "base_uri": "https://localhost:8080/",
          "height": 227
        },
        "outputId": "d108151a-5144-4dd9-902b-202549136085"
      },
      "source": [
        "#bias disparity \n",
        "#b = Bias()\n",
        "\n",
        "#putting disparity to compare to Caucasian\n",
        "bdf = b.get_disparity_predefined_groups(xtab, original_df=df_race, \n",
        "                                        ref_groups_dict={'race':'Caucasian'}, \n",
        "                                        alpha=0.05, check_significance=True, \n",
        "                                        mask_significance=True)\n",
        "bdf[['attribute_name', 'attribute_value'] +\n",
        "     b.list_disparities(bdf) + b.list_significance(bdf)].style"
      ],
      "execution_count": 23,
      "outputs": [
        {
          "output_type": "stream",
          "text": [
            "get_disparity_predefined_group()\n"
          ],
          "name": "stdout"
        },
        {
          "output_type": "execute_result",
          "data": {
            "text/html": [
              "<style  type=\"text/css\" >\n",
              "</style><table id=\"T_ff83b19e_eb80_11eb_b15e_0242ac1c0002\" ><thead>    <tr>        <th class=\"blank level0\" ></th>        <th class=\"col_heading level0 col0\" >attribute_name</th>        <th class=\"col_heading level0 col1\" >attribute_value</th>        <th class=\"col_heading level0 col2\" >fdr_disparity</th>        <th class=\"col_heading level0 col3\" >fnr_disparity</th>        <th class=\"col_heading level0 col4\" >for_disparity</th>        <th class=\"col_heading level0 col5\" >fpr_disparity</th>        <th class=\"col_heading level0 col6\" >npv_disparity</th>        <th class=\"col_heading level0 col7\" >ppr_disparity</th>        <th class=\"col_heading level0 col8\" >pprev_disparity</th>        <th class=\"col_heading level0 col9\" >precision_disparity</th>        <th class=\"col_heading level0 col10\" >tnr_disparity</th>        <th class=\"col_heading level0 col11\" >tpr_disparity</th>        <th class=\"col_heading level0 col12\" >label_value_significance</th>        <th class=\"col_heading level0 col13\" >score_significance</th>        <th class=\"col_heading level0 col14\" >fdr_significance</th>        <th class=\"col_heading level0 col15\" >fnr_significance</th>        <th class=\"col_heading level0 col16\" >for_significance</th>        <th class=\"col_heading level0 col17\" >fpr_significance</th>        <th class=\"col_heading level0 col18\" >npv_significance</th>        <th class=\"col_heading level0 col19\" >ppr_significance</th>        <th class=\"col_heading level0 col20\" >pprev_significance</th>        <th class=\"col_heading level0 col21\" >precision_significance</th>        <th class=\"col_heading level0 col22\" >tnr_significance</th>        <th class=\"col_heading level0 col23\" >tpr_significance</th>    </tr></thead><tbody>\n",
              "                <tr>\n",
              "                        <th id=\"T_ff83b19e_eb80_11eb_b15e_0242ac1c0002level0_row0\" class=\"row_heading level0 row0\" >0</th>\n",
              "                        <td id=\"T_ff83b19e_eb80_11eb_b15e_0242ac1c0002row0_col0\" class=\"data row0 col0\" >race</td>\n",
              "                        <td id=\"T_ff83b19e_eb80_11eb_b15e_0242ac1c0002row0_col1\" class=\"data row0 col1\" >African-American</td>\n",
              "                        <td id=\"T_ff83b19e_eb80_11eb_b15e_0242ac1c0002row0_col2\" class=\"data row0 col2\" >0.906085</td>\n",
              "                        <td id=\"T_ff83b19e_eb80_11eb_b15e_0242ac1c0002row0_col3\" class=\"data row0 col3\" >0.586416</td>\n",
              "                        <td id=\"T_ff83b19e_eb80_11eb_b15e_0242ac1c0002row0_col4\" class=\"data row0 col4\" >1.213154</td>\n",
              "                        <td id=\"T_ff83b19e_eb80_11eb_b15e_0242ac1c0002row0_col5\" class=\"data row0 col5\" >1.912093</td>\n",
              "                        <td id=\"T_ff83b19e_eb80_11eb_b15e_0242ac1c0002row0_col6\" class=\"data row0 col6\" >0.913728</td>\n",
              "                        <td id=\"T_ff83b19e_eb80_11eb_b15e_0242ac1c0002row0_col7\" class=\"data row0 col7\" >2.545667</td>\n",
              "                        <td id=\"T_ff83b19e_eb80_11eb_b15e_0242ac1c0002row0_col8\" class=\"data row0 col8\" >1.690224</td>\n",
              "                        <td id=\"T_ff83b19e_eb80_11eb_b15e_0242ac1c0002row0_col9\" class=\"data row0 col9\" >1.064904</td>\n",
              "                        <td id=\"T_ff83b19e_eb80_11eb_b15e_0242ac1c0002row0_col10\" class=\"data row0 col10\" >0.720526</td>\n",
              "                        <td id=\"T_ff83b19e_eb80_11eb_b15e_0242ac1c0002row0_col11\" class=\"data row0 col11\" >1.377549</td>\n",
              "                        <td id=\"T_ff83b19e_eb80_11eb_b15e_0242ac1c0002row0_col12\" class=\"data row0 col12\" >True</td>\n",
              "                        <td id=\"T_ff83b19e_eb80_11eb_b15e_0242ac1c0002row0_col13\" class=\"data row0 col13\" >True</td>\n",
              "                        <td id=\"T_ff83b19e_eb80_11eb_b15e_0242ac1c0002row0_col14\" class=\"data row0 col14\" >False</td>\n",
              "                        <td id=\"T_ff83b19e_eb80_11eb_b15e_0242ac1c0002row0_col15\" class=\"data row0 col15\" >True</td>\n",
              "                        <td id=\"T_ff83b19e_eb80_11eb_b15e_0242ac1c0002row0_col16\" class=\"data row0 col16\" >True</td>\n",
              "                        <td id=\"T_ff83b19e_eb80_11eb_b15e_0242ac1c0002row0_col17\" class=\"data row0 col17\" >False</td>\n",
              "                        <td id=\"T_ff83b19e_eb80_11eb_b15e_0242ac1c0002row0_col18\" class=\"data row0 col18\" >True</td>\n",
              "                        <td id=\"T_ff83b19e_eb80_11eb_b15e_0242ac1c0002row0_col19\" class=\"data row0 col19\" >True</td>\n",
              "                        <td id=\"T_ff83b19e_eb80_11eb_b15e_0242ac1c0002row0_col20\" class=\"data row0 col20\" >True</td>\n",
              "                        <td id=\"T_ff83b19e_eb80_11eb_b15e_0242ac1c0002row0_col21\" class=\"data row0 col21\" >False</td>\n",
              "                        <td id=\"T_ff83b19e_eb80_11eb_b15e_0242ac1c0002row0_col22\" class=\"data row0 col22\" >False</td>\n",
              "                        <td id=\"T_ff83b19e_eb80_11eb_b15e_0242ac1c0002row0_col23\" class=\"data row0 col23\" >True</td>\n",
              "            </tr>\n",
              "            <tr>\n",
              "                        <th id=\"T_ff83b19e_eb80_11eb_b15e_0242ac1c0002level0_row1\" class=\"row_heading level0 row1\" >1</th>\n",
              "                        <td id=\"T_ff83b19e_eb80_11eb_b15e_0242ac1c0002row1_col0\" class=\"data row1 col0\" >race</td>\n",
              "                        <td id=\"T_ff83b19e_eb80_11eb_b15e_0242ac1c0002row1_col1\" class=\"data row1 col1\" >Asian</td>\n",
              "                        <td id=\"T_ff83b19e_eb80_11eb_b15e_0242ac1c0002row1_col2\" class=\"data row1 col2\" >0.611748</td>\n",
              "                        <td id=\"T_ff83b19e_eb80_11eb_b15e_0242ac1c0002row1_col3\" class=\"data row1 col3\" >0.698482</td>\n",
              "                        <td id=\"T_ff83b19e_eb80_11eb_b15e_0242ac1c0002row1_col4\" class=\"data row1 col4\" >0.433839</td>\n",
              "                        <td id=\"T_ff83b19e_eb80_11eb_b15e_0242ac1c0002row1_col5\" class=\"data row1 col5\" >0.370749</td>\n",
              "                        <td id=\"T_ff83b19e_eb80_11eb_b15e_0242ac1c0002row1_col6\" class=\"data row1 col6\" >1.229148</td>\n",
              "                        <td id=\"T_ff83b19e_eb80_11eb_b15e_0242ac1c0002row1_col7\" class=\"data row1 col7\" >0.009368</td>\n",
              "                        <td id=\"T_ff83b19e_eb80_11eb_b15e_0242ac1c0002row1_col8\" class=\"data row1 col8\" >0.718384</td>\n",
              "                        <td id=\"T_ff83b19e_eb80_11eb_b15e_0242ac1c0002row1_col9\" class=\"data row1 col9\" >1.268317</td>\n",
              "                        <td id=\"T_ff83b19e_eb80_11eb_b15e_0242ac1c0002row1_col10\" class=\"data row1 col10\" >1.192808</td>\n",
              "                        <td id=\"T_ff83b19e_eb80_11eb_b15e_0242ac1c0002row1_col11\" class=\"data row1 col11\" >1.275248</td>\n",
              "                        <td id=\"T_ff83b19e_eb80_11eb_b15e_0242ac1c0002row1_col12\" class=\"data row1 col12\" >False</td>\n",
              "                        <td id=\"T_ff83b19e_eb80_11eb_b15e_0242ac1c0002row1_col13\" class=\"data row1 col13\" >False</td>\n",
              "                        <td id=\"T_ff83b19e_eb80_11eb_b15e_0242ac1c0002row1_col14\" class=\"data row1 col14\" >False</td>\n",
              "                        <td id=\"T_ff83b19e_eb80_11eb_b15e_0242ac1c0002row1_col15\" class=\"data row1 col15\" >False</td>\n",
              "                        <td id=\"T_ff83b19e_eb80_11eb_b15e_0242ac1c0002row1_col16\" class=\"data row1 col16\" >False</td>\n",
              "                        <td id=\"T_ff83b19e_eb80_11eb_b15e_0242ac1c0002row1_col17\" class=\"data row1 col17\" >False</td>\n",
              "                        <td id=\"T_ff83b19e_eb80_11eb_b15e_0242ac1c0002row1_col18\" class=\"data row1 col18\" >False</td>\n",
              "                        <td id=\"T_ff83b19e_eb80_11eb_b15e_0242ac1c0002row1_col19\" class=\"data row1 col19\" >False</td>\n",
              "                        <td id=\"T_ff83b19e_eb80_11eb_b15e_0242ac1c0002row1_col20\" class=\"data row1 col20\" >False</td>\n",
              "                        <td id=\"T_ff83b19e_eb80_11eb_b15e_0242ac1c0002row1_col21\" class=\"data row1 col21\" >False</td>\n",
              "                        <td id=\"T_ff83b19e_eb80_11eb_b15e_0242ac1c0002row1_col22\" class=\"data row1 col22\" >False</td>\n",
              "                        <td id=\"T_ff83b19e_eb80_11eb_b15e_0242ac1c0002row1_col23\" class=\"data row1 col23\" >False</td>\n",
              "            </tr>\n",
              "            <tr>\n",
              "                        <th id=\"T_ff83b19e_eb80_11eb_b15e_0242ac1c0002level0_row2\" class=\"row_heading level0 row2\" >2</th>\n",
              "                        <td id=\"T_ff83b19e_eb80_11eb_b15e_0242ac1c0002row2_col0\" class=\"data row2 col0\" >race</td>\n",
              "                        <td id=\"T_ff83b19e_eb80_11eb_b15e_0242ac1c0002row2_col1\" class=\"data row2 col1\" >Caucasian</td>\n",
              "                        <td id=\"T_ff83b19e_eb80_11eb_b15e_0242ac1c0002row2_col2\" class=\"data row2 col2\" >1.000000</td>\n",
              "                        <td id=\"T_ff83b19e_eb80_11eb_b15e_0242ac1c0002row2_col3\" class=\"data row2 col3\" >1.000000</td>\n",
              "                        <td id=\"T_ff83b19e_eb80_11eb_b15e_0242ac1c0002row2_col4\" class=\"data row2 col4\" >1.000000</td>\n",
              "                        <td id=\"T_ff83b19e_eb80_11eb_b15e_0242ac1c0002row2_col5\" class=\"data row2 col5\" >1.000000</td>\n",
              "                        <td id=\"T_ff83b19e_eb80_11eb_b15e_0242ac1c0002row2_col6\" class=\"data row2 col6\" >1.000000</td>\n",
              "                        <td id=\"T_ff83b19e_eb80_11eb_b15e_0242ac1c0002row2_col7\" class=\"data row2 col7\" >1.000000</td>\n",
              "                        <td id=\"T_ff83b19e_eb80_11eb_b15e_0242ac1c0002row2_col8\" class=\"data row2 col8\" >1.000000</td>\n",
              "                        <td id=\"T_ff83b19e_eb80_11eb_b15e_0242ac1c0002row2_col9\" class=\"data row2 col9\" >1.000000</td>\n",
              "                        <td id=\"T_ff83b19e_eb80_11eb_b15e_0242ac1c0002row2_col10\" class=\"data row2 col10\" >1.000000</td>\n",
              "                        <td id=\"T_ff83b19e_eb80_11eb_b15e_0242ac1c0002row2_col11\" class=\"data row2 col11\" >1.000000</td>\n",
              "                        <td id=\"T_ff83b19e_eb80_11eb_b15e_0242ac1c0002row2_col12\" class=\"data row2 col12\" >False</td>\n",
              "                        <td id=\"T_ff83b19e_eb80_11eb_b15e_0242ac1c0002row2_col13\" class=\"data row2 col13\" >False</td>\n",
              "                        <td id=\"T_ff83b19e_eb80_11eb_b15e_0242ac1c0002row2_col14\" class=\"data row2 col14\" >False</td>\n",
              "                        <td id=\"T_ff83b19e_eb80_11eb_b15e_0242ac1c0002row2_col15\" class=\"data row2 col15\" >False</td>\n",
              "                        <td id=\"T_ff83b19e_eb80_11eb_b15e_0242ac1c0002row2_col16\" class=\"data row2 col16\" >False</td>\n",
              "                        <td id=\"T_ff83b19e_eb80_11eb_b15e_0242ac1c0002row2_col17\" class=\"data row2 col17\" >False</td>\n",
              "                        <td id=\"T_ff83b19e_eb80_11eb_b15e_0242ac1c0002row2_col18\" class=\"data row2 col18\" >False</td>\n",
              "                        <td id=\"T_ff83b19e_eb80_11eb_b15e_0242ac1c0002row2_col19\" class=\"data row2 col19\" >False</td>\n",
              "                        <td id=\"T_ff83b19e_eb80_11eb_b15e_0242ac1c0002row2_col20\" class=\"data row2 col20\" >False</td>\n",
              "                        <td id=\"T_ff83b19e_eb80_11eb_b15e_0242ac1c0002row2_col21\" class=\"data row2 col21\" >False</td>\n",
              "                        <td id=\"T_ff83b19e_eb80_11eb_b15e_0242ac1c0002row2_col22\" class=\"data row2 col22\" >False</td>\n",
              "                        <td id=\"T_ff83b19e_eb80_11eb_b15e_0242ac1c0002row2_col23\" class=\"data row2 col23\" >False</td>\n",
              "            </tr>\n",
              "            <tr>\n",
              "                        <th id=\"T_ff83b19e_eb80_11eb_b15e_0242ac1c0002level0_row3\" class=\"row_heading level0 row3\" >3</th>\n",
              "                        <td id=\"T_ff83b19e_eb80_11eb_b15e_0242ac1c0002row3_col0\" class=\"data row3 col0\" >race</td>\n",
              "                        <td id=\"T_ff83b19e_eb80_11eb_b15e_0242ac1c0002row3_col1\" class=\"data row3 col1\" >Hispanic</td>\n",
              "                        <td id=\"T_ff83b19e_eb80_11eb_b15e_0242ac1c0002row3_col2\" class=\"data row3 col2\" >1.120464</td>\n",
              "                        <td id=\"T_ff83b19e_eb80_11eb_b15e_0242ac1c0002row3_col3\" class=\"data row3 col3\" >1.165140</td>\n",
              "                        <td id=\"T_ff83b19e_eb80_11eb_b15e_0242ac1c0002row3_col4\" class=\"data row3 col4\" >1.001616</td>\n",
              "                        <td id=\"T_ff83b19e_eb80_11eb_b15e_0242ac1c0002row3_col5\" class=\"data row3 col5\" >0.915887</td>\n",
              "                        <td id=\"T_ff83b19e_eb80_11eb_b15e_0242ac1c0002row3_col6\" class=\"data row3 col6\" >0.999346</td>\n",
              "                        <td id=\"T_ff83b19e_eb80_11eb_b15e_0242ac1c0002row3_col7\" class=\"data row3 col7\" >0.222482</td>\n",
              "                        <td id=\"T_ff83b19e_eb80_11eb_b15e_0242ac1c0002row3_col8\" class=\"data row3 col8\" >0.857099</td>\n",
              "                        <td id=\"T_ff83b19e_eb80_11eb_b15e_0242ac1c0002row3_col9\" class=\"data row3 col9\" >0.916748</td>\n",
              "                        <td id=\"T_ff83b19e_eb80_11eb_b15e_0242ac1c0002row3_col10\" class=\"data row3 col10\" >1.025773</td>\n",
              "                        <td id=\"T_ff83b19e_eb80_11eb_b15e_0242ac1c0002row3_col11\" class=\"data row3 col11\" >0.849249</td>\n",
              "                        <td id=\"T_ff83b19e_eb80_11eb_b15e_0242ac1c0002row3_col12\" class=\"data row3 col12\" >False</td>\n",
              "                        <td id=\"T_ff83b19e_eb80_11eb_b15e_0242ac1c0002row3_col13\" class=\"data row3 col13\" >True</td>\n",
              "                        <td id=\"T_ff83b19e_eb80_11eb_b15e_0242ac1c0002row3_col14\" class=\"data row3 col14\" >False</td>\n",
              "                        <td id=\"T_ff83b19e_eb80_11eb_b15e_0242ac1c0002row3_col15\" class=\"data row3 col15\" >False</td>\n",
              "                        <td id=\"T_ff83b19e_eb80_11eb_b15e_0242ac1c0002row3_col16\" class=\"data row3 col16\" >False</td>\n",
              "                        <td id=\"T_ff83b19e_eb80_11eb_b15e_0242ac1c0002row3_col17\" class=\"data row3 col17\" >False</td>\n",
              "                        <td id=\"T_ff83b19e_eb80_11eb_b15e_0242ac1c0002row3_col18\" class=\"data row3 col18\" >False</td>\n",
              "                        <td id=\"T_ff83b19e_eb80_11eb_b15e_0242ac1c0002row3_col19\" class=\"data row3 col19\" >True</td>\n",
              "                        <td id=\"T_ff83b19e_eb80_11eb_b15e_0242ac1c0002row3_col20\" class=\"data row3 col20\" >True</td>\n",
              "                        <td id=\"T_ff83b19e_eb80_11eb_b15e_0242ac1c0002row3_col21\" class=\"data row3 col21\" >False</td>\n",
              "                        <td id=\"T_ff83b19e_eb80_11eb_b15e_0242ac1c0002row3_col22\" class=\"data row3 col22\" >False</td>\n",
              "                        <td id=\"T_ff83b19e_eb80_11eb_b15e_0242ac1c0002row3_col23\" class=\"data row3 col23\" >False</td>\n",
              "            </tr>\n",
              "            <tr>\n",
              "                        <th id=\"T_ff83b19e_eb80_11eb_b15e_0242ac1c0002level0_row4\" class=\"row_heading level0 row4\" >4</th>\n",
              "                        <td id=\"T_ff83b19e_eb80_11eb_b15e_0242ac1c0002row4_col0\" class=\"data row4 col0\" >race</td>\n",
              "                        <td id=\"T_ff83b19e_eb80_11eb_b15e_0242ac1c0002row4_col1\" class=\"data row4 col1\" >Native American</td>\n",
              "                        <td id=\"T_ff83b19e_eb80_11eb_b15e_0242ac1c0002row4_col2\" class=\"data row4 col2\" >0.611748</td>\n",
              "                        <td id=\"T_ff83b19e_eb80_11eb_b15e_0242ac1c0002row4_col3\" class=\"data row4 col3\" >0.209544</td>\n",
              "                        <td id=\"T_ff83b19e_eb80_11eb_b15e_0242ac1c0002row4_col4\" class=\"data row4 col4\" >0.578453</td>\n",
              "                        <td id=\"T_ff83b19e_eb80_11eb_b15e_0242ac1c0002row4_col5\" class=\"data row4 col5\" >1.598854</td>\n",
              "                        <td id=\"T_ff83b19e_eb80_11eb_b15e_0242ac1c0002row4_col6\" class=\"data row4 col6\" >1.170618</td>\n",
              "                        <td id=\"T_ff83b19e_eb80_11eb_b15e_0242ac1c0002row4_col7\" class=\"data row4 col7\" >0.014052</td>\n",
              "                        <td id=\"T_ff83b19e_eb80_11eb_b15e_0242ac1c0002row4_col8\" class=\"data row4 col8\" >1.915691</td>\n",
              "                        <td id=\"T_ff83b19e_eb80_11eb_b15e_0242ac1c0002row4_col9\" class=\"data row4 col9\" >1.268317</td>\n",
              "                        <td id=\"T_ff83b19e_eb80_11eb_b15e_0242ac1c0002row4_col10\" class=\"data row4 col10\" >0.816506</td>\n",
              "                        <td id=\"T_ff83b19e_eb80_11eb_b15e_0242ac1c0002row4_col11\" class=\"data row4 col11\" >1.721584</td>\n",
              "                        <td id=\"T_ff83b19e_eb80_11eb_b15e_0242ac1c0002row4_col12\" class=\"data row4 col12\" >False</td>\n",
              "                        <td id=\"T_ff83b19e_eb80_11eb_b15e_0242ac1c0002row4_col13\" class=\"data row4 col13\" >True</td>\n",
              "                        <td id=\"T_ff83b19e_eb80_11eb_b15e_0242ac1c0002row4_col14\" class=\"data row4 col14\" >False</td>\n",
              "                        <td id=\"T_ff83b19e_eb80_11eb_b15e_0242ac1c0002row4_col15\" class=\"data row4 col15\" >False</td>\n",
              "                        <td id=\"T_ff83b19e_eb80_11eb_b15e_0242ac1c0002row4_col16\" class=\"data row4 col16\" >False</td>\n",
              "                        <td id=\"T_ff83b19e_eb80_11eb_b15e_0242ac1c0002row4_col17\" class=\"data row4 col17\" >False</td>\n",
              "                        <td id=\"T_ff83b19e_eb80_11eb_b15e_0242ac1c0002row4_col18\" class=\"data row4 col18\" >False</td>\n",
              "                        <td id=\"T_ff83b19e_eb80_11eb_b15e_0242ac1c0002row4_col19\" class=\"data row4 col19\" >True</td>\n",
              "                        <td id=\"T_ff83b19e_eb80_11eb_b15e_0242ac1c0002row4_col20\" class=\"data row4 col20\" >True</td>\n",
              "                        <td id=\"T_ff83b19e_eb80_11eb_b15e_0242ac1c0002row4_col21\" class=\"data row4 col21\" >False</td>\n",
              "                        <td id=\"T_ff83b19e_eb80_11eb_b15e_0242ac1c0002row4_col22\" class=\"data row4 col22\" >False</td>\n",
              "                        <td id=\"T_ff83b19e_eb80_11eb_b15e_0242ac1c0002row4_col23\" class=\"data row4 col23\" >False</td>\n",
              "            </tr>\n",
              "            <tr>\n",
              "                        <th id=\"T_ff83b19e_eb80_11eb_b15e_0242ac1c0002level0_row5\" class=\"row_heading level0 row5\" >5</th>\n",
              "                        <td id=\"T_ff83b19e_eb80_11eb_b15e_0242ac1c0002row5_col0\" class=\"data row5 col0\" >race</td>\n",
              "                        <td id=\"T_ff83b19e_eb80_11eb_b15e_0242ac1c0002row5_col1\" class=\"data row5 col1\" >Other</td>\n",
              "                        <td id=\"T_ff83b19e_eb80_11eb_b15e_0242ac1c0002row5_col2\" class=\"data row5 col2\" >1.115085</td>\n",
              "                        <td id=\"T_ff83b19e_eb80_11eb_b15e_0242ac1c0002row5_col3\" class=\"data row5 col3\" >1.417970</td>\n",
              "                        <td id=\"T_ff83b19e_eb80_11eb_b15e_0242ac1c0002row5_col4\" class=\"data row5 col4\" >1.048203</td>\n",
              "                        <td id=\"T_ff83b19e_eb80_11eb_b15e_0242ac1c0002row5_col5\" class=\"data row5 col5\" >0.629057</td>\n",
              "                        <td id=\"T_ff83b19e_eb80_11eb_b15e_0242ac1c0002row5_col6\" class=\"data row5 col6\" >0.980490</td>\n",
              "                        <td id=\"T_ff83b19e_eb80_11eb_b15e_0242ac1c0002row5_col7\" class=\"data row5 col7\" >0.092506</td>\n",
              "                        <td id=\"T_ff83b19e_eb80_11eb_b15e_0242ac1c0002row5_col8\" class=\"data row5 col8\" >0.602147</td>\n",
              "                        <td id=\"T_ff83b19e_eb80_11eb_b15e_0242ac1c0002row5_col9\" class=\"data row5 col9\" >0.920466</td>\n",
              "                        <td id=\"T_ff83b19e_eb80_11eb_b15e_0242ac1c0002row5_col10\" class=\"data row5 col10\" >1.113660</td>\n",
              "                        <td id=\"T_ff83b19e_eb80_11eb_b15e_0242ac1c0002row5_col11\" class=\"data row5 col11\" >0.618447</td>\n",
              "                        <td id=\"T_ff83b19e_eb80_11eb_b15e_0242ac1c0002row5_col12\" class=\"data row5 col12\" >False</td>\n",
              "                        <td id=\"T_ff83b19e_eb80_11eb_b15e_0242ac1c0002row5_col13\" class=\"data row5 col13\" >True</td>\n",
              "                        <td id=\"T_ff83b19e_eb80_11eb_b15e_0242ac1c0002row5_col14\" class=\"data row5 col14\" >False</td>\n",
              "                        <td id=\"T_ff83b19e_eb80_11eb_b15e_0242ac1c0002row5_col15\" class=\"data row5 col15\" >False</td>\n",
              "                        <td id=\"T_ff83b19e_eb80_11eb_b15e_0242ac1c0002row5_col16\" class=\"data row5 col16\" >False</td>\n",
              "                        <td id=\"T_ff83b19e_eb80_11eb_b15e_0242ac1c0002row5_col17\" class=\"data row5 col17\" >False</td>\n",
              "                        <td id=\"T_ff83b19e_eb80_11eb_b15e_0242ac1c0002row5_col18\" class=\"data row5 col18\" >False</td>\n",
              "                        <td id=\"T_ff83b19e_eb80_11eb_b15e_0242ac1c0002row5_col19\" class=\"data row5 col19\" >True</td>\n",
              "                        <td id=\"T_ff83b19e_eb80_11eb_b15e_0242ac1c0002row5_col20\" class=\"data row5 col20\" >True</td>\n",
              "                        <td id=\"T_ff83b19e_eb80_11eb_b15e_0242ac1c0002row5_col21\" class=\"data row5 col21\" >False</td>\n",
              "                        <td id=\"T_ff83b19e_eb80_11eb_b15e_0242ac1c0002row5_col22\" class=\"data row5 col22\" >False</td>\n",
              "                        <td id=\"T_ff83b19e_eb80_11eb_b15e_0242ac1c0002row5_col23\" class=\"data row5 col23\" >False</td>\n",
              "            </tr>\n",
              "    </tbody></table>"
            ],
            "text/plain": [
              "<pandas.io.formats.style.Styler at 0x7fd392973f90>"
            ]
          },
          "metadata": {
            "tags": []
          },
          "execution_count": 23
        }
      ]
    },
    {
      "cell_type": "markdown",
      "metadata": {
        "id": "9gLYkxMra4Fn"
      },
      "source": [
        "As stated, the first reference group for comparing disparities is Caucasian. As the table shows, the higher and lower disparity rates are in accordance with the previous absolute metrics. Like previously, the fpr and fnr have clear disparities between Caucasian and African-American/Native American. These last two groups have a much higher number of persons being falsely classified as medium or high risks; 1.9 times more for African-Americans and 1.59 times more for Native Americans. <br>\n",
        "To make it more visual, some graphical figures will be subsequently plotted."
      ]
    },
    {
      "cell_type": "code",
      "metadata": {
        "colab": {
          "base_uri": "https://localhost:8080/",
          "height": 620
        },
        "id": "UW_rgo0Wc6Jk",
        "outputId": "3da5331c-f784-4a30-9017-d3e4676ac58d"
      },
      "source": [
        "#plotting disparities using the previous reference indicators\n",
        "ap.disparity(bdf, metrics, 'race', fairness_threshold = disparity_tolerance)"
      ],
      "execution_count": 24,
      "outputs": [
        {
          "output_type": "execute_result",
          "data": {
            "text/plain": [
              "alt.LayerChart(...)"
            ],
            "text/html": [
              "\n",
              "<div id=\"altair-viz-53043d862adc470fab548de8ccbcf3e1\"></div>\n",
              "<script type=\"text/javascript\">\n",
              "  (function(spec, embedOpt){\n",
              "    let outputDiv = document.currentScript.previousElementSibling;\n",
              "    if (outputDiv.id !== \"altair-viz-53043d862adc470fab548de8ccbcf3e1\") {\n",
              "      outputDiv = document.getElementById(\"altair-viz-53043d862adc470fab548de8ccbcf3e1\");\n",
              "    }\n",
              "    const paths = {\n",
              "      \"vega\": \"https://cdn.jsdelivr.net/npm//vega@5?noext\",\n",
              "      \"vega-lib\": \"https://cdn.jsdelivr.net/npm//vega-lib?noext\",\n",
              "      \"vega-lite\": \"https://cdn.jsdelivr.net/npm//vega-lite@4.8.1?noext\",\n",
              "      \"vega-embed\": \"https://cdn.jsdelivr.net/npm//vega-embed@6?noext\",\n",
              "    };\n",
              "\n",
              "    function loadScript(lib) {\n",
              "      return new Promise(function(resolve, reject) {\n",
              "        var s = document.createElement('script');\n",
              "        s.src = paths[lib];\n",
              "        s.async = true;\n",
              "        s.onload = () => resolve(paths[lib]);\n",
              "        s.onerror = () => reject(`Error loading script: ${paths[lib]}`);\n",
              "        document.getElementsByTagName(\"head\")[0].appendChild(s);\n",
              "      });\n",
              "    }\n",
              "\n",
              "    function showError(err) {\n",
              "      outputDiv.innerHTML = `<div class=\"error\" style=\"color:red;\">${err}</div>`;\n",
              "      throw err;\n",
              "    }\n",
              "\n",
              "    function displayChart(vegaEmbed) {\n",
              "      vegaEmbed(outputDiv, spec, embedOpt)\n",
              "        .catch(err => showError(`Javascript Error: ${err.message}<br>This usually means there's a typo in your chart specification. See the javascript console for the full traceback.`));\n",
              "    }\n",
              "\n",
              "    if(typeof define === \"function\" && define.amd) {\n",
              "      requirejs.config({paths});\n",
              "      require([\"vega-embed\"], displayChart, err => showError(`Error loading script: ${err.message}`));\n",
              "    } else if (typeof vegaEmbed === \"function\") {\n",
              "      displayChart(vegaEmbed);\n",
              "    } else {\n",
              "      loadScript(\"vega\")\n",
              "        .then(() => loadScript(\"vega-lite\"))\n",
              "        .then(() => loadScript(\"vega-embed\"))\n",
              "        .catch(showError)\n",
              "        .then(() => displayChart(vegaEmbed));\n",
              "    }\n",
              "  })({\"config\": {\"view\": {\"continuousWidth\": 400, \"continuousHeight\": 300, \"strokeWidth\": 0}, \"axisLeft\": {\"labelColor\": \"rgb(117,117,117)\", \"labelFont\": \"Arial\", \"labelFontSize\": 16}, \"title\": {\"align\": \"center\", \"baseline\": \"middle\", \"color\": \"rgb(117,117,117)\", \"font\": \"Arial\", \"fontSize\": 20, \"fontWeight\": \"bold\"}}, \"layer\": [{\"data\": {\"name\": \"data-12dad06f611447797b5ab732ff723c02\"}, \"mark\": {\"type\": \"rule\", \"stroke\": \"rgb(117,117,117)\", \"strokeWidth\": 1.25, \"tooltip\": \"\"}, \"encoding\": {\"x\": {\"type\": \"quantitative\", \"field\": \"x\", \"scale\": {\"domain\": [-4, 4], \"range\": [40.0, 760.0]}}, \"x2\": {\"field\": \"x2\"}, \"y\": {\"type\": \"nominal\", \"axis\": {\"domain\": false, \"labelAngle\": 0, \"labelPadding\": -30, \"orient\": \"left\", \"ticks\": false, \"title\": \"\"}, \"field\": \"metric\", \"scale\": {\"domain\": [\"FPR\", \"FDR\", \"FNR\"], \"range\": [55.0, 495.0]}}}}, {\"data\": {\"name\": \"data-79dd248bdaa0ea02c535240e8ad022c8\"}, \"mark\": {\"type\": \"rule\", \"stroke\": \"rgb(117,117,117)\", \"strokeDash\": [5, 5], \"strokeWidth\": 1}, \"encoding\": {\"tooltip\": {\"value\": \"Caucasian [REF]\"}, \"x\": {\"value\": 400.0}, \"y\": {\"value\": 45.833333333333336}, \"y2\": {\"value\": 504.16666666666663}}}, {\"data\": {\"name\": \"data-91715fc5993a5f84065017610b00531e\"}, \"mark\": {\"type\": \"text\", \"align\": \"center\", \"color\": \"rgb(117,117,117)\", \"font\": \"Arial\", \"fontSize\": 12, \"fontWeight\": \"normal\", \"tooltip\": \"\"}, \"encoding\": {\"text\": {\"type\": \"nominal\", \"field\": \"label\"}, \"x\": {\"type\": \"quantitative\", \"field\": \"value\", \"scale\": {\"domain\": [-4, 4], \"range\": [40.0, 760.0]}}, \"y\": {\"value\": 38.5}}}, {\"layer\": [{\"mark\": {\"type\": \"text\", \"align\": \"left\", \"fill\": \"rgb(117,117,117)\", \"font\": \"Arial\", \"fontSize\": 12, \"fontWeight\": \"normal\", \"tooltip\": \"\"}, \"encoding\": {\"text\": {\"value\": \"Times Smaller\"}, \"x\": {\"value\": 40.0}, \"y\": {\"value\": 16.5}}}, {\"mark\": {\"type\": \"text\", \"align\": \"right\", \"fill\": \"rgb(117,117,117)\", \"font\": \"Arial\", \"fontSize\": 12, \"fontWeight\": \"normal\", \"tooltip\": \"\"}, \"encoding\": {\"text\": {\"value\": \"Times Larger\"}, \"x\": {\"value\": 760.0}, \"y\": {\"value\": 16.5}}}, {\"mark\": {\"type\": \"text\", \"align\": \"center\", \"fill\": \"rgb(117,117,117)\", \"font\": \"Arial\", \"fontSize\": 12, \"fontWeight\": \"normal\", \"tooltip\": \"\"}, \"encoding\": {\"text\": {\"value\": \"Equal\"}, \"x\": {\"value\": 400.0}, \"y\": {\"value\": 16.5}}}], \"data\": {\"name\": \"data-79dd248bdaa0ea02c535240e8ad022c8\"}}, {\"layer\": [{\"mark\": {\"type\": \"rule\", \"opacity\": 0.8, \"stroke\": \"rgb(217, 46, 28)\", \"strokeWidth\": 1.25, \"tooltip\": \"\"}, \"encoding\": {\"x\": {\"type\": \"quantitative\", \"field\": \"min\", \"scale\": {\"domain\": [-4, 4], \"range\": [40.0, 760.0]}}, \"y\": {\"value\": 55.0}, \"y2\": {\"value\": 495.0}}}, {\"mark\": {\"type\": \"rule\", \"opacity\": 0.8, \"stroke\": \"rgb(217, 46, 28)\", \"strokeWidth\": 1.25, \"tooltip\": \"\"}, \"encoding\": {\"x\": {\"type\": \"quantitative\", \"field\": \"max\", \"scale\": {\"domain\": [-4, 4], \"range\": [40.0, 760.0]}}, \"y\": {\"value\": 55.0}, \"y2\": {\"value\": 495.0}}}, {\"layer\": [{\"mark\": {\"type\": \"rect\", \"fill\": \"rgb(217, 46, 28)\", \"opacity\": 0.1, \"tooltip\": \"\"}, \"encoding\": {\"x\": {\"type\": \"quantitative\", \"field\": \"min\", \"scale\": {\"domain\": [-4, 4], \"range\": [40.0, 760.0]}}, \"x2\": {\"field\": \"lower_end\"}, \"y\": {\"value\": 55.0}, \"y2\": {\"value\": 495.0}}}, {\"mark\": {\"type\": \"rect\", \"fill\": \"rgb(217, 46, 28)\", \"opacity\": 0.1, \"tooltip\": \"\"}, \"encoding\": {\"x\": {\"type\": \"quantitative\", \"field\": \"max\", \"scale\": {\"domain\": [-4, 4], \"range\": [40.0, 760.0]}}, \"x2\": {\"field\": \"upper_end\"}, \"y\": {\"value\": 55.0}, \"y2\": {\"value\": 495.0}}}]}, {\"data\": {\"name\": \"data-79dd248bdaa0ea02c535240e8ad022c8\"}, \"mark\": {\"type\": \"text\", \"align\": \"left\", \"baseline\": \"top\", \"fill\": \"rgb(217, 46, 28)\", \"font\": \"Arial\", \"fontSize\": 12, \"fontWeight\": \"normal\", \"tooltip\": \"\"}, \"encoding\": {\"text\": {\"value\": \"The metric value for any group should not be 1.25 (or more) times smaller or larger than that of the reference group Caucasian.\"}, \"x\": {\"value\": 0}, \"y\": {\"value\": 513.3333333333334}}}], \"data\": {\"name\": \"data-9178346794b9080aea7fb0f1cee7308f\"}}, {\"layer\": [{\"mark\": \"circle\"}, {\"data\": {\"name\": \"data-f83e8c1a455488150d174dd50dbd3cae\"}, \"mark\": {\"type\": \"circle\", \"opacity\": 0.2}, \"encoding\": {\"color\": {\"condition\": {\"type\": \"nominal\", \"field\": \"attribute_value\", \"legend\": null, \"scale\": {\"domain\": [\"Caucasian\", \"African-American\", \"Asian\", \"Hispanic\", \"Native American\", \"Other\"], \"range\": [\"rgb(117,117,117)\", \"rgb(100, 143, 255)\", \"rgb(254, 97, 0)\", \"rgb(220, 38, 127)\", \"rgb(255, 176, 0)\", \"rgb(120, 94, 240)\"]}, \"selection\": \"selector017\"}, \"value\": \"rgb(224,224,224)\"}, \"size\": {\"type\": \"quantitative\", \"field\": \"group_size\", \"legend\": null, \"scale\": {\"domain\": [0, 4435.2], \"range\": [0, 4223.696789826277]}}, \"tooltip\": [{\"type\": \"nominal\", \"field\": \"attribute_value\", \"title\": \"Group\"}, {\"type\": \"nominal\", \"field\": \"tooltip_group_size\", \"title\": \"Group Size\"}, {\"type\": \"nominal\", \"field\": \"tooltip_disparity_explanation_fpr\", \"title\": \"Disparity\"}, {\"type\": \"quantitative\", \"field\": \"fpr\", \"format\": \".2f\", \"title\": \"FPR\"}], \"x\": {\"type\": \"quantitative\", \"axis\": {\"domain\": false, \"labels\": false, \"ticks\": false, \"title\": null, \"values\": [1, 2, 3, 4, -4, -3, -2, -1]}, \"field\": \"fpr_disparity_scaled\", \"scale\": {\"domain\": [-4, 4], \"range\": [40.0, 760.0]}}, \"y\": {\"type\": \"nominal\", \"axis\": {\"domain\": false, \"grid\": false, \"labels\": false, \"ticks\": false, \"title\": \" \"}, \"field\": \"metric_variable\", \"scale\": {\"domain\": [\"FPR\", \"FDR\", \"FNR\"], \"range\": [55.0, 495.0]}}}, \"selection\": {\"selector019\": {\"type\": \"multi\", \"empty\": \"all\", \"fields\": [\"attribute_value\"]}}, \"transform\": [{\"calculate\": \"'FPR'\", \"as\": \"metric_variable\"}]}, {\"data\": {\"name\": \"data-f83e8c1a455488150d174dd50dbd3cae\"}, \"mark\": {\"type\": \"circle\", \"opacity\": 0.2}, \"encoding\": {\"color\": {\"condition\": {\"type\": \"nominal\", \"field\": \"attribute_value\", \"legend\": null, \"scale\": {\"domain\": [\"Caucasian\", \"African-American\", \"Asian\", \"Hispanic\", \"Native American\", \"Other\"], \"range\": [\"rgb(117,117,117)\", \"rgb(100, 143, 255)\", \"rgb(254, 97, 0)\", \"rgb(220, 38, 127)\", \"rgb(255, 176, 0)\", \"rgb(120, 94, 240)\"]}, \"selection\": \"selector017\"}, \"value\": \"rgb(224,224,224)\"}, \"size\": {\"type\": \"quantitative\", \"field\": \"group_size\", \"legend\": null, \"scale\": {\"domain\": [0, 4435.2], \"range\": [0, 4223.696789826277]}}, \"tooltip\": [{\"type\": \"nominal\", \"field\": \"attribute_value\", \"title\": \"Group\"}, {\"type\": \"nominal\", \"field\": \"tooltip_group_size\", \"title\": \"Group Size\"}, {\"type\": \"nominal\", \"field\": \"tooltip_disparity_explanation_fdr\", \"title\": \"Disparity\"}, {\"type\": \"quantitative\", \"field\": \"fdr\", \"format\": \".2f\", \"title\": \"FDR\"}], \"x\": {\"type\": \"quantitative\", \"axis\": {\"domain\": false, \"labels\": false, \"ticks\": false, \"title\": null, \"values\": [1, 2, 3, 4, -4, -3, -2, -1]}, \"field\": \"fdr_disparity_scaled\", \"scale\": {\"domain\": [-4, 4], \"range\": [40.0, 760.0]}}, \"y\": {\"type\": \"nominal\", \"axis\": {\"domain\": false, \"grid\": false, \"labels\": false, \"ticks\": false, \"title\": \" \"}, \"field\": \"metric_variable\", \"scale\": {\"domain\": [\"FPR\", \"FDR\", \"FNR\"], \"range\": [55.0, 495.0]}}}, \"selection\": {\"selector021\": {\"type\": \"multi\", \"empty\": \"all\", \"fields\": [\"attribute_value\"]}}, \"transform\": [{\"calculate\": \"'FDR'\", \"as\": \"metric_variable\"}]}, {\"data\": {\"name\": \"data-f83e8c1a455488150d174dd50dbd3cae\"}, \"mark\": {\"type\": \"circle\", \"opacity\": 0.2}, \"encoding\": {\"color\": {\"condition\": {\"type\": \"nominal\", \"field\": \"attribute_value\", \"legend\": null, \"scale\": {\"domain\": [\"Caucasian\", \"African-American\", \"Asian\", \"Hispanic\", \"Native American\", \"Other\"], \"range\": [\"rgb(117,117,117)\", \"rgb(100, 143, 255)\", \"rgb(254, 97, 0)\", \"rgb(220, 38, 127)\", \"rgb(255, 176, 0)\", \"rgb(120, 94, 240)\"]}, \"selection\": \"selector017\"}, \"value\": \"rgb(224,224,224)\"}, \"size\": {\"type\": \"quantitative\", \"field\": \"group_size\", \"legend\": null, \"scale\": {\"domain\": [0, 4435.2], \"range\": [0, 4223.696789826277]}}, \"tooltip\": [{\"type\": \"nominal\", \"field\": \"attribute_value\", \"title\": \"Group\"}, {\"type\": \"nominal\", \"field\": \"tooltip_group_size\", \"title\": \"Group Size\"}, {\"type\": \"nominal\", \"field\": \"tooltip_disparity_explanation_fnr\", \"title\": \"Disparity\"}, {\"type\": \"quantitative\", \"field\": \"fnr\", \"format\": \".2f\", \"title\": \"FNR\"}], \"x\": {\"type\": \"quantitative\", \"axis\": {\"domain\": false, \"labels\": false, \"ticks\": false, \"title\": null, \"values\": [1, 2, 3, 4, -4, -3, -2, -1]}, \"field\": \"fnr_disparity_scaled\", \"scale\": {\"domain\": [-4, 4], \"range\": [40.0, 760.0]}}, \"y\": {\"type\": \"nominal\", \"axis\": {\"domain\": false, \"grid\": false, \"labels\": false, \"ticks\": false, \"title\": \" \"}, \"field\": \"metric_variable\", \"scale\": {\"domain\": [\"FPR\", \"FDR\", \"FNR\"], \"range\": [55.0, 495.0]}}}, \"selection\": {\"selector023\": {\"type\": \"multi\", \"empty\": \"all\", \"fields\": [\"attribute_value\"]}}, \"transform\": [{\"calculate\": \"'FNR'\", \"as\": \"metric_variable\"}]}, {\"layer\": [{\"mark\": \"point\"}, {\"data\": {\"name\": \"data-f83e8c1a455488150d174dd50dbd3cae\"}, \"mark\": {\"type\": \"point\", \"filled\": true, \"size\": 60}, \"encoding\": {\"color\": {\"condition\": {\"type\": \"nominal\", \"field\": \"attribute_value\", \"legend\": null, \"scale\": {\"domain\": [\"Caucasian\", \"African-American\", \"Asian\", \"Hispanic\", \"Native American\", \"Other\"], \"range\": [\"rgb(117,117,117)\", \"rgb(100, 143, 255)\", \"rgb(254, 97, 0)\", \"rgb(220, 38, 127)\", \"rgb(255, 176, 0)\", \"rgb(120, 94, 240)\"]}, \"selection\": \"selector017\"}, \"value\": \"rgb(224,224,224)\"}, \"shape\": {\"type\": \"nominal\", \"field\": \"attribute_value\", \"legend\": null, \"scale\": {\"domain\": [\"Caucasian\", \"African-American\", \"Asian\", \"Hispanic\", \"Native American\", \"Other\"], \"range\": [\"cross\", \"circle\", \"circle\", \"circle\", \"circle\", \"circle\"]}}, \"tooltip\": [{\"type\": \"nominal\", \"field\": \"attribute_value\", \"title\": \"Group\"}, {\"type\": \"nominal\", \"field\": \"tooltip_group_size\", \"title\": \"Group Size\"}, {\"type\": \"nominal\", \"field\": \"tooltip_disparity_explanation_fpr\", \"title\": \"Disparity\"}, {\"type\": \"quantitative\", \"field\": \"fpr\", \"format\": \".2f\", \"title\": \"FPR\"}], \"x\": {\"type\": \"quantitative\", \"axis\": {\"domain\": false, \"labels\": false, \"ticks\": false, \"title\": null, \"values\": [1, 2, 3, 4, -4, -3, -2, -1]}, \"field\": \"fpr_disparity_scaled\", \"scale\": {\"domain\": [-4, 4], \"range\": [40.0, 760.0]}}, \"y\": {\"type\": \"nominal\", \"axis\": {\"domain\": false, \"grid\": false, \"labels\": false, \"ticks\": false, \"title\": \" \"}, \"field\": \"metric_variable\", \"scale\": {\"domain\": [\"FPR\", \"FDR\", \"FNR\"], \"range\": [55.0, 495.0]}}}, \"selection\": {\"selector018\": {\"type\": \"multi\", \"empty\": \"all\", \"fields\": [\"attribute_value\"]}}, \"transform\": [{\"calculate\": \"'FPR'\", \"as\": \"metric_variable\"}]}, {\"data\": {\"name\": \"data-f83e8c1a455488150d174dd50dbd3cae\"}, \"mark\": {\"type\": \"point\", \"filled\": true, \"size\": 60}, \"encoding\": {\"color\": {\"condition\": {\"type\": \"nominal\", \"field\": \"attribute_value\", \"legend\": null, \"scale\": {\"domain\": [\"Caucasian\", \"African-American\", \"Asian\", \"Hispanic\", \"Native American\", \"Other\"], \"range\": [\"rgb(117,117,117)\", \"rgb(100, 143, 255)\", \"rgb(254, 97, 0)\", \"rgb(220, 38, 127)\", \"rgb(255, 176, 0)\", \"rgb(120, 94, 240)\"]}, \"selection\": \"selector017\"}, \"value\": \"rgb(224,224,224)\"}, \"shape\": {\"type\": \"nominal\", \"field\": \"attribute_value\", \"legend\": null, \"scale\": {\"domain\": [\"Caucasian\", \"African-American\", \"Asian\", \"Hispanic\", \"Native American\", \"Other\"], \"range\": [\"cross\", \"circle\", \"circle\", \"circle\", \"circle\", \"circle\"]}}, \"tooltip\": [{\"type\": \"nominal\", \"field\": \"attribute_value\", \"title\": \"Group\"}, {\"type\": \"nominal\", \"field\": \"tooltip_group_size\", \"title\": \"Group Size\"}, {\"type\": \"nominal\", \"field\": \"tooltip_disparity_explanation_fdr\", \"title\": \"Disparity\"}, {\"type\": \"quantitative\", \"field\": \"fdr\", \"format\": \".2f\", \"title\": \"FDR\"}], \"x\": {\"type\": \"quantitative\", \"axis\": {\"domain\": false, \"labels\": false, \"ticks\": false, \"title\": null, \"values\": [1, 2, 3, 4, -4, -3, -2, -1]}, \"field\": \"fdr_disparity_scaled\", \"scale\": {\"domain\": [-4, 4], \"range\": [40.0, 760.0]}}, \"y\": {\"type\": \"nominal\", \"axis\": {\"domain\": false, \"grid\": false, \"labels\": false, \"ticks\": false, \"title\": \" \"}, \"field\": \"metric_variable\", \"scale\": {\"domain\": [\"FPR\", \"FDR\", \"FNR\"], \"range\": [55.0, 495.0]}}}, \"selection\": {\"selector020\": {\"type\": \"multi\", \"empty\": \"all\", \"fields\": [\"attribute_value\"]}}, \"transform\": [{\"calculate\": \"'FDR'\", \"as\": \"metric_variable\"}]}, {\"data\": {\"name\": \"data-f83e8c1a455488150d174dd50dbd3cae\"}, \"mark\": {\"type\": \"point\", \"filled\": true, \"size\": 60}, \"encoding\": {\"color\": {\"condition\": {\"type\": \"nominal\", \"field\": \"attribute_value\", \"legend\": null, \"scale\": {\"domain\": [\"Caucasian\", \"African-American\", \"Asian\", \"Hispanic\", \"Native American\", \"Other\"], \"range\": [\"rgb(117,117,117)\", \"rgb(100, 143, 255)\", \"rgb(254, 97, 0)\", \"rgb(220, 38, 127)\", \"rgb(255, 176, 0)\", \"rgb(120, 94, 240)\"]}, \"selection\": \"selector017\"}, \"value\": \"rgb(224,224,224)\"}, \"shape\": {\"type\": \"nominal\", \"field\": \"attribute_value\", \"legend\": null, \"scale\": {\"domain\": [\"Caucasian\", \"African-American\", \"Asian\", \"Hispanic\", \"Native American\", \"Other\"], \"range\": [\"cross\", \"circle\", \"circle\", \"circle\", \"circle\", \"circle\"]}}, \"tooltip\": [{\"type\": \"nominal\", \"field\": \"attribute_value\", \"title\": \"Group\"}, {\"type\": \"nominal\", \"field\": \"tooltip_group_size\", \"title\": \"Group Size\"}, {\"type\": \"nominal\", \"field\": \"tooltip_disparity_explanation_fnr\", \"title\": \"Disparity\"}, {\"type\": \"quantitative\", \"field\": \"fnr\", \"format\": \".2f\", \"title\": \"FNR\"}], \"x\": {\"type\": \"quantitative\", \"axis\": {\"domain\": false, \"labels\": false, \"ticks\": false, \"title\": null, \"values\": [1, 2, 3, 4, -4, -3, -2, -1]}, \"field\": \"fnr_disparity_scaled\", \"scale\": {\"domain\": [-4, 4], \"range\": [40.0, 760.0]}}, \"y\": {\"type\": \"nominal\", \"axis\": {\"domain\": false, \"grid\": false, \"labels\": false, \"ticks\": false, \"title\": \" \"}, \"field\": \"metric_variable\", \"scale\": {\"domain\": [\"FPR\", \"FDR\", \"FNR\"], \"range\": [55.0, 495.0]}}}, \"selection\": {\"selector022\": {\"type\": \"multi\", \"empty\": \"all\", \"fields\": [\"attribute_value\"]}}, \"transform\": [{\"calculate\": \"'FNR'\", \"as\": \"metric_variable\"}]}]}]}, {\"layer\": [{\"mark\": {\"type\": \"point\", \"filled\": true, \"opacity\": 1, \"size\": 39.47841760435743}, \"encoding\": {\"color\": {\"condition\": {\"type\": \"nominal\", \"field\": \"attribute_value\", \"legend\": null, \"scale\": {\"domain\": [\"Caucasian\", \"African-American\", \"Asian\", \"Hispanic\", \"Native American\", \"Other\"], \"range\": [\"rgb(117,117,117)\", \"rgb(100, 143, 255)\", \"rgb(254, 97, 0)\", \"rgb(220, 38, 127)\", \"rgb(255, 176, 0)\", \"rgb(120, 94, 240)\"]}, \"selection\": \"selector017\"}, \"value\": \"rgb(224,224,224)\"}, \"shape\": {\"type\": \"nominal\", \"field\": \"attribute_value\", \"legend\": null, \"scale\": {\"domain\": [\"Caucasian\", \"African-American\", \"Asian\", \"Hispanic\", \"Native American\", \"Other\"], \"range\": [\"cross\", \"circle\", \"circle\", \"circle\", \"circle\", \"circle\"]}}, \"x\": {\"value\": 804}, \"y\": {\"type\": \"nominal\", \"axis\": {\"domain\": false, \"grid\": false, \"labels\": false, \"ticks\": false, \"title\": \" \"}, \"field\": \"attribute_value\", \"scale\": {\"domain\": [\"Caucasian\", \"African-American\", \"Asian\", \"Hispanic\", \"Native American\", \"Other\"], \"range\": [71, 213]}}}, \"selection\": {\"selector017\": {\"type\": \"multi\", \"empty\": \"all\", \"fields\": [\"attribute_value\"]}}}, {\"mark\": {\"type\": \"text\", \"align\": \"left\", \"baseline\": \"middle\", \"font\": \"Arial\", \"fontSize\": 12, \"fontWeight\": \"normal\"}, \"encoding\": {\"color\": {\"condition\": {\"type\": \"nominal\", \"field\": \"attribute_value\", \"legend\": null, \"scale\": {\"domain\": [\"Caucasian\", \"African-American\", \"Asian\", \"Hispanic\", \"Native American\", \"Other\"], \"range\": [\"rgb(117,117,117)\", \"rgb(100, 143, 255)\", \"rgb(254, 97, 0)\", \"rgb(220, 38, 127)\", \"rgb(255, 176, 0)\", \"rgb(120, 94, 240)\"]}, \"selection\": \"selector017\"}, \"value\": \"rgb(224,224,224)\"}, \"text\": {\"type\": \"nominal\", \"field\": \"label\"}, \"x\": {\"value\": 812}, \"y\": {\"type\": \"nominal\", \"axis\": {\"domain\": false, \"grid\": false, \"labels\": false, \"ticks\": false, \"title\": \" \"}, \"field\": \"attribute_value\", \"scale\": {\"domain\": [\"Caucasian\", \"African-American\", \"Asian\", \"Hispanic\", \"Native American\", \"Other\"], \"range\": [71, 213]}}}, \"selection\": {\"selector024\": {\"type\": \"multi\", \"empty\": \"all\", \"fields\": [\"attribute_value\"]}}}, {\"data\": {\"name\": \"data-79dd248bdaa0ea02c535240e8ad022c8\"}, \"mark\": {\"type\": \"text\", \"align\": \"left\", \"baseline\": \"middle\", \"color\": \"rgb(117,117,117)\", \"font\": \"Arial\", \"fontSize\": 12, \"fontWeight\": \"normal\"}, \"encoding\": {\"text\": {\"value\": \"Click to highlight a group.\"}, \"x\": {\"value\": 800}, \"y\": {\"value\": 49}}}, {\"data\": {\"name\": \"data-79dd248bdaa0ea02c535240e8ad022c8\"}, \"mark\": {\"type\": \"text\", \"align\": \"left\", \"baseline\": \"middle\", \"color\": \"rgb(117,117,117)\", \"font\": \"Arial\", \"fontSize\": 14, \"fontWeight\": \"normal\"}, \"encoding\": {\"text\": {\"value\": \"Groups\"}, \"x\": {\"value\": 800}, \"y\": {\"value\": 30}}}], \"data\": {\"name\": \"data-88ed55fc5802429837a290e492c87da9\"}}], \"height\": 550, \"padding\": {\"top\": 15, \"bottom\": 10}, \"resolve\": {\"scale\": {\"size\": \"independent\", \"y\": \"independent\"}}, \"title\": \"Disparities on Race\", \"width\": 800, \"$schema\": \"https://vega.github.io/schema/vega-lite/v4.8.1.json\", \"datasets\": {\"data-12dad06f611447797b5ab732ff723c02\": [{\"metric\": \"FPR\", \"x\": -4, \"x2\": 4}, {\"metric\": \"FDR\", \"x\": -4, \"x2\": 4}, {\"metric\": \"FNR\", \"x\": -4, \"x2\": 4}], \"data-79dd248bdaa0ea02c535240e8ad022c8\": [{\"a\": 1, \"b\": 0}, {\"a\": 1, \"b\": 0}], \"data-91715fc5993a5f84065017610b00531e\": [{\"value\": 1, \"label\": 2}, {\"value\": 2, \"label\": 3}, {\"value\": 3, \"label\": 4}, {\"value\": 4, \"label\": 5}, {\"value\": -4, \"label\": 5}, {\"value\": -3, \"label\": 4}, {\"value\": -2, \"label\": 3}, {\"value\": -1, \"label\": 2}, {\"value\": 0, \"label\": \"=\"}], \"data-9178346794b9080aea7fb0f1cee7308f\": [{\"min\": -0.25, \"max\": 0.25, \"lower_end\": -4, \"upper_end\": 4}], \"data-f83e8c1a455488150d174dd50dbd3cae\": [{\"attribute_name\": \"race\", \"attribute_value\": \"African-American\", \"group_size\": 3696, \"total_entities\": 7214, \"fpr\": 0.44846796657381616, \"fdr\": 0.3702851885924563, \"fnr\": 0.27985270910047344, \"fpr_disparity\": 1.9120926483147231, \"fdr_disparity\": 0.9060846735185033, \"fnr_disparity\": 0.5864158719979552, \"fpr_disparity_scaled\": 0.9120926483147231, \"fdr_disparity_scaled\": -0.10364961380132964, \"fnr_disparity_scaled\": -0.7052744438736593, \"tooltip_group_size\": \"3,696 (51.23%)\", \"tooltip_disparity_explanation_fpr\": \"1.91 times larger FPR than the reference group\", \"tooltip_disparity_explanation_fdr\": \"1.10 times smaller FDR than the reference group\", \"tooltip_disparity_explanation_fnr\": \"1.71 times smaller FNR than the reference group\"}, {\"attribute_name\": \"race\", \"attribute_value\": \"Asian\", \"group_size\": 32, \"total_entities\": 7214, \"fpr\": 0.08695652173913043, \"fdr\": 0.25, \"fnr\": 0.3333333333333333, \"fpr_disparity\": 0.37074872305967355, \"fdr_disparity\": 0.6117478510028653, \"fnr_disparity\": 0.6984815618221257, \"fpr_disparity_scaled\": -1.6972446236559144, \"fdr_disparity_scaled\": -0.6346604215456675, \"fnr_disparity_scaled\": -0.4316770186335406, \"tooltip_group_size\": \"32 (0.44%)\", \"tooltip_disparity_explanation_fpr\": \"2.70 times smaller FPR than the reference group\", \"tooltip_disparity_explanation_fdr\": \"1.63 times smaller FDR than the reference group\", \"tooltip_disparity_explanation_fnr\": \"1.43 times smaller FNR than the reference group\"}, {\"attribute_name\": \"race\", \"attribute_value\": \"Caucasian\", \"group_size\": 2454, \"total_entities\": 7214, \"fpr\": 0.23454301075268819, \"fdr\": 0.40866510538641687, \"fnr\": 0.4772256728778468, \"fpr_disparity\": 1.0, \"fdr_disparity\": 1.0, \"fnr_disparity\": 1.0, \"fpr_disparity_scaled\": 0.0, \"fdr_disparity_scaled\": 0.0, \"fnr_disparity_scaled\": 0.0, \"tooltip_group_size\": \"2,454 (34.02%)\", \"tooltip_disparity_explanation_fpr\": \"Reference group\", \"tooltip_disparity_explanation_fdr\": \"Reference group\", \"tooltip_disparity_explanation_fnr\": \"Reference group\"}, {\"attribute_name\": \"race\", \"attribute_value\": \"Hispanic\", \"group_size\": 637, \"total_entities\": 7214, \"fpr\": 0.21481481481481482, \"fdr\": 0.45789473684210524, \"fnr\": 0.5560344827586207, \"fpr_disparity\": 0.9158866602992677, \"fdr_disparity\": 1.1204644849947216, \"fnr_disparity\": 1.1651395018325978, \"fpr_disparity_scaled\": -0.09183815350389324, \"fdr_disparity_scaled\": 0.12046448499472162, \"fnr_disparity_scaled\": 0.16513950183259785, \"tooltip_group_size\": \"637 (8.83%)\", \"tooltip_disparity_explanation_fpr\": \"1.09 times smaller FPR than the reference group\", \"tooltip_disparity_explanation_fdr\": \"1.12 times larger FDR than the reference group\", \"tooltip_disparity_explanation_fnr\": \"1.17 times larger FNR than the reference group\"}, {\"attribute_name\": \"race\", \"attribute_value\": \"Native American\", \"group_size\": 18, \"total_entities\": 7214, \"fpr\": 0.375, \"fdr\": 0.25, \"fnr\": 0.1, \"fpr_disparity\": 1.5988538681948423, \"fdr_disparity\": 0.6117478510028653, \"fnr_disparity\": 0.20954446854663775, \"fpr_disparity_scaled\": 0.5988538681948423, \"fdr_disparity_scaled\": -0.6346604215456675, \"fnr_disparity_scaled\": -3.7722567287784683, \"tooltip_group_size\": \"18 (0.25%)\", \"tooltip_disparity_explanation_fpr\": \"1.60 times larger FPR than the reference group\", \"tooltip_disparity_explanation_fdr\": \"1.63 times smaller FDR than the reference group\", \"tooltip_disparity_explanation_fnr\": \"4.77 times smaller FNR than the reference group\"}, {\"attribute_name\": \"race\", \"attribute_value\": \"Other\", \"group_size\": 377, \"total_entities\": 7214, \"fpr\": 0.14754098360655737, \"fdr\": 0.45569620253164556, \"fnr\": 0.6766917293233082, \"fpr_disparity\": 0.6290572596176429, \"fdr_disparity\": 1.1150846904356027, \"fnr_disparity\": 1.4179700879095787, \"fpr_disparity_scaled\": -0.5896804062126644, \"fdr_disparity_scaled\": 0.11508469043560265, \"fnr_disparity_scaled\": 0.4179700879095787, \"tooltip_group_size\": \"377 (5.23%)\", \"tooltip_disparity_explanation_fpr\": \"1.59 times smaller FPR than the reference group\", \"tooltip_disparity_explanation_fdr\": \"1.12 times larger FDR than the reference group\", \"tooltip_disparity_explanation_fnr\": \"1.42 times larger FNR than the reference group\"}], \"data-88ed55fc5802429837a290e492c87da9\": [{\"attribute_value\": \"Caucasian\", \"label\": \"Caucasian [REF]\"}, {\"attribute_value\": \"African-American\", \"label\": \"African-American\"}, {\"attribute_value\": \"Asian\", \"label\": \"Asian\"}, {\"attribute_value\": \"Hispanic\", \"label\": \"Hispanic\"}, {\"attribute_value\": \"Native American\", \"label\": \"Native American\"}, {\"attribute_value\": \"Other\", \"label\": \"Other\"}]}}, {\"mode\": \"vega-lite\"});\n",
              "</script>"
            ]
          },
          "metadata": {
            "tags": []
          },
          "execution_count": 24
        }
      ]
    },
    {
      "cell_type": "markdown",
      "metadata": {
        "id": "1ygw3E5oeI1m"
      },
      "source": [
        "Disparities for Hispanic are now computed."
      ]
    },
    {
      "cell_type": "code",
      "metadata": {
        "colab": {
          "base_uri": "https://localhost:8080/",
          "height": 227
        },
        "id": "i2mDiGIneMyd",
        "outputId": "5773651e-ae00-401e-a4ae-b0edcf7d3859"
      },
      "source": [
        "#putting disparity to compare to Hispanic\n",
        "bdf_hispanic = b.get_disparity_predefined_groups(xtab, original_df=df_race, \n",
        "                                        ref_groups_dict={'race':'Hispanic'}, \n",
        "                                        alpha=0.05, check_significance=True, \n",
        "                                        mask_significance=True)\n",
        "bdf_hispanic[['attribute_name', 'attribute_value'] +\n",
        "     b.list_disparities(bdf_hispanic) + b.list_significance(bdf_hispanic)].style"
      ],
      "execution_count": 25,
      "outputs": [
        {
          "output_type": "stream",
          "text": [
            "get_disparity_predefined_group()\n"
          ],
          "name": "stdout"
        },
        {
          "output_type": "execute_result",
          "data": {
            "text/html": [
              "<style  type=\"text/css\" >\n",
              "</style><table id=\"T_070827ce_eb81_11eb_b15e_0242ac1c0002\" ><thead>    <tr>        <th class=\"blank level0\" ></th>        <th class=\"col_heading level0 col0\" >attribute_name</th>        <th class=\"col_heading level0 col1\" >attribute_value</th>        <th class=\"col_heading level0 col2\" >fdr_disparity</th>        <th class=\"col_heading level0 col3\" >fnr_disparity</th>        <th class=\"col_heading level0 col4\" >for_disparity</th>        <th class=\"col_heading level0 col5\" >fpr_disparity</th>        <th class=\"col_heading level0 col6\" >npv_disparity</th>        <th class=\"col_heading level0 col7\" >ppr_disparity</th>        <th class=\"col_heading level0 col8\" >pprev_disparity</th>        <th class=\"col_heading level0 col9\" >precision_disparity</th>        <th class=\"col_heading level0 col10\" >tnr_disparity</th>        <th class=\"col_heading level0 col11\" >tpr_disparity</th>        <th class=\"col_heading level0 col12\" >label_value_significance</th>        <th class=\"col_heading level0 col13\" >score_significance</th>        <th class=\"col_heading level0 col14\" >fdr_significance</th>        <th class=\"col_heading level0 col15\" >fnr_significance</th>        <th class=\"col_heading level0 col16\" >for_significance</th>        <th class=\"col_heading level0 col17\" >fpr_significance</th>        <th class=\"col_heading level0 col18\" >npv_significance</th>        <th class=\"col_heading level0 col19\" >ppr_significance</th>        <th class=\"col_heading level0 col20\" >pprev_significance</th>        <th class=\"col_heading level0 col21\" >precision_significance</th>        <th class=\"col_heading level0 col22\" >tnr_significance</th>        <th class=\"col_heading level0 col23\" >tpr_significance</th>    </tr></thead><tbody>\n",
              "                <tr>\n",
              "                        <th id=\"T_070827ce_eb81_11eb_b15e_0242ac1c0002level0_row0\" class=\"row_heading level0 row0\" >0</th>\n",
              "                        <td id=\"T_070827ce_eb81_11eb_b15e_0242ac1c0002row0_col0\" class=\"data row0 col0\" >race</td>\n",
              "                        <td id=\"T_070827ce_eb81_11eb_b15e_0242ac1c0002row0_col1\" class=\"data row0 col1\" >African-American</td>\n",
              "                        <td id=\"T_070827ce_eb81_11eb_b15e_0242ac1c0002row0_col2\" class=\"data row0 col2\" >0.808669</td>\n",
              "                        <td id=\"T_070827ce_eb81_11eb_b15e_0242ac1c0002row0_col3\" class=\"data row0 col3\" >0.503301</td>\n",
              "                        <td id=\"T_070827ce_eb81_11eb_b15e_0242ac1c0002row0_col4\" class=\"data row0 col4\" >1.211197</td>\n",
              "                        <td id=\"T_070827ce_eb81_11eb_b15e_0242ac1c0002row0_col5\" class=\"data row0 col5\" >2.087696</td>\n",
              "                        <td id=\"T_070827ce_eb81_11eb_b15e_0242ac1c0002row0_col6\" class=\"data row0 col6\" >0.914326</td>\n",
              "                        <td id=\"T_070827ce_eb81_11eb_b15e_0242ac1c0002row0_col7\" class=\"data row0 col7\" >11.442105</td>\n",
              "                        <td id=\"T_070827ce_eb81_11eb_b15e_0242ac1c0002row0_col8\" class=\"data row0 col8\" >1.972030</td>\n",
              "                        <td id=\"T_070827ce_eb81_11eb_b15e_0242ac1c0002row0_col9\" class=\"data row0 col9\" >1.161610</td>\n",
              "                        <td id=\"T_070827ce_eb81_11eb_b15e_0242ac1c0002row0_col10\" class=\"data row0 col10\" >0.702423</td>\n",
              "                        <td id=\"T_070827ce_eb81_11eb_b15e_0242ac1c0002row0_col11\" class=\"data row0 col11\" >1.622079</td>\n",
              "                        <td id=\"T_070827ce_eb81_11eb_b15e_0242ac1c0002row0_col12\" class=\"data row0 col12\" >True</td>\n",
              "                        <td id=\"T_070827ce_eb81_11eb_b15e_0242ac1c0002row0_col13\" class=\"data row0 col13\" >True</td>\n",
              "                        <td id=\"T_070827ce_eb81_11eb_b15e_0242ac1c0002row0_col14\" class=\"data row0 col14\" >True</td>\n",
              "                        <td id=\"T_070827ce_eb81_11eb_b15e_0242ac1c0002row0_col15\" class=\"data row0 col15\" >True</td>\n",
              "                        <td id=\"T_070827ce_eb81_11eb_b15e_0242ac1c0002row0_col16\" class=\"data row0 col16\" >True</td>\n",
              "                        <td id=\"T_070827ce_eb81_11eb_b15e_0242ac1c0002row0_col17\" class=\"data row0 col17\" >True</td>\n",
              "                        <td id=\"T_070827ce_eb81_11eb_b15e_0242ac1c0002row0_col18\" class=\"data row0 col18\" >True</td>\n",
              "                        <td id=\"T_070827ce_eb81_11eb_b15e_0242ac1c0002row0_col19\" class=\"data row0 col19\" >True</td>\n",
              "                        <td id=\"T_070827ce_eb81_11eb_b15e_0242ac1c0002row0_col20\" class=\"data row0 col20\" >True</td>\n",
              "                        <td id=\"T_070827ce_eb81_11eb_b15e_0242ac1c0002row0_col21\" class=\"data row0 col21\" >True</td>\n",
              "                        <td id=\"T_070827ce_eb81_11eb_b15e_0242ac1c0002row0_col22\" class=\"data row0 col22\" >True</td>\n",
              "                        <td id=\"T_070827ce_eb81_11eb_b15e_0242ac1c0002row0_col23\" class=\"data row0 col23\" >True</td>\n",
              "            </tr>\n",
              "            <tr>\n",
              "                        <th id=\"T_070827ce_eb81_11eb_b15e_0242ac1c0002level0_row1\" class=\"row_heading level0 row1\" >1</th>\n",
              "                        <td id=\"T_070827ce_eb81_11eb_b15e_0242ac1c0002row1_col0\" class=\"data row1 col0\" >race</td>\n",
              "                        <td id=\"T_070827ce_eb81_11eb_b15e_0242ac1c0002row1_col1\" class=\"data row1 col1\" >Asian</td>\n",
              "                        <td id=\"T_070827ce_eb81_11eb_b15e_0242ac1c0002row1_col2\" class=\"data row1 col2\" >0.545977</td>\n",
              "                        <td id=\"T_070827ce_eb81_11eb_b15e_0242ac1c0002row1_col3\" class=\"data row1 col3\" >0.599483</td>\n",
              "                        <td id=\"T_070827ce_eb81_11eb_b15e_0242ac1c0002row1_col4\" class=\"data row1 col4\" >0.433140</td>\n",
              "                        <td id=\"T_070827ce_eb81_11eb_b15e_0242ac1c0002row1_col5\" class=\"data row1 col5\" >0.404798</td>\n",
              "                        <td id=\"T_070827ce_eb81_11eb_b15e_0242ac1c0002row1_col6\" class=\"data row1 col6\" >1.229953</td>\n",
              "                        <td id=\"T_070827ce_eb81_11eb_b15e_0242ac1c0002row1_col7\" class=\"data row1 col7\" >0.042105</td>\n",
              "                        <td id=\"T_070827ce_eb81_11eb_b15e_0242ac1c0002row1_col8\" class=\"data row1 col8\" >0.838158</td>\n",
              "                        <td id=\"T_070827ce_eb81_11eb_b15e_0242ac1c0002row1_col9\" class=\"data row1 col9\" >1.383495</td>\n",
              "                        <td id=\"T_070827ce_eb81_11eb_b15e_0242ac1c0002row1_col10\" class=\"data row1 col10\" >1.162838</td>\n",
              "                        <td id=\"T_070827ce_eb81_11eb_b15e_0242ac1c0002row1_col11\" class=\"data row1 col11\" >1.501618</td>\n",
              "                        <td id=\"T_070827ce_eb81_11eb_b15e_0242ac1c0002row1_col12\" class=\"data row1 col12\" >False</td>\n",
              "                        <td id=\"T_070827ce_eb81_11eb_b15e_0242ac1c0002row1_col13\" class=\"data row1 col13\" >False</td>\n",
              "                        <td id=\"T_070827ce_eb81_11eb_b15e_0242ac1c0002row1_col14\" class=\"data row1 col14\" >False</td>\n",
              "                        <td id=\"T_070827ce_eb81_11eb_b15e_0242ac1c0002row1_col15\" class=\"data row1 col15\" >False</td>\n",
              "                        <td id=\"T_070827ce_eb81_11eb_b15e_0242ac1c0002row1_col16\" class=\"data row1 col16\" >False</td>\n",
              "                        <td id=\"T_070827ce_eb81_11eb_b15e_0242ac1c0002row1_col17\" class=\"data row1 col17\" >False</td>\n",
              "                        <td id=\"T_070827ce_eb81_11eb_b15e_0242ac1c0002row1_col18\" class=\"data row1 col18\" >False</td>\n",
              "                        <td id=\"T_070827ce_eb81_11eb_b15e_0242ac1c0002row1_col19\" class=\"data row1 col19\" >False</td>\n",
              "                        <td id=\"T_070827ce_eb81_11eb_b15e_0242ac1c0002row1_col20\" class=\"data row1 col20\" >False</td>\n",
              "                        <td id=\"T_070827ce_eb81_11eb_b15e_0242ac1c0002row1_col21\" class=\"data row1 col21\" >False</td>\n",
              "                        <td id=\"T_070827ce_eb81_11eb_b15e_0242ac1c0002row1_col22\" class=\"data row1 col22\" >False</td>\n",
              "                        <td id=\"T_070827ce_eb81_11eb_b15e_0242ac1c0002row1_col23\" class=\"data row1 col23\" >False</td>\n",
              "            </tr>\n",
              "            <tr>\n",
              "                        <th id=\"T_070827ce_eb81_11eb_b15e_0242ac1c0002level0_row2\" class=\"row_heading level0 row2\" >2</th>\n",
              "                        <td id=\"T_070827ce_eb81_11eb_b15e_0242ac1c0002row2_col0\" class=\"data row2 col0\" >race</td>\n",
              "                        <td id=\"T_070827ce_eb81_11eb_b15e_0242ac1c0002row2_col1\" class=\"data row2 col1\" >Caucasian</td>\n",
              "                        <td id=\"T_070827ce_eb81_11eb_b15e_0242ac1c0002row2_col2\" class=\"data row2 col2\" >0.892487</td>\n",
              "                        <td id=\"T_070827ce_eb81_11eb_b15e_0242ac1c0002row2_col3\" class=\"data row2 col3\" >0.858266</td>\n",
              "                        <td id=\"T_070827ce_eb81_11eb_b15e_0242ac1c0002row2_col4\" class=\"data row2 col4\" >0.998387</td>\n",
              "                        <td id=\"T_070827ce_eb81_11eb_b15e_0242ac1c0002row2_col5\" class=\"data row2 col5\" >1.091838</td>\n",
              "                        <td id=\"T_070827ce_eb81_11eb_b15e_0242ac1c0002row2_col6\" class=\"data row2 col6\" >1.000654</td>\n",
              "                        <td id=\"T_070827ce_eb81_11eb_b15e_0242ac1c0002row2_col7\" class=\"data row2 col7\" >4.494737</td>\n",
              "                        <td id=\"T_070827ce_eb81_11eb_b15e_0242ac1c0002row2_col8\" class=\"data row2 col8\" >1.166727</td>\n",
              "                        <td id=\"T_070827ce_eb81_11eb_b15e_0242ac1c0002row2_col9\" class=\"data row2 col9\" >1.090812</td>\n",
              "                        <td id=\"T_070827ce_eb81_11eb_b15e_0242ac1c0002row2_col10\" class=\"data row2 col10\" >0.974874</td>\n",
              "                        <td id=\"T_070827ce_eb81_11eb_b15e_0242ac1c0002row2_col11\" class=\"data row2 col11\" >1.177511</td>\n",
              "                        <td id=\"T_070827ce_eb81_11eb_b15e_0242ac1c0002row2_col12\" class=\"data row2 col12\" >False</td>\n",
              "                        <td id=\"T_070827ce_eb81_11eb_b15e_0242ac1c0002row2_col13\" class=\"data row2 col13\" >True</td>\n",
              "                        <td id=\"T_070827ce_eb81_11eb_b15e_0242ac1c0002row2_col14\" class=\"data row2 col14\" >False</td>\n",
              "                        <td id=\"T_070827ce_eb81_11eb_b15e_0242ac1c0002row2_col15\" class=\"data row2 col15\" >False</td>\n",
              "                        <td id=\"T_070827ce_eb81_11eb_b15e_0242ac1c0002row2_col16\" class=\"data row2 col16\" >False</td>\n",
              "                        <td id=\"T_070827ce_eb81_11eb_b15e_0242ac1c0002row2_col17\" class=\"data row2 col17\" >False</td>\n",
              "                        <td id=\"T_070827ce_eb81_11eb_b15e_0242ac1c0002row2_col18\" class=\"data row2 col18\" >False</td>\n",
              "                        <td id=\"T_070827ce_eb81_11eb_b15e_0242ac1c0002row2_col19\" class=\"data row2 col19\" >True</td>\n",
              "                        <td id=\"T_070827ce_eb81_11eb_b15e_0242ac1c0002row2_col20\" class=\"data row2 col20\" >True</td>\n",
              "                        <td id=\"T_070827ce_eb81_11eb_b15e_0242ac1c0002row2_col21\" class=\"data row2 col21\" >False</td>\n",
              "                        <td id=\"T_070827ce_eb81_11eb_b15e_0242ac1c0002row2_col22\" class=\"data row2 col22\" >False</td>\n",
              "                        <td id=\"T_070827ce_eb81_11eb_b15e_0242ac1c0002row2_col23\" class=\"data row2 col23\" >False</td>\n",
              "            </tr>\n",
              "            <tr>\n",
              "                        <th id=\"T_070827ce_eb81_11eb_b15e_0242ac1c0002level0_row3\" class=\"row_heading level0 row3\" >3</th>\n",
              "                        <td id=\"T_070827ce_eb81_11eb_b15e_0242ac1c0002row3_col0\" class=\"data row3 col0\" >race</td>\n",
              "                        <td id=\"T_070827ce_eb81_11eb_b15e_0242ac1c0002row3_col1\" class=\"data row3 col1\" >Hispanic</td>\n",
              "                        <td id=\"T_070827ce_eb81_11eb_b15e_0242ac1c0002row3_col2\" class=\"data row3 col2\" >1.000000</td>\n",
              "                        <td id=\"T_070827ce_eb81_11eb_b15e_0242ac1c0002row3_col3\" class=\"data row3 col3\" >1.000000</td>\n",
              "                        <td id=\"T_070827ce_eb81_11eb_b15e_0242ac1c0002row3_col4\" class=\"data row3 col4\" >1.000000</td>\n",
              "                        <td id=\"T_070827ce_eb81_11eb_b15e_0242ac1c0002row3_col5\" class=\"data row3 col5\" >1.000000</td>\n",
              "                        <td id=\"T_070827ce_eb81_11eb_b15e_0242ac1c0002row3_col6\" class=\"data row3 col6\" >1.000000</td>\n",
              "                        <td id=\"T_070827ce_eb81_11eb_b15e_0242ac1c0002row3_col7\" class=\"data row3 col7\" >1.000000</td>\n",
              "                        <td id=\"T_070827ce_eb81_11eb_b15e_0242ac1c0002row3_col8\" class=\"data row3 col8\" >1.000000</td>\n",
              "                        <td id=\"T_070827ce_eb81_11eb_b15e_0242ac1c0002row3_col9\" class=\"data row3 col9\" >1.000000</td>\n",
              "                        <td id=\"T_070827ce_eb81_11eb_b15e_0242ac1c0002row3_col10\" class=\"data row3 col10\" >1.000000</td>\n",
              "                        <td id=\"T_070827ce_eb81_11eb_b15e_0242ac1c0002row3_col11\" class=\"data row3 col11\" >1.000000</td>\n",
              "                        <td id=\"T_070827ce_eb81_11eb_b15e_0242ac1c0002row3_col12\" class=\"data row3 col12\" >False</td>\n",
              "                        <td id=\"T_070827ce_eb81_11eb_b15e_0242ac1c0002row3_col13\" class=\"data row3 col13\" >False</td>\n",
              "                        <td id=\"T_070827ce_eb81_11eb_b15e_0242ac1c0002row3_col14\" class=\"data row3 col14\" >False</td>\n",
              "                        <td id=\"T_070827ce_eb81_11eb_b15e_0242ac1c0002row3_col15\" class=\"data row3 col15\" >False</td>\n",
              "                        <td id=\"T_070827ce_eb81_11eb_b15e_0242ac1c0002row3_col16\" class=\"data row3 col16\" >False</td>\n",
              "                        <td id=\"T_070827ce_eb81_11eb_b15e_0242ac1c0002row3_col17\" class=\"data row3 col17\" >False</td>\n",
              "                        <td id=\"T_070827ce_eb81_11eb_b15e_0242ac1c0002row3_col18\" class=\"data row3 col18\" >False</td>\n",
              "                        <td id=\"T_070827ce_eb81_11eb_b15e_0242ac1c0002row3_col19\" class=\"data row3 col19\" >False</td>\n",
              "                        <td id=\"T_070827ce_eb81_11eb_b15e_0242ac1c0002row3_col20\" class=\"data row3 col20\" >False</td>\n",
              "                        <td id=\"T_070827ce_eb81_11eb_b15e_0242ac1c0002row3_col21\" class=\"data row3 col21\" >False</td>\n",
              "                        <td id=\"T_070827ce_eb81_11eb_b15e_0242ac1c0002row3_col22\" class=\"data row3 col22\" >False</td>\n",
              "                        <td id=\"T_070827ce_eb81_11eb_b15e_0242ac1c0002row3_col23\" class=\"data row3 col23\" >False</td>\n",
              "            </tr>\n",
              "            <tr>\n",
              "                        <th id=\"T_070827ce_eb81_11eb_b15e_0242ac1c0002level0_row4\" class=\"row_heading level0 row4\" >4</th>\n",
              "                        <td id=\"T_070827ce_eb81_11eb_b15e_0242ac1c0002row4_col0\" class=\"data row4 col0\" >race</td>\n",
              "                        <td id=\"T_070827ce_eb81_11eb_b15e_0242ac1c0002row4_col1\" class=\"data row4 col1\" >Native American</td>\n",
              "                        <td id=\"T_070827ce_eb81_11eb_b15e_0242ac1c0002row4_col2\" class=\"data row4 col2\" >0.545977</td>\n",
              "                        <td id=\"T_070827ce_eb81_11eb_b15e_0242ac1c0002row4_col3\" class=\"data row4 col3\" >0.179845</td>\n",
              "                        <td id=\"T_070827ce_eb81_11eb_b15e_0242ac1c0002row4_col4\" class=\"data row4 col4\" >0.577519</td>\n",
              "                        <td id=\"T_070827ce_eb81_11eb_b15e_0242ac1c0002row4_col5\" class=\"data row4 col5\" >1.745690</td>\n",
              "                        <td id=\"T_070827ce_eb81_11eb_b15e_0242ac1c0002row4_col6\" class=\"data row4 col6\" >1.171384</td>\n",
              "                        <td id=\"T_070827ce_eb81_11eb_b15e_0242ac1c0002row4_col7\" class=\"data row4 col7\" >0.063158</td>\n",
              "                        <td id=\"T_070827ce_eb81_11eb_b15e_0242ac1c0002row4_col8\" class=\"data row4 col8\" >2.235088</td>\n",
              "                        <td id=\"T_070827ce_eb81_11eb_b15e_0242ac1c0002row4_col9\" class=\"data row4 col9\" >1.383495</td>\n",
              "                        <td id=\"T_070827ce_eb81_11eb_b15e_0242ac1c0002row4_col10\" class=\"data row4 col10\" >0.795991</td>\n",
              "                        <td id=\"T_070827ce_eb81_11eb_b15e_0242ac1c0002row4_col11\" class=\"data row4 col11\" >2.027184</td>\n",
              "                        <td id=\"T_070827ce_eb81_11eb_b15e_0242ac1c0002row4_col12\" class=\"data row4 col12\" >False</td>\n",
              "                        <td id=\"T_070827ce_eb81_11eb_b15e_0242ac1c0002row4_col13\" class=\"data row4 col13\" >True</td>\n",
              "                        <td id=\"T_070827ce_eb81_11eb_b15e_0242ac1c0002row4_col14\" class=\"data row4 col14\" >False</td>\n",
              "                        <td id=\"T_070827ce_eb81_11eb_b15e_0242ac1c0002row4_col15\" class=\"data row4 col15\" >False</td>\n",
              "                        <td id=\"T_070827ce_eb81_11eb_b15e_0242ac1c0002row4_col16\" class=\"data row4 col16\" >False</td>\n",
              "                        <td id=\"T_070827ce_eb81_11eb_b15e_0242ac1c0002row4_col17\" class=\"data row4 col17\" >False</td>\n",
              "                        <td id=\"T_070827ce_eb81_11eb_b15e_0242ac1c0002row4_col18\" class=\"data row4 col18\" >False</td>\n",
              "                        <td id=\"T_070827ce_eb81_11eb_b15e_0242ac1c0002row4_col19\" class=\"data row4 col19\" >True</td>\n",
              "                        <td id=\"T_070827ce_eb81_11eb_b15e_0242ac1c0002row4_col20\" class=\"data row4 col20\" >True</td>\n",
              "                        <td id=\"T_070827ce_eb81_11eb_b15e_0242ac1c0002row4_col21\" class=\"data row4 col21\" >False</td>\n",
              "                        <td id=\"T_070827ce_eb81_11eb_b15e_0242ac1c0002row4_col22\" class=\"data row4 col22\" >False</td>\n",
              "                        <td id=\"T_070827ce_eb81_11eb_b15e_0242ac1c0002row4_col23\" class=\"data row4 col23\" >False</td>\n",
              "            </tr>\n",
              "            <tr>\n",
              "                        <th id=\"T_070827ce_eb81_11eb_b15e_0242ac1c0002level0_row5\" class=\"row_heading level0 row5\" >5</th>\n",
              "                        <td id=\"T_070827ce_eb81_11eb_b15e_0242ac1c0002row5_col0\" class=\"data row5 col0\" >race</td>\n",
              "                        <td id=\"T_070827ce_eb81_11eb_b15e_0242ac1c0002row5_col1\" class=\"data row5 col1\" >Other</td>\n",
              "                        <td id=\"T_070827ce_eb81_11eb_b15e_0242ac1c0002row5_col2\" class=\"data row5 col2\" >0.995199</td>\n",
              "                        <td id=\"T_070827ce_eb81_11eb_b15e_0242ac1c0002row5_col3\" class=\"data row5 col3\" >1.216996</td>\n",
              "                        <td id=\"T_070827ce_eb81_11eb_b15e_0242ac1c0002row5_col4\" class=\"data row5 col4\" >1.046512</td>\n",
              "                        <td id=\"T_070827ce_eb81_11eb_b15e_0242ac1c0002row5_col5\" class=\"data row5 col5\" >0.686829</td>\n",
              "                        <td id=\"T_070827ce_eb81_11eb_b15e_0242ac1c0002row5_col6\" class=\"data row5 col6\" >0.981132</td>\n",
              "                        <td id=\"T_070827ce_eb81_11eb_b15e_0242ac1c0002row5_col7\" class=\"data row5 col7\" >0.415789</td>\n",
              "                        <td id=\"T_070827ce_eb81_11eb_b15e_0242ac1c0002row5_col8\" class=\"data row5 col8\" >0.702541</td>\n",
              "                        <td id=\"T_070827ce_eb81_11eb_b15e_0242ac1c0002row5_col9\" class=\"data row5 col9\" >1.004056</td>\n",
              "                        <td id=\"T_070827ce_eb81_11eb_b15e_0242ac1c0002row5_col10\" class=\"data row5 col10\" >1.085679</td>\n",
              "                        <td id=\"T_070827ce_eb81_11eb_b15e_0242ac1c0002row5_col11\" class=\"data row5 col11\" >0.728228</td>\n",
              "                        <td id=\"T_070827ce_eb81_11eb_b15e_0242ac1c0002row5_col12\" class=\"data row5 col12\" >False</td>\n",
              "                        <td id=\"T_070827ce_eb81_11eb_b15e_0242ac1c0002row5_col13\" class=\"data row5 col13\" >True</td>\n",
              "                        <td id=\"T_070827ce_eb81_11eb_b15e_0242ac1c0002row5_col14\" class=\"data row5 col14\" >False</td>\n",
              "                        <td id=\"T_070827ce_eb81_11eb_b15e_0242ac1c0002row5_col15\" class=\"data row5 col15\" >False</td>\n",
              "                        <td id=\"T_070827ce_eb81_11eb_b15e_0242ac1c0002row5_col16\" class=\"data row5 col16\" >False</td>\n",
              "                        <td id=\"T_070827ce_eb81_11eb_b15e_0242ac1c0002row5_col17\" class=\"data row5 col17\" >False</td>\n",
              "                        <td id=\"T_070827ce_eb81_11eb_b15e_0242ac1c0002row5_col18\" class=\"data row5 col18\" >False</td>\n",
              "                        <td id=\"T_070827ce_eb81_11eb_b15e_0242ac1c0002row5_col19\" class=\"data row5 col19\" >True</td>\n",
              "                        <td id=\"T_070827ce_eb81_11eb_b15e_0242ac1c0002row5_col20\" class=\"data row5 col20\" >True</td>\n",
              "                        <td id=\"T_070827ce_eb81_11eb_b15e_0242ac1c0002row5_col21\" class=\"data row5 col21\" >False</td>\n",
              "                        <td id=\"T_070827ce_eb81_11eb_b15e_0242ac1c0002row5_col22\" class=\"data row5 col22\" >False</td>\n",
              "                        <td id=\"T_070827ce_eb81_11eb_b15e_0242ac1c0002row5_col23\" class=\"data row5 col23\" >False</td>\n",
              "            </tr>\n",
              "    </tbody></table>"
            ],
            "text/plain": [
              "<pandas.io.formats.style.Styler at 0x7fd3927b4bd0>"
            ]
          },
          "metadata": {
            "tags": []
          },
          "execution_count": 25
        }
      ]
    },
    {
      "cell_type": "code",
      "metadata": {
        "colab": {
          "base_uri": "https://localhost:8080/",
          "height": 620
        },
        "id": "FUGasli9eRtc",
        "outputId": "b344e8cc-41db-452d-beb3-f435b14ae9af"
      },
      "source": [
        "#plotting disparities using the previous reference indicators - Hispanic\n",
        "ap.disparity(bdf_hispanic, metrics, 'race', fairness_threshold = disparity_tolerance)"
      ],
      "execution_count": 26,
      "outputs": [
        {
          "output_type": "execute_result",
          "data": {
            "text/plain": [
              "alt.LayerChart(...)"
            ],
            "text/html": [
              "\n",
              "<div id=\"altair-viz-06b63d55bf4d497cabc76744496fec69\"></div>\n",
              "<script type=\"text/javascript\">\n",
              "  (function(spec, embedOpt){\n",
              "    let outputDiv = document.currentScript.previousElementSibling;\n",
              "    if (outputDiv.id !== \"altair-viz-06b63d55bf4d497cabc76744496fec69\") {\n",
              "      outputDiv = document.getElementById(\"altair-viz-06b63d55bf4d497cabc76744496fec69\");\n",
              "    }\n",
              "    const paths = {\n",
              "      \"vega\": \"https://cdn.jsdelivr.net/npm//vega@5?noext\",\n",
              "      \"vega-lib\": \"https://cdn.jsdelivr.net/npm//vega-lib?noext\",\n",
              "      \"vega-lite\": \"https://cdn.jsdelivr.net/npm//vega-lite@4.8.1?noext\",\n",
              "      \"vega-embed\": \"https://cdn.jsdelivr.net/npm//vega-embed@6?noext\",\n",
              "    };\n",
              "\n",
              "    function loadScript(lib) {\n",
              "      return new Promise(function(resolve, reject) {\n",
              "        var s = document.createElement('script');\n",
              "        s.src = paths[lib];\n",
              "        s.async = true;\n",
              "        s.onload = () => resolve(paths[lib]);\n",
              "        s.onerror = () => reject(`Error loading script: ${paths[lib]}`);\n",
              "        document.getElementsByTagName(\"head\")[0].appendChild(s);\n",
              "      });\n",
              "    }\n",
              "\n",
              "    function showError(err) {\n",
              "      outputDiv.innerHTML = `<div class=\"error\" style=\"color:red;\">${err}</div>`;\n",
              "      throw err;\n",
              "    }\n",
              "\n",
              "    function displayChart(vegaEmbed) {\n",
              "      vegaEmbed(outputDiv, spec, embedOpt)\n",
              "        .catch(err => showError(`Javascript Error: ${err.message}<br>This usually means there's a typo in your chart specification. See the javascript console for the full traceback.`));\n",
              "    }\n",
              "\n",
              "    if(typeof define === \"function\" && define.amd) {\n",
              "      requirejs.config({paths});\n",
              "      require([\"vega-embed\"], displayChart, err => showError(`Error loading script: ${err.message}`));\n",
              "    } else if (typeof vegaEmbed === \"function\") {\n",
              "      displayChart(vegaEmbed);\n",
              "    } else {\n",
              "      loadScript(\"vega\")\n",
              "        .then(() => loadScript(\"vega-lite\"))\n",
              "        .then(() => loadScript(\"vega-embed\"))\n",
              "        .catch(showError)\n",
              "        .then(() => displayChart(vegaEmbed));\n",
              "    }\n",
              "  })({\"config\": {\"view\": {\"continuousWidth\": 400, \"continuousHeight\": 300, \"strokeWidth\": 0}, \"axisLeft\": {\"labelColor\": \"rgb(117,117,117)\", \"labelFont\": \"Arial\", \"labelFontSize\": 16}, \"title\": {\"align\": \"center\", \"baseline\": \"middle\", \"color\": \"rgb(117,117,117)\", \"font\": \"Arial\", \"fontSize\": 20, \"fontWeight\": \"bold\"}}, \"layer\": [{\"data\": {\"name\": \"data-f9105b22c9a4ec715befa339c8de5e2b\"}, \"mark\": {\"type\": \"rule\", \"stroke\": \"rgb(117,117,117)\", \"strokeWidth\": 1.25, \"tooltip\": \"\"}, \"encoding\": {\"x\": {\"type\": \"quantitative\", \"field\": \"x\", \"scale\": {\"domain\": [-5, 5], \"range\": [40.0, 760.0]}}, \"x2\": {\"field\": \"x2\"}, \"y\": {\"type\": \"nominal\", \"axis\": {\"domain\": false, \"labelAngle\": 0, \"labelPadding\": -30, \"orient\": \"left\", \"ticks\": false, \"title\": \"\"}, \"field\": \"metric\", \"scale\": {\"domain\": [\"FPR\", \"FDR\", \"FNR\"], \"range\": [55.0, 495.0]}}}}, {\"data\": {\"name\": \"data-79dd248bdaa0ea02c535240e8ad022c8\"}, \"mark\": {\"type\": \"rule\", \"stroke\": \"rgb(117,117,117)\", \"strokeDash\": [5, 5], \"strokeWidth\": 1}, \"encoding\": {\"tooltip\": {\"value\": \"Hispanic [REF]\"}, \"x\": {\"value\": 400.0}, \"y\": {\"value\": 45.833333333333336}, \"y2\": {\"value\": 504.16666666666663}}}, {\"data\": {\"name\": \"data-2d710c249995d4113e43f1b0602e5d1e\"}, \"mark\": {\"type\": \"text\", \"align\": \"center\", \"color\": \"rgb(117,117,117)\", \"font\": \"Arial\", \"fontSize\": 12, \"fontWeight\": \"normal\", \"tooltip\": \"\"}, \"encoding\": {\"text\": {\"type\": \"nominal\", \"field\": \"label\"}, \"x\": {\"type\": \"quantitative\", \"field\": \"value\", \"scale\": {\"domain\": [-5, 5], \"range\": [40.0, 760.0]}}, \"y\": {\"value\": 38.5}}}, {\"layer\": [{\"mark\": {\"type\": \"text\", \"align\": \"left\", \"fill\": \"rgb(117,117,117)\", \"font\": \"Arial\", \"fontSize\": 12, \"fontWeight\": \"normal\", \"tooltip\": \"\"}, \"encoding\": {\"text\": {\"value\": \"Times Smaller\"}, \"x\": {\"value\": 40.0}, \"y\": {\"value\": 16.5}}}, {\"mark\": {\"type\": \"text\", \"align\": \"right\", \"fill\": \"rgb(117,117,117)\", \"font\": \"Arial\", \"fontSize\": 12, \"fontWeight\": \"normal\", \"tooltip\": \"\"}, \"encoding\": {\"text\": {\"value\": \"Times Larger\"}, \"x\": {\"value\": 760.0}, \"y\": {\"value\": 16.5}}}, {\"mark\": {\"type\": \"text\", \"align\": \"center\", \"fill\": \"rgb(117,117,117)\", \"font\": \"Arial\", \"fontSize\": 12, \"fontWeight\": \"normal\", \"tooltip\": \"\"}, \"encoding\": {\"text\": {\"value\": \"Equal\"}, \"x\": {\"value\": 400.0}, \"y\": {\"value\": 16.5}}}], \"data\": {\"name\": \"data-79dd248bdaa0ea02c535240e8ad022c8\"}}, {\"layer\": [{\"mark\": {\"type\": \"rule\", \"opacity\": 0.8, \"stroke\": \"rgb(217, 46, 28)\", \"strokeWidth\": 1.25, \"tooltip\": \"\"}, \"encoding\": {\"x\": {\"type\": \"quantitative\", \"field\": \"min\", \"scale\": {\"domain\": [-5, 5], \"range\": [40.0, 760.0]}}, \"y\": {\"value\": 55.0}, \"y2\": {\"value\": 495.0}}}, {\"mark\": {\"type\": \"rule\", \"opacity\": 0.8, \"stroke\": \"rgb(217, 46, 28)\", \"strokeWidth\": 1.25, \"tooltip\": \"\"}, \"encoding\": {\"x\": {\"type\": \"quantitative\", \"field\": \"max\", \"scale\": {\"domain\": [-5, 5], \"range\": [40.0, 760.0]}}, \"y\": {\"value\": 55.0}, \"y2\": {\"value\": 495.0}}}, {\"layer\": [{\"mark\": {\"type\": \"rect\", \"fill\": \"rgb(217, 46, 28)\", \"opacity\": 0.1, \"tooltip\": \"\"}, \"encoding\": {\"x\": {\"type\": \"quantitative\", \"field\": \"min\", \"scale\": {\"domain\": [-5, 5], \"range\": [40.0, 760.0]}}, \"x2\": {\"field\": \"lower_end\"}, \"y\": {\"value\": 55.0}, \"y2\": {\"value\": 495.0}}}, {\"mark\": {\"type\": \"rect\", \"fill\": \"rgb(217, 46, 28)\", \"opacity\": 0.1, \"tooltip\": \"\"}, \"encoding\": {\"x\": {\"type\": \"quantitative\", \"field\": \"max\", \"scale\": {\"domain\": [-5, 5], \"range\": [40.0, 760.0]}}, \"x2\": {\"field\": \"upper_end\"}, \"y\": {\"value\": 55.0}, \"y2\": {\"value\": 495.0}}}]}, {\"data\": {\"name\": \"data-79dd248bdaa0ea02c535240e8ad022c8\"}, \"mark\": {\"type\": \"text\", \"align\": \"left\", \"baseline\": \"top\", \"fill\": \"rgb(217, 46, 28)\", \"font\": \"Arial\", \"fontSize\": 12, \"fontWeight\": \"normal\", \"tooltip\": \"\"}, \"encoding\": {\"text\": {\"value\": \"The metric value for any group should not be 1.25 (or more) times smaller or larger than that of the reference group Hispanic.\"}, \"x\": {\"value\": 0}, \"y\": {\"value\": 513.3333333333334}}}], \"data\": {\"name\": \"data-5410892836ee63ff73ffba8075fa2b3d\"}}, {\"layer\": [{\"mark\": \"circle\"}, {\"data\": {\"name\": \"data-81dbdf76bc950c8dd7e41d910ee375ce\"}, \"mark\": {\"type\": \"circle\", \"opacity\": 0.2}, \"encoding\": {\"color\": {\"condition\": {\"type\": \"nominal\", \"field\": \"attribute_value\", \"legend\": null, \"scale\": {\"domain\": [\"Hispanic\", \"African-American\", \"Asian\", \"Caucasian\", \"Native American\", \"Other\"], \"range\": [\"rgb(117,117,117)\", \"rgb(100, 143, 255)\", \"rgb(254, 97, 0)\", \"rgb(220, 38, 127)\", \"rgb(255, 176, 0)\", \"rgb(120, 94, 240)\"]}, \"selection\": \"selector025\"}, \"value\": \"rgb(224,224,224)\"}, \"size\": {\"type\": \"quantitative\", \"field\": \"group_size\", \"legend\": null, \"scale\": {\"domain\": [0, 4435.2], \"range\": [0, 4223.696789826277]}}, \"tooltip\": [{\"type\": \"nominal\", \"field\": \"attribute_value\", \"title\": \"Group\"}, {\"type\": \"nominal\", \"field\": \"tooltip_group_size\", \"title\": \"Group Size\"}, {\"type\": \"nominal\", \"field\": \"tooltip_disparity_explanation_fpr\", \"title\": \"Disparity\"}, {\"type\": \"quantitative\", \"field\": \"fpr\", \"format\": \".2f\", \"title\": \"FPR\"}], \"x\": {\"type\": \"quantitative\", \"axis\": {\"domain\": false, \"labels\": false, \"ticks\": false, \"title\": null, \"values\": [1, 2, 3, 4, 5, -5, -4, -3, -2, -1]}, \"field\": \"fpr_disparity_scaled\", \"scale\": {\"domain\": [-5, 5], \"range\": [40.0, 760.0]}}, \"y\": {\"type\": \"nominal\", \"axis\": {\"domain\": false, \"grid\": false, \"labels\": false, \"ticks\": false, \"title\": \" \"}, \"field\": \"metric_variable\", \"scale\": {\"domain\": [\"FPR\", \"FDR\", \"FNR\"], \"range\": [55.0, 495.0]}}}, \"selection\": {\"selector027\": {\"type\": \"multi\", \"empty\": \"all\", \"fields\": [\"attribute_value\"]}}, \"transform\": [{\"calculate\": \"'FPR'\", \"as\": \"metric_variable\"}]}, {\"data\": {\"name\": \"data-81dbdf76bc950c8dd7e41d910ee375ce\"}, \"mark\": {\"type\": \"circle\", \"opacity\": 0.2}, \"encoding\": {\"color\": {\"condition\": {\"type\": \"nominal\", \"field\": \"attribute_value\", \"legend\": null, \"scale\": {\"domain\": [\"Hispanic\", \"African-American\", \"Asian\", \"Caucasian\", \"Native American\", \"Other\"], \"range\": [\"rgb(117,117,117)\", \"rgb(100, 143, 255)\", \"rgb(254, 97, 0)\", \"rgb(220, 38, 127)\", \"rgb(255, 176, 0)\", \"rgb(120, 94, 240)\"]}, \"selection\": \"selector025\"}, \"value\": \"rgb(224,224,224)\"}, \"size\": {\"type\": \"quantitative\", \"field\": \"group_size\", \"legend\": null, \"scale\": {\"domain\": [0, 4435.2], \"range\": [0, 4223.696789826277]}}, \"tooltip\": [{\"type\": \"nominal\", \"field\": \"attribute_value\", \"title\": \"Group\"}, {\"type\": \"nominal\", \"field\": \"tooltip_group_size\", \"title\": \"Group Size\"}, {\"type\": \"nominal\", \"field\": \"tooltip_disparity_explanation_fdr\", \"title\": \"Disparity\"}, {\"type\": \"quantitative\", \"field\": \"fdr\", \"format\": \".2f\", \"title\": \"FDR\"}], \"x\": {\"type\": \"quantitative\", \"axis\": {\"domain\": false, \"labels\": false, \"ticks\": false, \"title\": null, \"values\": [1, 2, 3, 4, 5, -5, -4, -3, -2, -1]}, \"field\": \"fdr_disparity_scaled\", \"scale\": {\"domain\": [-5, 5], \"range\": [40.0, 760.0]}}, \"y\": {\"type\": \"nominal\", \"axis\": {\"domain\": false, \"grid\": false, \"labels\": false, \"ticks\": false, \"title\": \" \"}, \"field\": \"metric_variable\", \"scale\": {\"domain\": [\"FPR\", \"FDR\", \"FNR\"], \"range\": [55.0, 495.0]}}}, \"selection\": {\"selector029\": {\"type\": \"multi\", \"empty\": \"all\", \"fields\": [\"attribute_value\"]}}, \"transform\": [{\"calculate\": \"'FDR'\", \"as\": \"metric_variable\"}]}, {\"data\": {\"name\": \"data-81dbdf76bc950c8dd7e41d910ee375ce\"}, \"mark\": {\"type\": \"circle\", \"opacity\": 0.2}, \"encoding\": {\"color\": {\"condition\": {\"type\": \"nominal\", \"field\": \"attribute_value\", \"legend\": null, \"scale\": {\"domain\": [\"Hispanic\", \"African-American\", \"Asian\", \"Caucasian\", \"Native American\", \"Other\"], \"range\": [\"rgb(117,117,117)\", \"rgb(100, 143, 255)\", \"rgb(254, 97, 0)\", \"rgb(220, 38, 127)\", \"rgb(255, 176, 0)\", \"rgb(120, 94, 240)\"]}, \"selection\": \"selector025\"}, \"value\": \"rgb(224,224,224)\"}, \"size\": {\"type\": \"quantitative\", \"field\": \"group_size\", \"legend\": null, \"scale\": {\"domain\": [0, 4435.2], \"range\": [0, 4223.696789826277]}}, \"tooltip\": [{\"type\": \"nominal\", \"field\": \"attribute_value\", \"title\": \"Group\"}, {\"type\": \"nominal\", \"field\": \"tooltip_group_size\", \"title\": \"Group Size\"}, {\"type\": \"nominal\", \"field\": \"tooltip_disparity_explanation_fnr\", \"title\": \"Disparity\"}, {\"type\": \"quantitative\", \"field\": \"fnr\", \"format\": \".2f\", \"title\": \"FNR\"}], \"x\": {\"type\": \"quantitative\", \"axis\": {\"domain\": false, \"labels\": false, \"ticks\": false, \"title\": null, \"values\": [1, 2, 3, 4, 5, -5, -4, -3, -2, -1]}, \"field\": \"fnr_disparity_scaled\", \"scale\": {\"domain\": [-5, 5], \"range\": [40.0, 760.0]}}, \"y\": {\"type\": \"nominal\", \"axis\": {\"domain\": false, \"grid\": false, \"labels\": false, \"ticks\": false, \"title\": \" \"}, \"field\": \"metric_variable\", \"scale\": {\"domain\": [\"FPR\", \"FDR\", \"FNR\"], \"range\": [55.0, 495.0]}}}, \"selection\": {\"selector031\": {\"type\": \"multi\", \"empty\": \"all\", \"fields\": [\"attribute_value\"]}}, \"transform\": [{\"calculate\": \"'FNR'\", \"as\": \"metric_variable\"}]}, {\"layer\": [{\"mark\": \"point\"}, {\"data\": {\"name\": \"data-81dbdf76bc950c8dd7e41d910ee375ce\"}, \"mark\": {\"type\": \"point\", \"filled\": true, \"size\": 60}, \"encoding\": {\"color\": {\"condition\": {\"type\": \"nominal\", \"field\": \"attribute_value\", \"legend\": null, \"scale\": {\"domain\": [\"Hispanic\", \"African-American\", \"Asian\", \"Caucasian\", \"Native American\", \"Other\"], \"range\": [\"rgb(117,117,117)\", \"rgb(100, 143, 255)\", \"rgb(254, 97, 0)\", \"rgb(220, 38, 127)\", \"rgb(255, 176, 0)\", \"rgb(120, 94, 240)\"]}, \"selection\": \"selector025\"}, \"value\": \"rgb(224,224,224)\"}, \"shape\": {\"type\": \"nominal\", \"field\": \"attribute_value\", \"legend\": null, \"scale\": {\"domain\": [\"Hispanic\", \"African-American\", \"Asian\", \"Caucasian\", \"Native American\", \"Other\"], \"range\": [\"cross\", \"circle\", \"circle\", \"circle\", \"circle\", \"circle\"]}}, \"tooltip\": [{\"type\": \"nominal\", \"field\": \"attribute_value\", \"title\": \"Group\"}, {\"type\": \"nominal\", \"field\": \"tooltip_group_size\", \"title\": \"Group Size\"}, {\"type\": \"nominal\", \"field\": \"tooltip_disparity_explanation_fpr\", \"title\": \"Disparity\"}, {\"type\": \"quantitative\", \"field\": \"fpr\", \"format\": \".2f\", \"title\": \"FPR\"}], \"x\": {\"type\": \"quantitative\", \"axis\": {\"domain\": false, \"labels\": false, \"ticks\": false, \"title\": null, \"values\": [1, 2, 3, 4, 5, -5, -4, -3, -2, -1]}, \"field\": \"fpr_disparity_scaled\", \"scale\": {\"domain\": [-5, 5], \"range\": [40.0, 760.0]}}, \"y\": {\"type\": \"nominal\", \"axis\": {\"domain\": false, \"grid\": false, \"labels\": false, \"ticks\": false, \"title\": \" \"}, \"field\": \"metric_variable\", \"scale\": {\"domain\": [\"FPR\", \"FDR\", \"FNR\"], \"range\": [55.0, 495.0]}}}, \"selection\": {\"selector026\": {\"type\": \"multi\", \"empty\": \"all\", \"fields\": [\"attribute_value\"]}}, \"transform\": [{\"calculate\": \"'FPR'\", \"as\": \"metric_variable\"}]}, {\"data\": {\"name\": \"data-81dbdf76bc950c8dd7e41d910ee375ce\"}, \"mark\": {\"type\": \"point\", \"filled\": true, \"size\": 60}, \"encoding\": {\"color\": {\"condition\": {\"type\": \"nominal\", \"field\": \"attribute_value\", \"legend\": null, \"scale\": {\"domain\": [\"Hispanic\", \"African-American\", \"Asian\", \"Caucasian\", \"Native American\", \"Other\"], \"range\": [\"rgb(117,117,117)\", \"rgb(100, 143, 255)\", \"rgb(254, 97, 0)\", \"rgb(220, 38, 127)\", \"rgb(255, 176, 0)\", \"rgb(120, 94, 240)\"]}, \"selection\": \"selector025\"}, \"value\": \"rgb(224,224,224)\"}, \"shape\": {\"type\": \"nominal\", \"field\": \"attribute_value\", \"legend\": null, \"scale\": {\"domain\": [\"Hispanic\", \"African-American\", \"Asian\", \"Caucasian\", \"Native American\", \"Other\"], \"range\": [\"cross\", \"circle\", \"circle\", \"circle\", \"circle\", \"circle\"]}}, \"tooltip\": [{\"type\": \"nominal\", \"field\": \"attribute_value\", \"title\": \"Group\"}, {\"type\": \"nominal\", \"field\": \"tooltip_group_size\", \"title\": \"Group Size\"}, {\"type\": \"nominal\", \"field\": \"tooltip_disparity_explanation_fdr\", \"title\": \"Disparity\"}, {\"type\": \"quantitative\", \"field\": \"fdr\", \"format\": \".2f\", \"title\": \"FDR\"}], \"x\": {\"type\": \"quantitative\", \"axis\": {\"domain\": false, \"labels\": false, \"ticks\": false, \"title\": null, \"values\": [1, 2, 3, 4, 5, -5, -4, -3, -2, -1]}, \"field\": \"fdr_disparity_scaled\", \"scale\": {\"domain\": [-5, 5], \"range\": [40.0, 760.0]}}, \"y\": {\"type\": \"nominal\", \"axis\": {\"domain\": false, \"grid\": false, \"labels\": false, \"ticks\": false, \"title\": \" \"}, \"field\": \"metric_variable\", \"scale\": {\"domain\": [\"FPR\", \"FDR\", \"FNR\"], \"range\": [55.0, 495.0]}}}, \"selection\": {\"selector028\": {\"type\": \"multi\", \"empty\": \"all\", \"fields\": [\"attribute_value\"]}}, \"transform\": [{\"calculate\": \"'FDR'\", \"as\": \"metric_variable\"}]}, {\"data\": {\"name\": \"data-81dbdf76bc950c8dd7e41d910ee375ce\"}, \"mark\": {\"type\": \"point\", \"filled\": true, \"size\": 60}, \"encoding\": {\"color\": {\"condition\": {\"type\": \"nominal\", \"field\": \"attribute_value\", \"legend\": null, \"scale\": {\"domain\": [\"Hispanic\", \"African-American\", \"Asian\", \"Caucasian\", \"Native American\", \"Other\"], \"range\": [\"rgb(117,117,117)\", \"rgb(100, 143, 255)\", \"rgb(254, 97, 0)\", \"rgb(220, 38, 127)\", \"rgb(255, 176, 0)\", \"rgb(120, 94, 240)\"]}, \"selection\": \"selector025\"}, \"value\": \"rgb(224,224,224)\"}, \"shape\": {\"type\": \"nominal\", \"field\": \"attribute_value\", \"legend\": null, \"scale\": {\"domain\": [\"Hispanic\", \"African-American\", \"Asian\", \"Caucasian\", \"Native American\", \"Other\"], \"range\": [\"cross\", \"circle\", \"circle\", \"circle\", \"circle\", \"circle\"]}}, \"tooltip\": [{\"type\": \"nominal\", \"field\": \"attribute_value\", \"title\": \"Group\"}, {\"type\": \"nominal\", \"field\": \"tooltip_group_size\", \"title\": \"Group Size\"}, {\"type\": \"nominal\", \"field\": \"tooltip_disparity_explanation_fnr\", \"title\": \"Disparity\"}, {\"type\": \"quantitative\", \"field\": \"fnr\", \"format\": \".2f\", \"title\": \"FNR\"}], \"x\": {\"type\": \"quantitative\", \"axis\": {\"domain\": false, \"labels\": false, \"ticks\": false, \"title\": null, \"values\": [1, 2, 3, 4, 5, -5, -4, -3, -2, -1]}, \"field\": \"fnr_disparity_scaled\", \"scale\": {\"domain\": [-5, 5], \"range\": [40.0, 760.0]}}, \"y\": {\"type\": \"nominal\", \"axis\": {\"domain\": false, \"grid\": false, \"labels\": false, \"ticks\": false, \"title\": \" \"}, \"field\": \"metric_variable\", \"scale\": {\"domain\": [\"FPR\", \"FDR\", \"FNR\"], \"range\": [55.0, 495.0]}}}, \"selection\": {\"selector030\": {\"type\": \"multi\", \"empty\": \"all\", \"fields\": [\"attribute_value\"]}}, \"transform\": [{\"calculate\": \"'FNR'\", \"as\": \"metric_variable\"}]}]}]}, {\"layer\": [{\"mark\": {\"type\": \"point\", \"filled\": true, \"opacity\": 1, \"size\": 39.47841760435743}, \"encoding\": {\"color\": {\"condition\": {\"type\": \"nominal\", \"field\": \"attribute_value\", \"legend\": null, \"scale\": {\"domain\": [\"Hispanic\", \"African-American\", \"Asian\", \"Caucasian\", \"Native American\", \"Other\"], \"range\": [\"rgb(117,117,117)\", \"rgb(100, 143, 255)\", \"rgb(254, 97, 0)\", \"rgb(220, 38, 127)\", \"rgb(255, 176, 0)\", \"rgb(120, 94, 240)\"]}, \"selection\": \"selector025\"}, \"value\": \"rgb(224,224,224)\"}, \"shape\": {\"type\": \"nominal\", \"field\": \"attribute_value\", \"legend\": null, \"scale\": {\"domain\": [\"Hispanic\", \"African-American\", \"Asian\", \"Caucasian\", \"Native American\", \"Other\"], \"range\": [\"cross\", \"circle\", \"circle\", \"circle\", \"circle\", \"circle\"]}}, \"x\": {\"value\": 804}, \"y\": {\"type\": \"nominal\", \"axis\": {\"domain\": false, \"grid\": false, \"labels\": false, \"ticks\": false, \"title\": \" \"}, \"field\": \"attribute_value\", \"scale\": {\"domain\": [\"Hispanic\", \"African-American\", \"Asian\", \"Caucasian\", \"Native American\", \"Other\"], \"range\": [71, 213]}}}, \"selection\": {\"selector025\": {\"type\": \"multi\", \"empty\": \"all\", \"fields\": [\"attribute_value\"]}}}, {\"mark\": {\"type\": \"text\", \"align\": \"left\", \"baseline\": \"middle\", \"font\": \"Arial\", \"fontSize\": 12, \"fontWeight\": \"normal\"}, \"encoding\": {\"color\": {\"condition\": {\"type\": \"nominal\", \"field\": \"attribute_value\", \"legend\": null, \"scale\": {\"domain\": [\"Hispanic\", \"African-American\", \"Asian\", \"Caucasian\", \"Native American\", \"Other\"], \"range\": [\"rgb(117,117,117)\", \"rgb(100, 143, 255)\", \"rgb(254, 97, 0)\", \"rgb(220, 38, 127)\", \"rgb(255, 176, 0)\", \"rgb(120, 94, 240)\"]}, \"selection\": \"selector025\"}, \"value\": \"rgb(224,224,224)\"}, \"text\": {\"type\": \"nominal\", \"field\": \"label\"}, \"x\": {\"value\": 812}, \"y\": {\"type\": \"nominal\", \"axis\": {\"domain\": false, \"grid\": false, \"labels\": false, \"ticks\": false, \"title\": \" \"}, \"field\": \"attribute_value\", \"scale\": {\"domain\": [\"Hispanic\", \"African-American\", \"Asian\", \"Caucasian\", \"Native American\", \"Other\"], \"range\": [71, 213]}}}, \"selection\": {\"selector032\": {\"type\": \"multi\", \"empty\": \"all\", \"fields\": [\"attribute_value\"]}}}, {\"data\": {\"name\": \"data-79dd248bdaa0ea02c535240e8ad022c8\"}, \"mark\": {\"type\": \"text\", \"align\": \"left\", \"baseline\": \"middle\", \"color\": \"rgb(117,117,117)\", \"font\": \"Arial\", \"fontSize\": 12, \"fontWeight\": \"normal\"}, \"encoding\": {\"text\": {\"value\": \"Click to highlight a group.\"}, \"x\": {\"value\": 800}, \"y\": {\"value\": 49}}}, {\"data\": {\"name\": \"data-79dd248bdaa0ea02c535240e8ad022c8\"}, \"mark\": {\"type\": \"text\", \"align\": \"left\", \"baseline\": \"middle\", \"color\": \"rgb(117,117,117)\", \"font\": \"Arial\", \"fontSize\": 14, \"fontWeight\": \"normal\"}, \"encoding\": {\"text\": {\"value\": \"Groups\"}, \"x\": {\"value\": 800}, \"y\": {\"value\": 30}}}], \"data\": {\"name\": \"data-78e8382826fd404250252aa934bac545\"}}], \"height\": 550, \"padding\": {\"top\": 15, \"bottom\": 10}, \"resolve\": {\"scale\": {\"size\": \"independent\", \"y\": \"independent\"}}, \"title\": \"Disparities on Race\", \"width\": 800, \"$schema\": \"https://vega.github.io/schema/vega-lite/v4.8.1.json\", \"datasets\": {\"data-f9105b22c9a4ec715befa339c8de5e2b\": [{\"metric\": \"FPR\", \"x\": -5, \"x2\": 5}, {\"metric\": \"FDR\", \"x\": -5, \"x2\": 5}, {\"metric\": \"FNR\", \"x\": -5, \"x2\": 5}], \"data-79dd248bdaa0ea02c535240e8ad022c8\": [{\"a\": 1, \"b\": 0}, {\"a\": 1, \"b\": 0}], \"data-2d710c249995d4113e43f1b0602e5d1e\": [{\"value\": 1, \"label\": 2}, {\"value\": 2, \"label\": 3}, {\"value\": 3, \"label\": 4}, {\"value\": 4, \"label\": 5}, {\"value\": 5, \"label\": 6}, {\"value\": -5, \"label\": 6}, {\"value\": -4, \"label\": 5}, {\"value\": -3, \"label\": 4}, {\"value\": -2, \"label\": 3}, {\"value\": -1, \"label\": 2}, {\"value\": 0, \"label\": \"=\"}], \"data-5410892836ee63ff73ffba8075fa2b3d\": [{\"min\": -0.25, \"max\": 0.25, \"lower_end\": -5, \"upper_end\": 5}], \"data-81dbdf76bc950c8dd7e41d910ee375ce\": [{\"attribute_name\": \"race\", \"attribute_value\": \"African-American\", \"group_size\": 3696, \"total_entities\": 7214, \"fpr\": 0.44846796657381616, \"fdr\": 0.3702851885924563, \"fnr\": 0.27985270910047344, \"fpr_disparity\": 2.0876957064643165, \"fdr_disparity\": 0.8086688026731804, \"fnr_disparity\": 0.5033009962117042, \"fpr_disparity_scaled\": 1.0876957064643165, \"fdr_disparity_scaled\": -0.23660019614253036, \"fnr_disparity_scaled\": -0.9868826160228155, \"tooltip_group_size\": \"3,696 (51.23%)\", \"tooltip_disparity_explanation_fpr\": \"2.09 times larger FPR than the reference group\", \"tooltip_disparity_explanation_fdr\": \"1.24 times smaller FDR than the reference group\", \"tooltip_disparity_explanation_fnr\": \"1.99 times smaller FNR than the reference group\"}, {\"attribute_name\": \"race\", \"attribute_value\": \"Asian\", \"group_size\": 32, \"total_entities\": 7214, \"fpr\": 0.08695652173913043, \"fdr\": 0.25, \"fnr\": 0.3333333333333333, \"fpr_disparity\": 0.4047976011994003, \"fdr_disparity\": 0.5459770114942529, \"fnr_disparity\": 0.599483204134367, \"fpr_disparity_scaled\": -1.4703703703703703, \"fdr_disparity_scaled\": -0.831578947368421, \"fnr_disparity_scaled\": -0.6681034482758621, \"tooltip_group_size\": \"32 (0.44%)\", \"tooltip_disparity_explanation_fpr\": \"2.47 times smaller FPR than the reference group\", \"tooltip_disparity_explanation_fdr\": \"1.83 times smaller FDR than the reference group\", \"tooltip_disparity_explanation_fnr\": \"1.67 times smaller FNR than the reference group\"}, {\"attribute_name\": \"race\", \"attribute_value\": \"Caucasian\", \"group_size\": 2454, \"total_entities\": 7214, \"fpr\": 0.23454301075268819, \"fdr\": 0.40866510538641687, \"fnr\": 0.4772256728778468, \"fpr_disparity\": 1.0918381535038932, \"fdr_disparity\": 0.8924870117634391, \"fnr_disparity\": 0.8582663264159726, \"fpr_disparity_scaled\": 0.09183815350389324, \"fdr_disparity_scaled\": -0.12046448499472184, \"fnr_disparity_scaled\": -0.16513950183259785, \"tooltip_group_size\": \"2,454 (34.02%)\", \"tooltip_disparity_explanation_fpr\": \"1.09 times larger FPR than the reference group\", \"tooltip_disparity_explanation_fdr\": \"1.12 times smaller FDR than the reference group\", \"tooltip_disparity_explanation_fnr\": \"1.17 times smaller FNR than the reference group\"}, {\"attribute_name\": \"race\", \"attribute_value\": \"Hispanic\", \"group_size\": 637, \"total_entities\": 7214, \"fpr\": 0.21481481481481482, \"fdr\": 0.45789473684210524, \"fnr\": 0.5560344827586207, \"fpr_disparity\": 1.0, \"fdr_disparity\": 1.0, \"fnr_disparity\": 1.0, \"fpr_disparity_scaled\": 0.0, \"fdr_disparity_scaled\": 0.0, \"fnr_disparity_scaled\": 0.0, \"tooltip_group_size\": \"637 (8.83%)\", \"tooltip_disparity_explanation_fpr\": \"Reference group\", \"tooltip_disparity_explanation_fdr\": \"Reference group\", \"tooltip_disparity_explanation_fnr\": \"Reference group\"}, {\"attribute_name\": \"race\", \"attribute_value\": \"Native American\", \"group_size\": 18, \"total_entities\": 7214, \"fpr\": 0.375, \"fdr\": 0.25, \"fnr\": 0.1, \"fpr_disparity\": 1.7456896551724137, \"fdr_disparity\": 0.5459770114942529, \"fnr_disparity\": 0.1798449612403101, \"fpr_disparity_scaled\": 0.7456896551724137, \"fdr_disparity_scaled\": -0.831578947368421, \"fnr_disparity_scaled\": -4.560344827586206, \"tooltip_group_size\": \"18 (0.25%)\", \"tooltip_disparity_explanation_fpr\": \"1.75 times larger FPR than the reference group\", \"tooltip_disparity_explanation_fdr\": \"1.83 times smaller FDR than the reference group\", \"tooltip_disparity_explanation_fnr\": \"5.56 times smaller FNR than the reference group\"}, {\"attribute_name\": \"race\", \"attribute_value\": \"Other\", \"group_size\": 377, \"total_entities\": 7214, \"fpr\": 0.14754098360655737, \"fdr\": 0.45569620253164556, \"fnr\": 0.6766917293233082, \"fpr_disparity\": 0.6868287167891464, \"fdr_disparity\": 0.9951986032300306, \"fnr_disparity\": 1.2169959783178876, \"fpr_disparity_scaled\": -0.4559670781893006, \"fdr_disparity_scaled\": -0.004824561403508731, \"fnr_disparity_scaled\": 0.21699597831788764, \"tooltip_group_size\": \"377 (5.23%)\", \"tooltip_disparity_explanation_fpr\": \"1.46 times smaller FPR than the reference group\", \"tooltip_disparity_explanation_fdr\": \"1.00 times smaller FDR than the reference group\", \"tooltip_disparity_explanation_fnr\": \"1.22 times larger FNR than the reference group\"}], \"data-78e8382826fd404250252aa934bac545\": [{\"attribute_value\": \"Hispanic\", \"label\": \"Hispanic [REF]\"}, {\"attribute_value\": \"African-American\", \"label\": \"African-American\"}, {\"attribute_value\": \"Asian\", \"label\": \"Asian\"}, {\"attribute_value\": \"Caucasian\", \"label\": \"Caucasian\"}, {\"attribute_value\": \"Native American\", \"label\": \"Native American\"}, {\"attribute_value\": \"Other\", \"label\": \"Other\"}]}}, {\"mode\": \"vega-lite\"});\n",
              "</script>"
            ]
          },
          "metadata": {
            "tags": []
          },
          "execution_count": 26
        }
      ]
    },
    {
      "cell_type": "markdown",
      "metadata": {
        "id": "NLzWk2FqeR9R"
      },
      "source": [
        "For Hispanic, the disparity level in the FPR compared to African-American and Native American groups is even bigger. This means that the African-Americans tent to be classified as medium-high risk 2.09 times more than the Hispanics. Or the Native Americans 1.75 times more than this reference race. This shows clear bias and unfairness from these resulted predictions. <br>\n",
        "As a last step for this variable analysis, it is time to run fairness parity tests."
      ]
    },
    {
      "cell_type": "code",
      "metadata": {
        "colab": {
          "base_uri": "https://localhost:8080/",
          "height": 408
        },
        "id": "KbFNwRzccYQV",
        "outputId": "50a26d96-08a5-488a-9372-2002bf1ea82a"
      },
      "source": [
        "#Summary  - Parity Test\n",
        "ap.summary(bdf, metrics, fairness_threshold = disparity_tolerance)"
      ],
      "execution_count": 27,
      "outputs": [
        {
          "output_type": "execute_result",
          "data": {
            "text/plain": [
              "alt.VConcatChart(...)"
            ],
            "text/html": [
              "\n",
              "<div id=\"altair-viz-54d581c96a174325babe42662dc545a9\"></div>\n",
              "<script type=\"text/javascript\">\n",
              "  (function(spec, embedOpt){\n",
              "    let outputDiv = document.currentScript.previousElementSibling;\n",
              "    if (outputDiv.id !== \"altair-viz-54d581c96a174325babe42662dc545a9\") {\n",
              "      outputDiv = document.getElementById(\"altair-viz-54d581c96a174325babe42662dc545a9\");\n",
              "    }\n",
              "    const paths = {\n",
              "      \"vega\": \"https://cdn.jsdelivr.net/npm//vega@5?noext\",\n",
              "      \"vega-lib\": \"https://cdn.jsdelivr.net/npm//vega-lib?noext\",\n",
              "      \"vega-lite\": \"https://cdn.jsdelivr.net/npm//vega-lite@4.8.1?noext\",\n",
              "      \"vega-embed\": \"https://cdn.jsdelivr.net/npm//vega-embed@6?noext\",\n",
              "    };\n",
              "\n",
              "    function loadScript(lib) {\n",
              "      return new Promise(function(resolve, reject) {\n",
              "        var s = document.createElement('script');\n",
              "        s.src = paths[lib];\n",
              "        s.async = true;\n",
              "        s.onload = () => resolve(paths[lib]);\n",
              "        s.onerror = () => reject(`Error loading script: ${paths[lib]}`);\n",
              "        document.getElementsByTagName(\"head\")[0].appendChild(s);\n",
              "      });\n",
              "    }\n",
              "\n",
              "    function showError(err) {\n",
              "      outputDiv.innerHTML = `<div class=\"error\" style=\"color:red;\">${err}</div>`;\n",
              "      throw err;\n",
              "    }\n",
              "\n",
              "    function displayChart(vegaEmbed) {\n",
              "      vegaEmbed(outputDiv, spec, embedOpt)\n",
              "        .catch(err => showError(`Javascript Error: ${err.message}<br>This usually means there's a typo in your chart specification. See the javascript console for the full traceback.`));\n",
              "    }\n",
              "\n",
              "    if(typeof define === \"function\" && define.amd) {\n",
              "      requirejs.config({paths});\n",
              "      require([\"vega-embed\"], displayChart, err => showError(`Error loading script: ${err.message}`));\n",
              "    } else if (typeof vegaEmbed === \"function\") {\n",
              "      displayChart(vegaEmbed);\n",
              "    } else {\n",
              "      loadScript(\"vega\")\n",
              "        .then(() => loadScript(\"vega-lite\"))\n",
              "        .then(() => loadScript(\"vega-embed\"))\n",
              "        .catch(showError)\n",
              "        .then(() => displayChart(vegaEmbed));\n",
              "    }\n",
              "  })({\"config\": {\"view\": {\"continuousWidth\": 400, \"continuousHeight\": 300, \"strokeWidth\": 0}, \"legend\": {\"labelColor\": \"rgb(117,117,117)\", \"labelFont\": \"Arial\", \"labelFontSize\": 12, \"titleColor\": \"rgb(117,117,117)\", \"titleFont\": \"Arial\", \"titleFontSize\": 14, \"titleFontWeight\": \"normal\", \"titlePadding\": 15}}, \"vconcat\": [{\"hconcat\": [{\"vconcat\": [{\"mark\": {\"type\": \"text\", \"align\": \"center\", \"baseline\": \"middle\", \"color\": \"rgb(117,117,117)\", \"font\": \"Arial\", \"fontWeight\": \"bold\", \"size\": 14}, \"encoding\": {\"text\": {\"value\": \"\"}}, \"height\": 45.0, \"width\": 32.0}, {\"layer\": [{\"mark\": {\"type\": \"text\", \"align\": \"center\", \"baseline\": \"middle\", \"color\": \"rgb(117,117,117)\", \"font\": \"Arial\", \"fontWeight\": \"bold\", \"size\": 14}, \"encoding\": {\"text\": {\"value\": \"FPR\"}, \"y\": {\"type\": \"quantitative\", \"axis\": {\"domain\": false, \"grid\": false, \"labels\": false, \"ticks\": false, \"title\": \" \"}, \"field\": \"y_position\", \"scale\": {\"domain\": [3, 1]}}}, \"transform\": [{\"calculate\": \"1.2\", \"as\": \"y_position\"}]}, {\"mark\": {\"type\": \"text\", \"align\": \"center\", \"baseline\": \"middle\", \"color\": \"rgb(117,117,117)\", \"font\": \"Arial\", \"size\": 12}, \"encoding\": {\"text\": {\"value\": \"Groups\"}, \"y\": {\"type\": \"quantitative\", \"axis\": {\"domain\": false, \"grid\": false, \"labels\": false, \"ticks\": false, \"title\": \" \"}, \"field\": \"y_position\", \"scale\": {\"domain\": [3, 1]}}}, \"transform\": [{\"calculate\": \"2\", \"as\": \"y_position\"}]}, {\"mark\": {\"type\": \"text\", \"align\": \"center\", \"baseline\": \"middle\", \"color\": \"rgb(117,117,117)\", \"font\": \"Arial\", \"size\": 12}, \"encoding\": {\"text\": {\"value\": \"% Pop.\"}, \"y\": {\"type\": \"quantitative\", \"axis\": {\"domain\": false, \"grid\": false, \"labels\": false, \"ticks\": false, \"title\": \" \"}, \"field\": \"y_position\", \"scale\": {\"domain\": [3, 1]}}}, \"transform\": [{\"calculate\": \"2.7\", \"as\": \"y_position\"}]}], \"height\": 65.0, \"width\": 32.0}, {\"layer\": [{\"mark\": {\"type\": \"text\", \"align\": \"center\", \"baseline\": \"middle\", \"color\": \"rgb(117,117,117)\", \"font\": \"Arial\", \"fontWeight\": \"bold\", \"size\": 14}, \"encoding\": {\"text\": {\"value\": \"FDR\"}, \"y\": {\"type\": \"quantitative\", \"axis\": {\"domain\": false, \"grid\": false, \"labels\": false, \"ticks\": false, \"title\": \" \"}, \"field\": \"y_position\", \"scale\": {\"domain\": [3, 1]}}}, \"transform\": [{\"calculate\": \"1.2\", \"as\": \"y_position\"}]}, {\"mark\": {\"type\": \"text\", \"align\": \"center\", \"baseline\": \"middle\", \"color\": \"rgb(117,117,117)\", \"font\": \"Arial\", \"size\": 12}, \"encoding\": {\"text\": {\"value\": \"Groups\"}, \"y\": {\"type\": \"quantitative\", \"axis\": {\"domain\": false, \"grid\": false, \"labels\": false, \"ticks\": false, \"title\": \" \"}, \"field\": \"y_position\", \"scale\": {\"domain\": [3, 1]}}}, \"transform\": [{\"calculate\": \"2\", \"as\": \"y_position\"}]}, {\"mark\": {\"type\": \"text\", \"align\": \"center\", \"baseline\": \"middle\", \"color\": \"rgb(117,117,117)\", \"font\": \"Arial\", \"size\": 12}, \"encoding\": {\"text\": {\"value\": \"% Pop.\"}, \"y\": {\"type\": \"quantitative\", \"axis\": {\"domain\": false, \"grid\": false, \"labels\": false, \"ticks\": false, \"title\": \" \"}, \"field\": \"y_position\", \"scale\": {\"domain\": [3, 1]}}}, \"transform\": [{\"calculate\": \"2.7\", \"as\": \"y_position\"}]}], \"height\": 65.0, \"width\": 32.0}, {\"layer\": [{\"mark\": {\"type\": \"text\", \"align\": \"center\", \"baseline\": \"middle\", \"color\": \"rgb(117,117,117)\", \"font\": \"Arial\", \"fontWeight\": \"bold\", \"size\": 14}, \"encoding\": {\"text\": {\"value\": \"FNR\"}, \"y\": {\"type\": \"quantitative\", \"axis\": {\"domain\": false, \"grid\": false, \"labels\": false, \"ticks\": false, \"title\": \" \"}, \"field\": \"y_position\", \"scale\": {\"domain\": [3, 1]}}}, \"transform\": [{\"calculate\": \"1.2\", \"as\": \"y_position\"}]}, {\"mark\": {\"type\": \"text\", \"align\": \"center\", \"baseline\": \"middle\", \"color\": \"rgb(117,117,117)\", \"font\": \"Arial\", \"size\": 12}, \"encoding\": {\"text\": {\"value\": \"Groups\"}, \"y\": {\"type\": \"quantitative\", \"axis\": {\"domain\": false, \"grid\": false, \"labels\": false, \"ticks\": false, \"title\": \" \"}, \"field\": \"y_position\", \"scale\": {\"domain\": [3, 1]}}}, \"transform\": [{\"calculate\": \"2\", \"as\": \"y_position\"}]}, {\"mark\": {\"type\": \"text\", \"align\": \"center\", \"baseline\": \"middle\", \"color\": \"rgb(117,117,117)\", \"font\": \"Arial\", \"size\": 12}, \"encoding\": {\"text\": {\"value\": \"% Pop.\"}, \"y\": {\"type\": \"quantitative\", \"axis\": {\"domain\": false, \"grid\": false, \"labels\": false, \"ticks\": false, \"title\": \" \"}, \"field\": \"y_position\", \"scale\": {\"domain\": [3, 1]}}}, \"transform\": [{\"calculate\": \"2.7\", \"as\": \"y_position\"}]}], \"height\": 65.0, \"width\": 32.0}], \"bounds\": \"flush\", \"data\": {\"name\": \"data-79dd248bdaa0ea02c535240e8ad022c8\"}, \"spacing\": 20.0}, {\"hconcat\": [{\"vconcat\": [{\"data\": {\"name\": \"data-79dd248bdaa0ea02c535240e8ad022c8\"}, \"mark\": {\"type\": \"text\", \"align\": \"center\", \"baseline\": \"middle\", \"color\": \"rgb(117,117,117)\", \"font\": \"Arial\", \"fontWeight\": \"bold\", \"size\": 14}, \"encoding\": {\"text\": {\"value\": \"Race\"}}, \"height\": 45.0, \"width\": 240.0}, {\"layer\": [{\"data\": {\"name\": \"data-0648884f34076ca4404072fa7f837079\"}, \"mark\": {\"type\": \"text\", \"align\": \"center\", \"baseline\": \"middle\", \"font\": \"Arial\", \"fontWeight\": \"bold\", \"size\": 20}, \"encoding\": {\"color\": {\"type\": \"ordinal\", \"field\": \"parity_result\", \"legend\": {\"title\": \"\"}, \"scale\": {\"domain\": [\"Reference\", \"Pass\", \"Fail\"], \"range\": [\"rgb(117,117,117)\", \"rgb(20, 152, 181)\", \"rgb(217, 46, 28)\"]}}, \"text\": {\"value\": \"FAIL\"}, \"y\": {\"type\": \"quantitative\", \"axis\": {\"domain\": false, \"grid\": false, \"labels\": false, \"ticks\": false, \"title\": \" \"}, \"field\": \"y_position\", \"scale\": {\"domain\": [3, 1]}}}, \"transform\": [{\"calculate\": \"1\", \"as\": \"y_position\"}]}, {\"data\": {\"name\": \"data-e5c889fc3a7e6913d4b53ba1ab81db6e\"}, \"mark\": {\"type\": \"bar\", \"size\": 6, \"stroke\": \"white\"}, \"encoding\": {\"color\": {\"type\": \"ordinal\", \"field\": \"fpr_parity_result\", \"legend\": {\"padding\": 20, \"title\": \"Parity Test\"}, \"scale\": {\"domain\": [\"Reference\", \"Pass\", \"Fail\"], \"range\": [\"rgb(117,117,117)\", \"rgb(20, 152, 181)\", \"rgb(217, 46, 28)\"]}}, \"tooltip\": [{\"type\": \"nominal\", \"field\": \"fpr_parity_result\", \"title\": \"Parity\"}, {\"type\": \"nominal\", \"field\": \"tooltip_group_size\", \"title\": \"Size\"}, {\"type\": \"nominal\", \"field\": \"tooltip_groups_name_size\", \"title\": \"Groups\"}], \"x\": {\"type\": \"quantitative\", \"aggregate\": \"sum\", \"axis\": {\"domain\": false, \"grid\": false, \"labels\": false, \"ticks\": false, \"title\": \" \"}, \"field\": \"group_size\", \"stack\": \"normalize\"}, \"y\": {\"type\": \"quantitative\", \"axis\": {\"domain\": false, \"grid\": false, \"labels\": false, \"ticks\": false, \"title\": \" \"}, \"field\": \"y_position\", \"scale\": {\"domain\": [3, 1]}}}, \"transform\": [{\"calculate\": \"2.8\", \"as\": \"y_position\"}]}, {\"data\": {\"name\": \"data-81d977d7a7e793933b057e17460d4914\"}, \"mark\": {\"type\": \"circle\", \"opacity\": 1}, \"encoding\": {\"color\": {\"type\": \"ordinal\", \"field\": \"fpr_parity_result\", \"legend\": {\"title\": \"\"}, \"scale\": {\"domain\": [\"Reference\", \"Pass\", \"Fail\"], \"range\": [\"rgb(117,117,117)\", \"rgb(20, 152, 181)\", \"rgb(217, 46, 28)\"]}}, \"size\": {\"value\": 200}, \"tooltip\": [{\"type\": \"nominal\", \"field\": \"attribute_value\", \"title\": \"Group\"}, {\"type\": \"nominal\", \"field\": \"tooltip_group_size\", \"title\": \"Group Size\"}, {\"type\": \"nominal\", \"field\": \"tooltip_parity_test_explanation_fpr\", \"title\": \"Parity Test\"}, {\"type\": \"nominal\", \"field\": \"tooltip_disparity_explanation_fpr\", \"title\": \"Disparity\"}, {\"type\": \"quantitative\", \"field\": \"fpr\", \"format\": \".2f\", \"title\": \"FPR\"}], \"x\": {\"type\": \"quantitative\", \"axis\": {\"domain\": false, \"grid\": false, \"labels\": false, \"ticks\": false, \"title\": \" \"}, \"field\": \"fpr_disparity_rank\", \"scale\": {\"domain\": [-6, 6], \"nice\": false}}, \"y\": {\"type\": \"quantitative\", \"axis\": {\"domain\": false, \"grid\": false, \"labels\": false, \"ticks\": false, \"title\": \" \"}, \"field\": \"y_position\", \"scale\": {\"domain\": [3, 1]}}}, \"transform\": [{\"calculate\": \"2\", \"as\": \"y_position\"}]}], \"height\": 65.0, \"resolve\": {\"scale\": {\"x\": \"independent\"}}, \"width\": 240.0}, {\"layer\": [{\"data\": {\"name\": \"data-0648884f34076ca4404072fa7f837079\"}, \"mark\": {\"type\": \"text\", \"align\": \"center\", \"baseline\": \"middle\", \"font\": \"Arial\", \"fontWeight\": \"bold\", \"size\": 20}, \"encoding\": {\"color\": {\"type\": \"ordinal\", \"field\": \"parity_result\", \"legend\": {\"title\": \"\"}, \"scale\": {\"domain\": [\"Reference\", \"Pass\", \"Fail\"], \"range\": [\"rgb(117,117,117)\", \"rgb(20, 152, 181)\", \"rgb(217, 46, 28)\"]}}, \"text\": {\"value\": \"FAIL\"}, \"y\": {\"type\": \"quantitative\", \"axis\": {\"domain\": false, \"grid\": false, \"labels\": false, \"ticks\": false, \"title\": \" \"}, \"field\": \"y_position\", \"scale\": {\"domain\": [3, 1]}}}, \"transform\": [{\"calculate\": \"1\", \"as\": \"y_position\"}]}, {\"data\": {\"name\": \"data-044844bfbe0bddaeb30b6be75ec9e7f6\"}, \"mark\": {\"type\": \"bar\", \"size\": 6, \"stroke\": \"white\"}, \"encoding\": {\"color\": {\"type\": \"ordinal\", \"field\": \"fdr_parity_result\", \"legend\": {\"padding\": 20, \"title\": \"Parity Test\"}, \"scale\": {\"domain\": [\"Reference\", \"Pass\", \"Fail\"], \"range\": [\"rgb(117,117,117)\", \"rgb(20, 152, 181)\", \"rgb(217, 46, 28)\"]}}, \"tooltip\": [{\"type\": \"nominal\", \"field\": \"fdr_parity_result\", \"title\": \"Parity\"}, {\"type\": \"nominal\", \"field\": \"tooltip_group_size\", \"title\": \"Size\"}, {\"type\": \"nominal\", \"field\": \"tooltip_groups_name_size\", \"title\": \"Groups\"}], \"x\": {\"type\": \"quantitative\", \"aggregate\": \"sum\", \"axis\": {\"domain\": false, \"grid\": false, \"labels\": false, \"ticks\": false, \"title\": \" \"}, \"field\": \"group_size\", \"stack\": \"normalize\"}, \"y\": {\"type\": \"quantitative\", \"axis\": {\"domain\": false, \"grid\": false, \"labels\": false, \"ticks\": false, \"title\": \" \"}, \"field\": \"y_position\", \"scale\": {\"domain\": [3, 1]}}}, \"transform\": [{\"calculate\": \"2.8\", \"as\": \"y_position\"}]}, {\"data\": {\"name\": \"data-81d977d7a7e793933b057e17460d4914\"}, \"mark\": {\"type\": \"circle\", \"opacity\": 1}, \"encoding\": {\"color\": {\"type\": \"ordinal\", \"field\": \"fdr_parity_result\", \"legend\": {\"title\": \"\"}, \"scale\": {\"domain\": [\"Reference\", \"Pass\", \"Fail\"], \"range\": [\"rgb(117,117,117)\", \"rgb(20, 152, 181)\", \"rgb(217, 46, 28)\"]}}, \"size\": {\"value\": 200}, \"tooltip\": [{\"type\": \"nominal\", \"field\": \"attribute_value\", \"title\": \"Group\"}, {\"type\": \"nominal\", \"field\": \"tooltip_group_size\", \"title\": \"Group Size\"}, {\"type\": \"nominal\", \"field\": \"tooltip_parity_test_explanation_fdr\", \"title\": \"Parity Test\"}, {\"type\": \"nominal\", \"field\": \"tooltip_disparity_explanation_fdr\", \"title\": \"Disparity\"}, {\"type\": \"quantitative\", \"field\": \"fdr\", \"format\": \".2f\", \"title\": \"FDR\"}], \"x\": {\"type\": \"quantitative\", \"axis\": {\"domain\": false, \"grid\": false, \"labels\": false, \"ticks\": false, \"title\": \" \"}, \"field\": \"fdr_disparity_rank\", \"scale\": {\"domain\": [-6, 6], \"nice\": false}}, \"y\": {\"type\": \"quantitative\", \"axis\": {\"domain\": false, \"grid\": false, \"labels\": false, \"ticks\": false, \"title\": \" \"}, \"field\": \"y_position\", \"scale\": {\"domain\": [3, 1]}}}, \"transform\": [{\"calculate\": \"2\", \"as\": \"y_position\"}]}], \"height\": 65.0, \"resolve\": {\"scale\": {\"x\": \"independent\"}}, \"width\": 240.0}, {\"layer\": [{\"data\": {\"name\": \"data-0648884f34076ca4404072fa7f837079\"}, \"mark\": {\"type\": \"text\", \"align\": \"center\", \"baseline\": \"middle\", \"font\": \"Arial\", \"fontWeight\": \"bold\", \"size\": 20}, \"encoding\": {\"color\": {\"type\": \"ordinal\", \"field\": \"parity_result\", \"legend\": {\"title\": \"\"}, \"scale\": {\"domain\": [\"Reference\", \"Pass\", \"Fail\"], \"range\": [\"rgb(117,117,117)\", \"rgb(20, 152, 181)\", \"rgb(217, 46, 28)\"]}}, \"text\": {\"value\": \"FAIL\"}, \"y\": {\"type\": \"quantitative\", \"axis\": {\"domain\": false, \"grid\": false, \"labels\": false, \"ticks\": false, \"title\": \" \"}, \"field\": \"y_position\", \"scale\": {\"domain\": [3, 1]}}}, \"transform\": [{\"calculate\": \"1\", \"as\": \"y_position\"}]}, {\"data\": {\"name\": \"data-33110eb692d2f7f972f54170b4e79459\"}, \"mark\": {\"type\": \"bar\", \"size\": 6, \"stroke\": \"white\"}, \"encoding\": {\"color\": {\"type\": \"ordinal\", \"field\": \"fnr_parity_result\", \"legend\": {\"padding\": 20, \"title\": \"Parity Test\"}, \"scale\": {\"domain\": [\"Reference\", \"Pass\", \"Fail\"], \"range\": [\"rgb(117,117,117)\", \"rgb(20, 152, 181)\", \"rgb(217, 46, 28)\"]}}, \"tooltip\": [{\"type\": \"nominal\", \"field\": \"fnr_parity_result\", \"title\": \"Parity\"}, {\"type\": \"nominal\", \"field\": \"tooltip_group_size\", \"title\": \"Size\"}, {\"type\": \"nominal\", \"field\": \"tooltip_groups_name_size\", \"title\": \"Groups\"}], \"x\": {\"type\": \"quantitative\", \"aggregate\": \"sum\", \"axis\": {\"domain\": false, \"grid\": false, \"labels\": false, \"ticks\": false, \"title\": \" \"}, \"field\": \"group_size\", \"stack\": \"normalize\"}, \"y\": {\"type\": \"quantitative\", \"axis\": {\"domain\": false, \"grid\": false, \"labels\": false, \"ticks\": false, \"title\": \" \"}, \"field\": \"y_position\", \"scale\": {\"domain\": [3, 1]}}}, \"transform\": [{\"calculate\": \"2.8\", \"as\": \"y_position\"}]}, {\"data\": {\"name\": \"data-81d977d7a7e793933b057e17460d4914\"}, \"mark\": {\"type\": \"circle\", \"opacity\": 1}, \"encoding\": {\"color\": {\"type\": \"ordinal\", \"field\": \"fnr_parity_result\", \"legend\": {\"title\": \"\"}, \"scale\": {\"domain\": [\"Reference\", \"Pass\", \"Fail\"], \"range\": [\"rgb(117,117,117)\", \"rgb(20, 152, 181)\", \"rgb(217, 46, 28)\"]}}, \"size\": {\"value\": 200}, \"tooltip\": [{\"type\": \"nominal\", \"field\": \"attribute_value\", \"title\": \"Group\"}, {\"type\": \"nominal\", \"field\": \"tooltip_group_size\", \"title\": \"Group Size\"}, {\"type\": \"nominal\", \"field\": \"tooltip_parity_test_explanation_fnr\", \"title\": \"Parity Test\"}, {\"type\": \"nominal\", \"field\": \"tooltip_disparity_explanation_fnr\", \"title\": \"Disparity\"}, {\"type\": \"quantitative\", \"field\": \"fnr\", \"format\": \".2f\", \"title\": \"FNR\"}], \"x\": {\"type\": \"quantitative\", \"axis\": {\"domain\": false, \"grid\": false, \"labels\": false, \"ticks\": false, \"title\": \" \"}, \"field\": \"fnr_disparity_rank\", \"scale\": {\"domain\": [-6, 6], \"nice\": false}}, \"y\": {\"type\": \"quantitative\", \"axis\": {\"domain\": false, \"grid\": false, \"labels\": false, \"ticks\": false, \"title\": \" \"}, \"field\": \"y_position\", \"scale\": {\"domain\": [3, 1]}}}, \"transform\": [{\"calculate\": \"2\", \"as\": \"y_position\"}]}], \"height\": 65.0, \"resolve\": {\"scale\": {\"x\": \"independent\"}}, \"width\": 240.0}], \"bounds\": \"flush\", \"spacing\": 20.0}], \"bounds\": \"flush\", \"spacing\": 288.0}], \"bounds\": \"flush\", \"spacing\": 80.0}, {\"layer\": [{\"mark\": {\"type\": \"text\", \"align\": \"left\", \"baseline\": \"top\", \"fill\": \"rgb(117,117,117)\", \"font\": \"Arial\", \"fontSize\": 12, \"fontWeight\": \"normal\"}, \"encoding\": {\"text\": {\"value\": \"For a group to pass the parity test its disparity to the reference group cannot exceed the fairness threshold (1.25).\"}, \"x\": {\"value\": 24.0}, \"y\": {\"value\": 0}}}, {\"mark\": {\"type\": \"text\", \"align\": \"left\", \"baseline\": \"top\", \"fill\": \"rgb(117,117,117)\", \"font\": \"Arial\", \"fontSize\": 12, \"fontWeight\": \"normal\"}, \"encoding\": {\"text\": {\"value\": \"An attribute passes the parity test for a given metric if all its groups pass the test.\"}, \"x\": {\"value\": 24.0}, \"y\": {\"value\": 15.0}}}], \"data\": {\"name\": \"data-79dd248bdaa0ea02c535240e8ad022c8\"}}], \"padding\": {\"top\": 15, \"bottom\": 10}, \"$schema\": \"https://vega.github.io/schema/vega-lite/v4.8.1.json\", \"datasets\": {\"data-79dd248bdaa0ea02c535240e8ad022c8\": [{\"a\": 1, \"b\": 0}, {\"a\": 1, \"b\": 0}], \"data-0648884f34076ca4404072fa7f837079\": [{\"parity_result\": \"Fail\"}], \"data-e5c889fc3a7e6913d4b53ba1ab81db6e\": [{\"fpr_parity_result\": \"Fail\", \"attribute_name\": \"race\", \"total_entities\": 7214, \"group_size\": 4123, \"tooltip_groups_name_size\": \"African-American (3,696), Asian (32), Native American (18), Other (377)\", \"tooltip_group_size\": \"4,123 (57.15%)\"}, {\"fpr_parity_result\": \"Pass\", \"attribute_name\": \"race\", \"total_entities\": 7214, \"group_size\": 637, \"tooltip_groups_name_size\": \"Hispanic (637)\", \"tooltip_group_size\": \"637 (8.83%)\"}, {\"fpr_parity_result\": \"Reference\", \"attribute_name\": \"race\", \"total_entities\": 7214, \"group_size\": 2454, \"tooltip_groups_name_size\": \"Caucasian (2,454)\", \"tooltip_group_size\": \"2,454 (34.02%)\"}], \"data-81d977d7a7e793933b057e17460d4914\": [{\"attribute_name\": \"race\", \"attribute_value\": \"African-American\", \"group_size\": 3696, \"total_entities\": 7214, \"ref_group_value\": \"Caucasian\", \"fpr\": 0.44846796657381616, \"fdr\": 0.3702851885924563, \"fnr\": 0.27985270910047344, \"fpr_disparity\": 1.9120926483147231, \"fdr_disparity\": 0.9060846735185033, \"fnr_disparity\": 0.5864158719979552, \"fpr_disparity_scaled\": 0.9120926483147231, \"fpr_parity_result\": \"Fail\", \"tooltip_parity_test_explanation_fpr\": \"Fail. Above fairness threshold of 1.25\", \"tooltip_disparity_explanation_fpr\": \"1.91 times larger FPR than the reference group\", \"tooltip_group_size\": \"3,696 (51.23%)\", \"fpr_disparity_rank\": 2.0, \"group_size_formatted\": \"3,696\", \"tooltip_groups_name_size\": \"African-American (3,696)\", \"fdr_disparity_scaled\": -0.10364961380132964, \"fdr_parity_result\": \"Pass\", \"tooltip_parity_test_explanation_fdr\": \"Pass. Below fairness threshold of 1.25\", \"tooltip_disparity_explanation_fdr\": \"1.10 times smaller FDR than the reference group\", \"fdr_disparity_rank\": -1.0, \"fnr_disparity_scaled\": -0.7052744438736593, \"fnr_parity_result\": \"Fail\", \"tooltip_parity_test_explanation_fnr\": \"Fail. Above fairness threshold of 1.25\", \"tooltip_disparity_explanation_fnr\": \"1.71 times smaller FNR than the reference group\", \"fnr_disparity_rank\": -2.0}, {\"attribute_name\": \"race\", \"attribute_value\": \"Asian\", \"group_size\": 32, \"total_entities\": 7214, \"ref_group_value\": \"Caucasian\", \"fpr\": 0.08695652173913043, \"fdr\": 0.25, \"fnr\": 0.3333333333333333, \"fpr_disparity\": 0.37074872305967355, \"fdr_disparity\": 0.6117478510028653, \"fnr_disparity\": 0.6984815618221257, \"fpr_disparity_scaled\": -1.6972446236559144, \"fpr_parity_result\": \"Fail\", \"tooltip_parity_test_explanation_fpr\": \"Fail. Above fairness threshold of 1.25\", \"tooltip_disparity_explanation_fpr\": \"2.70 times smaller FPR than the reference group\", \"tooltip_group_size\": \"32 (0.44%)\", \"fpr_disparity_rank\": -3.0, \"group_size_formatted\": \"32\", \"tooltip_groups_name_size\": \"Asian (32)\", \"fdr_disparity_scaled\": -0.6346604215456675, \"fdr_parity_result\": \"Fail\", \"tooltip_parity_test_explanation_fdr\": \"Fail. Above fairness threshold of 1.25\", \"tooltip_disparity_explanation_fdr\": \"1.63 times smaller FDR than the reference group\", \"fdr_disparity_rank\": -3.0, \"fnr_disparity_scaled\": -0.4316770186335406, \"fnr_parity_result\": \"Fail\", \"tooltip_parity_test_explanation_fnr\": \"Fail. Above fairness threshold of 1.25\", \"tooltip_disparity_explanation_fnr\": \"1.43 times smaller FNR than the reference group\", \"fnr_disparity_rank\": -1.0}, {\"attribute_name\": \"race\", \"attribute_value\": \"Caucasian\", \"group_size\": 2454, \"total_entities\": 7214, \"ref_group_value\": \"Caucasian\", \"fpr\": 0.23454301075268819, \"fdr\": 0.40866510538641687, \"fnr\": 0.4772256728778468, \"fpr_disparity\": 1.0, \"fdr_disparity\": 1.0, \"fnr_disparity\": 1.0, \"fpr_disparity_scaled\": 0.0, \"fpr_parity_result\": \"Reference\", \"tooltip_parity_test_explanation_fpr\": \"Reference group\", \"tooltip_disparity_explanation_fpr\": \"Reference group\", \"tooltip_group_size\": \"2,454 (34.02%)\", \"fpr_disparity_rank\": 0.0, \"group_size_formatted\": \"2,454\", \"tooltip_groups_name_size\": \"Caucasian (2,454)\", \"fdr_disparity_scaled\": 0.0, \"fdr_parity_result\": \"Reference\", \"tooltip_parity_test_explanation_fdr\": \"Reference group\", \"tooltip_disparity_explanation_fdr\": \"Reference group\", \"fdr_disparity_rank\": 0.0, \"fnr_disparity_scaled\": 0.0, \"fnr_parity_result\": \"Reference\", \"tooltip_parity_test_explanation_fnr\": \"Reference group\", \"tooltip_disparity_explanation_fnr\": \"Reference group\", \"fnr_disparity_rank\": 0.0}, {\"attribute_name\": \"race\", \"attribute_value\": \"Hispanic\", \"group_size\": 637, \"total_entities\": 7214, \"ref_group_value\": \"Caucasian\", \"fpr\": 0.21481481481481482, \"fdr\": 0.45789473684210524, \"fnr\": 0.5560344827586207, \"fpr_disparity\": 0.9158866602992677, \"fdr_disparity\": 1.1204644849947216, \"fnr_disparity\": 1.1651395018325978, \"fpr_disparity_scaled\": -0.09183815350389324, \"fpr_parity_result\": \"Pass\", \"tooltip_parity_test_explanation_fpr\": \"Pass. Below fairness threshold of 1.25\", \"tooltip_disparity_explanation_fpr\": \"1.09 times smaller FPR than the reference group\", \"tooltip_group_size\": \"637 (8.83%)\", \"fpr_disparity_rank\": -1.0, \"group_size_formatted\": \"637\", \"tooltip_groups_name_size\": \"Hispanic (637)\", \"fdr_disparity_scaled\": 0.12046448499472162, \"fdr_parity_result\": \"Pass\", \"tooltip_parity_test_explanation_fdr\": \"Pass. Below fairness threshold of 1.25\", \"tooltip_disparity_explanation_fdr\": \"1.12 times larger FDR than the reference group\", \"fdr_disparity_rank\": 2.0, \"fnr_disparity_scaled\": 0.16513950183259785, \"fnr_parity_result\": \"Pass\", \"tooltip_parity_test_explanation_fnr\": \"Pass. Below fairness threshold of 1.25\", \"tooltip_disparity_explanation_fnr\": \"1.17 times larger FNR than the reference group\", \"fnr_disparity_rank\": 1.0}, {\"attribute_name\": \"race\", \"attribute_value\": \"Native American\", \"group_size\": 18, \"total_entities\": 7214, \"ref_group_value\": \"Caucasian\", \"fpr\": 0.375, \"fdr\": 0.25, \"fnr\": 0.1, \"fpr_disparity\": 1.5988538681948423, \"fdr_disparity\": 0.6117478510028653, \"fnr_disparity\": 0.20954446854663775, \"fpr_disparity_scaled\": 0.5988538681948423, \"fpr_parity_result\": \"Fail\", \"tooltip_parity_test_explanation_fpr\": \"Fail. Above fairness threshold of 1.25\", \"tooltip_disparity_explanation_fpr\": \"1.60 times larger FPR than the reference group\", \"tooltip_group_size\": \"18 (0.25%)\", \"fpr_disparity_rank\": 1.0, \"group_size_formatted\": \"18\", \"tooltip_groups_name_size\": \"Native American (18)\", \"fdr_disparity_scaled\": -0.6346604215456675, \"fdr_parity_result\": \"Fail\", \"tooltip_parity_test_explanation_fdr\": \"Fail. Above fairness threshold of 1.25\", \"tooltip_disparity_explanation_fdr\": \"1.63 times smaller FDR than the reference group\", \"fdr_disparity_rank\": -2.0, \"fnr_disparity_scaled\": -3.7722567287784683, \"fnr_parity_result\": \"Fail\", \"tooltip_parity_test_explanation_fnr\": \"Fail. Above fairness threshold of 1.25\", \"tooltip_disparity_explanation_fnr\": \"4.77 times smaller FNR than the reference group\", \"fnr_disparity_rank\": -3.0}, {\"attribute_name\": \"race\", \"attribute_value\": \"Other\", \"group_size\": 377, \"total_entities\": 7214, \"ref_group_value\": \"Caucasian\", \"fpr\": 0.14754098360655737, \"fdr\": 0.45569620253164556, \"fnr\": 0.6766917293233082, \"fpr_disparity\": 0.6290572596176429, \"fdr_disparity\": 1.1150846904356027, \"fnr_disparity\": 1.4179700879095787, \"fpr_disparity_scaled\": -0.5896804062126644, \"fpr_parity_result\": \"Fail\", \"tooltip_parity_test_explanation_fpr\": \"Fail. Above fairness threshold of 1.25\", \"tooltip_disparity_explanation_fpr\": \"1.59 times smaller FPR than the reference group\", \"tooltip_group_size\": \"377 (5.23%)\", \"fpr_disparity_rank\": -2.0, \"group_size_formatted\": \"377\", \"tooltip_groups_name_size\": \"Other (377)\", \"fdr_disparity_scaled\": 0.11508469043560265, \"fdr_parity_result\": \"Pass\", \"tooltip_parity_test_explanation_fdr\": \"Pass. Below fairness threshold of 1.25\", \"tooltip_disparity_explanation_fdr\": \"1.12 times larger FDR than the reference group\", \"fdr_disparity_rank\": 1.0, \"fnr_disparity_scaled\": 0.4179700879095787, \"fnr_parity_result\": \"Fail\", \"tooltip_parity_test_explanation_fnr\": \"Fail. Above fairness threshold of 1.25\", \"tooltip_disparity_explanation_fnr\": \"1.42 times larger FNR than the reference group\", \"fnr_disparity_rank\": 2.0}], \"data-044844bfbe0bddaeb30b6be75ec9e7f6\": [{\"fdr_parity_result\": \"Fail\", \"attribute_name\": \"race\", \"total_entities\": 7214, \"group_size\": 50, \"tooltip_groups_name_size\": \"Asian (32), Native American (18)\", \"tooltip_group_size\": \"50 (0.69%)\"}, {\"fdr_parity_result\": \"Pass\", \"attribute_name\": \"race\", \"total_entities\": 7214, \"group_size\": 4710, \"tooltip_groups_name_size\": \"African-American (3,696), Hispanic (637), Other (377)\", \"tooltip_group_size\": \"4,710 (65.29%)\"}, {\"fdr_parity_result\": \"Reference\", \"attribute_name\": \"race\", \"total_entities\": 7214, \"group_size\": 2454, \"tooltip_groups_name_size\": \"Caucasian (2,454)\", \"tooltip_group_size\": \"2,454 (34.02%)\"}], \"data-33110eb692d2f7f972f54170b4e79459\": [{\"fnr_parity_result\": \"Fail\", \"attribute_name\": \"race\", \"total_entities\": 7214, \"group_size\": 4123, \"tooltip_groups_name_size\": \"African-American (3,696), Asian (32), Native American (18), Other (377)\", \"tooltip_group_size\": \"4,123 (57.15%)\"}, {\"fnr_parity_result\": \"Pass\", \"attribute_name\": \"race\", \"total_entities\": 7214, \"group_size\": 637, \"tooltip_groups_name_size\": \"Hispanic (637)\", \"tooltip_group_size\": \"637 (8.83%)\"}, {\"fnr_parity_result\": \"Reference\", \"attribute_name\": \"race\", \"total_entities\": 7214, \"group_size\": 2454, \"tooltip_groups_name_size\": \"Caucasian (2,454)\", \"tooltip_group_size\": \"2,454 (34.02%)\"}]}}, {\"mode\": \"vega-lite\"});\n",
              "</script>"
            ]
          },
          "metadata": {
            "tags": []
          },
          "execution_count": 27
        }
      ]
    },
    {
      "cell_type": "markdown",
      "metadata": {
        "id": "OgHZWokGc57_"
      },
      "source": [
        "The attribute race fails the parity test, by taking the Caucasian group as reference. This, as the note in the chart shows, means that the disparities of race in the evaluated indicators (fpr, fdr, fnr) are higher than the set treshold (standard according to the documentation). Therefore, the model is clearly bias for this racial attribute. <br>\n",
        "Note: The same test is not computed for Hispanic since, as shown before, the values are even more bias and it would obviously be a fail for the three indicators.\n",
        "\n"
      ]
    },
    {
      "cell_type": "markdown",
      "metadata": {
        "id": "dLcCytsjdvQ1"
      },
      "source": [
        "Finally, it is time to assess the attribute fairness (race) and the overall fairness."
      ]
    },
    {
      "cell_type": "code",
      "metadata": {
        "id": "ySm0C0OjhfL9"
      },
      "source": [
        "# Attribute fairness - by race\n",
        "f = Fairness()\n",
        "fdf = f.get_group_value_fairness(bdf)"
      ],
      "execution_count": 28,
      "outputs": []
    },
    {
      "cell_type": "code",
      "metadata": {
        "colab": {
          "base_uri": "https://localhost:8080/",
          "height": 95
        },
        "id": "IXdE27-PhfOs",
        "outputId": "30bb0379-23fa-4fa7-85c8-016bc09d9404"
      },
      "source": [
        "race_fairness = f.get_group_attribute_fairness(fdf)\n",
        "race_fairness"
      ],
      "execution_count": 29,
      "outputs": [
        {
          "output_type": "execute_result",
          "data": {
            "text/html": [
              "<div>\n",
              "<style scoped>\n",
              "    .dataframe tbody tr th:only-of-type {\n",
              "        vertical-align: middle;\n",
              "    }\n",
              "\n",
              "    .dataframe tbody tr th {\n",
              "        vertical-align: top;\n",
              "    }\n",
              "\n",
              "    .dataframe thead th {\n",
              "        text-align: right;\n",
              "    }\n",
              "</style>\n",
              "<table border=\"1\" class=\"dataframe\">\n",
              "  <thead>\n",
              "    <tr style=\"text-align: right;\">\n",
              "      <th></th>\n",
              "      <th>model_id</th>\n",
              "      <th>score_threshold</th>\n",
              "      <th>attribute_name</th>\n",
              "      <th>Statistical Parity</th>\n",
              "      <th>Impact Parity</th>\n",
              "      <th>FDR Parity</th>\n",
              "      <th>FPR Parity</th>\n",
              "      <th>FOR Parity</th>\n",
              "      <th>FNR Parity</th>\n",
              "      <th>TPR Parity</th>\n",
              "      <th>TNR Parity</th>\n",
              "      <th>NPV Parity</th>\n",
              "      <th>Precision Parity</th>\n",
              "      <th>TypeI Parity</th>\n",
              "      <th>TypeII Parity</th>\n",
              "      <th>Equalized Odds</th>\n",
              "      <th>Unsupervised Fairness</th>\n",
              "      <th>Supervised Fairness</th>\n",
              "    </tr>\n",
              "  </thead>\n",
              "  <tbody>\n",
              "    <tr>\n",
              "      <th>0</th>\n",
              "      <td>0</td>\n",
              "      <td>binary 0/1</td>\n",
              "      <td>race</td>\n",
              "      <td>False</td>\n",
              "      <td>False</td>\n",
              "      <td>False</td>\n",
              "      <td>False</td>\n",
              "      <td>False</td>\n",
              "      <td>False</td>\n",
              "      <td>False</td>\n",
              "      <td>False</td>\n",
              "      <td>True</td>\n",
              "      <td>False</td>\n",
              "      <td>False</td>\n",
              "      <td>False</td>\n",
              "      <td>False</td>\n",
              "      <td>False</td>\n",
              "      <td>False</td>\n",
              "    </tr>\n",
              "  </tbody>\n",
              "</table>\n",
              "</div>"
            ],
            "text/plain": [
              "   model_id score_threshold  ... Unsupervised Fairness  Supervised Fairness\n",
              "0         0      binary 0/1  ...                 False                False\n",
              "\n",
              "[1 rows x 18 columns]"
            ]
          },
          "metadata": {
            "tags": []
          },
          "execution_count": 29
        }
      ]
    },
    {
      "cell_type": "markdown",
      "metadata": {
        "id": "DJXVSKkkiTbk"
      },
      "source": [
        "As this table above shows, all the parity tests calculated on the bias indicators fail, except for the Negative Predicted Value parity. This last value does not take any relevant role in the assessment if all the others have disparities like it shows. "
      ]
    },
    {
      "cell_type": "code",
      "metadata": {
        "colab": {
          "base_uri": "https://localhost:8080/"
        },
        "id": "5axg6_61hfRQ",
        "outputId": "4574890e-8897-448f-fbea-66347aac651a"
      },
      "source": [
        "overall_fair = f.get_overall_fairness(fdf)\n",
        "overall_fair"
      ],
      "execution_count": 30,
      "outputs": [
        {
          "output_type": "execute_result",
          "data": {
            "text/plain": [
              "{'Overall Fairness': False,\n",
              " 'Supervised Fairness': False,\n",
              " 'Unsupervised Fairness': False}"
            ]
          },
          "metadata": {
            "tags": []
          },
          "execution_count": 30
        }
      ]
    },
    {
      "cell_type": "markdown",
      "metadata": {
        "id": "fPlKnopDiT3q"
      },
      "source": [
        "Therefore, these predictions are completely unfair, especially to the ethnical groups African American and Native American. "
      ]
    },
    {
      "cell_type": "markdown",
      "metadata": {
        "id": "bSmrBlR82kuu"
      },
      "source": [
        "#Study Case 2: Bias/Fairness assessment for Age categories\n",
        "For the second case, the age parameter is examined. The age is an important metric when appeal courts look at wether a certain individual should be freed or not. It is known and clear that younger criminals tend to re-offend, while older individuals are more risk-averse and therefore end up back in prison at a lower rate. (https://www.ussc.gov/research/research-reports/effects-aging-recidivism-among-federal-offenders#:~:text=Older%20offenders%20were%20substantially%20less,at%20the%20time%20of%20release.)\n",
        "\n",
        "People younger than 21 actually have a likelihood of 2/3 to end up back in prison, while people over 65 only have a chance of 14% to re-offend.\n",
        "\n",
        "While the case for age discrimination might be made, society in general seems to agree that younger criminials need a tougher sentence as a warning, while older, more settled offenders might be given a second chance. Age itself is, unlike other catogeries such as gender or race, the same for every human being. Every person of every race and every gender is \"young\" once and (hopefully) \"old\" later on in their lives, therefore it is not necissarily discriminatory to keep younger criminals in prison for longer.\n",
        "\n",
        "For this analysis, the same workflow as for the race parameter is followed and examined. The same age categories as in the dataset were used, since the original ages of the persons is not included in the aequitas dataset. \n"
      ]
    },
    {
      "cell_type": "markdown",
      "metadata": {
        "id": "pUSjHJgsRLXC"
      },
      "source": [
        "## 1. Data Analysis"
      ]
    },
    {
      "cell_type": "code",
      "metadata": {
        "id": "v0WIdD6PWxO8",
        "colab": {
          "base_uri": "https://localhost:8080/"
        },
        "outputId": "f2d7eeb3-887b-4f9e-ccd7-514641efd7e1"
      },
      "source": [
        "#age variable analysis\n",
        "df_age = df[['entity_id', 'score', 'label_value', 'age_cat']]\n",
        "age_classes = df_age['age_cat'].unique().tolist()\n",
        "print('There are ', len(age_classes) , 'different race classes in dataset')\n",
        "age_classes"
      ],
      "execution_count": 31,
      "outputs": [
        {
          "output_type": "stream",
          "text": [
            "There are  3 different race classes in dataset\n"
          ],
          "name": "stdout"
        },
        {
          "output_type": "execute_result",
          "data": {
            "text/plain": [
              "['Greater than 45', '25 - 45', 'Less than 25']"
            ]
          },
          "metadata": {
            "tags": []
          },
          "execution_count": 31
        }
      ]
    },
    {
      "cell_type": "code",
      "metadata": {
        "id": "JnBcCTRWWyvZ",
        "colab": {
          "base_uri": "https://localhost:8080/"
        },
        "outputId": "f66a213a-ef91-4eb3-e385-966eee0a0d40"
      },
      "source": [
        "df_age['age_cat'].value_counts()"
      ],
      "execution_count": 32,
      "outputs": [
        {
          "output_type": "execute_result",
          "data": {
            "text/plain": [
              "25 - 45            4109\n",
              "Greater than 45    1576\n",
              "Less than 25       1529\n",
              "Name: age_cat, dtype: int64"
            ]
          },
          "metadata": {
            "tags": []
          },
          "execution_count": 32
        }
      ]
    },
    {
      "cell_type": "code",
      "metadata": {
        "id": "wt9_zyXOXgNU",
        "colab": {
          "base_uri": "https://localhost:8080/",
          "height": 265
        },
        "outputId": "07c140d2-4629-4d2a-b0fd-a8118d032a05"
      },
      "source": [
        "df_age.groupby('age_cat').size().plot(kind='pie', autopct='%.2f')"
      ],
      "execution_count": 33,
      "outputs": [
        {
          "output_type": "execute_result",
          "data": {
            "text/plain": [
              "<matplotlib.axes._subplots.AxesSubplot at 0x7fd392744e50>"
            ]
          },
          "metadata": {
            "tags": []
          },
          "execution_count": 33
        },
        {
          "output_type": "display_data",
          "data": {
            "image/png": "[encoded data removed]",
            "text/plain": [
              "<Figure size 432x288 with 1 Axes>"
            ]
          },
          "metadata": {
            "tags": []
          }
        }
      ]
    },
    {
      "cell_type": "markdown",
      "metadata": {
        "id": "EyQQPfkBx08u"
      },
      "source": [
        "## 2. Absolute number of predicted reoffenders by age group vs. actual number"
      ]
    },
    {
      "cell_type": "code",
      "metadata": {
        "id": "hRL-lInLYVor",
        "colab": {
          "base_uri": "https://localhost:8080/",
          "height": 405
        },
        "outputId": "a311b5f9-b2b5-426e-92c8-51e4333588f1"
      },
      "source": [
        "#score plot\n",
        "plt.figure(figsize=(16,6))\n",
        "by_age = sns.countplot(x=\"age_cat\", hue=\"score\", data=df_age[df_age.age_cat.isin(age_classes)])\n",
        "print('Note: This plot takes the count per class into account.')"
      ],
      "execution_count": 34,
      "outputs": [
        {
          "output_type": "stream",
          "text": [
            "Note: This plot takes the count per class into account.\n"
          ],
          "name": "stdout"
        },
        {
          "output_type": "display_data",
          "data": {
            "image/png": "[encoded data removed]",
            "text/plain": [
              "<Figure size 1152x432 with 1 Axes>"
            ]
          },
          "metadata": {
            "tags": [],
            "needs_background": "light"
          }
        }
      ]
    },
    {
      "cell_type": "markdown",
      "metadata": {
        "id": "AsmbNDJ9pk70"
      },
      "source": [
        "Just like before, while the COMPAS dataset has a likelihood between 0 and 10, this is reduced to binary (0 - low risk, 1 - medium-high risk).\n",
        "\n",
        "  \n",
        "As mentioned before, the people over the age of 45 (older) are given a lesser likelihood to reoffend, while persons under 25 are more likely or not given a medium to high recidivism risk. The age group in the middle, 25-45, is the closest call, only separated by a few more people being labeled as a low risk.\n"
      ]
    },
    {
      "cell_type": "code",
      "metadata": {
        "id": "Luj2PggAYqg2",
        "colab": {
          "base_uri": "https://localhost:8080/",
          "height": 387
        },
        "outputId": "efce526a-0ce9-422c-e446-a872571efffd"
      },
      "source": [
        "#level of recidivism plot\n",
        "plt.figure(figsize=(16,6))\n",
        "label_by_age = sns.countplot(x=\"age_cat\", hue=\"label_value\", data=df_age[df_age.age_cat.isin(age_classes)])"
      ],
      "execution_count": 35,
      "outputs": [
        {
          "output_type": "display_data",
          "data": {
            "image/png": "[encoded data removed]",
            "text/plain": [
              "<Figure size 1152x432 with 1 Axes>"
            ]
          },
          "metadata": {
            "tags": [],
            "needs_background": "light"
          }
        }
      ]
    },
    {
      "cell_type": "markdown",
      "metadata": {
        "id": "ZiNZcgZPqnmh"
      },
      "source": [
        "This plot shows the actual recidivism rates 2 years after release. While the prediction seems very accurate for the medium age group, a few more old people than predicted reoffned while the number of young people who reoffend is acually quite a lot lower than thought and predicted."
      ]
    },
    {
      "cell_type": "code",
      "metadata": {
        "id": "2FZsx1nvY8jL"
      },
      "source": [
        "age = df_age['age_cat'].tolist()\n",
        "score = df_age['score'].tolist()\n",
        "recividism = df_race['label_value'].tolist()\n",
        "\n",
        "def CountScoreClasses(age_classes, column):\n",
        "  count = 0\n",
        "  count2 = 0\n",
        "\n",
        "  for i in range(len(df)):\n",
        "    if age[i] == age_classes and column[i] == 1:\n",
        "      count += 1\n",
        "    elif age[i] == age_classes and column[i] == 0:\n",
        "      count2 += 1\n",
        "\n",
        "  return count, count2"
      ],
      "execution_count": 36,
      "outputs": []
    },
    {
      "cell_type": "code",
      "metadata": {
        "id": "bM2ZtxsXZTyq"
      },
      "source": [
        "#counting score per race\n",
        "low_age = CountScoreClasses('Less than 25', score)\n",
        "med_age = CountScoreClasses('25 - 45', score)\n",
        "high_age = CountScoreClasses('Greater than 45', score)"
      ],
      "execution_count": 37,
      "outputs": []
    },
    {
      "cell_type": "code",
      "metadata": {
        "id": "eEColgjhZlqX"
      },
      "source": [
        "#counting recividism per race\n",
        "low_age_rec = CountScoreClasses('Less than 25', recividism)\n",
        "med_age_rec = CountScoreClasses('25 - 45', recividism)\n",
        "high_age_rec = CountScoreClasses('Greater than 45', recividism)\n"
      ],
      "execution_count": 38,
      "outputs": []
    },
    {
      "cell_type": "code",
      "metadata": {
        "id": "_sU0mdwxaAYG"
      },
      "source": [
        "#prepare precentage df columns \n",
        "score1 = [low_age[0], med_age[0], high_age[0] ]\n",
        "score0 = [low_age[1], med_age[1], high_age[1] ]\n",
        "\n",
        "rec1 = [low_age_rec[0], med_age_rec[0], high_age_rec[0] ]\n",
        "rec0 = [low_age_rec[1], med_age_rec[1], high_age_rec[1] ]\n",
        "\n",
        "cols = {'age' : age_classes, 'score0' : score0, 'score1' : score1, 'rec0' : rec0, 'rec1' : rec1}\n",
        "df_percent_age = pd.DataFrame(data=cols)"
      ],
      "execution_count": 39,
      "outputs": []
    },
    {
      "cell_type": "code",
      "metadata": {
        "id": "4wF-_MR_auvq",
        "colab": {
          "base_uri": "https://localhost:8080/",
          "height": 141
        },
        "outputId": "2750b5cd-e58a-44e5-98b5-689c2c6c1f4d"
      },
      "source": [
        "df_percent_age"
      ],
      "execution_count": 40,
      "outputs": [
        {
          "output_type": "execute_result",
          "data": {
            "text/html": [
              "<div>\n",
              "<style scoped>\n",
              "    .dataframe tbody tr th:only-of-type {\n",
              "        vertical-align: middle;\n",
              "    }\n",
              "\n",
              "    .dataframe tbody tr th {\n",
              "        vertical-align: top;\n",
              "    }\n",
              "\n",
              "    .dataframe thead th {\n",
              "        text-align: right;\n",
              "    }\n",
              "</style>\n",
              "<table border=\"1\" class=\"dataframe\">\n",
              "  <thead>\n",
              "    <tr style=\"text-align: right;\">\n",
              "      <th></th>\n",
              "      <th>age</th>\n",
              "      <th>score0</th>\n",
              "      <th>score1</th>\n",
              "      <th>rec0</th>\n",
              "      <th>rec1</th>\n",
              "    </tr>\n",
              "  </thead>\n",
              "  <tbody>\n",
              "    <tr>\n",
              "      <th>0</th>\n",
              "      <td>Greater than 45</td>\n",
              "      <td>530</td>\n",
              "      <td>999</td>\n",
              "      <td>813</td>\n",
              "      <td>716</td>\n",
              "    </tr>\n",
              "    <tr>\n",
              "      <th>1</th>\n",
              "      <td>25 - 45</td>\n",
              "      <td>2185</td>\n",
              "      <td>1924</td>\n",
              "      <td>2264</td>\n",
              "      <td>1845</td>\n",
              "    </tr>\n",
              "    <tr>\n",
              "      <th>2</th>\n",
              "      <td>Less than 25</td>\n",
              "      <td>1182</td>\n",
              "      <td>394</td>\n",
              "      <td>886</td>\n",
              "      <td>690</td>\n",
              "    </tr>\n",
              "  </tbody>\n",
              "</table>\n",
              "</div>"
            ],
            "text/plain": [
              "               age  score0  score1  rec0  rec1\n",
              "0  Greater than 45     530     999   813   716\n",
              "1          25 - 45    2185    1924  2264  1845\n",
              "2     Less than 25    1182     394   886   690"
            ]
          },
          "metadata": {
            "tags": []
          },
          "execution_count": 40
        }
      ]
    },
    {
      "cell_type": "markdown",
      "metadata": {
        "id": "mlSvHWp4rXnS"
      },
      "source": [
        "This chart shows the absolute numbers of actual reoffenders and predicted reoffenders, as well as those who actually stay out of prison and the predictions."
      ]
    },
    {
      "cell_type": "code",
      "metadata": {
        "id": "XTAE4CzAawPg",
        "colab": {
          "base_uri": "https://localhost:8080/",
          "height": 141
        },
        "outputId": "a9ab224b-e602-45a5-f3c4-c379ab5ea111"
      },
      "source": [
        "#calculate % of variables\n",
        "percentage_sc0 = []\n",
        "percentage_sc1 = []\n",
        "\n",
        "percentage_rec0 = []\n",
        "percentage_rec1 = []\n",
        "\n",
        "for i in range(len(df_percent_age)):\n",
        "  value_sc1 = (score1[i] * 100)/(score0[i] + score1[i])\n",
        "  value_sc0 = (score0[i] * 100)/(score1[i] + score0[i])\n",
        "  value_rec1 = (rec1[i] * 100)/(rec0[i] + rec1[i])\n",
        "  value_rec0 = (rec0[i] * 100)/(rec1[i] + rec0[i])\n",
        "  percentage_sc0.append(value_sc0)\n",
        "  percentage_sc1.append(value_sc1)\n",
        "  percentage_rec0.append(value_rec0)\n",
        "  percentage_rec1.append(value_rec1)\n",
        "\n",
        "df_percent_age['%_score0'] = percentage_sc0\n",
        "df_percent_age['%_score1'] = percentage_sc1\n",
        "df_percent_age['%_rec0'] = percentage_rec0\n",
        "df_percent_age['%_rec1'] = percentage_rec1\n",
        "\n",
        "df_percent_age"
      ],
      "execution_count": 41,
      "outputs": [
        {
          "output_type": "execute_result",
          "data": {
            "text/html": [
              "<div>\n",
              "<style scoped>\n",
              "    .dataframe tbody tr th:only-of-type {\n",
              "        vertical-align: middle;\n",
              "    }\n",
              "\n",
              "    .dataframe tbody tr th {\n",
              "        vertical-align: top;\n",
              "    }\n",
              "\n",
              "    .dataframe thead th {\n",
              "        text-align: right;\n",
              "    }\n",
              "</style>\n",
              "<table border=\"1\" class=\"dataframe\">\n",
              "  <thead>\n",
              "    <tr style=\"text-align: right;\">\n",
              "      <th></th>\n",
              "      <th>age</th>\n",
              "      <th>score0</th>\n",
              "      <th>score1</th>\n",
              "      <th>rec0</th>\n",
              "      <th>rec1</th>\n",
              "      <th>%_score0</th>\n",
              "      <th>%_score1</th>\n",
              "      <th>%_rec0</th>\n",
              "      <th>%_rec1</th>\n",
              "    </tr>\n",
              "  </thead>\n",
              "  <tbody>\n",
              "    <tr>\n",
              "      <th>0</th>\n",
              "      <td>Greater than 45</td>\n",
              "      <td>530</td>\n",
              "      <td>999</td>\n",
              "      <td>813</td>\n",
              "      <td>716</td>\n",
              "      <td>34.663179</td>\n",
              "      <td>65.336821</td>\n",
              "      <td>53.172008</td>\n",
              "      <td>46.827992</td>\n",
              "    </tr>\n",
              "    <tr>\n",
              "      <th>1</th>\n",
              "      <td>25 - 45</td>\n",
              "      <td>2185</td>\n",
              "      <td>1924</td>\n",
              "      <td>2264</td>\n",
              "      <td>1845</td>\n",
              "      <td>53.175955</td>\n",
              "      <td>46.824045</td>\n",
              "      <td>55.098564</td>\n",
              "      <td>44.901436</td>\n",
              "    </tr>\n",
              "    <tr>\n",
              "      <th>2</th>\n",
              "      <td>Less than 25</td>\n",
              "      <td>1182</td>\n",
              "      <td>394</td>\n",
              "      <td>886</td>\n",
              "      <td>690</td>\n",
              "      <td>75.000000</td>\n",
              "      <td>25.000000</td>\n",
              "      <td>56.218274</td>\n",
              "      <td>43.781726</td>\n",
              "    </tr>\n",
              "  </tbody>\n",
              "</table>\n",
              "</div>"
            ],
            "text/plain": [
              "               age  score0  score1  ...   %_score1     %_rec0     %_rec1\n",
              "0  Greater than 45     530     999  ...  65.336821  53.172008  46.827992\n",
              "1          25 - 45    2185    1924  ...  46.824045  55.098564  44.901436\n",
              "2     Less than 25    1182     394  ...  25.000000  56.218274  43.781726\n",
              "\n",
              "[3 rows x 9 columns]"
            ]
          },
          "metadata": {
            "tags": []
          },
          "execution_count": 41
        }
      ]
    },
    {
      "cell_type": "markdown",
      "metadata": {
        "id": "4dmGRRJMrR2j"
      },
      "source": [
        "This chart shows the relative numbers (percentages) of the dataset."
      ]
    },
    {
      "cell_type": "code",
      "metadata": {
        "id": "w8nacGYwcoTs"
      },
      "source": [
        "#define df with variables to audit\n",
        "g = Group()\n",
        "xtab, _ = g.get_crosstabs(df_age)\n",
        "absolute_metrics = g.list_absolute_metrics(xtab)\n",
        "\n",
        "#indicators to take into account for further figures\n",
        "metrics = ['fpr','fdr', 'fnr']\n",
        "disparity_tolerance = 1.25"
      ],
      "execution_count": null,
      "outputs": []
    },
    {
      "cell_type": "code",
      "metadata": {
        "id": "S-6vNswudciR",
        "colab": {
          "base_uri": "https://localhost:8080/",
          "height": 141
        },
        "outputId": "572cddb8-ae72-4c02-8bc1-9f0a61e99dbc"
      },
      "source": [
        "# Compute Group Counts bias metrics\n",
        "xtab[[col for col in xtab.columns if col not in absolute_metrics]]"
      ],
      "execution_count": 43,
      "outputs": [
        {
          "output_type": "execute_result",
          "data": {
            "text/html": [
              "<div>\n",
              "<style scoped>\n",
              "    .dataframe tbody tr th:only-of-type {\n",
              "        vertical-align: middle;\n",
              "    }\n",
              "\n",
              "    .dataframe tbody tr th {\n",
              "        vertical-align: top;\n",
              "    }\n",
              "\n",
              "    .dataframe thead th {\n",
              "        text-align: right;\n",
              "    }\n",
              "</style>\n",
              "<table border=\"1\" class=\"dataframe\">\n",
              "  <thead>\n",
              "    <tr style=\"text-align: right;\">\n",
              "      <th></th>\n",
              "      <th>model_id</th>\n",
              "      <th>score_threshold</th>\n",
              "      <th>k</th>\n",
              "      <th>attribute_name</th>\n",
              "      <th>attribute_value</th>\n",
              "      <th>pp</th>\n",
              "      <th>pn</th>\n",
              "      <th>fp</th>\n",
              "      <th>fn</th>\n",
              "      <th>tn</th>\n",
              "      <th>tp</th>\n",
              "      <th>group_label_pos</th>\n",
              "      <th>group_label_neg</th>\n",
              "      <th>group_size</th>\n",
              "      <th>total_entities</th>\n",
              "    </tr>\n",
              "  </thead>\n",
              "  <tbody>\n",
              "    <tr>\n",
              "      <th>0</th>\n",
              "      <td>0</td>\n",
              "      <td>binary 0/1</td>\n",
              "      <td>3317</td>\n",
              "      <td>age_cat</td>\n",
              "      <td>25 - 45</td>\n",
              "      <td>1924</td>\n",
              "      <td>2185</td>\n",
              "      <td>741</td>\n",
              "      <td>706</td>\n",
              "      <td>1479</td>\n",
              "      <td>1183</td>\n",
              "      <td>1889</td>\n",
              "      <td>2220</td>\n",
              "      <td>4109</td>\n",
              "      <td>7214</td>\n",
              "    </tr>\n",
              "    <tr>\n",
              "      <th>1</th>\n",
              "      <td>0</td>\n",
              "      <td>binary 0/1</td>\n",
              "      <td>3317</td>\n",
              "      <td>age_cat</td>\n",
              "      <td>Greater than 45</td>\n",
              "      <td>394</td>\n",
              "      <td>1182</td>\n",
              "      <td>181</td>\n",
              "      <td>285</td>\n",
              "      <td>897</td>\n",
              "      <td>213</td>\n",
              "      <td>498</td>\n",
              "      <td>1078</td>\n",
              "      <td>1576</td>\n",
              "      <td>7214</td>\n",
              "    </tr>\n",
              "    <tr>\n",
              "      <th>2</th>\n",
              "      <td>0</td>\n",
              "      <td>binary 0/1</td>\n",
              "      <td>3317</td>\n",
              "      <td>age_cat</td>\n",
              "      <td>Less than 25</td>\n",
              "      <td>999</td>\n",
              "      <td>530</td>\n",
              "      <td>360</td>\n",
              "      <td>225</td>\n",
              "      <td>305</td>\n",
              "      <td>639</td>\n",
              "      <td>864</td>\n",
              "      <td>665</td>\n",
              "      <td>1529</td>\n",
              "      <td>7214</td>\n",
              "    </tr>\n",
              "  </tbody>\n",
              "</table>\n",
              "</div>"
            ],
            "text/plain": [
              "   model_id score_threshold     k  ... group_label_neg group_size  total_entities\n",
              "0         0      binary 0/1  3317  ...            2220       4109            7214\n",
              "1         0      binary 0/1  3317  ...            1078       1576            7214\n",
              "2         0      binary 0/1  3317  ...             665       1529            7214\n",
              "\n",
              "[3 rows x 15 columns]"
            ]
          },
          "metadata": {
            "tags": []
          },
          "execution_count": 43
        }
      ]
    },
    {
      "cell_type": "code",
      "metadata": {
        "id": "G2NZyK55ddIg",
        "colab": {
          "base_uri": "https://localhost:8080/",
          "height": 141
        },
        "outputId": "0ce37bc2-4284-47cd-ddb1-af205727993c"
      },
      "source": [
        "# Group value bias metrics\n",
        "xtab[['attribute_name', 'attribute_value'] + absolute_metrics].round(2)"
      ],
      "execution_count": 44,
      "outputs": [
        {
          "output_type": "execute_result",
          "data": {
            "text/html": [
              "<div>\n",
              "<style scoped>\n",
              "    .dataframe tbody tr th:only-of-type {\n",
              "        vertical-align: middle;\n",
              "    }\n",
              "\n",
              "    .dataframe tbody tr th {\n",
              "        vertical-align: top;\n",
              "    }\n",
              "\n",
              "    .dataframe thead th {\n",
              "        text-align: right;\n",
              "    }\n",
              "</style>\n",
              "<table border=\"1\" class=\"dataframe\">\n",
              "  <thead>\n",
              "    <tr style=\"text-align: right;\">\n",
              "      <th></th>\n",
              "      <th>attribute_name</th>\n",
              "      <th>attribute_value</th>\n",
              "      <th>tpr</th>\n",
              "      <th>tnr</th>\n",
              "      <th>for</th>\n",
              "      <th>fdr</th>\n",
              "      <th>fpr</th>\n",
              "      <th>fnr</th>\n",
              "      <th>npv</th>\n",
              "      <th>precision</th>\n",
              "      <th>ppr</th>\n",
              "      <th>pprev</th>\n",
              "      <th>prev</th>\n",
              "    </tr>\n",
              "  </thead>\n",
              "  <tbody>\n",
              "    <tr>\n",
              "      <th>0</th>\n",
              "      <td>age_cat</td>\n",
              "      <td>25 - 45</td>\n",
              "      <td>0.63</td>\n",
              "      <td>0.67</td>\n",
              "      <td>0.32</td>\n",
              "      <td>0.39</td>\n",
              "      <td>0.33</td>\n",
              "      <td>0.37</td>\n",
              "      <td>0.68</td>\n",
              "      <td>0.61</td>\n",
              "      <td>0.58</td>\n",
              "      <td>0.47</td>\n",
              "      <td>0.46</td>\n",
              "    </tr>\n",
              "    <tr>\n",
              "      <th>1</th>\n",
              "      <td>age_cat</td>\n",
              "      <td>Greater than 45</td>\n",
              "      <td>0.43</td>\n",
              "      <td>0.83</td>\n",
              "      <td>0.24</td>\n",
              "      <td>0.46</td>\n",
              "      <td>0.17</td>\n",
              "      <td>0.57</td>\n",
              "      <td>0.76</td>\n",
              "      <td>0.54</td>\n",
              "      <td>0.12</td>\n",
              "      <td>0.25</td>\n",
              "      <td>0.32</td>\n",
              "    </tr>\n",
              "    <tr>\n",
              "      <th>2</th>\n",
              "      <td>age_cat</td>\n",
              "      <td>Less than 25</td>\n",
              "      <td>0.74</td>\n",
              "      <td>0.46</td>\n",
              "      <td>0.42</td>\n",
              "      <td>0.36</td>\n",
              "      <td>0.54</td>\n",
              "      <td>0.26</td>\n",
              "      <td>0.58</td>\n",
              "      <td>0.64</td>\n",
              "      <td>0.30</td>\n",
              "      <td>0.65</td>\n",
              "      <td>0.57</td>\n",
              "    </tr>\n",
              "  </tbody>\n",
              "</table>\n",
              "</div>"
            ],
            "text/plain": [
              "  attribute_name  attribute_value   tpr   tnr  ...  precision   ppr  pprev  prev\n",
              "0        age_cat          25 - 45  0.63  0.67  ...       0.61  0.58   0.47  0.46\n",
              "1        age_cat  Greater than 45  0.43  0.83  ...       0.54  0.12   0.25  0.32\n",
              "2        age_cat     Less than 25  0.74  0.46  ...       0.64  0.30   0.65  0.57\n",
              "\n",
              "[3 rows x 13 columns]"
            ]
          },
          "metadata": {
            "tags": []
          },
          "execution_count": 44
        }
      ]
    },
    {
      "cell_type": "markdown",
      "metadata": {
        "id": "51XWhTQ1yBb3"
      },
      "source": [
        "## Bias and Faireness audit with Aequitas"
      ]
    },
    {
      "cell_type": "code",
      "metadata": {
        "id": "ltGIH2g4doAq",
        "colab": {
          "base_uri": "https://localhost:8080/",
          "height": 513
        },
        "outputId": "62cc61dc-9694-4e4e-d951-f3c6f0b8637e"
      },
      "source": [
        "#absolute metrics plot - reference Caucasian\n",
        "b = Bias()\n",
        "bdf = b.get_disparity_predefined_groups(xtab, original_df=df_age, \n",
        "                                        ref_groups_dict={'age_cat':'25 - 45'}, \n",
        "                                        alpha=0.05, check_significance=True, \n",
        "                                        mask_significance=True)\n",
        "\n",
        "ap.absolute(bdf, metrics, 'age_cat', fairness_threshold = disparity_tolerance)"
      ],
      "execution_count": 46,
      "outputs": [
        {
          "output_type": "stream",
          "text": [
            "get_disparity_predefined_group()\n"
          ],
          "name": "stdout"
        },
        {
          "output_type": "execute_result",
          "data": {
            "text/plain": [
              "alt.LayerChart(...)"
            ],
            "text/html": [
              "\n",
              "<div id=\"altair-viz-7339ee52278841bea21e5c39836af2d6\"></div>\n",
              "<script type=\"text/javascript\">\n",
              "  (function(spec, embedOpt){\n",
              "    let outputDiv = document.currentScript.previousElementSibling;\n",
              "    if (outputDiv.id !== \"altair-viz-7339ee52278841bea21e5c39836af2d6\") {\n",
              "      outputDiv = document.getElementById(\"altair-viz-7339ee52278841bea21e5c39836af2d6\");\n",
              "    }\n",
              "    const paths = {\n",
              "      \"vega\": \"https://cdn.jsdelivr.net/npm//vega@5?noext\",\n",
              "      \"vega-lib\": \"https://cdn.jsdelivr.net/npm//vega-lib?noext\",\n",
              "      \"vega-lite\": \"https://cdn.jsdelivr.net/npm//vega-lite@4.8.1?noext\",\n",
              "      \"vega-embed\": \"https://cdn.jsdelivr.net/npm//vega-embed@6?noext\",\n",
              "    };\n",
              "\n",
              "    function loadScript(lib) {\n",
              "      return new Promise(function(resolve, reject) {\n",
              "        var s = document.createElement('script');\n",
              "        s.src = paths[lib];\n",
              "        s.async = true;\n",
              "        s.onload = () => resolve(paths[lib]);\n",
              "        s.onerror = () => reject(`Error loading script: ${paths[lib]}`);\n",
              "        document.getElementsByTagName(\"head\")[0].appendChild(s);\n",
              "      });\n",
              "    }\n",
              "\n",
              "    function showError(err) {\n",
              "      outputDiv.innerHTML = `<div class=\"error\" style=\"color:red;\">${err}</div>`;\n",
              "      throw err;\n",
              "    }\n",
              "\n",
              "    function displayChart(vegaEmbed) {\n",
              "      vegaEmbed(outputDiv, spec, embedOpt)\n",
              "        .catch(err => showError(`Javascript Error: ${err.message}<br>This usually means there's a typo in your chart specification. See the javascript console for the full traceback.`));\n",
              "    }\n",
              "\n",
              "    if(typeof define === \"function\" && define.amd) {\n",
              "      requirejs.config({paths});\n",
              "      require([\"vega-embed\"], displayChart, err => showError(`Error loading script: ${err.message}`));\n",
              "    } else if (typeof vegaEmbed === \"function\") {\n",
              "      displayChart(vegaEmbed);\n",
              "    } else {\n",
              "      loadScript(\"vega\")\n",
              "        .then(() => loadScript(\"vega-lite\"))\n",
              "        .then(() => loadScript(\"vega-embed\"))\n",
              "        .catch(showError)\n",
              "        .then(() => displayChart(vegaEmbed));\n",
              "    }\n",
              "  })({\"config\": {\"view\": {\"continuousWidth\": 400, \"continuousHeight\": 300, \"strokeWidth\": 0}, \"axisLeft\": {\"labelColor\": \"rgb(117,117,117)\", \"labelFont\": \"Arial\", \"labelFontSize\": 16}, \"title\": {\"align\": \"center\", \"baseline\": \"middle\", \"color\": \"rgb(117,117,117)\", \"font\": \"Arial\", \"fontSize\": 20, \"fontWeight\": \"bold\"}}, \"layer\": [{\"data\": {\"name\": \"data-b755ca1d45f2e5f333e1201c5a225c15\"}, \"mark\": {\"type\": \"rule\", \"stroke\": \"rgb(117,117,117)\", \"strokeWidth\": 1.25, \"tooltip\": \"\"}, \"encoding\": {\"x\": {\"type\": \"quantitative\", \"field\": \"start\", \"scale\": {\"domain\": [0, 1], \"range\": [40.0, 760.0]}}, \"x2\": {\"field\": \"end\"}, \"y\": {\"type\": \"nominal\", \"axis\": {\"domain\": false, \"labelAngle\": 0, \"labelPadding\": -30, \"orient\": \"left\", \"ticks\": false, \"title\": \"\"}, \"field\": \"y_position\", \"scale\": {\"domain\": [\"FPR\", \"FDR\", \"FNR\"], \"range\": [42.5, 382.5]}}}}, {\"data\": {\"name\": \"data-6cfe259518f6c7b358d8f836a73e6b7f\"}, \"mark\": {\"type\": \"rule\", \"stroke\": \"rgb(117,117,117)\", \"strokeWidth\": 1.25, \"tooltip\": \"\"}, \"encoding\": {\"x\": {\"type\": \"quantitative\", \"field\": \"x_position\", \"scale\": {\"domain\": [0, 1], \"range\": [40.0, 760.0]}}, \"y\": {\"value\": 42.5}, \"y2\": {\"value\": 382.5}}}, {\"data\": {\"name\": \"data-60ed1133fa688d151d36705a369482e0\"}, \"mark\": {\"type\": \"text\", \"align\": \"center\", \"color\": \"rgb(117,117,117)\", \"font\": \"Arial\", \"fontSize\": 12, \"fontWeight\": \"normal\", \"tooltip\": \"\"}, \"encoding\": {\"text\": {\"type\": \"nominal\", \"field\": \"value\"}, \"x\": {\"type\": \"quantitative\", \"field\": \"value\", \"scale\": {\"domain\": [0, 1], \"range\": [40.0, 760.0]}}, \"y\": {\"value\": 29.749999999999996}}}, {\"layer\": [{\"mark\": {\"type\": \"rect\", \"opacity\": 0.8, \"stroke\": \"rgb(217, 46, 28)\", \"strokeWidth\": 1.25, \"tooltip\": \"\"}, \"encoding\": {\"x\": {\"type\": \"quantitative\", \"field\": \"lower_threshold_value\", \"scale\": {\"domain\": [0, 1], \"range\": [40.0, 760.0]}}, \"x2\": {\"field\": \"lower_threshold_value\"}, \"y\": {\"type\": \"nominal\", \"axis\": {\"domain\": false, \"grid\": false, \"labels\": false, \"ticks\": false, \"title\": \" \"}, \"field\": \"metric\", \"scale\": {\"domain\": [\"FPR\", \"FDR\", \"FNR\"], \"range\": [42.5, 382.5]}}}}, {\"mark\": {\"type\": \"rect\", \"opacity\": 0.8, \"stroke\": \"rgb(217, 46, 28)\", \"strokeWidth\": 1.25, \"tooltip\": \"\"}, \"encoding\": {\"x\": {\"type\": \"quantitative\", \"field\": \"upper_threshold_value\", \"scale\": {\"domain\": [0, 1], \"range\": [40.0, 760.0]}}, \"x2\": {\"field\": \"upper_threshold_value\"}, \"y\": {\"type\": \"nominal\", \"axis\": {\"domain\": false, \"grid\": false, \"labels\": false, \"ticks\": false, \"title\": \" \"}, \"field\": \"metric\", \"scale\": {\"domain\": [\"FPR\", \"FDR\", \"FNR\"], \"range\": [42.5, 382.5]}}}}, {\"layer\": [{\"mark\": {\"type\": \"rect\", \"fill\": \"rgb(217, 46, 28)\", \"opacity\": 0.1, \"tooltip\": \"\"}, \"encoding\": {\"x\": {\"type\": \"quantitative\", \"field\": \"lower_threshold_value\", \"scale\": {\"domain\": [0, 1], \"range\": [40.0, 760.0]}}, \"x2\": {\"field\": \"lower_end\"}, \"y\": {\"type\": \"nominal\", \"axis\": {\"domain\": false, \"grid\": false, \"labels\": false, \"ticks\": false, \"title\": \" \"}, \"field\": \"metric\", \"scale\": {\"domain\": [\"FPR\", \"FDR\", \"FNR\"], \"range\": [42.5, 382.5]}}}}, {\"mark\": {\"type\": \"rect\", \"fill\": \"rgb(217, 46, 28)\", \"opacity\": 0.1, \"tooltip\": \"\"}, \"encoding\": {\"x\": {\"type\": \"quantitative\", \"field\": \"upper_threshold_value\", \"scale\": {\"domain\": [0, 1], \"range\": [40.0, 760.0]}}, \"x2\": {\"field\": \"upper_end\"}, \"y\": {\"type\": \"nominal\", \"axis\": {\"domain\": false, \"grid\": false, \"labels\": false, \"ticks\": false, \"title\": \" \"}, \"field\": \"metric\", \"scale\": {\"domain\": [\"FPR\", \"FDR\", \"FNR\"], \"range\": [42.5, 382.5]}}}}]}, {\"data\": {\"name\": \"data-79dd248bdaa0ea02c535240e8ad022c8\"}, \"mark\": {\"type\": \"text\", \"align\": \"left\", \"baseline\": \"top\", \"fill\": \"rgb(217, 46, 28)\", \"font\": \"Arial\", \"fontSize\": 12, \"fontWeight\": \"normal\", \"tooltip\": \"\"}, \"encoding\": {\"text\": {\"value\": \"The metric value for any group should not be 1.25 (or more) times smaller or larger than that of the reference group 25 - 45.\"}, \"x\": {\"value\": 0}, \"y\": {\"value\": 396.6666666666667}}}], \"data\": {\"name\": \"data-6ff13a8a486aad1d1698a6d6958944bf\"}}, {\"layer\": [{\"mark\": \"circle\"}, {\"data\": {\"name\": \"data-7342a06d89d654e84533b31ffb8f9a15\"}, \"mark\": {\"type\": \"circle\", \"opacity\": 0.2}, \"encoding\": {\"color\": {\"condition\": {\"type\": \"nominal\", \"field\": \"attribute_value\", \"legend\": null, \"scale\": {\"domain\": [\"25 - 45\", \"Greater than 45\", \"Less than 25\"], \"range\": [\"rgb(117,117,117)\", \"rgb(100, 143, 255)\", \"rgb(254, 97, 0)\", \"rgb(220, 38, 127)\", \"rgb(255, 176, 0)\", \"rgb(120, 94, 240)\"]}, \"selection\": \"selector041\"}, \"value\": \"rgb(224,224,224)\"}, \"size\": {\"type\": \"quantitative\", \"field\": \"group_size\", \"legend\": null, \"scale\": {\"domain\": [0, 4930.8], \"range\": [0, 2522.000769131806]}}, \"tooltip\": [{\"type\": \"nominal\", \"field\": \"attribute_value\", \"title\": \"Group\"}, {\"type\": \"nominal\", \"field\": \"tooltip_group_size\", \"title\": \"Group Size\"}, {\"type\": \"nominal\", \"field\": \"tooltip_disparity_explanation_fpr\", \"title\": \"Disparity\"}, {\"type\": \"quantitative\", \"field\": \"fpr\", \"format\": \".2f\", \"title\": \"FPR\"}], \"x\": {\"type\": \"quantitative\", \"axis\": {\"domain\": false, \"labels\": false, \"ticks\": false, \"title\": null, \"values\": [0.25, 0.5, 0.75]}, \"field\": \"fpr\", \"scale\": {\"domain\": [0, 1], \"range\": [40.0, 760.0]}}, \"y\": {\"type\": \"nominal\", \"axis\": {\"domain\": false, \"grid\": false, \"labels\": false, \"ticks\": false, \"title\": \" \"}, \"field\": \"metric_variable\", \"scale\": {\"domain\": [\"FPR\", \"FDR\", \"FNR\"], \"range\": [42.5, 382.5]}}}, \"selection\": {\"selector043\": {\"type\": \"multi\", \"empty\": \"all\", \"fields\": [\"attribute_value\"]}}, \"transform\": [{\"calculate\": \"'FPR'\", \"as\": \"metric_variable\"}]}, {\"data\": {\"name\": \"data-7342a06d89d654e84533b31ffb8f9a15\"}, \"mark\": {\"type\": \"circle\", \"opacity\": 0.2}, \"encoding\": {\"color\": {\"condition\": {\"type\": \"nominal\", \"field\": \"attribute_value\", \"legend\": null, \"scale\": {\"domain\": [\"25 - 45\", \"Greater than 45\", \"Less than 25\"], \"range\": [\"rgb(117,117,117)\", \"rgb(100, 143, 255)\", \"rgb(254, 97, 0)\", \"rgb(220, 38, 127)\", \"rgb(255, 176, 0)\", \"rgb(120, 94, 240)\"]}, \"selection\": \"selector041\"}, \"value\": \"rgb(224,224,224)\"}, \"size\": {\"type\": \"quantitative\", \"field\": \"group_size\", \"legend\": null, \"scale\": {\"domain\": [0, 4930.8], \"range\": [0, 2522.000769131806]}}, \"tooltip\": [{\"type\": \"nominal\", \"field\": \"attribute_value\", \"title\": \"Group\"}, {\"type\": \"nominal\", \"field\": \"tooltip_group_size\", \"title\": \"Group Size\"}, {\"type\": \"nominal\", \"field\": \"tooltip_disparity_explanation_fdr\", \"title\": \"Disparity\"}, {\"type\": \"quantitative\", \"field\": \"fdr\", \"format\": \".2f\", \"title\": \"FDR\"}], \"x\": {\"type\": \"quantitative\", \"axis\": {\"domain\": false, \"labels\": false, \"ticks\": false, \"title\": null, \"values\": [0.25, 0.5, 0.75]}, \"field\": \"fdr\", \"scale\": {\"domain\": [0, 1], \"range\": [40.0, 760.0]}}, \"y\": {\"type\": \"nominal\", \"axis\": {\"domain\": false, \"grid\": false, \"labels\": false, \"ticks\": false, \"title\": \" \"}, \"field\": \"metric_variable\", \"scale\": {\"domain\": [\"FPR\", \"FDR\", \"FNR\"], \"range\": [42.5, 382.5]}}}, \"selection\": {\"selector045\": {\"type\": \"multi\", \"empty\": \"all\", \"fields\": [\"attribute_value\"]}}, \"transform\": [{\"calculate\": \"'FDR'\", \"as\": \"metric_variable\"}]}, {\"data\": {\"name\": \"data-7342a06d89d654e84533b31ffb8f9a15\"}, \"mark\": {\"type\": \"circle\", \"opacity\": 0.2}, \"encoding\": {\"color\": {\"condition\": {\"type\": \"nominal\", \"field\": \"attribute_value\", \"legend\": null, \"scale\": {\"domain\": [\"25 - 45\", \"Greater than 45\", \"Less than 25\"], \"range\": [\"rgb(117,117,117)\", \"rgb(100, 143, 255)\", \"rgb(254, 97, 0)\", \"rgb(220, 38, 127)\", \"rgb(255, 176, 0)\", \"rgb(120, 94, 240)\"]}, \"selection\": \"selector041\"}, \"value\": \"rgb(224,224,224)\"}, \"size\": {\"type\": \"quantitative\", \"field\": \"group_size\", \"legend\": null, \"scale\": {\"domain\": [0, 4930.8], \"range\": [0, 2522.000769131806]}}, \"tooltip\": [{\"type\": \"nominal\", \"field\": \"attribute_value\", \"title\": \"Group\"}, {\"type\": \"nominal\", \"field\": \"tooltip_group_size\", \"title\": \"Group Size\"}, {\"type\": \"nominal\", \"field\": \"tooltip_disparity_explanation_fnr\", \"title\": \"Disparity\"}, {\"type\": \"quantitative\", \"field\": \"fnr\", \"format\": \".2f\", \"title\": \"FNR\"}], \"x\": {\"type\": \"quantitative\", \"axis\": {\"domain\": false, \"labels\": false, \"ticks\": false, \"title\": null, \"values\": [0.25, 0.5, 0.75]}, \"field\": \"fnr\", \"scale\": {\"domain\": [0, 1], \"range\": [40.0, 760.0]}}, \"y\": {\"type\": \"nominal\", \"axis\": {\"domain\": false, \"grid\": false, \"labels\": false, \"ticks\": false, \"title\": \" \"}, \"field\": \"metric_variable\", \"scale\": {\"domain\": [\"FPR\", \"FDR\", \"FNR\"], \"range\": [42.5, 382.5]}}}, \"selection\": {\"selector047\": {\"type\": \"multi\", \"empty\": \"all\", \"fields\": [\"attribute_value\"]}}, \"transform\": [{\"calculate\": \"'FNR'\", \"as\": \"metric_variable\"}]}, {\"layer\": [{\"mark\": \"point\"}, {\"data\": {\"name\": \"data-7342a06d89d654e84533b31ffb8f9a15\"}, \"mark\": {\"type\": \"point\", \"filled\": true, \"size\": 60}, \"encoding\": {\"color\": {\"condition\": {\"type\": \"nominal\", \"field\": \"attribute_value\", \"legend\": null, \"scale\": {\"domain\": [\"25 - 45\", \"Greater than 45\", \"Less than 25\"], \"range\": [\"rgb(117,117,117)\", \"rgb(100, 143, 255)\", \"rgb(254, 97, 0)\", \"rgb(220, 38, 127)\", \"rgb(255, 176, 0)\", \"rgb(120, 94, 240)\"]}, \"selection\": \"selector041\"}, \"value\": \"rgb(224,224,224)\"}, \"shape\": {\"type\": \"nominal\", \"field\": \"attribute_value\", \"legend\": null, \"scale\": {\"domain\": [\"25 - 45\", \"Greater than 45\", \"Less than 25\"], \"range\": [\"cross\", \"circle\", \"circle\"]}}, \"tooltip\": [{\"type\": \"nominal\", \"field\": \"attribute_value\", \"title\": \"Group\"}, {\"type\": \"nominal\", \"field\": \"tooltip_group_size\", \"title\": \"Group Size\"}, {\"type\": \"nominal\", \"field\": \"tooltip_disparity_explanation_fpr\", \"title\": \"Disparity\"}, {\"type\": \"quantitative\", \"field\": \"fpr\", \"format\": \".2f\", \"title\": \"FPR\"}], \"x\": {\"type\": \"quantitative\", \"axis\": {\"domain\": false, \"labels\": false, \"ticks\": false, \"title\": null, \"values\": [0.25, 0.5, 0.75]}, \"field\": \"fpr\", \"scale\": {\"domain\": [0, 1], \"range\": [40.0, 760.0]}}, \"y\": {\"type\": \"nominal\", \"axis\": {\"domain\": false, \"grid\": false, \"labels\": false, \"ticks\": false, \"title\": \" \"}, \"field\": \"metric_variable\", \"scale\": {\"domain\": [\"FPR\", \"FDR\", \"FNR\"], \"range\": [42.5, 382.5]}}}, \"selection\": {\"selector042\": {\"type\": \"multi\", \"empty\": \"all\", \"fields\": [\"attribute_value\"]}}, \"transform\": [{\"calculate\": \"'FPR'\", \"as\": \"metric_variable\"}]}, {\"data\": {\"name\": \"data-7342a06d89d654e84533b31ffb8f9a15\"}, \"mark\": {\"type\": \"point\", \"filled\": true, \"size\": 60}, \"encoding\": {\"color\": {\"condition\": {\"type\": \"nominal\", \"field\": \"attribute_value\", \"legend\": null, \"scale\": {\"domain\": [\"25 - 45\", \"Greater than 45\", \"Less than 25\"], \"range\": [\"rgb(117,117,117)\", \"rgb(100, 143, 255)\", \"rgb(254, 97, 0)\", \"rgb(220, 38, 127)\", \"rgb(255, 176, 0)\", \"rgb(120, 94, 240)\"]}, \"selection\": \"selector041\"}, \"value\": \"rgb(224,224,224)\"}, \"shape\": {\"type\": \"nominal\", \"field\": \"attribute_value\", \"legend\": null, \"scale\": {\"domain\": [\"25 - 45\", \"Greater than 45\", \"Less than 25\"], \"range\": [\"cross\", \"circle\", \"circle\"]}}, \"tooltip\": [{\"type\": \"nominal\", \"field\": \"attribute_value\", \"title\": \"Group\"}, {\"type\": \"nominal\", \"field\": \"tooltip_group_size\", \"title\": \"Group Size\"}, {\"type\": \"nominal\", \"field\": \"tooltip_disparity_explanation_fdr\", \"title\": \"Disparity\"}, {\"type\": \"quantitative\", \"field\": \"fdr\", \"format\": \".2f\", \"title\": \"FDR\"}], \"x\": {\"type\": \"quantitative\", \"axis\": {\"domain\": false, \"labels\": false, \"ticks\": false, \"title\": null, \"values\": [0.25, 0.5, 0.75]}, \"field\": \"fdr\", \"scale\": {\"domain\": [0, 1], \"range\": [40.0, 760.0]}}, \"y\": {\"type\": \"nominal\", \"axis\": {\"domain\": false, \"grid\": false, \"labels\": false, \"ticks\": false, \"title\": \" \"}, \"field\": \"metric_variable\", \"scale\": {\"domain\": [\"FPR\", \"FDR\", \"FNR\"], \"range\": [42.5, 382.5]}}}, \"selection\": {\"selector044\": {\"type\": \"multi\", \"empty\": \"all\", \"fields\": [\"attribute_value\"]}}, \"transform\": [{\"calculate\": \"'FDR'\", \"as\": \"metric_variable\"}]}, {\"data\": {\"name\": \"data-7342a06d89d654e84533b31ffb8f9a15\"}, \"mark\": {\"type\": \"point\", \"filled\": true, \"size\": 60}, \"encoding\": {\"color\": {\"condition\": {\"type\": \"nominal\", \"field\": \"attribute_value\", \"legend\": null, \"scale\": {\"domain\": [\"25 - 45\", \"Greater than 45\", \"Less than 25\"], \"range\": [\"rgb(117,117,117)\", \"rgb(100, 143, 255)\", \"rgb(254, 97, 0)\", \"rgb(220, 38, 127)\", \"rgb(255, 176, 0)\", \"rgb(120, 94, 240)\"]}, \"selection\": \"selector041\"}, \"value\": \"rgb(224,224,224)\"}, \"shape\": {\"type\": \"nominal\", \"field\": \"attribute_value\", \"legend\": null, \"scale\": {\"domain\": [\"25 - 45\", \"Greater than 45\", \"Less than 25\"], \"range\": [\"cross\", \"circle\", \"circle\"]}}, \"tooltip\": [{\"type\": \"nominal\", \"field\": \"attribute_value\", \"title\": \"Group\"}, {\"type\": \"nominal\", \"field\": \"tooltip_group_size\", \"title\": \"Group Size\"}, {\"type\": \"nominal\", \"field\": \"tooltip_disparity_explanation_fnr\", \"title\": \"Disparity\"}, {\"type\": \"quantitative\", \"field\": \"fnr\", \"format\": \".2f\", \"title\": \"FNR\"}], \"x\": {\"type\": \"quantitative\", \"axis\": {\"domain\": false, \"labels\": false, \"ticks\": false, \"title\": null, \"values\": [0.25, 0.5, 0.75]}, \"field\": \"fnr\", \"scale\": {\"domain\": [0, 1], \"range\": [40.0, 760.0]}}, \"y\": {\"type\": \"nominal\", \"axis\": {\"domain\": false, \"grid\": false, \"labels\": false, \"ticks\": false, \"title\": \" \"}, \"field\": \"metric_variable\", \"scale\": {\"domain\": [\"FPR\", \"FDR\", \"FNR\"], \"range\": [42.5, 382.5]}}}, \"selection\": {\"selector046\": {\"type\": \"multi\", \"empty\": \"all\", \"fields\": [\"attribute_value\"]}}, \"transform\": [{\"calculate\": \"'FNR'\", \"as\": \"metric_variable\"}]}]}]}, {\"layer\": [{\"mark\": {\"type\": \"point\", \"filled\": true, \"opacity\": 1, \"size\": 39.47841760435743}, \"encoding\": {\"color\": {\"condition\": {\"type\": \"nominal\", \"field\": \"attribute_value\", \"legend\": null, \"scale\": {\"domain\": [\"25 - 45\", \"Greater than 45\", \"Less than 25\"], \"range\": [\"rgb(117,117,117)\", \"rgb(100, 143, 255)\", \"rgb(254, 97, 0)\", \"rgb(220, 38, 127)\", \"rgb(255, 176, 0)\", \"rgb(120, 94, 240)\"]}, \"selection\": \"selector041\"}, \"value\": \"rgb(224,224,224)\"}, \"shape\": {\"type\": \"nominal\", \"field\": \"attribute_value\", \"legend\": null, \"scale\": {\"domain\": [\"25 - 45\", \"Greater than 45\", \"Less than 25\"], \"range\": [\"cross\", \"circle\", \"circle\"]}}, \"x\": {\"value\": 804}, \"y\": {\"type\": \"nominal\", \"axis\": {\"domain\": false, \"grid\": false, \"labels\": false, \"ticks\": false, \"title\": \" \"}, \"field\": \"attribute_value\", \"scale\": {\"domain\": [\"25 - 45\", \"Greater than 45\", \"Less than 25\"], \"range\": [71, 147]}}}, \"selection\": {\"selector041\": {\"type\": \"multi\", \"empty\": \"all\", \"fields\": [\"attribute_value\"]}}}, {\"mark\": {\"type\": \"text\", \"align\": \"left\", \"baseline\": \"middle\", \"font\": \"Arial\", \"fontSize\": 12, \"fontWeight\": \"normal\"}, \"encoding\": {\"color\": {\"condition\": {\"type\": \"nominal\", \"field\": \"attribute_value\", \"legend\": null, \"scale\": {\"domain\": [\"25 - 45\", \"Greater than 45\", \"Less than 25\"], \"range\": [\"rgb(117,117,117)\", \"rgb(100, 143, 255)\", \"rgb(254, 97, 0)\", \"rgb(220, 38, 127)\", \"rgb(255, 176, 0)\", \"rgb(120, 94, 240)\"]}, \"selection\": \"selector041\"}, \"value\": \"rgb(224,224,224)\"}, \"text\": {\"type\": \"nominal\", \"field\": \"label\"}, \"x\": {\"value\": 812}, \"y\": {\"type\": \"nominal\", \"axis\": {\"domain\": false, \"grid\": false, \"labels\": false, \"ticks\": false, \"title\": \" \"}, \"field\": \"attribute_value\", \"scale\": {\"domain\": [\"25 - 45\", \"Greater than 45\", \"Less than 25\"], \"range\": [71, 147]}}}, \"selection\": {\"selector048\": {\"type\": \"multi\", \"empty\": \"all\", \"fields\": [\"attribute_value\"]}}}, {\"data\": {\"name\": \"data-79dd248bdaa0ea02c535240e8ad022c8\"}, \"mark\": {\"type\": \"text\", \"align\": \"left\", \"baseline\": \"middle\", \"color\": \"rgb(117,117,117)\", \"font\": \"Arial\", \"fontSize\": 12, \"fontWeight\": \"normal\"}, \"encoding\": {\"text\": {\"value\": \"Click to highlight a group.\"}, \"x\": {\"value\": 800}, \"y\": {\"value\": 49}}}, {\"data\": {\"name\": \"data-79dd248bdaa0ea02c535240e8ad022c8\"}, \"mark\": {\"type\": \"text\", \"align\": \"left\", \"baseline\": \"middle\", \"color\": \"rgb(117,117,117)\", \"font\": \"Arial\", \"fontSize\": 14, \"fontWeight\": \"normal\"}, \"encoding\": {\"text\": {\"value\": \"Groups\"}, \"x\": {\"value\": 800}, \"y\": {\"value\": 30}}}], \"data\": {\"name\": \"data-8ae729f79f224d7c661f39ca30ebb19e\"}}], \"height\": 425, \"padding\": {\"top\": 15, \"bottom\": 10}, \"resolve\": {\"scale\": {\"size\": \"independent\", \"y\": \"independent\"}}, \"title\": \"Absolute values by Age_Cat\", \"width\": 800, \"$schema\": \"https://vega.github.io/schema/vega-lite/v4.8.1.json\", \"datasets\": {\"data-b755ca1d45f2e5f333e1201c5a225c15\": [{\"y_position\": \"FPR\", \"start\": 0, \"end\": 1}, {\"y_position\": \"FDR\", \"start\": 0, \"end\": 1}, {\"y_position\": \"FNR\", \"start\": 0, \"end\": 1}], \"data-6cfe259518f6c7b358d8f836a73e6b7f\": [{\"x_position\": 0}, {\"x_position\": 1}], \"data-60ed1133fa688d151d36705a369482e0\": [{\"value\": 0.0}, {\"value\": 0.25}, {\"value\": 0.5}, {\"value\": 0.75}, {\"value\": 1.0}], \"data-6ff13a8a486aad1d1698a6d6958944bf\": [{\"lower_end\": 0, \"upper_end\": 1, \"lower_threshold_value\": 0.267027027027027, \"upper_threshold_value\": 0.4172297297297297, \"metric\": \"FPR\"}, {\"lower_end\": 0, \"upper_end\": 1, \"lower_threshold_value\": 0.3081081081081081, \"upper_threshold_value\": 0.4814189189189189, \"metric\": \"FDR\"}, {\"lower_end\": 0, \"upper_end\": 1, \"lower_threshold_value\": 0.2989941768131287, \"upper_threshold_value\": 0.4671784012705135, \"metric\": \"FNR\"}], \"data-79dd248bdaa0ea02c535240e8ad022c8\": [{\"a\": 1, \"b\": 0}, {\"a\": 1, \"b\": 0}], \"data-7342a06d89d654e84533b31ffb8f9a15\": [{\"attribute_name\": \"age_cat\", \"attribute_value\": \"25 - 45\", \"group_size\": 4109, \"total_entities\": 7214, \"fpr\": 0.33378378378378376, \"fdr\": 0.38513513513513514, \"fnr\": 0.3737427210164108, \"fpr_disparity\": 1.0, \"fdr_disparity\": 1.0, \"fnr_disparity\": 1.0, \"fpr_disparity_scaled\": 0.0, \"fdr_disparity_scaled\": 0.0, \"fnr_disparity_scaled\": 0.0, \"tooltip_group_size\": \"4,109 (56.96%)\", \"tooltip_disparity_explanation_fpr\": \"Reference group\", \"tooltip_disparity_explanation_fdr\": \"Reference group\", \"tooltip_disparity_explanation_fnr\": \"Reference group\"}, {\"attribute_name\": \"age_cat\", \"attribute_value\": \"Greater than 45\", \"group_size\": 1576, \"total_entities\": 7214, \"fpr\": 0.1679035250463822, \"fdr\": 0.4593908629441624, \"fnr\": 0.572289156626506, \"fpr_disparity\": 0.5030308037826835, \"fdr_disparity\": 1.1928043458901059, \"fnr_disparity\": 1.5312382675176626, \"fpr_disparity_scaled\": -0.9879498282813199, \"fdr_disparity_scaled\": 0.19280434589010587, \"fnr_disparity_scaled\": 0.5312382675176626, \"tooltip_group_size\": \"1,576 (21.85%)\", \"tooltip_disparity_explanation_fpr\": \"1.99 times smaller FPR than the reference group\", \"tooltip_disparity_explanation_fdr\": \"1.19 times larger FDR than the reference group\", \"tooltip_disparity_explanation_fnr\": \"1.53 times larger FNR than the reference group\"}, {\"attribute_name\": \"age_cat\", \"attribute_value\": \"Less than 25\", \"group_size\": 1529, \"total_entities\": 7214, \"fpr\": 0.5413533834586466, \"fdr\": 0.36036036036036034, \"fnr\": 0.2604166666666667, \"fpr_disparity\": 1.6218684362728684, \"fdr_disparity\": 0.935672514619883, \"fnr_disparity\": 0.6967805712936733, \"fpr_disparity_scaled\": 0.6218684362728684, \"fdr_disparity_scaled\": -0.06875000000000009, \"fnr_disparity_scaled\": -0.4351720487030173, \"tooltip_group_size\": \"1,529 (21.19%)\", \"tooltip_disparity_explanation_fpr\": \"1.62 times larger FPR than the reference group\", \"tooltip_disparity_explanation_fdr\": \"1.07 times smaller FDR than the reference group\", \"tooltip_disparity_explanation_fnr\": \"1.44 times smaller FNR than the reference group\"}], \"data-8ae729f79f224d7c661f39ca30ebb19e\": [{\"attribute_value\": \"25 - 45\", \"label\": \"25 - 45 [REF]\"}, {\"attribute_value\": \"Greater than 45\", \"label\": \"Greater than 45\"}, {\"attribute_value\": \"Less than 25\", \"label\": \"Less than 25\"}]}}, {\"mode\": \"vega-lite\"});\n",
              "</script>"
            ]
          },
          "metadata": {
            "tags": []
          },
          "execution_count": 46
        }
      ]
    },
    {
      "cell_type": "markdown",
      "metadata": {
        "id": "g-ULKSpAuUkp"
      },
      "source": [
        "As a reference, the medium age category was chosen, since the predictions are quite close to reality here. The false positive and false negative rates deviate from those of the reference group by more than the selected threshold of 1.25. \n",
        "\n",
        "The false positive rate of young people deviates to the higher side, since more people than necissary are considered likely to reoffend. Similarly, the young people also have a lower false negative rate, meaning few actual offenders are missed in the prediction since more younger people than actually necessary are labeled as likely reoffenders."
      ]
    },
    {
      "cell_type": "code",
      "metadata": {
        "id": "Mpjc8Vvaik36",
        "colab": {
          "base_uri": "https://localhost:8080/",
          "height": 134
        },
        "outputId": "5a4c25e6-4162-4576-9b2f-d6e54e3eb617"
      },
      "source": [
        "#bias disparity \n",
        "#b = Bias()\n",
        "\n",
        "#putting disparity to compare to Youngest\n",
        "bdf = b.get_disparity_predefined_groups(xtab, original_df=df_age, \n",
        "                                        ref_groups_dict={'age_cat':'25 - 45'}, \n",
        "                                        alpha=0.05, check_significance=True, \n",
        "                                        mask_significance=True)\n",
        "bdf[['attribute_name', 'attribute_value'] +\n",
        "     b.list_disparities(bdf) + b.list_significance(bdf)].style"
      ],
      "execution_count": 47,
      "outputs": [
        {
          "output_type": "stream",
          "text": [
            "get_disparity_predefined_group()\n"
          ],
          "name": "stdout"
        },
        {
          "output_type": "execute_result",
          "data": {
            "text/html": [
              "<style  type=\"text/css\" >\n",
              "</style><table id=\"T_2b2005c8_eb81_11eb_b15e_0242ac1c0002\" ><thead>    <tr>        <th class=\"blank level0\" ></th>        <th class=\"col_heading level0 col0\" >attribute_name</th>        <th class=\"col_heading level0 col1\" >attribute_value</th>        <th class=\"col_heading level0 col2\" >fdr_disparity</th>        <th class=\"col_heading level0 col3\" >fnr_disparity</th>        <th class=\"col_heading level0 col4\" >for_disparity</th>        <th class=\"col_heading level0 col5\" >fpr_disparity</th>        <th class=\"col_heading level0 col6\" >npv_disparity</th>        <th class=\"col_heading level0 col7\" >ppr_disparity</th>        <th class=\"col_heading level0 col8\" >pprev_disparity</th>        <th class=\"col_heading level0 col9\" >precision_disparity</th>        <th class=\"col_heading level0 col10\" >tnr_disparity</th>        <th class=\"col_heading level0 col11\" >tpr_disparity</th>        <th class=\"col_heading level0 col12\" >label_value_significance</th>        <th class=\"col_heading level0 col13\" >score_significance</th>        <th class=\"col_heading level0 col14\" >fdr_significance</th>        <th class=\"col_heading level0 col15\" >fnr_significance</th>        <th class=\"col_heading level0 col16\" >for_significance</th>        <th class=\"col_heading level0 col17\" >fpr_significance</th>        <th class=\"col_heading level0 col18\" >npv_significance</th>        <th class=\"col_heading level0 col19\" >ppr_significance</th>        <th class=\"col_heading level0 col20\" >pprev_significance</th>        <th class=\"col_heading level0 col21\" >precision_significance</th>        <th class=\"col_heading level0 col22\" >tnr_significance</th>        <th class=\"col_heading level0 col23\" >tpr_significance</th>    </tr></thead><tbody>\n",
              "                <tr>\n",
              "                        <th id=\"T_2b2005c8_eb81_11eb_b15e_0242ac1c0002level0_row0\" class=\"row_heading level0 row0\" >0</th>\n",
              "                        <td id=\"T_2b2005c8_eb81_11eb_b15e_0242ac1c0002row0_col0\" class=\"data row0 col0\" >age_cat</td>\n",
              "                        <td id=\"T_2b2005c8_eb81_11eb_b15e_0242ac1c0002row0_col1\" class=\"data row0 col1\" >25 - 45</td>\n",
              "                        <td id=\"T_2b2005c8_eb81_11eb_b15e_0242ac1c0002row0_col2\" class=\"data row0 col2\" >1.000000</td>\n",
              "                        <td id=\"T_2b2005c8_eb81_11eb_b15e_0242ac1c0002row0_col3\" class=\"data row0 col3\" >1.000000</td>\n",
              "                        <td id=\"T_2b2005c8_eb81_11eb_b15e_0242ac1c0002row0_col4\" class=\"data row0 col4\" >1.000000</td>\n",
              "                        <td id=\"T_2b2005c8_eb81_11eb_b15e_0242ac1c0002row0_col5\" class=\"data row0 col5\" >1.000000</td>\n",
              "                        <td id=\"T_2b2005c8_eb81_11eb_b15e_0242ac1c0002row0_col6\" class=\"data row0 col6\" >1.000000</td>\n",
              "                        <td id=\"T_2b2005c8_eb81_11eb_b15e_0242ac1c0002row0_col7\" class=\"data row0 col7\" >1.000000</td>\n",
              "                        <td id=\"T_2b2005c8_eb81_11eb_b15e_0242ac1c0002row0_col8\" class=\"data row0 col8\" >1.000000</td>\n",
              "                        <td id=\"T_2b2005c8_eb81_11eb_b15e_0242ac1c0002row0_col9\" class=\"data row0 col9\" >1.000000</td>\n",
              "                        <td id=\"T_2b2005c8_eb81_11eb_b15e_0242ac1c0002row0_col10\" class=\"data row0 col10\" >1.000000</td>\n",
              "                        <td id=\"T_2b2005c8_eb81_11eb_b15e_0242ac1c0002row0_col11\" class=\"data row0 col11\" >1.000000</td>\n",
              "                        <td id=\"T_2b2005c8_eb81_11eb_b15e_0242ac1c0002row0_col12\" class=\"data row0 col12\" >False</td>\n",
              "                        <td id=\"T_2b2005c8_eb81_11eb_b15e_0242ac1c0002row0_col13\" class=\"data row0 col13\" >False</td>\n",
              "                        <td id=\"T_2b2005c8_eb81_11eb_b15e_0242ac1c0002row0_col14\" class=\"data row0 col14\" >False</td>\n",
              "                        <td id=\"T_2b2005c8_eb81_11eb_b15e_0242ac1c0002row0_col15\" class=\"data row0 col15\" >False</td>\n",
              "                        <td id=\"T_2b2005c8_eb81_11eb_b15e_0242ac1c0002row0_col16\" class=\"data row0 col16\" >False</td>\n",
              "                        <td id=\"T_2b2005c8_eb81_11eb_b15e_0242ac1c0002row0_col17\" class=\"data row0 col17\" >False</td>\n",
              "                        <td id=\"T_2b2005c8_eb81_11eb_b15e_0242ac1c0002row0_col18\" class=\"data row0 col18\" >False</td>\n",
              "                        <td id=\"T_2b2005c8_eb81_11eb_b15e_0242ac1c0002row0_col19\" class=\"data row0 col19\" >False</td>\n",
              "                        <td id=\"T_2b2005c8_eb81_11eb_b15e_0242ac1c0002row0_col20\" class=\"data row0 col20\" >False</td>\n",
              "                        <td id=\"T_2b2005c8_eb81_11eb_b15e_0242ac1c0002row0_col21\" class=\"data row0 col21\" >False</td>\n",
              "                        <td id=\"T_2b2005c8_eb81_11eb_b15e_0242ac1c0002row0_col22\" class=\"data row0 col22\" >False</td>\n",
              "                        <td id=\"T_2b2005c8_eb81_11eb_b15e_0242ac1c0002row0_col23\" class=\"data row0 col23\" >False</td>\n",
              "            </tr>\n",
              "            <tr>\n",
              "                        <th id=\"T_2b2005c8_eb81_11eb_b15e_0242ac1c0002level0_row1\" class=\"row_heading level0 row1\" >1</th>\n",
              "                        <td id=\"T_2b2005c8_eb81_11eb_b15e_0242ac1c0002row1_col0\" class=\"data row1 col0\" >age_cat</td>\n",
              "                        <td id=\"T_2b2005c8_eb81_11eb_b15e_0242ac1c0002row1_col1\" class=\"data row1 col1\" >Greater than 45</td>\n",
              "                        <td id=\"T_2b2005c8_eb81_11eb_b15e_0242ac1c0002row1_col2\" class=\"data row1 col2\" >1.192804</td>\n",
              "                        <td id=\"T_2b2005c8_eb81_11eb_b15e_0242ac1c0002row1_col3\" class=\"data row1 col3\" >1.531238</td>\n",
              "                        <td id=\"T_2b2005c8_eb81_11eb_b15e_0242ac1c0002row1_col4\" class=\"data row1 col4\" >0.746232</td>\n",
              "                        <td id=\"T_2b2005c8_eb81_11eb_b15e_0242ac1c0002row1_col5\" class=\"data row1 col5\" >0.503031</td>\n",
              "                        <td id=\"T_2b2005c8_eb81_11eb_b15e_0242ac1c0002row1_col6\" class=\"data row1 col6\" >1.121136</td>\n",
              "                        <td id=\"T_2b2005c8_eb81_11eb_b15e_0242ac1c0002row1_col7\" class=\"data row1 col7\" >0.204782</td>\n",
              "                        <td id=\"T_2b2005c8_eb81_11eb_b15e_0242ac1c0002row1_col8\" class=\"data row1 col8\" >0.533914</td>\n",
              "                        <td id=\"T_2b2005c8_eb81_11eb_b15e_0242ac1c0002row1_col9\" class=\"data row1 col9\" >0.879232</td>\n",
              "                        <td id=\"T_2b2005c8_eb81_11eb_b15e_0242ac1c0002row1_col10\" class=\"data row1 col10\" >1.248989</td>\n",
              "                        <td id=\"T_2b2005c8_eb81_11eb_b15e_0242ac1c0002row1_col11\" class=\"data row1 col11\" >0.682963</td>\n",
              "                        <td id=\"T_2b2005c8_eb81_11eb_b15e_0242ac1c0002row1_col12\" class=\"data row1 col12\" >True</td>\n",
              "                        <td id=\"T_2b2005c8_eb81_11eb_b15e_0242ac1c0002row1_col13\" class=\"data row1 col13\" >True</td>\n",
              "                        <td id=\"T_2b2005c8_eb81_11eb_b15e_0242ac1c0002row1_col14\" class=\"data row1 col14\" >True</td>\n",
              "                        <td id=\"T_2b2005c8_eb81_11eb_b15e_0242ac1c0002row1_col15\" class=\"data row1 col15\" >True</td>\n",
              "                        <td id=\"T_2b2005c8_eb81_11eb_b15e_0242ac1c0002row1_col16\" class=\"data row1 col16\" >True</td>\n",
              "                        <td id=\"T_2b2005c8_eb81_11eb_b15e_0242ac1c0002row1_col17\" class=\"data row1 col17\" >True</td>\n",
              "                        <td id=\"T_2b2005c8_eb81_11eb_b15e_0242ac1c0002row1_col18\" class=\"data row1 col18\" >True</td>\n",
              "                        <td id=\"T_2b2005c8_eb81_11eb_b15e_0242ac1c0002row1_col19\" class=\"data row1 col19\" >True</td>\n",
              "                        <td id=\"T_2b2005c8_eb81_11eb_b15e_0242ac1c0002row1_col20\" class=\"data row1 col20\" >True</td>\n",
              "                        <td id=\"T_2b2005c8_eb81_11eb_b15e_0242ac1c0002row1_col21\" class=\"data row1 col21\" >True</td>\n",
              "                        <td id=\"T_2b2005c8_eb81_11eb_b15e_0242ac1c0002row1_col22\" class=\"data row1 col22\" >True</td>\n",
              "                        <td id=\"T_2b2005c8_eb81_11eb_b15e_0242ac1c0002row1_col23\" class=\"data row1 col23\" >True</td>\n",
              "            </tr>\n",
              "            <tr>\n",
              "                        <th id=\"T_2b2005c8_eb81_11eb_b15e_0242ac1c0002level0_row2\" class=\"row_heading level0 row2\" >2</th>\n",
              "                        <td id=\"T_2b2005c8_eb81_11eb_b15e_0242ac1c0002row2_col0\" class=\"data row2 col0\" >age_cat</td>\n",
              "                        <td id=\"T_2b2005c8_eb81_11eb_b15e_0242ac1c0002row2_col1\" class=\"data row2 col1\" >Less than 25</td>\n",
              "                        <td id=\"T_2b2005c8_eb81_11eb_b15e_0242ac1c0002row2_col2\" class=\"data row2 col2\" >0.935673</td>\n",
              "                        <td id=\"T_2b2005c8_eb81_11eb_b15e_0242ac1c0002row2_col3\" class=\"data row2 col3\" >0.696781</td>\n",
              "                        <td id=\"T_2b2005c8_eb81_11eb_b15e_0242ac1c0002row2_col4\" class=\"data row2 col4\" >1.313873</td>\n",
              "                        <td id=\"T_2b2005c8_eb81_11eb_b15e_0242ac1c0002row2_col5\" class=\"data row2 col5\" >1.621868</td>\n",
              "                        <td id=\"T_2b2005c8_eb81_11eb_b15e_0242ac1c0002row2_col6\" class=\"data row2 col6\" >0.850173</td>\n",
              "                        <td id=\"T_2b2005c8_eb81_11eb_b15e_0242ac1c0002row2_col7\" class=\"data row2 col7\" >0.519231</td>\n",
              "                        <td id=\"T_2b2005c8_eb81_11eb_b15e_0242ac1c0002row2_col8\" class=\"data row2 col8\" >1.395369</td>\n",
              "                        <td id=\"T_2b2005c8_eb81_11eb_b15e_0242ac1c0002row2_col9\" class=\"data row2 col9\" >1.040293</td>\n",
              "                        <td id=\"T_2b2005c8_eb81_11eb_b15e_0242ac1c0002row2_col10\" class=\"data row2 col10\" >0.688435</td>\n",
              "                        <td id=\"T_2b2005c8_eb81_11eb_b15e_0242ac1c0002row2_col11\" class=\"data row2 col11\" >1.180958</td>\n",
              "                        <td id=\"T_2b2005c8_eb81_11eb_b15e_0242ac1c0002row2_col12\" class=\"data row2 col12\" >True</td>\n",
              "                        <td id=\"T_2b2005c8_eb81_11eb_b15e_0242ac1c0002row2_col13\" class=\"data row2 col13\" >True</td>\n",
              "                        <td id=\"T_2b2005c8_eb81_11eb_b15e_0242ac1c0002row2_col14\" class=\"data row2 col14\" >False</td>\n",
              "                        <td id=\"T_2b2005c8_eb81_11eb_b15e_0242ac1c0002row2_col15\" class=\"data row2 col15\" >True</td>\n",
              "                        <td id=\"T_2b2005c8_eb81_11eb_b15e_0242ac1c0002row2_col16\" class=\"data row2 col16\" >True</td>\n",
              "                        <td id=\"T_2b2005c8_eb81_11eb_b15e_0242ac1c0002row2_col17\" class=\"data row2 col17\" >False</td>\n",
              "                        <td id=\"T_2b2005c8_eb81_11eb_b15e_0242ac1c0002row2_col18\" class=\"data row2 col18\" >True</td>\n",
              "                        <td id=\"T_2b2005c8_eb81_11eb_b15e_0242ac1c0002row2_col19\" class=\"data row2 col19\" >True</td>\n",
              "                        <td id=\"T_2b2005c8_eb81_11eb_b15e_0242ac1c0002row2_col20\" class=\"data row2 col20\" >True</td>\n",
              "                        <td id=\"T_2b2005c8_eb81_11eb_b15e_0242ac1c0002row2_col21\" class=\"data row2 col21\" >False</td>\n",
              "                        <td id=\"T_2b2005c8_eb81_11eb_b15e_0242ac1c0002row2_col22\" class=\"data row2 col22\" >False</td>\n",
              "                        <td id=\"T_2b2005c8_eb81_11eb_b15e_0242ac1c0002row2_col23\" class=\"data row2 col23\" >True</td>\n",
              "            </tr>\n",
              "    </tbody></table>"
            ],
            "text/plain": [
              "<pandas.io.formats.style.Styler at 0x7fd392ae0710>"
            ]
          },
          "metadata": {
            "tags": []
          },
          "execution_count": 47
        }
      ]
    },
    {
      "cell_type": "code",
      "metadata": {
        "id": "IsxmTUwUiwTA",
        "colab": {
          "base_uri": "https://localhost:8080/",
          "height": 620
        },
        "outputId": "d3a73648-6d43-4dc5-bd0a-4c0f9a4897fd"
      },
      "source": [
        "#plotting disparities using the previous reference indicators\n",
        "ap.disparity(bdf, metrics, 'age_cat', fairness_threshold = disparity_tolerance)"
      ],
      "execution_count": 48,
      "outputs": [
        {
          "output_type": "execute_result",
          "data": {
            "text/plain": [
              "alt.LayerChart(...)"
            ],
            "text/html": [
              "\n",
              "<div id=\"altair-viz-7e9d01dac28c4063a742a8d0e417c97d\"></div>\n",
              "<script type=\"text/javascript\">\n",
              "  (function(spec, embedOpt){\n",
              "    let outputDiv = document.currentScript.previousElementSibling;\n",
              "    if (outputDiv.id !== \"altair-viz-7e9d01dac28c4063a742a8d0e417c97d\") {\n",
              "      outputDiv = document.getElementById(\"altair-viz-7e9d01dac28c4063a742a8d0e417c97d\");\n",
              "    }\n",
              "    const paths = {\n",
              "      \"vega\": \"https://cdn.jsdelivr.net/npm//vega@5?noext\",\n",
              "      \"vega-lib\": \"https://cdn.jsdelivr.net/npm//vega-lib?noext\",\n",
              "      \"vega-lite\": \"https://cdn.jsdelivr.net/npm//vega-lite@4.8.1?noext\",\n",
              "      \"vega-embed\": \"https://cdn.jsdelivr.net/npm//vega-embed@6?noext\",\n",
              "    };\n",
              "\n",
              "    function loadScript(lib) {\n",
              "      return new Promise(function(resolve, reject) {\n",
              "        var s = document.createElement('script');\n",
              "        s.src = paths[lib];\n",
              "        s.async = true;\n",
              "        s.onload = () => resolve(paths[lib]);\n",
              "        s.onerror = () => reject(`Error loading script: ${paths[lib]}`);\n",
              "        document.getElementsByTagName(\"head\")[0].appendChild(s);\n",
              "      });\n",
              "    }\n",
              "\n",
              "    function showError(err) {\n",
              "      outputDiv.innerHTML = `<div class=\"error\" style=\"color:red;\">${err}</div>`;\n",
              "      throw err;\n",
              "    }\n",
              "\n",
              "    function displayChart(vegaEmbed) {\n",
              "      vegaEmbed(outputDiv, spec, embedOpt)\n",
              "        .catch(err => showError(`Javascript Error: ${err.message}<br>This usually means there's a typo in your chart specification. See the javascript console for the full traceback.`));\n",
              "    }\n",
              "\n",
              "    if(typeof define === \"function\" && define.amd) {\n",
              "      requirejs.config({paths});\n",
              "      require([\"vega-embed\"], displayChart, err => showError(`Error loading script: ${err.message}`));\n",
              "    } else if (typeof vegaEmbed === \"function\") {\n",
              "      displayChart(vegaEmbed);\n",
              "    } else {\n",
              "      loadScript(\"vega\")\n",
              "        .then(() => loadScript(\"vega-lite\"))\n",
              "        .then(() => loadScript(\"vega-embed\"))\n",
              "        .catch(showError)\n",
              "        .then(() => displayChart(vegaEmbed));\n",
              "    }\n",
              "  })({\"config\": {\"view\": {\"continuousWidth\": 400, \"continuousHeight\": 300, \"strokeWidth\": 0}, \"axisLeft\": {\"labelColor\": \"rgb(117,117,117)\", \"labelFont\": \"Arial\", \"labelFontSize\": 16}, \"title\": {\"align\": \"center\", \"baseline\": \"middle\", \"color\": \"rgb(117,117,117)\", \"font\": \"Arial\", \"fontSize\": 20, \"fontWeight\": \"bold\"}}, \"layer\": [{\"data\": {\"name\": \"data-5518d48a38c118f354216726d5477b9f\"}, \"mark\": {\"type\": \"rule\", \"stroke\": \"rgb(117,117,117)\", \"strokeWidth\": 1.25, \"tooltip\": \"\"}, \"encoding\": {\"x\": {\"type\": \"quantitative\", \"field\": \"x\", \"scale\": {\"domain\": [-2, 2], \"range\": [40.0, 760.0]}}, \"x2\": {\"field\": \"x2\"}, \"y\": {\"type\": \"nominal\", \"axis\": {\"domain\": false, \"labelAngle\": 0, \"labelPadding\": -30, \"orient\": \"left\", \"ticks\": false, \"title\": \"\"}, \"field\": \"metric\", \"scale\": {\"domain\": [\"FPR\", \"FDR\", \"FNR\"], \"range\": [55.0, 495.0]}}}}, {\"data\": {\"name\": \"data-79dd248bdaa0ea02c535240e8ad022c8\"}, \"mark\": {\"type\": \"rule\", \"stroke\": \"rgb(117,117,117)\", \"strokeDash\": [5, 5], \"strokeWidth\": 1}, \"encoding\": {\"tooltip\": {\"value\": \"25 - 45 [REF]\"}, \"x\": {\"value\": 400.0}, \"y\": {\"value\": 45.833333333333336}, \"y2\": {\"value\": 504.16666666666663}}}, {\"data\": {\"name\": \"data-c233327f4cd9b4c2df31bf8015c83e4a\"}, \"mark\": {\"type\": \"text\", \"align\": \"center\", \"color\": \"rgb(117,117,117)\", \"font\": \"Arial\", \"fontSize\": 12, \"fontWeight\": \"normal\", \"tooltip\": \"\"}, \"encoding\": {\"text\": {\"type\": \"nominal\", \"field\": \"label\"}, \"x\": {\"type\": \"quantitative\", \"field\": \"value\", \"scale\": {\"domain\": [-2, 2], \"range\": [40.0, 760.0]}}, \"y\": {\"value\": 38.5}}}, {\"layer\": [{\"mark\": {\"type\": \"text\", \"align\": \"left\", \"fill\": \"rgb(117,117,117)\", \"font\": \"Arial\", \"fontSize\": 12, \"fontWeight\": \"normal\", \"tooltip\": \"\"}, \"encoding\": {\"text\": {\"value\": \"Times Smaller\"}, \"x\": {\"value\": 40.0}, \"y\": {\"value\": 16.5}}}, {\"mark\": {\"type\": \"text\", \"align\": \"right\", \"fill\": \"rgb(117,117,117)\", \"font\": \"Arial\", \"fontSize\": 12, \"fontWeight\": \"normal\", \"tooltip\": \"\"}, \"encoding\": {\"text\": {\"value\": \"Times Larger\"}, \"x\": {\"value\": 760.0}, \"y\": {\"value\": 16.5}}}, {\"mark\": {\"type\": \"text\", \"align\": \"center\", \"fill\": \"rgb(117,117,117)\", \"font\": \"Arial\", \"fontSize\": 12, \"fontWeight\": \"normal\", \"tooltip\": \"\"}, \"encoding\": {\"text\": {\"value\": \"Equal\"}, \"x\": {\"value\": 400.0}, \"y\": {\"value\": 16.5}}}], \"data\": {\"name\": \"data-79dd248bdaa0ea02c535240e8ad022c8\"}}, {\"layer\": [{\"mark\": {\"type\": \"rule\", \"opacity\": 0.8, \"stroke\": \"rgb(217, 46, 28)\", \"strokeWidth\": 1.25, \"tooltip\": \"\"}, \"encoding\": {\"x\": {\"type\": \"quantitative\", \"field\": \"min\", \"scale\": {\"domain\": [-2, 2], \"range\": [40.0, 760.0]}}, \"y\": {\"value\": 55.0}, \"y2\": {\"value\": 495.0}}}, {\"mark\": {\"type\": \"rule\", \"opacity\": 0.8, \"stroke\": \"rgb(217, 46, 28)\", \"strokeWidth\": 1.25, \"tooltip\": \"\"}, \"encoding\": {\"x\": {\"type\": \"quantitative\", \"field\": \"max\", \"scale\": {\"domain\": [-2, 2], \"range\": [40.0, 760.0]}}, \"y\": {\"value\": 55.0}, \"y2\": {\"value\": 495.0}}}, {\"layer\": [{\"mark\": {\"type\": \"rect\", \"fill\": \"rgb(217, 46, 28)\", \"opacity\": 0.1, \"tooltip\": \"\"}, \"encoding\": {\"x\": {\"type\": \"quantitative\", \"field\": \"min\", \"scale\": {\"domain\": [-2, 2], \"range\": [40.0, 760.0]}}, \"x2\": {\"field\": \"lower_end\"}, \"y\": {\"value\": 55.0}, \"y2\": {\"value\": 495.0}}}, {\"mark\": {\"type\": \"rect\", \"fill\": \"rgb(217, 46, 28)\", \"opacity\": 0.1, \"tooltip\": \"\"}, \"encoding\": {\"x\": {\"type\": \"quantitative\", \"field\": \"max\", \"scale\": {\"domain\": [-2, 2], \"range\": [40.0, 760.0]}}, \"x2\": {\"field\": \"upper_end\"}, \"y\": {\"value\": 55.0}, \"y2\": {\"value\": 495.0}}}]}, {\"data\": {\"name\": \"data-79dd248bdaa0ea02c535240e8ad022c8\"}, \"mark\": {\"type\": \"text\", \"align\": \"left\", \"baseline\": \"top\", \"fill\": \"rgb(217, 46, 28)\", \"font\": \"Arial\", \"fontSize\": 12, \"fontWeight\": \"normal\", \"tooltip\": \"\"}, \"encoding\": {\"text\": {\"value\": \"The metric value for any group should not be 1.25 (or more) times smaller or larger than that of the reference group 25 - 45.\"}, \"x\": {\"value\": 0}, \"y\": {\"value\": 513.3333333333334}}}], \"data\": {\"name\": \"data-feb20f5d4dfe62687617135ffee93d46\"}}, {\"layer\": [{\"mark\": \"circle\"}, {\"data\": {\"name\": \"data-7342a06d89d654e84533b31ffb8f9a15\"}, \"mark\": {\"type\": \"circle\", \"opacity\": 0.2}, \"encoding\": {\"color\": {\"condition\": {\"type\": \"nominal\", \"field\": \"attribute_value\", \"legend\": null, \"scale\": {\"domain\": [\"25 - 45\", \"Greater than 45\", \"Less than 25\"], \"range\": [\"rgb(117,117,117)\", \"rgb(100, 143, 255)\", \"rgb(254, 97, 0)\", \"rgb(220, 38, 127)\", \"rgb(255, 176, 0)\", \"rgb(120, 94, 240)\"]}, \"selection\": \"selector049\"}, \"value\": \"rgb(224,224,224)\"}, \"size\": {\"type\": \"quantitative\", \"field\": \"group_size\", \"legend\": null, \"scale\": {\"domain\": [0, 4930.8], \"range\": [0, 4223.696789826277]}}, \"tooltip\": [{\"type\": \"nominal\", \"field\": \"attribute_value\", \"title\": \"Group\"}, {\"type\": \"nominal\", \"field\": \"tooltip_group_size\", \"title\": \"Group Size\"}, {\"type\": \"nominal\", \"field\": \"tooltip_disparity_explanation_fpr\", \"title\": \"Disparity\"}, {\"type\": \"quantitative\", \"field\": \"fpr\", \"format\": \".2f\", \"title\": \"FPR\"}], \"x\": {\"type\": \"quantitative\", \"axis\": {\"domain\": false, \"labels\": false, \"ticks\": false, \"title\": null, \"values\": [1, 2, -2, -1]}, \"field\": \"fpr_disparity_scaled\", \"scale\": {\"domain\": [-2, 2], \"range\": [40.0, 760.0]}}, \"y\": {\"type\": \"nominal\", \"axis\": {\"domain\": false, \"grid\": false, \"labels\": false, \"ticks\": false, \"title\": \" \"}, \"field\": \"metric_variable\", \"scale\": {\"domain\": [\"FPR\", \"FDR\", \"FNR\"], \"range\": [55.0, 495.0]}}}, \"selection\": {\"selector051\": {\"type\": \"multi\", \"empty\": \"all\", \"fields\": [\"attribute_value\"]}}, \"transform\": [{\"calculate\": \"'FPR'\", \"as\": \"metric_variable\"}]}, {\"data\": {\"name\": \"data-7342a06d89d654e84533b31ffb8f9a15\"}, \"mark\": {\"type\": \"circle\", \"opacity\": 0.2}, \"encoding\": {\"color\": {\"condition\": {\"type\": \"nominal\", \"field\": \"attribute_value\", \"legend\": null, \"scale\": {\"domain\": [\"25 - 45\", \"Greater than 45\", \"Less than 25\"], \"range\": [\"rgb(117,117,117)\", \"rgb(100, 143, 255)\", \"rgb(254, 97, 0)\", \"rgb(220, 38, 127)\", \"rgb(255, 176, 0)\", \"rgb(120, 94, 240)\"]}, \"selection\": \"selector049\"}, \"value\": \"rgb(224,224,224)\"}, \"size\": {\"type\": \"quantitative\", \"field\": \"group_size\", \"legend\": null, \"scale\": {\"domain\": [0, 4930.8], \"range\": [0, 4223.696789826277]}}, \"tooltip\": [{\"type\": \"nominal\", \"field\": \"attribute_value\", \"title\": \"Group\"}, {\"type\": \"nominal\", \"field\": \"tooltip_group_size\", \"title\": \"Group Size\"}, {\"type\": \"nominal\", \"field\": \"tooltip_disparity_explanation_fdr\", \"title\": \"Disparity\"}, {\"type\": \"quantitative\", \"field\": \"fdr\", \"format\": \".2f\", \"title\": \"FDR\"}], \"x\": {\"type\": \"quantitative\", \"axis\": {\"domain\": false, \"labels\": false, \"ticks\": false, \"title\": null, \"values\": [1, 2, -2, -1]}, \"field\": \"fdr_disparity_scaled\", \"scale\": {\"domain\": [-2, 2], \"range\": [40.0, 760.0]}}, \"y\": {\"type\": \"nominal\", \"axis\": {\"domain\": false, \"grid\": false, \"labels\": false, \"ticks\": false, \"title\": \" \"}, \"field\": \"metric_variable\", \"scale\": {\"domain\": [\"FPR\", \"FDR\", \"FNR\"], \"range\": [55.0, 495.0]}}}, \"selection\": {\"selector053\": {\"type\": \"multi\", \"empty\": \"all\", \"fields\": [\"attribute_value\"]}}, \"transform\": [{\"calculate\": \"'FDR'\", \"as\": \"metric_variable\"}]}, {\"data\": {\"name\": \"data-7342a06d89d654e84533b31ffb8f9a15\"}, \"mark\": {\"type\": \"circle\", \"opacity\": 0.2}, \"encoding\": {\"color\": {\"condition\": {\"type\": \"nominal\", \"field\": \"attribute_value\", \"legend\": null, \"scale\": {\"domain\": [\"25 - 45\", \"Greater than 45\", \"Less than 25\"], \"range\": [\"rgb(117,117,117)\", \"rgb(100, 143, 255)\", \"rgb(254, 97, 0)\", \"rgb(220, 38, 127)\", \"rgb(255, 176, 0)\", \"rgb(120, 94, 240)\"]}, \"selection\": \"selector049\"}, \"value\": \"rgb(224,224,224)\"}, \"size\": {\"type\": \"quantitative\", \"field\": \"group_size\", \"legend\": null, \"scale\": {\"domain\": [0, 4930.8], \"range\": [0, 4223.696789826277]}}, \"tooltip\": [{\"type\": \"nominal\", \"field\": \"attribute_value\", \"title\": \"Group\"}, {\"type\": \"nominal\", \"field\": \"tooltip_group_size\", \"title\": \"Group Size\"}, {\"type\": \"nominal\", \"field\": \"tooltip_disparity_explanation_fnr\", \"title\": \"Disparity\"}, {\"type\": \"quantitative\", \"field\": \"fnr\", \"format\": \".2f\", \"title\": \"FNR\"}], \"x\": {\"type\": \"quantitative\", \"axis\": {\"domain\": false, \"labels\": false, \"ticks\": false, \"title\": null, \"values\": [1, 2, -2, -1]}, \"field\": \"fnr_disparity_scaled\", \"scale\": {\"domain\": [-2, 2], \"range\": [40.0, 760.0]}}, \"y\": {\"type\": \"nominal\", \"axis\": {\"domain\": false, \"grid\": false, \"labels\": false, \"ticks\": false, \"title\": \" \"}, \"field\": \"metric_variable\", \"scale\": {\"domain\": [\"FPR\", \"FDR\", \"FNR\"], \"range\": [55.0, 495.0]}}}, \"selection\": {\"selector055\": {\"type\": \"multi\", \"empty\": \"all\", \"fields\": [\"attribute_value\"]}}, \"transform\": [{\"calculate\": \"'FNR'\", \"as\": \"metric_variable\"}]}, {\"layer\": [{\"mark\": \"point\"}, {\"data\": {\"name\": \"data-7342a06d89d654e84533b31ffb8f9a15\"}, \"mark\": {\"type\": \"point\", \"filled\": true, \"size\": 60}, \"encoding\": {\"color\": {\"condition\": {\"type\": \"nominal\", \"field\": \"attribute_value\", \"legend\": null, \"scale\": {\"domain\": [\"25 - 45\", \"Greater than 45\", \"Less than 25\"], \"range\": [\"rgb(117,117,117)\", \"rgb(100, 143, 255)\", \"rgb(254, 97, 0)\", \"rgb(220, 38, 127)\", \"rgb(255, 176, 0)\", \"rgb(120, 94, 240)\"]}, \"selection\": \"selector049\"}, \"value\": \"rgb(224,224,224)\"}, \"shape\": {\"type\": \"nominal\", \"field\": \"attribute_value\", \"legend\": null, \"scale\": {\"domain\": [\"25 - 45\", \"Greater than 45\", \"Less than 25\"], \"range\": [\"cross\", \"circle\", \"circle\"]}}, \"tooltip\": [{\"type\": \"nominal\", \"field\": \"attribute_value\", \"title\": \"Group\"}, {\"type\": \"nominal\", \"field\": \"tooltip_group_size\", \"title\": \"Group Size\"}, {\"type\": \"nominal\", \"field\": \"tooltip_disparity_explanation_fpr\", \"title\": \"Disparity\"}, {\"type\": \"quantitative\", \"field\": \"fpr\", \"format\": \".2f\", \"title\": \"FPR\"}], \"x\": {\"type\": \"quantitative\", \"axis\": {\"domain\": false, \"labels\": false, \"ticks\": false, \"title\": null, \"values\": [1, 2, -2, -1]}, \"field\": \"fpr_disparity_scaled\", \"scale\": {\"domain\": [-2, 2], \"range\": [40.0, 760.0]}}, \"y\": {\"type\": \"nominal\", \"axis\": {\"domain\": false, \"grid\": false, \"labels\": false, \"ticks\": false, \"title\": \" \"}, \"field\": \"metric_variable\", \"scale\": {\"domain\": [\"FPR\", \"FDR\", \"FNR\"], \"range\": [55.0, 495.0]}}}, \"selection\": {\"selector050\": {\"type\": \"multi\", \"empty\": \"all\", \"fields\": [\"attribute_value\"]}}, \"transform\": [{\"calculate\": \"'FPR'\", \"as\": \"metric_variable\"}]}, {\"data\": {\"name\": \"data-7342a06d89d654e84533b31ffb8f9a15\"}, \"mark\": {\"type\": \"point\", \"filled\": true, \"size\": 60}, \"encoding\": {\"color\": {\"condition\": {\"type\": \"nominal\", \"field\": \"attribute_value\", \"legend\": null, \"scale\": {\"domain\": [\"25 - 45\", \"Greater than 45\", \"Less than 25\"], \"range\": [\"rgb(117,117,117)\", \"rgb(100, 143, 255)\", \"rgb(254, 97, 0)\", \"rgb(220, 38, 127)\", \"rgb(255, 176, 0)\", \"rgb(120, 94, 240)\"]}, \"selection\": \"selector049\"}, \"value\": \"rgb(224,224,224)\"}, \"shape\": {\"type\": \"nominal\", \"field\": \"attribute_value\", \"legend\": null, \"scale\": {\"domain\": [\"25 - 45\", \"Greater than 45\", \"Less than 25\"], \"range\": [\"cross\", \"circle\", \"circle\"]}}, \"tooltip\": [{\"type\": \"nominal\", \"field\": \"attribute_value\", \"title\": \"Group\"}, {\"type\": \"nominal\", \"field\": \"tooltip_group_size\", \"title\": \"Group Size\"}, {\"type\": \"nominal\", \"field\": \"tooltip_disparity_explanation_fdr\", \"title\": \"Disparity\"}, {\"type\": \"quantitative\", \"field\": \"fdr\", \"format\": \".2f\", \"title\": \"FDR\"}], \"x\": {\"type\": \"quantitative\", \"axis\": {\"domain\": false, \"labels\": false, \"ticks\": false, \"title\": null, \"values\": [1, 2, -2, -1]}, \"field\": \"fdr_disparity_scaled\", \"scale\": {\"domain\": [-2, 2], \"range\": [40.0, 760.0]}}, \"y\": {\"type\": \"nominal\", \"axis\": {\"domain\": false, \"grid\": false, \"labels\": false, \"ticks\": false, \"title\": \" \"}, \"field\": \"metric_variable\", \"scale\": {\"domain\": [\"FPR\", \"FDR\", \"FNR\"], \"range\": [55.0, 495.0]}}}, \"selection\": {\"selector052\": {\"type\": \"multi\", \"empty\": \"all\", \"fields\": [\"attribute_value\"]}}, \"transform\": [{\"calculate\": \"'FDR'\", \"as\": \"metric_variable\"}]}, {\"data\": {\"name\": \"data-7342a06d89d654e84533b31ffb8f9a15\"}, \"mark\": {\"type\": \"point\", \"filled\": true, \"size\": 60}, \"encoding\": {\"color\": {\"condition\": {\"type\": \"nominal\", \"field\": \"attribute_value\", \"legend\": null, \"scale\": {\"domain\": [\"25 - 45\", \"Greater than 45\", \"Less than 25\"], \"range\": [\"rgb(117,117,117)\", \"rgb(100, 143, 255)\", \"rgb(254, 97, 0)\", \"rgb(220, 38, 127)\", \"rgb(255, 176, 0)\", \"rgb(120, 94, 240)\"]}, \"selection\": \"selector049\"}, \"value\": \"rgb(224,224,224)\"}, \"shape\": {\"type\": \"nominal\", \"field\": \"attribute_value\", \"legend\": null, \"scale\": {\"domain\": [\"25 - 45\", \"Greater than 45\", \"Less than 25\"], \"range\": [\"cross\", \"circle\", \"circle\"]}}, \"tooltip\": [{\"type\": \"nominal\", \"field\": \"attribute_value\", \"title\": \"Group\"}, {\"type\": \"nominal\", \"field\": \"tooltip_group_size\", \"title\": \"Group Size\"}, {\"type\": \"nominal\", \"field\": \"tooltip_disparity_explanation_fnr\", \"title\": \"Disparity\"}, {\"type\": \"quantitative\", \"field\": \"fnr\", \"format\": \".2f\", \"title\": \"FNR\"}], \"x\": {\"type\": \"quantitative\", \"axis\": {\"domain\": false, \"labels\": false, \"ticks\": false, \"title\": null, \"values\": [1, 2, -2, -1]}, \"field\": \"fnr_disparity_scaled\", \"scale\": {\"domain\": [-2, 2], \"range\": [40.0, 760.0]}}, \"y\": {\"type\": \"nominal\", \"axis\": {\"domain\": false, \"grid\": false, \"labels\": false, \"ticks\": false, \"title\": \" \"}, \"field\": \"metric_variable\", \"scale\": {\"domain\": [\"FPR\", \"FDR\", \"FNR\"], \"range\": [55.0, 495.0]}}}, \"selection\": {\"selector054\": {\"type\": \"multi\", \"empty\": \"all\", \"fields\": [\"attribute_value\"]}}, \"transform\": [{\"calculate\": \"'FNR'\", \"as\": \"metric_variable\"}]}]}]}, {\"layer\": [{\"mark\": {\"type\": \"point\", \"filled\": true, \"opacity\": 1, \"size\": 39.47841760435743}, \"encoding\": {\"color\": {\"condition\": {\"type\": \"nominal\", \"field\": \"attribute_value\", \"legend\": null, \"scale\": {\"domain\": [\"25 - 45\", \"Greater than 45\", \"Less than 25\"], \"range\": [\"rgb(117,117,117)\", \"rgb(100, 143, 255)\", \"rgb(254, 97, 0)\", \"rgb(220, 38, 127)\", \"rgb(255, 176, 0)\", \"rgb(120, 94, 240)\"]}, \"selection\": \"selector049\"}, \"value\": \"rgb(224,224,224)\"}, \"shape\": {\"type\": \"nominal\", \"field\": \"attribute_value\", \"legend\": null, \"scale\": {\"domain\": [\"25 - 45\", \"Greater than 45\", \"Less than 25\"], \"range\": [\"cross\", \"circle\", \"circle\"]}}, \"x\": {\"value\": 804}, \"y\": {\"type\": \"nominal\", \"axis\": {\"domain\": false, \"grid\": false, \"labels\": false, \"ticks\": false, \"title\": \" \"}, \"field\": \"attribute_value\", \"scale\": {\"domain\": [\"25 - 45\", \"Greater than 45\", \"Less than 25\"], \"range\": [71, 147]}}}, \"selection\": {\"selector049\": {\"type\": \"multi\", \"empty\": \"all\", \"fields\": [\"attribute_value\"]}}}, {\"mark\": {\"type\": \"text\", \"align\": \"left\", \"baseline\": \"middle\", \"font\": \"Arial\", \"fontSize\": 12, \"fontWeight\": \"normal\"}, \"encoding\": {\"color\": {\"condition\": {\"type\": \"nominal\", \"field\": \"attribute_value\", \"legend\": null, \"scale\": {\"domain\": [\"25 - 45\", \"Greater than 45\", \"Less than 25\"], \"range\": [\"rgb(117,117,117)\", \"rgb(100, 143, 255)\", \"rgb(254, 97, 0)\", \"rgb(220, 38, 127)\", \"rgb(255, 176, 0)\", \"rgb(120, 94, 240)\"]}, \"selection\": \"selector049\"}, \"value\": \"rgb(224,224,224)\"}, \"text\": {\"type\": \"nominal\", \"field\": \"label\"}, \"x\": {\"value\": 812}, \"y\": {\"type\": \"nominal\", \"axis\": {\"domain\": false, \"grid\": false, \"labels\": false, \"ticks\": false, \"title\": \" \"}, \"field\": \"attribute_value\", \"scale\": {\"domain\": [\"25 - 45\", \"Greater than 45\", \"Less than 25\"], \"range\": [71, 147]}}}, \"selection\": {\"selector056\": {\"type\": \"multi\", \"empty\": \"all\", \"fields\": [\"attribute_value\"]}}}, {\"data\": {\"name\": \"data-79dd248bdaa0ea02c535240e8ad022c8\"}, \"mark\": {\"type\": \"text\", \"align\": \"left\", \"baseline\": \"middle\", \"color\": \"rgb(117,117,117)\", \"font\": \"Arial\", \"fontSize\": 12, \"fontWeight\": \"normal\"}, \"encoding\": {\"text\": {\"value\": \"Click to highlight a group.\"}, \"x\": {\"value\": 800}, \"y\": {\"value\": 49}}}, {\"data\": {\"name\": \"data-79dd248bdaa0ea02c535240e8ad022c8\"}, \"mark\": {\"type\": \"text\", \"align\": \"left\", \"baseline\": \"middle\", \"color\": \"rgb(117,117,117)\", \"font\": \"Arial\", \"fontSize\": 14, \"fontWeight\": \"normal\"}, \"encoding\": {\"text\": {\"value\": \"Groups\"}, \"x\": {\"value\": 800}, \"y\": {\"value\": 30}}}], \"data\": {\"name\": \"data-8ae729f79f224d7c661f39ca30ebb19e\"}}], \"height\": 550, \"padding\": {\"top\": 15, \"bottom\": 10}, \"resolve\": {\"scale\": {\"size\": \"independent\", \"y\": \"independent\"}}, \"title\": \"Disparities on Age_Cat\", \"width\": 800, \"$schema\": \"https://vega.github.io/schema/vega-lite/v4.8.1.json\", \"datasets\": {\"data-5518d48a38c118f354216726d5477b9f\": [{\"metric\": \"FPR\", \"x\": -2, \"x2\": 2}, {\"metric\": \"FDR\", \"x\": -2, \"x2\": 2}, {\"metric\": \"FNR\", \"x\": -2, \"x2\": 2}], \"data-79dd248bdaa0ea02c535240e8ad022c8\": [{\"a\": 1, \"b\": 0}, {\"a\": 1, \"b\": 0}], \"data-c233327f4cd9b4c2df31bf8015c83e4a\": [{\"value\": 1, \"label\": 2}, {\"value\": 2, \"label\": 3}, {\"value\": -2, \"label\": 3}, {\"value\": -1, \"label\": 2}, {\"value\": 0, \"label\": \"=\"}], \"data-feb20f5d4dfe62687617135ffee93d46\": [{\"min\": -0.25, \"max\": 0.25, \"lower_end\": -2, \"upper_end\": 2}], \"data-7342a06d89d654e84533b31ffb8f9a15\": [{\"attribute_name\": \"age_cat\", \"attribute_value\": \"25 - 45\", \"group_size\": 4109, \"total_entities\": 7214, \"fpr\": 0.33378378378378376, \"fdr\": 0.38513513513513514, \"fnr\": 0.3737427210164108, \"fpr_disparity\": 1.0, \"fdr_disparity\": 1.0, \"fnr_disparity\": 1.0, \"fpr_disparity_scaled\": 0.0, \"fdr_disparity_scaled\": 0.0, \"fnr_disparity_scaled\": 0.0, \"tooltip_group_size\": \"4,109 (56.96%)\", \"tooltip_disparity_explanation_fpr\": \"Reference group\", \"tooltip_disparity_explanation_fdr\": \"Reference group\", \"tooltip_disparity_explanation_fnr\": \"Reference group\"}, {\"attribute_name\": \"age_cat\", \"attribute_value\": \"Greater than 45\", \"group_size\": 1576, \"total_entities\": 7214, \"fpr\": 0.1679035250463822, \"fdr\": 0.4593908629441624, \"fnr\": 0.572289156626506, \"fpr_disparity\": 0.5030308037826835, \"fdr_disparity\": 1.1928043458901059, \"fnr_disparity\": 1.5312382675176626, \"fpr_disparity_scaled\": -0.9879498282813199, \"fdr_disparity_scaled\": 0.19280434589010587, \"fnr_disparity_scaled\": 0.5312382675176626, \"tooltip_group_size\": \"1,576 (21.85%)\", \"tooltip_disparity_explanation_fpr\": \"1.99 times smaller FPR than the reference group\", \"tooltip_disparity_explanation_fdr\": \"1.19 times larger FDR than the reference group\", \"tooltip_disparity_explanation_fnr\": \"1.53 times larger FNR than the reference group\"}, {\"attribute_name\": \"age_cat\", \"attribute_value\": \"Less than 25\", \"group_size\": 1529, \"total_entities\": 7214, \"fpr\": 0.5413533834586466, \"fdr\": 0.36036036036036034, \"fnr\": 0.2604166666666667, \"fpr_disparity\": 1.6218684362728684, \"fdr_disparity\": 0.935672514619883, \"fnr_disparity\": 0.6967805712936733, \"fpr_disparity_scaled\": 0.6218684362728684, \"fdr_disparity_scaled\": -0.06875000000000009, \"fnr_disparity_scaled\": -0.4351720487030173, \"tooltip_group_size\": \"1,529 (21.19%)\", \"tooltip_disparity_explanation_fpr\": \"1.62 times larger FPR than the reference group\", \"tooltip_disparity_explanation_fdr\": \"1.07 times smaller FDR than the reference group\", \"tooltip_disparity_explanation_fnr\": \"1.44 times smaller FNR than the reference group\"}], \"data-8ae729f79f224d7c661f39ca30ebb19e\": [{\"attribute_value\": \"25 - 45\", \"label\": \"25 - 45 [REF]\"}, {\"attribute_value\": \"Greater than 45\", \"label\": \"Greater than 45\"}, {\"attribute_value\": \"Less than 25\", \"label\": \"Less than 25\"}]}}, {\"mode\": \"vega-lite\"});\n",
              "</script>"
            ]
          },
          "metadata": {
            "tags": []
          },
          "execution_count": 48
        }
      ]
    },
    {
      "cell_type": "markdown",
      "metadata": {
        "id": "sHDUyhCewKrh"
      },
      "source": [
        ""
      ]
    },
    {
      "cell_type": "code",
      "metadata": {
        "id": "-MqW2v1cjv5n",
        "colab": {
          "base_uri": "https://localhost:8080/",
          "height": 408
        },
        "outputId": "d6163e4e-4821-4ab1-d8f2-287a44e8ef9d"
      },
      "source": [
        "#Summary  - Parity Test\n",
        "ap.summary(bdf, metrics, fairness_threshold = disparity_tolerance)"
      ],
      "execution_count": 49,
      "outputs": [
        {
          "output_type": "execute_result",
          "data": {
            "text/plain": [
              "alt.VConcatChart(...)"
            ],
            "text/html": [
              "\n",
              "<div id=\"altair-viz-56b83c154eed4b2ea419acf933477029\"></div>\n",
              "<script type=\"text/javascript\">\n",
              "  (function(spec, embedOpt){\n",
              "    let outputDiv = document.currentScript.previousElementSibling;\n",
              "    if (outputDiv.id !== \"altair-viz-56b83c154eed4b2ea419acf933477029\") {\n",
              "      outputDiv = document.getElementById(\"altair-viz-56b83c154eed4b2ea419acf933477029\");\n",
              "    }\n",
              "    const paths = {\n",
              "      \"vega\": \"https://cdn.jsdelivr.net/npm//vega@5?noext\",\n",
              "      \"vega-lib\": \"https://cdn.jsdelivr.net/npm//vega-lib?noext\",\n",
              "      \"vega-lite\": \"https://cdn.jsdelivr.net/npm//vega-lite@4.8.1?noext\",\n",
              "      \"vega-embed\": \"https://cdn.jsdelivr.net/npm//vega-embed@6?noext\",\n",
              "    };\n",
              "\n",
              "    function loadScript(lib) {\n",
              "      return new Promise(function(resolve, reject) {\n",
              "        var s = document.createElement('script');\n",
              "        s.src = paths[lib];\n",
              "        s.async = true;\n",
              "        s.onload = () => resolve(paths[lib]);\n",
              "        s.onerror = () => reject(`Error loading script: ${paths[lib]}`);\n",
              "        document.getElementsByTagName(\"head\")[0].appendChild(s);\n",
              "      });\n",
              "    }\n",
              "\n",
              "    function showError(err) {\n",
              "      outputDiv.innerHTML = `<div class=\"error\" style=\"color:red;\">${err}</div>`;\n",
              "      throw err;\n",
              "    }\n",
              "\n",
              "    function displayChart(vegaEmbed) {\n",
              "      vegaEmbed(outputDiv, spec, embedOpt)\n",
              "        .catch(err => showError(`Javascript Error: ${err.message}<br>This usually means there's a typo in your chart specification. See the javascript console for the full traceback.`));\n",
              "    }\n",
              "\n",
              "    if(typeof define === \"function\" && define.amd) {\n",
              "      requirejs.config({paths});\n",
              "      require([\"vega-embed\"], displayChart, err => showError(`Error loading script: ${err.message}`));\n",
              "    } else if (typeof vegaEmbed === \"function\") {\n",
              "      displayChart(vegaEmbed);\n",
              "    } else {\n",
              "      loadScript(\"vega\")\n",
              "        .then(() => loadScript(\"vega-lite\"))\n",
              "        .then(() => loadScript(\"vega-embed\"))\n",
              "        .catch(showError)\n",
              "        .then(() => displayChart(vegaEmbed));\n",
              "    }\n",
              "  })({\"config\": {\"view\": {\"continuousWidth\": 400, \"continuousHeight\": 300, \"strokeWidth\": 0}, \"legend\": {\"labelColor\": \"rgb(117,117,117)\", \"labelFont\": \"Arial\", \"labelFontSize\": 12, \"titleColor\": \"rgb(117,117,117)\", \"titleFont\": \"Arial\", \"titleFontSize\": 14, \"titleFontWeight\": \"normal\", \"titlePadding\": 15}}, \"vconcat\": [{\"hconcat\": [{\"vconcat\": [{\"mark\": {\"type\": \"text\", \"align\": \"center\", \"baseline\": \"middle\", \"color\": \"rgb(117,117,117)\", \"font\": \"Arial\", \"fontWeight\": \"bold\", \"size\": 14}, \"encoding\": {\"text\": {\"value\": \"\"}}, \"height\": 45.0, \"width\": 32.0}, {\"layer\": [{\"mark\": {\"type\": \"text\", \"align\": \"center\", \"baseline\": \"middle\", \"color\": \"rgb(117,117,117)\", \"font\": \"Arial\", \"fontWeight\": \"bold\", \"size\": 14}, \"encoding\": {\"text\": {\"value\": \"FPR\"}, \"y\": {\"type\": \"quantitative\", \"axis\": {\"domain\": false, \"grid\": false, \"labels\": false, \"ticks\": false, \"title\": \" \"}, \"field\": \"y_position\", \"scale\": {\"domain\": [3, 1]}}}, \"transform\": [{\"calculate\": \"1.2\", \"as\": \"y_position\"}]}, {\"mark\": {\"type\": \"text\", \"align\": \"center\", \"baseline\": \"middle\", \"color\": \"rgb(117,117,117)\", \"font\": \"Arial\", \"size\": 12}, \"encoding\": {\"text\": {\"value\": \"Groups\"}, \"y\": {\"type\": \"quantitative\", \"axis\": {\"domain\": false, \"grid\": false, \"labels\": false, \"ticks\": false, \"title\": \" \"}, \"field\": \"y_position\", \"scale\": {\"domain\": [3, 1]}}}, \"transform\": [{\"calculate\": \"2\", \"as\": \"y_position\"}]}, {\"mark\": {\"type\": \"text\", \"align\": \"center\", \"baseline\": \"middle\", \"color\": \"rgb(117,117,117)\", \"font\": \"Arial\", \"size\": 12}, \"encoding\": {\"text\": {\"value\": \"% Pop.\"}, \"y\": {\"type\": \"quantitative\", \"axis\": {\"domain\": false, \"grid\": false, \"labels\": false, \"ticks\": false, \"title\": \" \"}, \"field\": \"y_position\", \"scale\": {\"domain\": [3, 1]}}}, \"transform\": [{\"calculate\": \"2.7\", \"as\": \"y_position\"}]}], \"height\": 65.0, \"width\": 32.0}, {\"layer\": [{\"mark\": {\"type\": \"text\", \"align\": \"center\", \"baseline\": \"middle\", \"color\": \"rgb(117,117,117)\", \"font\": \"Arial\", \"fontWeight\": \"bold\", \"size\": 14}, \"encoding\": {\"text\": {\"value\": \"FDR\"}, \"y\": {\"type\": \"quantitative\", \"axis\": {\"domain\": false, \"grid\": false, \"labels\": false, \"ticks\": false, \"title\": \" \"}, \"field\": \"y_position\", \"scale\": {\"domain\": [3, 1]}}}, \"transform\": [{\"calculate\": \"1.2\", \"as\": \"y_position\"}]}, {\"mark\": {\"type\": \"text\", \"align\": \"center\", \"baseline\": \"middle\", \"color\": \"rgb(117,117,117)\", \"font\": \"Arial\", \"size\": 12}, \"encoding\": {\"text\": {\"value\": \"Groups\"}, \"y\": {\"type\": \"quantitative\", \"axis\": {\"domain\": false, \"grid\": false, \"labels\": false, \"ticks\": false, \"title\": \" \"}, \"field\": \"y_position\", \"scale\": {\"domain\": [3, 1]}}}, \"transform\": [{\"calculate\": \"2\", \"as\": \"y_position\"}]}, {\"mark\": {\"type\": \"text\", \"align\": \"center\", \"baseline\": \"middle\", \"color\": \"rgb(117,117,117)\", \"font\": \"Arial\", \"size\": 12}, \"encoding\": {\"text\": {\"value\": \"% Pop.\"}, \"y\": {\"type\": \"quantitative\", \"axis\": {\"domain\": false, \"grid\": false, \"labels\": false, \"ticks\": false, \"title\": \" \"}, \"field\": \"y_position\", \"scale\": {\"domain\": [3, 1]}}}, \"transform\": [{\"calculate\": \"2.7\", \"as\": \"y_position\"}]}], \"height\": 65.0, \"width\": 32.0}, {\"layer\": [{\"mark\": {\"type\": \"text\", \"align\": \"center\", \"baseline\": \"middle\", \"color\": \"rgb(117,117,117)\", \"font\": \"Arial\", \"fontWeight\": \"bold\", \"size\": 14}, \"encoding\": {\"text\": {\"value\": \"FNR\"}, \"y\": {\"type\": \"quantitative\", \"axis\": {\"domain\": false, \"grid\": false, \"labels\": false, \"ticks\": false, \"title\": \" \"}, \"field\": \"y_position\", \"scale\": {\"domain\": [3, 1]}}}, \"transform\": [{\"calculate\": \"1.2\", \"as\": \"y_position\"}]}, {\"mark\": {\"type\": \"text\", \"align\": \"center\", \"baseline\": \"middle\", \"color\": \"rgb(117,117,117)\", \"font\": \"Arial\", \"size\": 12}, \"encoding\": {\"text\": {\"value\": \"Groups\"}, \"y\": {\"type\": \"quantitative\", \"axis\": {\"domain\": false, \"grid\": false, \"labels\": false, \"ticks\": false, \"title\": \" \"}, \"field\": \"y_position\", \"scale\": {\"domain\": [3, 1]}}}, \"transform\": [{\"calculate\": \"2\", \"as\": \"y_position\"}]}, {\"mark\": {\"type\": \"text\", \"align\": \"center\", \"baseline\": \"middle\", \"color\": \"rgb(117,117,117)\", \"font\": \"Arial\", \"size\": 12}, \"encoding\": {\"text\": {\"value\": \"% Pop.\"}, \"y\": {\"type\": \"quantitative\", \"axis\": {\"domain\": false, \"grid\": false, \"labels\": false, \"ticks\": false, \"title\": \" \"}, \"field\": \"y_position\", \"scale\": {\"domain\": [3, 1]}}}, \"transform\": [{\"calculate\": \"2.7\", \"as\": \"y_position\"}]}], \"height\": 65.0, \"width\": 32.0}], \"bounds\": \"flush\", \"data\": {\"name\": \"data-79dd248bdaa0ea02c535240e8ad022c8\"}, \"spacing\": 20.0}, {\"hconcat\": [{\"vconcat\": [{\"data\": {\"name\": \"data-79dd248bdaa0ea02c535240e8ad022c8\"}, \"mark\": {\"type\": \"text\", \"align\": \"center\", \"baseline\": \"middle\", \"color\": \"rgb(117,117,117)\", \"font\": \"Arial\", \"fontWeight\": \"bold\", \"size\": 14}, \"encoding\": {\"text\": {\"value\": \"Age_Cat\"}}, \"height\": 45.0, \"width\": 240.0}, {\"layer\": [{\"data\": {\"name\": \"data-0648884f34076ca4404072fa7f837079\"}, \"mark\": {\"type\": \"text\", \"align\": \"center\", \"baseline\": \"middle\", \"font\": \"Arial\", \"fontWeight\": \"bold\", \"size\": 20}, \"encoding\": {\"color\": {\"type\": \"ordinal\", \"field\": \"parity_result\", \"legend\": {\"title\": \"\"}, \"scale\": {\"domain\": [\"Reference\", \"Pass\", \"Fail\"], \"range\": [\"rgb(117,117,117)\", \"rgb(20, 152, 181)\", \"rgb(217, 46, 28)\"]}}, \"text\": {\"value\": \"FAIL\"}, \"y\": {\"type\": \"quantitative\", \"axis\": {\"domain\": false, \"grid\": false, \"labels\": false, \"ticks\": false, \"title\": \" \"}, \"field\": \"y_position\", \"scale\": {\"domain\": [3, 1]}}}, \"transform\": [{\"calculate\": \"1\", \"as\": \"y_position\"}]}, {\"data\": {\"name\": \"data-3b140241c996e724b1cbf24bacf492d2\"}, \"mark\": {\"type\": \"bar\", \"size\": 6, \"stroke\": \"white\"}, \"encoding\": {\"color\": {\"type\": \"ordinal\", \"field\": \"fpr_parity_result\", \"legend\": {\"padding\": 20, \"title\": \"Parity Test\"}, \"scale\": {\"domain\": [\"Reference\", \"Pass\", \"Fail\"], \"range\": [\"rgb(117,117,117)\", \"rgb(20, 152, 181)\", \"rgb(217, 46, 28)\"]}}, \"tooltip\": [{\"type\": \"nominal\", \"field\": \"fpr_parity_result\", \"title\": \"Parity\"}, {\"type\": \"nominal\", \"field\": \"tooltip_group_size\", \"title\": \"Size\"}, {\"type\": \"nominal\", \"field\": \"tooltip_groups_name_size\", \"title\": \"Groups\"}], \"x\": {\"type\": \"quantitative\", \"aggregate\": \"sum\", \"axis\": {\"domain\": false, \"grid\": false, \"labels\": false, \"ticks\": false, \"title\": \" \"}, \"field\": \"group_size\", \"stack\": \"normalize\"}, \"y\": {\"type\": \"quantitative\", \"axis\": {\"domain\": false, \"grid\": false, \"labels\": false, \"ticks\": false, \"title\": \" \"}, \"field\": \"y_position\", \"scale\": {\"domain\": [3, 1]}}}, \"transform\": [{\"calculate\": \"2.8\", \"as\": \"y_position\"}]}, {\"data\": {\"name\": \"data-4b4c42620d0c261fbe4752c75bd1b96d\"}, \"mark\": {\"type\": \"circle\", \"opacity\": 1}, \"encoding\": {\"color\": {\"type\": \"ordinal\", \"field\": \"fpr_parity_result\", \"legend\": {\"title\": \"\"}, \"scale\": {\"domain\": [\"Reference\", \"Pass\", \"Fail\"], \"range\": [\"rgb(117,117,117)\", \"rgb(20, 152, 181)\", \"rgb(217, 46, 28)\"]}}, \"size\": {\"value\": 275}, \"tooltip\": [{\"type\": \"nominal\", \"field\": \"attribute_value\", \"title\": \"Group\"}, {\"type\": \"nominal\", \"field\": \"tooltip_group_size\", \"title\": \"Group Size\"}, {\"type\": \"nominal\", \"field\": \"tooltip_parity_test_explanation_fpr\", \"title\": \"Parity Test\"}, {\"type\": \"nominal\", \"field\": \"tooltip_disparity_explanation_fpr\", \"title\": \"Disparity\"}, {\"type\": \"quantitative\", \"field\": \"fpr\", \"format\": \".2f\", \"title\": \"FPR\"}], \"x\": {\"type\": \"quantitative\", \"axis\": {\"domain\": false, \"grid\": false, \"labels\": false, \"ticks\": false, \"title\": \" \"}, \"field\": \"fpr_disparity_rank\", \"scale\": {\"domain\": [-3, 3], \"nice\": false}}, \"y\": {\"type\": \"quantitative\", \"axis\": {\"domain\": false, \"grid\": false, \"labels\": false, \"ticks\": false, \"title\": \" \"}, \"field\": \"y_position\", \"scale\": {\"domain\": [3, 1]}}}, \"transform\": [{\"calculate\": \"2\", \"as\": \"y_position\"}]}], \"height\": 65.0, \"resolve\": {\"scale\": {\"x\": \"independent\"}}, \"width\": 240.0}, {\"layer\": [{\"data\": {\"name\": \"data-126d4ae515fac080ab56453e43289c66\"}, \"mark\": {\"type\": \"text\", \"align\": \"center\", \"baseline\": \"middle\", \"font\": \"Arial\", \"fontWeight\": \"bold\", \"size\": 20}, \"encoding\": {\"color\": {\"type\": \"ordinal\", \"field\": \"parity_result\", \"legend\": {\"title\": \"\"}, \"scale\": {\"domain\": [\"Reference\", \"Pass\", \"Fail\"], \"range\": [\"rgb(117,117,117)\", \"rgb(20, 152, 181)\", \"rgb(217, 46, 28)\"]}}, \"text\": {\"value\": \"PASS\"}, \"y\": {\"type\": \"quantitative\", \"axis\": {\"domain\": false, \"grid\": false, \"labels\": false, \"ticks\": false, \"title\": \" \"}, \"field\": \"y_position\", \"scale\": {\"domain\": [3, 1]}}}, \"transform\": [{\"calculate\": \"1\", \"as\": \"y_position\"}]}, {\"data\": {\"name\": \"data-e083016bbf5a85805a1d4e5e45cd71c8\"}, \"mark\": {\"type\": \"bar\", \"size\": 6, \"stroke\": \"white\"}, \"encoding\": {\"color\": {\"type\": \"ordinal\", \"field\": \"fdr_parity_result\", \"legend\": {\"padding\": 20, \"title\": \"Parity Test\"}, \"scale\": {\"domain\": [\"Reference\", \"Pass\", \"Fail\"], \"range\": [\"rgb(117,117,117)\", \"rgb(20, 152, 181)\", \"rgb(217, 46, 28)\"]}}, \"tooltip\": [{\"type\": \"nominal\", \"field\": \"fdr_parity_result\", \"title\": \"Parity\"}, {\"type\": \"nominal\", \"field\": \"tooltip_group_size\", \"title\": \"Size\"}, {\"type\": \"nominal\", \"field\": \"tooltip_groups_name_size\", \"title\": \"Groups\"}], \"x\": {\"type\": \"quantitative\", \"aggregate\": \"sum\", \"axis\": {\"domain\": false, \"grid\": false, \"labels\": false, \"ticks\": false, \"title\": \" \"}, \"field\": \"group_size\", \"stack\": \"normalize\"}, \"y\": {\"type\": \"quantitative\", \"axis\": {\"domain\": false, \"grid\": false, \"labels\": false, \"ticks\": false, \"title\": \" \"}, \"field\": \"y_position\", \"scale\": {\"domain\": [3, 1]}}}, \"transform\": [{\"calculate\": \"2.8\", \"as\": \"y_position\"}]}, {\"data\": {\"name\": \"data-4b4c42620d0c261fbe4752c75bd1b96d\"}, \"mark\": {\"type\": \"circle\", \"opacity\": 1}, \"encoding\": {\"color\": {\"type\": \"ordinal\", \"field\": \"fdr_parity_result\", \"legend\": {\"title\": \"\"}, \"scale\": {\"domain\": [\"Reference\", \"Pass\", \"Fail\"], \"range\": [\"rgb(117,117,117)\", \"rgb(20, 152, 181)\", \"rgb(217, 46, 28)\"]}}, \"size\": {\"value\": 275}, \"tooltip\": [{\"type\": \"nominal\", \"field\": \"attribute_value\", \"title\": \"Group\"}, {\"type\": \"nominal\", \"field\": \"tooltip_group_size\", \"title\": \"Group Size\"}, {\"type\": \"nominal\", \"field\": \"tooltip_parity_test_explanation_fdr\", \"title\": \"Parity Test\"}, {\"type\": \"nominal\", \"field\": \"tooltip_disparity_explanation_fdr\", \"title\": \"Disparity\"}, {\"type\": \"quantitative\", \"field\": \"fdr\", \"format\": \".2f\", \"title\": \"FDR\"}], \"x\": {\"type\": \"quantitative\", \"axis\": {\"domain\": false, \"grid\": false, \"labels\": false, \"ticks\": false, \"title\": \" \"}, \"field\": \"fdr_disparity_rank\", \"scale\": {\"domain\": [-3, 3], \"nice\": false}}, \"y\": {\"type\": \"quantitative\", \"axis\": {\"domain\": false, \"grid\": false, \"labels\": false, \"ticks\": false, \"title\": \" \"}, \"field\": \"y_position\", \"scale\": {\"domain\": [3, 1]}}}, \"transform\": [{\"calculate\": \"2\", \"as\": \"y_position\"}]}], \"height\": 65.0, \"resolve\": {\"scale\": {\"x\": \"independent\"}}, \"width\": 240.0}, {\"layer\": [{\"data\": {\"name\": \"data-0648884f34076ca4404072fa7f837079\"}, \"mark\": {\"type\": \"text\", \"align\": \"center\", \"baseline\": \"middle\", \"font\": \"Arial\", \"fontWeight\": \"bold\", \"size\": 20}, \"encoding\": {\"color\": {\"type\": \"ordinal\", \"field\": \"parity_result\", \"legend\": {\"title\": \"\"}, \"scale\": {\"domain\": [\"Reference\", \"Pass\", \"Fail\"], \"range\": [\"rgb(117,117,117)\", \"rgb(20, 152, 181)\", \"rgb(217, 46, 28)\"]}}, \"text\": {\"value\": \"FAIL\"}, \"y\": {\"type\": \"quantitative\", \"axis\": {\"domain\": false, \"grid\": false, \"labels\": false, \"ticks\": false, \"title\": \" \"}, \"field\": \"y_position\", \"scale\": {\"domain\": [3, 1]}}}, \"transform\": [{\"calculate\": \"1\", \"as\": \"y_position\"}]}, {\"data\": {\"name\": \"data-6cfff23a7210f53494e7829d02ff24ec\"}, \"mark\": {\"type\": \"bar\", \"size\": 6, \"stroke\": \"white\"}, \"encoding\": {\"color\": {\"type\": \"ordinal\", \"field\": \"fnr_parity_result\", \"legend\": {\"padding\": 20, \"title\": \"Parity Test\"}, \"scale\": {\"domain\": [\"Reference\", \"Pass\", \"Fail\"], \"range\": [\"rgb(117,117,117)\", \"rgb(20, 152, 181)\", \"rgb(217, 46, 28)\"]}}, \"tooltip\": [{\"type\": \"nominal\", \"field\": \"fnr_parity_result\", \"title\": \"Parity\"}, {\"type\": \"nominal\", \"field\": \"tooltip_group_size\", \"title\": \"Size\"}, {\"type\": \"nominal\", \"field\": \"tooltip_groups_name_size\", \"title\": \"Groups\"}], \"x\": {\"type\": \"quantitative\", \"aggregate\": \"sum\", \"axis\": {\"domain\": false, \"grid\": false, \"labels\": false, \"ticks\": false, \"title\": \" \"}, \"field\": \"group_size\", \"stack\": \"normalize\"}, \"y\": {\"type\": \"quantitative\", \"axis\": {\"domain\": false, \"grid\": false, \"labels\": false, \"ticks\": false, \"title\": \" \"}, \"field\": \"y_position\", \"scale\": {\"domain\": [3, 1]}}}, \"transform\": [{\"calculate\": \"2.8\", \"as\": \"y_position\"}]}, {\"data\": {\"name\": \"data-4b4c42620d0c261fbe4752c75bd1b96d\"}, \"mark\": {\"type\": \"circle\", \"opacity\": 1}, \"encoding\": {\"color\": {\"type\": \"ordinal\", \"field\": \"fnr_parity_result\", \"legend\": {\"title\": \"\"}, \"scale\": {\"domain\": [\"Reference\", \"Pass\", \"Fail\"], \"range\": [\"rgb(117,117,117)\", \"rgb(20, 152, 181)\", \"rgb(217, 46, 28)\"]}}, \"size\": {\"value\": 275}, \"tooltip\": [{\"type\": \"nominal\", \"field\": \"attribute_value\", \"title\": \"Group\"}, {\"type\": \"nominal\", \"field\": \"tooltip_group_size\", \"title\": \"Group Size\"}, {\"type\": \"nominal\", \"field\": \"tooltip_parity_test_explanation_fnr\", \"title\": \"Parity Test\"}, {\"type\": \"nominal\", \"field\": \"tooltip_disparity_explanation_fnr\", \"title\": \"Disparity\"}, {\"type\": \"quantitative\", \"field\": \"fnr\", \"format\": \".2f\", \"title\": \"FNR\"}], \"x\": {\"type\": \"quantitative\", \"axis\": {\"domain\": false, \"grid\": false, \"labels\": false, \"ticks\": false, \"title\": \" \"}, \"field\": \"fnr_disparity_rank\", \"scale\": {\"domain\": [-3, 3], \"nice\": false}}, \"y\": {\"type\": \"quantitative\", \"axis\": {\"domain\": false, \"grid\": false, \"labels\": false, \"ticks\": false, \"title\": \" \"}, \"field\": \"y_position\", \"scale\": {\"domain\": [3, 1]}}}, \"transform\": [{\"calculate\": \"2\", \"as\": \"y_position\"}]}], \"height\": 65.0, \"resolve\": {\"scale\": {\"x\": \"independent\"}}, \"width\": 240.0}], \"bounds\": \"flush\", \"spacing\": 20.0}], \"bounds\": \"flush\", \"spacing\": 288.0}], \"bounds\": \"flush\", \"spacing\": 80.0}, {\"layer\": [{\"mark\": {\"type\": \"text\", \"align\": \"left\", \"baseline\": \"top\", \"fill\": \"rgb(117,117,117)\", \"font\": \"Arial\", \"fontSize\": 12, \"fontWeight\": \"normal\"}, \"encoding\": {\"text\": {\"value\": \"For a group to pass the parity test its disparity to the reference group cannot exceed the fairness threshold (1.25).\"}, \"x\": {\"value\": 24.0}, \"y\": {\"value\": 0}}}, {\"mark\": {\"type\": \"text\", \"align\": \"left\", \"baseline\": \"top\", \"fill\": \"rgb(117,117,117)\", \"font\": \"Arial\", \"fontSize\": 12, \"fontWeight\": \"normal\"}, \"encoding\": {\"text\": {\"value\": \"An attribute passes the parity test for a given metric if all its groups pass the test.\"}, \"x\": {\"value\": 24.0}, \"y\": {\"value\": 15.0}}}], \"data\": {\"name\": \"data-79dd248bdaa0ea02c535240e8ad022c8\"}}], \"padding\": {\"top\": 15, \"bottom\": 10}, \"$schema\": \"https://vega.github.io/schema/vega-lite/v4.8.1.json\", \"datasets\": {\"data-79dd248bdaa0ea02c535240e8ad022c8\": [{\"a\": 1, \"b\": 0}, {\"a\": 1, \"b\": 0}], \"data-0648884f34076ca4404072fa7f837079\": [{\"parity_result\": \"Fail\"}], \"data-3b140241c996e724b1cbf24bacf492d2\": [{\"fpr_parity_result\": \"Fail\", \"attribute_name\": \"age_cat\", \"total_entities\": 7214, \"group_size\": 3105, \"tooltip_groups_name_size\": \"Greater than 45 (1,576), Less than 25 (1,529)\", \"tooltip_group_size\": \"3,105 (43.04%)\"}, {\"fpr_parity_result\": \"Reference\", \"attribute_name\": \"age_cat\", \"total_entities\": 7214, \"group_size\": 4109, \"tooltip_groups_name_size\": \"25 - 45 (4,109)\", \"tooltip_group_size\": \"4,109 (56.96%)\"}], \"data-4b4c42620d0c261fbe4752c75bd1b96d\": [{\"attribute_name\": \"age_cat\", \"attribute_value\": \"25 - 45\", \"group_size\": 4109, \"total_entities\": 7214, \"ref_group_value\": \"25 - 45\", \"fpr\": 0.33378378378378376, \"fdr\": 0.38513513513513514, \"fnr\": 0.3737427210164108, \"fpr_disparity\": 1.0, \"fdr_disparity\": 1.0, \"fnr_disparity\": 1.0, \"fpr_disparity_scaled\": 0.0, \"fpr_parity_result\": \"Reference\", \"tooltip_parity_test_explanation_fpr\": \"Reference group\", \"tooltip_disparity_explanation_fpr\": \"Reference group\", \"tooltip_group_size\": \"4,109 (56.96%)\", \"fpr_disparity_rank\": 0.0, \"group_size_formatted\": \"4,109\", \"tooltip_groups_name_size\": \"25 - 45 (4,109)\", \"fdr_disparity_scaled\": 0.0, \"fdr_parity_result\": \"Reference\", \"tooltip_parity_test_explanation_fdr\": \"Reference group\", \"tooltip_disparity_explanation_fdr\": \"Reference group\", \"fdr_disparity_rank\": 0.0, \"fnr_disparity_scaled\": 0.0, \"fnr_parity_result\": \"Reference\", \"tooltip_parity_test_explanation_fnr\": \"Reference group\", \"tooltip_disparity_explanation_fnr\": \"Reference group\", \"fnr_disparity_rank\": 0.0}, {\"attribute_name\": \"age_cat\", \"attribute_value\": \"Greater than 45\", \"group_size\": 1576, \"total_entities\": 7214, \"ref_group_value\": \"25 - 45\", \"fpr\": 0.1679035250463822, \"fdr\": 0.4593908629441624, \"fnr\": 0.572289156626506, \"fpr_disparity\": 0.5030308037826835, \"fdr_disparity\": 1.1928043458901059, \"fnr_disparity\": 1.5312382675176626, \"fpr_disparity_scaled\": -0.9879498282813199, \"fpr_parity_result\": \"Fail\", \"tooltip_parity_test_explanation_fpr\": \"Fail. Above fairness threshold of 1.25\", \"tooltip_disparity_explanation_fpr\": \"1.99 times smaller FPR than the reference group\", \"tooltip_group_size\": \"1,576 (21.85%)\", \"fpr_disparity_rank\": -1.0, \"group_size_formatted\": \"1,576\", \"tooltip_groups_name_size\": \"Greater than 45 (1,576)\", \"fdr_disparity_scaled\": 0.19280434589010587, \"fdr_parity_result\": \"Pass\", \"tooltip_parity_test_explanation_fdr\": \"Pass. Below fairness threshold of 1.25\", \"tooltip_disparity_explanation_fdr\": \"1.19 times larger FDR than the reference group\", \"fdr_disparity_rank\": 1.0, \"fnr_disparity_scaled\": 0.5312382675176626, \"fnr_parity_result\": \"Fail\", \"tooltip_parity_test_explanation_fnr\": \"Fail. Above fairness threshold of 1.25\", \"tooltip_disparity_explanation_fnr\": \"1.53 times larger FNR than the reference group\", \"fnr_disparity_rank\": 1.0}, {\"attribute_name\": \"age_cat\", \"attribute_value\": \"Less than 25\", \"group_size\": 1529, \"total_entities\": 7214, \"ref_group_value\": \"25 - 45\", \"fpr\": 0.5413533834586466, \"fdr\": 0.36036036036036034, \"fnr\": 0.2604166666666667, \"fpr_disparity\": 1.6218684362728684, \"fdr_disparity\": 0.935672514619883, \"fnr_disparity\": 0.6967805712936733, \"fpr_disparity_scaled\": 0.6218684362728684, \"fpr_parity_result\": \"Fail\", \"tooltip_parity_test_explanation_fpr\": \"Fail. Above fairness threshold of 1.25\", \"tooltip_disparity_explanation_fpr\": \"1.62 times larger FPR than the reference group\", \"tooltip_group_size\": \"1,529 (21.19%)\", \"fpr_disparity_rank\": 1.0, \"group_size_formatted\": \"1,529\", \"tooltip_groups_name_size\": \"Less than 25 (1,529)\", \"fdr_disparity_scaled\": -0.06875000000000009, \"fdr_parity_result\": \"Pass\", \"tooltip_parity_test_explanation_fdr\": \"Pass. Below fairness threshold of 1.25\", \"tooltip_disparity_explanation_fdr\": \"1.07 times smaller FDR than the reference group\", \"fdr_disparity_rank\": -1.0, \"fnr_disparity_scaled\": -0.4351720487030173, \"fnr_parity_result\": \"Fail\", \"tooltip_parity_test_explanation_fnr\": \"Fail. Above fairness threshold of 1.25\", \"tooltip_disparity_explanation_fnr\": \"1.44 times smaller FNR than the reference group\", \"fnr_disparity_rank\": -1.0}], \"data-126d4ae515fac080ab56453e43289c66\": [{\"parity_result\": \"Pass\"}], \"data-e083016bbf5a85805a1d4e5e45cd71c8\": [{\"fdr_parity_result\": \"Pass\", \"attribute_name\": \"age_cat\", \"total_entities\": 7214, \"group_size\": 3105, \"tooltip_groups_name_size\": \"Greater than 45 (1,576), Less than 25 (1,529)\", \"tooltip_group_size\": \"3,105 (43.04%)\"}, {\"fdr_parity_result\": \"Reference\", \"attribute_name\": \"age_cat\", \"total_entities\": 7214, \"group_size\": 4109, \"tooltip_groups_name_size\": \"25 - 45 (4,109)\", \"tooltip_group_size\": \"4,109 (56.96%)\"}], \"data-6cfff23a7210f53494e7829d02ff24ec\": [{\"fnr_parity_result\": \"Fail\", \"attribute_name\": \"age_cat\", \"total_entities\": 7214, \"group_size\": 3105, \"tooltip_groups_name_size\": \"Greater than 45 (1,576), Less than 25 (1,529)\", \"tooltip_group_size\": \"3,105 (43.04%)\"}, {\"fnr_parity_result\": \"Reference\", \"attribute_name\": \"age_cat\", \"total_entities\": 7214, \"group_size\": 4109, \"tooltip_groups_name_size\": \"25 - 45 (4,109)\", \"tooltip_group_size\": \"4,109 (56.96%)\"}]}}, {\"mode\": \"vega-lite\"});\n",
              "</script>"
            ]
          },
          "metadata": {
            "tags": []
          },
          "execution_count": 49
        }
      ]
    },
    {
      "cell_type": "markdown",
      "metadata": {
        "id": "ChsDFNIwwqgb"
      },
      "source": [
        "Based on the previously set thresholf of 1.25 and the medium-aged reference group, both the FPR and FNR metrics fail the test. Only the False Discovery Rate passes the test. People labeled as reoffenders therefore fall within a 1.25 margin percentage of all those that actually reoffend."
      ]
    },
    {
      "cell_type": "code",
      "metadata": {
        "id": "Rb-CXFmBj3nP"
      },
      "source": [
        "# Attribute fairness - by age\n",
        "f = Fairness()\n",
        "fdf = f.get_group_value_fairness(bdf)"
      ],
      "execution_count": 50,
      "outputs": []
    },
    {
      "cell_type": "code",
      "metadata": {
        "id": "1CR6O1wIkAFh",
        "colab": {
          "base_uri": "https://localhost:8080/",
          "height": 95
        },
        "outputId": "a41f72e8-a32a-43f8-f560-a1492cc69a7d"
      },
      "source": [
        "race_fairness = f.get_group_attribute_fairness(fdf)\n",
        "race_fairness"
      ],
      "execution_count": 51,
      "outputs": [
        {
          "output_type": "execute_result",
          "data": {
            "text/html": [
              "<div>\n",
              "<style scoped>\n",
              "    .dataframe tbody tr th:only-of-type {\n",
              "        vertical-align: middle;\n",
              "    }\n",
              "\n",
              "    .dataframe tbody tr th {\n",
              "        vertical-align: top;\n",
              "    }\n",
              "\n",
              "    .dataframe thead th {\n",
              "        text-align: right;\n",
              "    }\n",
              "</style>\n",
              "<table border=\"1\" class=\"dataframe\">\n",
              "  <thead>\n",
              "    <tr style=\"text-align: right;\">\n",
              "      <th></th>\n",
              "      <th>model_id</th>\n",
              "      <th>score_threshold</th>\n",
              "      <th>attribute_name</th>\n",
              "      <th>Statistical Parity</th>\n",
              "      <th>Impact Parity</th>\n",
              "      <th>FDR Parity</th>\n",
              "      <th>FPR Parity</th>\n",
              "      <th>FOR Parity</th>\n",
              "      <th>FNR Parity</th>\n",
              "      <th>TPR Parity</th>\n",
              "      <th>TNR Parity</th>\n",
              "      <th>NPV Parity</th>\n",
              "      <th>Precision Parity</th>\n",
              "      <th>TypeI Parity</th>\n",
              "      <th>TypeII Parity</th>\n",
              "      <th>Equalized Odds</th>\n",
              "      <th>Unsupervised Fairness</th>\n",
              "      <th>Supervised Fairness</th>\n",
              "    </tr>\n",
              "  </thead>\n",
              "  <tbody>\n",
              "    <tr>\n",
              "      <th>0</th>\n",
              "      <td>0</td>\n",
              "      <td>binary 0/1</td>\n",
              "      <td>age_cat</td>\n",
              "      <td>False</td>\n",
              "      <td>False</td>\n",
              "      <td>True</td>\n",
              "      <td>False</td>\n",
              "      <td>False</td>\n",
              "      <td>False</td>\n",
              "      <td>False</td>\n",
              "      <td>False</td>\n",
              "      <td>True</td>\n",
              "      <td>True</td>\n",
              "      <td>False</td>\n",
              "      <td>False</td>\n",
              "      <td>False</td>\n",
              "      <td>False</td>\n",
              "      <td>False</td>\n",
              "    </tr>\n",
              "  </tbody>\n",
              "</table>\n",
              "</div>"
            ],
            "text/plain": [
              "   model_id score_threshold  ... Unsupervised Fairness  Supervised Fairness\n",
              "0         0      binary 0/1  ...                 False                False\n",
              "\n",
              "[1 rows x 18 columns]"
            ]
          },
          "metadata": {
            "tags": []
          },
          "execution_count": 51
        }
      ]
    },
    {
      "cell_type": "code",
      "metadata": {
        "id": "com3lPDskGrP",
        "colab": {
          "base_uri": "https://localhost:8080/"
        },
        "outputId": "45d043f1-006e-429d-8991-d29f9c17b12c"
      },
      "source": [
        "overall_fair = f.get_overall_fairness(fdf)\n",
        "overall_fair"
      ],
      "execution_count": 52,
      "outputs": [
        {
          "output_type": "execute_result",
          "data": {
            "text/plain": [
              "{'Overall Fairness': False,\n",
              " 'Supervised Fairness': False,\n",
              " 'Unsupervised Fairness': False}"
            ]
          },
          "metadata": {
            "tags": []
          },
          "execution_count": 52
        }
      ]
    },
    {
      "cell_type": "markdown",
      "metadata": {
        "id": "BUSPp96msFLi"
      },
      "source": [
        "# Age - Conclusion\n",
        "As per the workflow, the model fairness for the age category is very low and fails to meet the threshold of a difference of 1.25.\n",
        "\n",
        "While we as a society agree that we should not treat people more harshly based on immutable, inheritly unfair characteristics such as race, occupation, wealth or gender, we seem to agree that age is not one of those factors. Since age affects every human in the same way and because it is known that certain age-groups are more likely to reoffend.\n",
        "\n",
        "While it is clear that the diffenrent treatment of different age groups is acceptable, it still became clear that more young people are predicted to reoffend than actualy do so. While there might be serial offenders starting out on a path of career-criminalism, quite a high number of young people seemed to have learnt their lesson and do not reoffend. Therefore it might be advisable to be more cautious in some cases."
      ]
    }
  ]
}